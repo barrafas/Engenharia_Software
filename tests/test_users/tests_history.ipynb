{
 "cells": [
  {
   "cell_type": "markdown",
   "metadata": {},
   "source": [
    "Nota: Esse notebook não é para ser rodado, serve apenas como uma forma mais organizada de mostrar a evolução das funções testadas pelo método RED/GREEN"
   ]
  },
  {
   "cell_type": "markdown",
   "metadata": {},
   "source": [
    "## get_elements function"
   ]
  },
  {
   "cell_type": "code",
   "execution_count": null,
   "metadata": {},
   "outputs": [],
   "source": [
    "import unittest\n",
    "from datetime import datetime, timedelta\n",
    "from tests.test_users.mocks import Schedule, ScheduleManagement, Element, ElementManagement\n",
    "from src.user.user_model import User\n",
    "import bcrypt"
   ]
  },
  {
   "cell_type": "markdown",
   "metadata": {},
   "source": [
    "RED 1:"
   ]
  },
  {
   "cell_type": "code",
   "execution_count": null,
   "metadata": {},
   "outputs": [],
   "source": [
    "def test_get_all_elements(self):\n",
    "        # Test getting all element ids from user schedules, without repetition\n",
    "        user = User(\"id\", \"username\", \"email\", [\"id1\", \"id2\"])\n",
    "        result = user.get_elements()        \n",
    "        self.assertEqual(sorted(result), ['elementid1', 'elementid2', \n",
    "                                  'elementid3', 'elementid4', 'elementid5'])"
   ]
  },
  {
   "cell_type": "code",
   "execution_count": null,
   "metadata": {},
   "outputs": [],
   "source": [
    "def get_elements(self, schedules: list=None) -> list:\n",
    "        '''\n",
    "        returns a list of ids of elements of all schedules (or only specific ones) \n",
    "        that the user is a part of  \n",
    "        '''\n",
    "        if not schedules:\n",
    "            schedules = self.schedules\n",
    "\n",
    "        elements = []\n",
    "        for schedule in schedules:\n",
    "            schedule = ScheduleManagement().get_schedule(schedule)\n",
    "            elements += schedule.get_elements()\n",
    "\n",
    "        return elements"
   ]
  },
  {
   "cell_type": "markdown",
   "metadata": {},
   "source": [
    "```First list contains 1 additional elements.\n",
    "First extra element 5:\n",
    "'elementid5'\n",
    "\n",
    "+ ['elementid1', 'elementid2', 'elementid3', 'elementid4', 'elementid5']\n",
    "- ['elementid1',\n",
    "-  'elementid2',\n",
    "-  'elementid3',\n",
    "-  'elementid4',\n",
    "-  'elementid5',\n",
    "-  'elementid5']\n",
    "\n",
    "----------------------------------------------------------------------\n",
    "Ran 1 test in 0.000s\n",
    "```"
   ]
  }
 ],
 "metadata": {
  "kernelspec": {
   "display_name": "Python 3",
   "language": "python",
   "name": "python3"
  },
  "language_info": {
   "codemirror_mode": {
    "name": "ipython",
    "version": 3
   },
   "file_extension": ".py",
   "mimetype": "text/x-python",
   "name": "python",
   "nbconvert_exporter": "python",
   "pygments_lexer": "ipython3",
   "version": "3.10.6"
  }
 },
 "nbformat": 4,
 "nbformat_minor": 2
}
