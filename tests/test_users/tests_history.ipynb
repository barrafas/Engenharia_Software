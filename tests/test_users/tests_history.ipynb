{
 "cells": [
  {
   "cell_type": "markdown",
   "metadata": {},
   "source": [
    "Nota: Esse notebook não é para ser rodado, serve apenas como uma forma mais organizada de mostrar a evolução das funções testadas pelo método RED/GREEN"
   ]
  },
  {
   "cell_type": "markdown",
   "metadata": {},
   "source": [
    "## get_elements function"
   ]
  },
  {
   "cell_type": "code",
   "execution_count": null,
   "metadata": {},
   "outputs": [],
   "source": [
    "import unittest\n",
    "from datetime import datetime, timedelta\n",
    "from tests.test_users.mocks import Schedule, ScheduleManagement, Element, ElementManagement\n",
    "from src.user.user_model import *"
   ]
  },
  {
   "cell_type": "markdown",
   "metadata": {},
   "source": [
    "RED 1:"
   ]
  },
  {
   "cell_type": "code",
   "execution_count": null,
   "metadata": {},
   "outputs": [],
   "source": [
    "def test_get_all_elements(self):\n",
    "        # Test getting all element ids from user schedules, without repetition\n",
    "        user = User(\"id\", \"username\", \"email\", [\"id1\", \"id2\"])\n",
    "        result = user.get_elements()        \n",
    "        self.assertEqual(sorted(result), ['elementid1', 'elementid2', \n",
    "                                  'elementid3', 'elementid4', 'elementid5'])"
   ]
  },
  {
   "cell_type": "code",
   "execution_count": null,
   "metadata": {},
   "outputs": [],
   "source": [
    "def get_elements(self, schedules: list=None) -> list:\n",
    "        '''\n",
    "        returns a list of ids of elements of all schedules (or only specific ones) \n",
    "        that the user is a part of  \n",
    "        '''\n",
    "        elements = []\n",
    "        for schedule in schedules:\n",
    "            schedule = ScheduleManagement().get_schedule(schedule)\n",
    "            elements += schedule.get_elements()\n",
    "\n",
    "        return elements"
   ]
  },
  {
   "cell_type": "markdown",
   "metadata": {},
   "source": [
    "GREEN 1:"
   ]
  },
  {
   "cell_type": "code",
   "execution_count": null,
   "metadata": {},
   "outputs": [],
   "source": [
    "def get_elements(self, schedules: list=None) -> list:\n",
    "    '''\n",
    "    returns a list of ids of elements of all schedules (or only specific ones) \n",
    "    that the user is a part of  \n",
    "    '''\n",
    "    elements = []\n",
    "    for schedule in schedules:\n",
    "        schedule = ScheduleManagement().get_schedule(schedule)\n",
    "        elements += schedule.get_elements()\n",
    "\n",
    "    elements = list(set(elements)) # remove duplicates\n",
    "    return elements"
   ]
  },
  {
   "cell_type": "markdown",
   "metadata": {},
   "source": [
    "REFACTOR 1 (Para tratar classes Management como singletons):"
   ]
  },
  {
   "cell_type": "code",
   "execution_count": null,
   "metadata": {},
   "outputs": [],
   "source": [
    "def get_elements(self, schedules: list=None) -> list:\n",
    "    '''\n",
    "    returns a list of ids of elements of all schedules (or only specific ones) \n",
    "    that the user is a part of  \n",
    "    '''\n",
    "    elements = []\n",
    "    for schedule in schedules:\n",
    "        schedule = self.schedule_management.get_schedule(schedule)\n",
    "        elements += schedule.get_elements()\n",
    "\n",
    "    elements = list(set(elements)) # remove duplicates\n",
    "    return elements"
   ]
  },
  {
   "cell_type": "markdown",
   "metadata": {},
   "source": [
    "RED 2"
   ]
  },
  {
   "cell_type": "code",
   "execution_count": null,
   "metadata": {},
   "outputs": [],
   "source": [
    "def test_get_filtered_elements(self):\n",
    "        # Test getting all element ids from user schedules, with filter\n",
    "        user = User(\"id\", \"username\", \"email\", [\"id1\", \"id2\", \"id3\"])\n",
    "        result = user.get_elements([\"id1\", \"id3\"])        \n",
    "        self.assertEqual(sorted(result), ['elementid1', 'elementid2', \n",
    "                                        'elementid5', 'elementid6', 'elementid7'])"
   ]
  },
  {
   "cell_type": "code",
   "execution_count": null,
   "metadata": {},
   "outputs": [],
   "source": [
    "def get_elements(self, schedules: list=None) -> list:\n",
    "    '''\n",
    "    returns a list of ids of elements of all schedules (or only specific ones) \n",
    "    that the user is a part of  \n",
    "    '''\n",
    "    elements = []\n",
    "    for schedule in schedules:\n",
    "        schedule = self.schedule_management.get_schedule(schedule)\n",
    "        elements += schedule.get_elements()\n",
    "\n",
    "    elements = list(set(elements)) # remove duplicates\n",
    "    return elements"
   ]
  },
  {
   "cell_type": "markdown",
   "metadata": {},
   "source": [
    "GREEN 2"
   ]
  },
  {
   "cell_type": "code",
   "execution_count": null,
   "metadata": {},
   "outputs": [],
   "source": [
    "def get_elements(self, schedules: list=None) -> list:\n",
    "    '''\n",
    "    returns a list of ids of elements of all schedules (or only specific ones) \n",
    "    that the user is a part of  \n",
    "    '''\n",
    "    if not schedules:\n",
    "        schedules = self.schedules\n",
    "\n",
    "    elements = []\n",
    "    for schedule in schedules:\n",
    "        schedule = self.schedule_management.get_schedule(schedule)\n",
    "        elements += schedule.get_elements()\n",
    "\n",
    "    elements = list(set(elements)) # remove duplicates\n",
    "    return elements"
   ]
  },
  {
   "cell_type": "markdown",
   "metadata": {},
   "source": [
    "RED 3"
   ]
  },
  {
   "cell_type": "code",
   "execution_count": null,
   "metadata": {},
   "outputs": [],
   "source": [
    "def test_get_elements_from_schedule_user_isnt_in(self):\n",
    "    # Test getting all element ids from a nonexistent schedule\n",
    "    user = User(\"id\", \"username\", \"email\", [\"id1\", \"id2\"])\n",
    "    with self.assertRaises(UserNotInSchedule) as context:\n",
    "        user.get_elements([\"id3\"])\n",
    "    self.assertEqual(str(context.exception), 'Usuário não está nessa agenda: id3')"
   ]
  },
  {
   "cell_type": "markdown",
   "metadata": {},
   "source": [
    "GREEN 3:"
   ]
  },
  {
   "cell_type": "code",
   "execution_count": null,
   "metadata": {},
   "outputs": [],
   "source": [
    "def get_elements(self, schedules: list=None) -> list:\n",
    "        '''\n",
    "        Get all elements from the user schedules, without repetition, or\n",
    "        from a list of filtered schedules\n",
    "\n",
    "        Args:\n",
    "            schedules: list of schedules ids\n",
    "\n",
    "        Returns:\n",
    "            A list of elements ids the user is a part of\n",
    "        '''\n",
    "        if not schedules:\n",
    "            schedules = self.get_schedules()\n",
    "        else:\n",
    "            for schedule in schedules:\n",
    "                if schedule not in self.get_schedules():\n",
    "                    raise UserNotInSchedule(\n",
    "                        f\"Usuário não está nessa agenda: {schedule}\")\n",
    "\n",
    "        elements = []\n",
    "        for schedule in schedules:\n",
    "            schedule = self.schedule_management.get_schedule(schedule)\n",
    "            elements += schedule.get_elements()\n",
    "\n",
    "        elements = list(set(elements))\n",
    "        return elements"
   ]
  },
  {
   "cell_type": "markdown",
   "metadata": {},
   "source": [
    "### Função set_mail:"
   ]
  },
  {
   "cell_type": "markdown",
   "metadata": {},
   "source": [
    "GREEN 1:"
   ]
  },
  {
   "cell_type": "code",
   "execution_count": null,
   "metadata": {},
   "outputs": [],
   "source": [
    "def test_set_email(self):\n",
    "        # Test setting an email\n",
    "        user = User(\"id\", \"username\", \"email\", [\"id1\", \"id2\"])\n",
    "        user.set_email(\"new_email\")\n",
    "        self.assertEqual(user.email, \"new_email\")"
   ]
  },
  {
   "cell_type": "code",
   "execution_count": null,
   "metadata": {},
   "outputs": [],
   "source": [
    "def set_email(self, email: str):\n",
    "        \"\"\"\n",
    "        Set the user name\n",
    "\n",
    "        Args:\n",
    "            username: user name\n",
    "        \"\"\"\n",
    "        self.email = email"
   ]
  },
  {
   "cell_type": "markdown",
   "metadata": {},
   "source": [
    "RED 2:"
   ]
  },
  {
   "cell_type": "code",
   "execution_count": null,
   "metadata": {},
   "outputs": [],
   "source": [
    "def test_set_email_with_trailing_space(self):\n",
    "        # Test setting an email with trailing space\n",
    "        user = User(\"id\", \"username\", \"email\", [\"id1\", \"id2\"])\n",
    "        user.set_email(\"new_email \")\n",
    "        self.assertEqual(user.email, \"new_email\")"
   ]
  },
  {
   "cell_type": "markdown",
   "metadata": {},
   "source": [
    "GREEN 2:"
   ]
  },
  {
   "cell_type": "code",
   "execution_count": null,
   "metadata": {},
   "outputs": [],
   "source": [
    "def set_email(self, email: str):\n",
    "        \"\"\"\n",
    "        Set the user name\n",
    "\n",
    "        Args:\n",
    "            username: user name\n",
    "        \"\"\"\n",
    "        self.email = email.strip()"
   ]
  },
  {
   "cell_type": "markdown",
   "metadata": {},
   "source": [
    "RED 3:"
   ]
  },
  {
   "cell_type": "code",
   "execution_count": null,
   "metadata": {},
   "outputs": [],
   "source": [
    "def test_set_email_with_int(self):\n",
    "        # Test setting an email with trailing space\n",
    "        user = User(\"id\", \"username\", \"email\", [\"id1\", \"id2\"])\n",
    "        with self.assertRaises(TypeError) as context:\n",
    "            user.set_email(123)\n",
    "        self.assertEqual(str(context.exception), \n",
    "                         \"O email deve ser uma string\")"
   ]
  },
  {
   "cell_type": "markdown",
   "metadata": {},
   "source": [
    "GREEN 3:"
   ]
  },
  {
   "cell_type": "code",
   "execution_count": null,
   "metadata": {},
   "outputs": [],
   "source": [
    "def set_email(self, email: str):\n",
    "        \"\"\"\n",
    "        Set the user name\n",
    "\n",
    "        Args:\n",
    "            username: user name\n",
    "        \"\"\"\n",
    "        if type(email) != str:\n",
    "            raise TypeError(\"O email deve ser uma string\")\n",
    "        else:\n",
    "            self.email = email.strip()"
   ]
  },
  {
   "cell_type": "markdown",
   "metadata": {},
   "source": [
    "RED 4:"
   ]
  },
  {
   "cell_type": "code",
   "execution_count": null,
   "metadata": {},
   "outputs": [],
   "source": [
    "def test_set_blank_email(self):\n",
    "        # Test setting a blank email\n",
    "        user = User(\"id\", \"username\", \"email\", [\"id1\", \"id2\"])\n",
    "        with self.assertRaises(EmailCantBeBlank) as context:\n",
    "            user.set_email(\"\")\n",
    "        self.assertEqual(str(context.exception), \n",
    "                         \"O email não pode ser vazio\")"
   ]
  },
  {
   "cell_type": "markdown",
   "metadata": {},
   "source": [
    "GREEN 4:"
   ]
  },
  {
   "cell_type": "code",
   "execution_count": null,
   "metadata": {},
   "outputs": [],
   "source": [
    "def set_email(self, email: str):\n",
    "    \"\"\"\n",
    "    Set the user name\n",
    "\n",
    "    Args:\n",
    "        username: user name\n",
    "    \"\"\"\n",
    "    if type(email) != str:\n",
    "        raise TypeError(\"O email deve ser uma string\")\n",
    "    elif email == \"\":\n",
    "        raise EmailCantBeBlank(\"O email não pode ser vazio\")\n",
    "    else:\n",
    "        self.email = email.strip()"
   ]
  },
  {
   "cell_type": "markdown",
   "metadata": {},
   "source": [
    "### Check_disponibility():"
   ]
  },
  {
   "cell_type": "markdown",
   "metadata": {},
   "source": [
    "Red 1"
   ]
  },
  {
   "cell_type": "code",
   "execution_count": null,
   "metadata": {},
   "outputs": [],
   "source": [
    "def test_check_disponibility(self):\n",
    "        user = User(\"id\", \"username\", \"email\", [\"id1\", \"id2\"])\n",
    "        time = (datetime.now() + timedelta(hours=2), \n",
    "                datetime.now() + timedelta(hours=3))\n",
    "        result = user.check_disponibility(time)\n",
    "        self.assertTrue(result)"
   ]
  },
  {
   "cell_type": "markdown",
   "metadata": {},
   "source": [
    "Green 1"
   ]
  },
  {
   "cell_type": "code",
   "execution_count": null,
   "metadata": {},
   "outputs": [],
   "source": [
    "def check_disponibility(self, time: tuple) -> bool:\n",
    "    \"\"\"\n",
    "    Checks if the user is available at a given time, based on the user's\n",
    "    schedules and elements. It should not raise a conflict if the type\n",
    "    of the element is not 'evento'.\n",
    "\n",
    "    Args:\n",
    "        time: tuple with the start and end time to be checked\n",
    "\n",
    "    Returns:\n",
    "        True if the user is available, False otherwise\n",
    "    \"\"\"\n",
    "    element_ids = self.get_elements()\n",
    "    element_management = ElementManagement.get_instance()\n",
    "\n",
    "    for element_id in element_ids:\n",
    "        element = element_management.get_element(element_id)\n",
    "        \n",
    "        # Check if the start time of the element is within the given time period\n",
    "        if time[0] <= element.start_time <= time[1]:\n",
    "            return False\n",
    "        \n",
    "        # Check if the end time of the element is within the given time period\n",
    "        if time[0] <= element.end_time <= time[1]:\n",
    "            return False\n",
    "        \n",
    "        # Check if the given time period is within the start \n",
    "        # and end time of the element\n",
    "        if element.start_time <= time[0] <= element.end_time or \\\n",
    "            element.start_time <= time[1] <= element.end_time:\n",
    "            return False\n",
    "    \n",
    "    return True"
   ]
  },
  {
   "cell_type": "markdown",
   "metadata": {},
   "source": [
    "RED 2:"
   ]
  },
  {
   "cell_type": "code",
   "execution_count": null,
   "metadata": {},
   "outputs": [],
   "source": [
    "def test_check_disponibility_end_time_same_as_other_event_start_time(self):\n",
    "        user = User(\"id\", \"username\", \"email\", [\"id1\", \"id2\"])\n",
    "        time = (datetime.now() + timedelta(hours=11), \n",
    "                self.ElementManagement.get_element(\"elementid5\").start_time)\n",
    "        result = user.check_disponibility(time)\n",
    "        self.assertTrue(result)"
   ]
  },
  {
   "cell_type": "markdown",
   "metadata": {},
   "source": [
    "GREEN 2:"
   ]
  },
  {
   "cell_type": "code",
   "execution_count": null,
   "metadata": {},
   "outputs": [],
   "source": [
    "def check_disponibility(self, time: tuple) -> bool:\n",
    "    \"\"\"\n",
    "    Checks if the user is available at a given time, based on the user's\n",
    "    schedules and elements. It should not raise a conflict if the type\n",
    "    of the element is not 'evento'.\n",
    "\n",
    "    Args:\n",
    "        time: tuple with the start and end time to be checked\n",
    "\n",
    "    Returns:\n",
    "        True if the user is available, False otherwise\n",
    "    \"\"\"\n",
    "    element_ids = self.get_elements()\n",
    "    element_management = ElementManagement.get_instance()\n",
    "\n",
    "    for element_id in element_ids:\n",
    "        element = element_management.get_element(element_id)\n",
    "        \n",
    "        # Check if the start time of the element is within the given time period\n",
    "        if time[0] <= element.start_time < time[1]:\n",
    "            return False\n",
    "        \n",
    "        # Check if the end time of the element is within the given time period\n",
    "        if time[0] < element.end_time <= time[1]:\n",
    "            return False\n",
    "        \n",
    "        # Check if the given time period is within the start \n",
    "        # and end time of the element\n",
    "        if element.start_time <= time[0] < element.end_time or \\\n",
    "            element.start_time < time[1] <= element.end_time:\n",
    "            return False\n",
    "    \n",
    "    return True"
   ]
  },
  {
   "cell_type": "markdown",
   "metadata": {},
   "source": [
    "RED 3:"
   ]
  },
  {
   "cell_type": "code",
   "execution_count": null,
   "metadata": {},
   "outputs": [],
   "source": [
    "def test_check_disponibility_ignoring_non_event_elements(self):\n",
    "        user = User(\"id\", \"username\", \"email\", [\"id1\", \"id2\"])\n",
    "        time = (self.ElementManagement.get_element(\"elementid3\").start_time,\n",
    "                self.ElementManagement.get_element(\"elementid3\").end_time)\n",
    "        result = user.check_disponibility(time)\n",
    "        self.assertTrue(result)"
   ]
  },
  {
   "cell_type": "markdown",
   "metadata": {},
   "source": [
    "GREEN 3:"
   ]
  },
  {
   "cell_type": "code",
   "execution_count": null,
   "metadata": {},
   "outputs": [],
   "source": [
    "def check_disponibility(self, time: tuple) -> bool:\n",
    "        \"\"\"\n",
    "        Checks if the user is available at a given time, based on the user's\n",
    "        schedules and elements. It should not raise a conflict if the type\n",
    "        of the element is not 'evento'.\n",
    "\n",
    "        Args:\n",
    "            time: tuple with the start and end time to be checked\n",
    "\n",
    "        Returns:\n",
    "            True if the user is available, False otherwise\n",
    "        \"\"\"\n",
    "        element_ids = self.get_elements()\n",
    "        element_management = ElementManagement.get_instance()\n",
    "\n",
    "        for element_id in element_ids:\n",
    "            element = element_management.get_element(element_id)\n",
    "            if element.type != 'evento':\n",
    "                continue\n",
    "            \n",
    "            # Check if the start time of the element is within the given time period\n",
    "            if time[0] <= element.start_time < time[1]:\n",
    "                return False\n",
    "            \n",
    "            # Check if the end time of the element is within the given time period\n",
    "            if time[0] < element.end_time <= time[1]:\n",
    "                return False\n",
    "            \n",
    "            # Check if the given time period is within the start \n",
    "            # and end time of the element\n",
    "            if element.start_time <= time[0] < element.end_time or \\\n",
    "                element.start_time < time[1] <= element.end_time:\n",
    "                return False\n",
    "        \n",
    "        return True"
   ]
  },
  {
   "cell_type": "markdown",
   "metadata": {},
   "source": [
    "RED 4:"
   ]
  },
  {
   "cell_type": "code",
   "execution_count": null,
   "metadata": {},
   "outputs": [],
   "source": [
    "def test_check_disponibility_input_type_exception(self):\n",
    "        user = User(\"id\", \"username\", \"email\", [\"id1\", \"id2\"])\n",
    "        time = \"time\"\n",
    "        with self.assertRaises(TypeError) as context:\n",
    "            user.check_disponibility(time)\n",
    "        self.assertEqual(str(context.exception), \n",
    "                         \"O horário deve ser uma tupla\")"
   ]
  },
  {
   "cell_type": "markdown",
   "metadata": {},
   "source": [
    "GREEN 4:"
   ]
  },
  {
   "cell_type": "code",
   "execution_count": null,
   "metadata": {},
   "outputs": [],
   "source": [
    "def check_disponibility(self, time: tuple) -> bool:\n",
    "        \"\"\"\n",
    "        Checks if the user is available at a given time, based on the user's\n",
    "        schedules and elements. It should not raise a conflict if the type\n",
    "        of the element is not 'evento'.\n",
    "\n",
    "        Args:\n",
    "            time: tuple with the start and end time to be checked\n",
    "\n",
    "        Returns:\n",
    "            True if the user is available, False otherwise\n",
    "        \"\"\"\n",
    "        if type(time) != tuple:\n",
    "            raise TypeError(\"O horário deve ser uma tupla\")\n",
    "\n",
    "        element_ids = self.get_elements()\n",
    "        element_management = ElementManagement.get_instance()\n",
    "\n",
    "        for element_id in element_ids:\n",
    "            element = element_management.get_element(element_id)\n",
    "            if element.type != 'evento':\n",
    "                continue\n",
    "            \n",
    "            # Check if the start time of the element is within the given time period\n",
    "            if time[0] <= element.start_time < time[1]:\n",
    "                return False\n",
    "            \n",
    "            # Check if the end time of the element is within the given time period\n",
    "            if time[0] < element.end_time <= time[1]:\n",
    "                return False\n",
    "            \n",
    "            # Check if the given time period is within the start \n",
    "            # and end time of the element\n",
    "            if element.start_time <= time[0] < element.end_time or \\\n",
    "                element.start_time < time[1] <= element.end_time:\n",
    "                return False\n",
    "        \n",
    "        return True"
   ]
  }
 ],
 "metadata": {
  "kernelspec": {
   "display_name": "Python 3",
   "language": "python",
   "name": "python3"
  },
  "language_info": {
   "codemirror_mode": {
    "name": "ipython",
    "version": 3
   },
   "file_extension": ".py",
   "mimetype": "text/x-python",
   "name": "python",
   "nbconvert_exporter": "python",
   "pygments_lexer": "ipython3",
   "version": "3.10.6"
  }
 },
 "nbformat": 4,
 "nbformat_minor": 2
}
