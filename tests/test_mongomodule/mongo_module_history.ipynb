{
 "cells": [
  {
   "cell_type": "code",
   "execution_count": null,
   "metadata": {},
   "outputs": [],
   "source": [
    "class MongoModule(DatabaseModule):\n",
    "    def __init__(self, host, collection_name):\n",
    "        ...\n",
    "\n",
    "    def connect(self):\n",
    "        ...\n",
    "\n",
    "    def disconnect(self):\n",
    "        ...\n",
    "\n",
    "    def insert_data(self, query):\n",
    "        ...\n",
    "\n",
    "    def delete_data(self, query):\n",
    "        ...\n",
    "\n",
    "    def update_data(self, query):\n",
    "        ...\n",
    "\n",
    "    def select_data(self, query):\n",
    "        ..."
   ]
  },
  {
   "cell_type": "markdown",
   "metadata": {},
   "source": [
    "<hr>"
   ]
  },
  {
   "cell_type": "code",
   "execution_count": null,
   "metadata": {},
   "outputs": [],
   "source": []
  },
  {
   "cell_type": "code",
   "execution_count": null,
   "metadata": {},
   "outputs": [],
   "source": [
    "import pymongo\n",
    "from src.database.database_module import DatabaseModule\n",
    "\n",
    "class MongoModule(DatabaseModule):\n",
    "    def __init__(self, host, collection_name):\n",
    "        self.host = host\n",
    "        self.collection_name = collection_name\n",
    "        self.client = None\n",
    "        self.db = None\n",
    "        self.collection = None\n",
    "\n",
    "    def connect(self):\n",
    "        self.client = pymongo.MongoClient(host=self.host)\n",
    "\n",
    "    def disconnect(self):\n",
    "        ...\n",
    "\n",
    "    def insert_data(self, query):\n",
    "        ...\n",
    "\n",
    "    def delete_data(self, query):\n",
    "        ...\n",
    "\n",
    "    def update_data(self, query):\n",
    "        ...\n",
    "\n",
    "    def select_data(self, query):\n",
    "        ..."
   ]
  },
  {
   "cell_type": "code",
   "execution_count": null,
   "metadata": {},
   "outputs": [],
   "source": [
    "import unittest\n",
    "import unittest.mock\n",
    "# from src.database.mongo_module import MongoModule\n",
    "import sys\n",
    "sys.path.append('/home/gustavo/ES/Engenharia_Software/')\n",
    "\n",
    "from src.database.mongo_module import MongoModule\n",
    "\n",
    "\n",
    "class TestMongoModule(unittest.TestCase):\n",
    "\n",
    "    def setUp(self):\n",
    "        self.mongo_module = MongoModule(host=\"localhost\", collection_name=\"test_collection\")\n",
    "\n",
    "    def test_connect(self):\n",
    "        with unittest.mock.patch('pymongo.MongoClient') as mock_mongo:\n",
    "            self.mongo_module.connect()\n",
    "            mock_mongo.assert_called_once_with(host=\"localhost\")\n",
    "\n",
    "    def test_disconnect(self):\n",
    "        pass\n",
    "\n",
    "    def test_insert_data(self):\n",
    "        pass\n",
    "\n",
    "    def test_delete_data(self):\n",
    "        pass\n",
    "\n",
    "    def test_update_data(self):\n",
    "        pass\n",
    "\n",
    "    def test_select_data(self):\n",
    "        pass\n",
    "\n",
    "if __name__ == '__main__':\n",
    "    unittest.main()\n"
   ]
  }
 ],
 "metadata": {
  "language_info": {
   "name": "python"
  }
 },
 "nbformat": 4,
 "nbformat_minor": 2
}
