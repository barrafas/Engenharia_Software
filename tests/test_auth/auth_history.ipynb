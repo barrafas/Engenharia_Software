{
 "cells": [
  {
   "cell_type": "markdown",
   "metadata": {},
   "source": [
    "Codigo seguindo o padrão do diagrama (atualizado, removendo o loggout) criado"
   ]
  },
  {
   "cell_type": "code",
   "execution_count": null,
   "metadata": {},
   "outputs": [],
   "source": [
    "from ..database.database_module import DatabaseModule\n",
    "\n",
    "class Authentication:\n",
    "\n",
    "    def __init__(self, database_module: DatabaseModule):\n",
    "        ...\n",
    "\n",
    "    def authenticate_user(self, username: str, password: str) -> bool:\n",
    "        ...\n",
    "\n",
    "    def verify_password(self, input_password: str, hashed_password: str) -> bool:\n",
    "        ...\n"
   ]
  },
  {
   "cell_type": "markdown",
   "metadata": {},
   "source": [
    "Não passa no teste de autenticação com sucesso (não está implementado), autenticação implementada:"
   ]
  },
  {
   "cell_type": "code",
   "execution_count": null,
   "metadata": {},
   "outputs": [],
   "source": [
    "from ..database.database_module import DatabaseModule\n",
    "from ..user.user_management import UserManagement\n",
    "\n",
    "class AuthenticationModule:\n",
    "\n",
    "    def __init__(self, database_module: DatabaseModule):\n",
    "        self.database_module = database_module\n",
    "        self.user_management_module = UserManagement(self.database_module)\n",
    "\n",
    "    def authenticate_user(self, username: str, password: str) -> bool:\n",
    "        user = self.user_management_module.get_user(username)\n",
    "        return self.verify_password(password, user.get_hashed_password())\n",
    "\n",
    "    def verify_password(self, input_password: str, hashed_password: str) -> bool:\n",
    "        ...\n"
   ]
  },
  {
   "cell_type": "markdown",
   "metadata": {},
   "source": [
    "O código sem a verificação da password, assumindo que ela funciona, já passa no teste de login fracassado caso a senha esteja incorreta, mas falha quando é necessária a verificação da senha segundo o metodo implementado (funciona quando a senha está errada, pois é sempre None, mas nunca verifica uma senha como correta).\n",
    "A implementação do hashing usando bcrypt é essa:"
   ]
  },
  {
   "cell_type": "code",
   "execution_count": null,
   "metadata": {},
   "outputs": [],
   "source": [
    "from ..database.database_module import DatabaseModule\n",
    "from ..user.user_management import UserManagement\n",
    "import bcrypt\n",
    "\n",
    "class AuthenticationModule:\n",
    "\n",
    "    def __init__(self, database_module: DatabaseModule):\n",
    "        self.database_module = database_module\n",
    "        self.user_management_module = UserManagement(self.database_module)\n",
    "\n",
    "    def authenticate_user(self, username: str, password: str) -> bool:\n",
    "        user = self.user_management_module.get_user(username)\n",
    "        return self.verify_password(password, user.get_hashed_password())\n",
    "\n",
    "    def verify_password(self, input_password: str, hashed_password: str) -> bool:\n",
    "        return bcrypt.checkpw(input_password.encode(), hashed_password.encode())\n"
   ]
  }
 ],
 "metadata": {
  "language_info": {
   "name": "python"
  }
 },
 "nbformat": 4,
 "nbformat_minor": 2
}
