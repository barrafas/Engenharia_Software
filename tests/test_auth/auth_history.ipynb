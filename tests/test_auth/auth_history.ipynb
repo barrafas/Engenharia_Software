{
 "cells": [
  {
   "cell_type": "code",
   "execution_count": null,
   "metadata": {},
   "outputs": [],
   "source": [
    "from ..database.database_module import DatabaseModule\n",
    "\n",
    "class Authentication:\n",
    "\n",
    "    def __init__(self, database_module: DatabaseModule):\n",
    "        ...\n",
    "\n",
    "    def authenticate_user(self, username: str, password: str) -> bool:\n",
    "        ...\n",
    "\n",
    "    def verify_password(self, input_password: str, hashed_password: str) -> bool:\n",
    "        ...\n"
   ]
  }
 ],
 "metadata": {
  "language_info": {
   "name": "python"
  }
 },
 "nbformat": 4,
 "nbformat_minor": 2
}
