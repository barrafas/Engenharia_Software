{
 "cells": [
  {
   "cell_type": "markdown",
   "metadata": {},
   "source": [
    "Codigo seguindo o padrão do diagrama (atualizado, removendo o loggout) criado"
   ]
  },
  {
   "cell_type": "code",
   "execution_count": null,
   "metadata": {},
   "outputs": [],
   "source": [
    "from ..database.database_module import DatabaseModule\n",
    "\n",
    "class Authentication:\n",
    "\n",
    "    def __init__(self, database_module: DatabaseModule):\n",
    "        ...\n",
    "\n",
    "    def authenticate_user(self, username: str, password: str) -> bool:\n",
    "        ...\n",
    "\n",
    "    def verify_password(self, input_password: str, hashed_password: str) -> bool:\n",
    "        ...\n"
   ]
  },
  {
   "cell_type": "markdown",
   "metadata": {},
   "source": [
    "Não passa no teste de autenticação com sucesso (não está implementado), autenticação implementada:"
   ]
  },
  {
   "cell_type": "code",
   "execution_count": null,
   "metadata": {},
   "outputs": [],
   "source": [
    "from ..database.database_module import DatabaseModule\n",
    "from ..user.user_management import UserManagement\n",
    "\n",
    "class AuthenticationModule:\n",
    "\n",
    "    def __init__(self, database_module: DatabaseModule):\n",
    "        self.database_module = database_module\n",
    "        self.user_management_module = UserManagement(self.database_module)\n",
    "\n",
    "    def authenticate_user(self, username: str, password: str) -> bool:\n",
    "        user = self.user_management_module.get_user(username)\n",
    "        return self.verify_password(password, user.get_hashed_password())\n",
    "\n",
    "    def verify_password(self, input_password: str, hashed_password: str) -> bool:\n",
    "        ...\n"
   ]
  },
  {
   "cell_type": "markdown",
   "metadata": {},
   "source": []
  }
 ],
 "metadata": {
  "language_info": {
   "name": "python"
  }
 },
 "nbformat": 4,
 "nbformat_minor": 2
}
