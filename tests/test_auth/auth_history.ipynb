{
 "cells": [
  {
   "cell_type": "code",
   "execution_count": null,
   "metadata": {},
   "outputs": [],
   "source": [
    "from ..database.database_module import DatabaseModule\n",
    "\n",
    "class Authentication:\n",
    "\n",
    "    def __init__(self, database_module: DatabaseModule):\n",
    "        ...\n",
    "\n",
    "    def authenticate_user(self, username: str, password: str) -> bool:\n",
    "        ...\n",
    "\n",
    "    def verify_password(self, input_password: str, hashed_password: str) -> bool:\n",
    "        ...\n"
   ]
  },
  {
   "cell_type": "markdown",
   "metadata": {},
   "source": [
    "Codigo seguindo o padrão do diagrama (atualizado, removendo o loggout) criado, criando teste para autenticação com sucesso do usuário."
   ]
  },
  {
   "cell_type": "code",
   "execution_count": null,
   "metadata": {},
   "outputs": [],
   "source": [
    "def test_authenticate_user_success(self):\n",
    "        # Mocking user_exists and get_user methods\n",
    "        self.auth_module.user_management_module.user_exists = MagicMock(return_value=True)\n",
    "        self.auth_module.user_management_module.get_user = MagicMock(return_value=self.create_mock_user())\n",
    "\n",
    "        # Mocking verify_password method\n",
    "        self.auth_module.verify_password = MagicMock(return_value=True)\n",
    "\n",
    "        # Test\n",
    "        result = self.auth_module.authenticate_user(\"test_user\", \"test_password\")\n",
    "        self.assertTrue(result)"
   ]
  },
  {
   "cell_type": "markdown",
   "metadata": {},
   "source": [
    "Não passa no teste de autenticação com sucesso (não está implementado), autenticação implementada:"
   ]
  },
  {
   "cell_type": "code",
   "execution_count": null,
   "metadata": {},
   "outputs": [],
   "source": [
    "from ..database.database_module import DatabaseModule\n",
    "from ..user.user_management import UserManagement\n",
    "\n",
    "class AuthenticationModule:\n",
    "\n",
    "    def __init__(self, database_module: DatabaseModule):\n",
    "        self.database_module = database_module\n",
    "        self.user_management_module = UserManagement(self.database_module)\n",
    "\n",
    "    def authenticate_user(self, username: str, password: str) -> bool:\n",
    "        user = self.user_management_module.get_user(username)\n",
    "        return self.verify_password(password, user.get_hashed_password())\n",
    "\n",
    "    def verify_password(self, input_password: str, hashed_password: str) -> bool:\n",
    "        ...\n"
   ]
  },
  {
   "cell_type": "markdown",
   "metadata": {},
   "source": [
    "Entretanto é necessário que a verificação falhe quando a senha está incorreta, e também devemos verificar a implementação do metodo de verificação."
   ]
  },
  {
   "cell_type": "code",
   "execution_count": null,
   "metadata": {},
   "outputs": [],
   "source": [
    "def test_authenticate_user_wrong_password(self):\n",
    "        # Mocking user_exists and get_user methods\n",
    "        self.auth_module.user_management_module.user_exists = MagicMock(return_value=True)\n",
    "        self.auth_module.user_management_module.get_user = MagicMock(return_value=self.create_mock_user())\n",
    "\n",
    "        # Mocking verify_password method\n",
    "        self.auth_module.verify_password = MagicMock(return_value=False)\n",
    "\n",
    "        # Test\n",
    "        result = self.auth_module.authenticate_user(\"test_user\", \"wrong_password\")\n",
    "        self.assertFalse(result)\n",
    "\n",
    "    def test_password_verification_success(self):\n",
    "        # Mocking bcrypt.checkpw method\n",
    "        bcrypt.checkpw = MagicMock(return_value=True)\n",
    "\n",
    "        # Test\n",
    "        result = self.auth_module.verify_password(\"test_password\", \"test_hashed_password\")\n",
    "        self.assertTrue(result)\n",
    "\n",
    "    def test_password_verification_failure(self):\n",
    "        # Mocking bcrypt.checkpw method\n",
    "        bcrypt.checkpw = MagicMock(return_value=False)\n",
    "\n",
    "        # Test\n",
    "        result = self.auth_module.verify_password(\"test_password\", \"test_hashed_password\")\n",
    "        self.assertFalse(result)\n"
   ]
  },
  {
   "cell_type": "markdown",
   "metadata": {},
   "source": [
    "O código sem a verificação da password, assumindo que ela funciona, já passa no teste de login fracassado caso a senha esteja incorreta, mas falha quando é necessária a verificação da senha segundo o metodo implementado (funciona quando a senha está errada, pois é sempre None, mas nunca verifica uma senha como correta).\n",
    "A implementação do hashing usando bcrypt é essa:"
   ]
  },
  {
   "cell_type": "code",
   "execution_count": null,
   "metadata": {},
   "outputs": [],
   "source": [
    "from ..database.database_module import DatabaseModule\n",
    "from ..user.user_management import UserManagement\n",
    "import bcrypt\n",
    "\n",
    "class AuthenticationModule:\n",
    "\n",
    "    def __init__(self, database_module: DatabaseModule):\n",
    "        self.database_module = database_module\n",
    "        self.user_management_module = UserManagement(self.database_module)\n",
    "\n",
    "    def authenticate_user(self, username: str, password: str) -> bool:\n",
    "        user = self.user_management_module.get_user(username)\n",
    "        return self.verify_password(password, user.get_hashed_password())\n",
    "\n",
    "    def verify_password(self, input_password: str, hashed_password: str) -> bool:\n",
    "        return bcrypt.checkpw(input_password.encode(), hashed_password.encode())\n"
   ]
  },
  {
   "cell_type": "markdown",
   "metadata": {},
   "source": [
    "O código está funcional, mas devemos pensar no caso em que um usuário não existente tenta fazer login, é necessário que ele receba o feedback de que não está cadastrado, por isso o código precisa lidar com isso:"
   ]
  },
  {
   "cell_type": "code",
   "execution_count": null,
   "metadata": {},
   "outputs": [],
   "source": [
    "\n",
    "    def test_authenticate_user_user_not_found(self):\n",
    "        # Mocking user_exists method\n",
    "        self.auth_module.user_management_module.user_exists = MagicMock(return_value=False)\n",
    "\n",
    "        # Test\n",
    "        with self.assertRaises(UserNotFound):\n",
    "            self.auth_module.authenticate_user(\"nonexistent_user\", \"password\")\n"
   ]
  },
  {
   "cell_type": "markdown",
   "metadata": {},
   "source": [
    "O codigo não é capaz de reagir corretamente quando tentamos autenticar um usuário não existente, para corrigir isso um erro foi criado a devidamente levantado no caso disso ocorrer:"
   ]
  },
  {
   "cell_type": "code",
   "execution_count": null,
   "metadata": {},
   "outputs": [],
   "source": [
    "from ..database.database_module import DatabaseModule\n",
    "from ..user.user_management import UserManagement\n",
    "import bcrypt\n",
    "\n",
    "# create a custom exception\n",
    "class UserNotFound(Exception):\n",
    "    pass\n",
    "\n",
    "class AuthenticationModule:\n",
    "\n",
    "    def __init__(self, database_module: DatabaseModule):\n",
    "        self.database_module = database_module\n",
    "        self.user_management_module = UserManagement(self.database_module)\n",
    "\n",
    "    def authenticate_user(self, username: str, password: str) -> bool:\n",
    "        if not self.user_management_module.user_exists(username):\n",
    "            raise UserNotFound(f\"Usuário {username} não encontrado!\")\n",
    "        else:\n",
    "            user = self.user_management_module.get_user(username)\n",
    "            user_password = user.get_hashed_password()\n",
    "\n",
    "            if self.verify_password(password, user_password):\n",
    "                return True\n",
    "            else:\n",
    "                return False\n",
    "\n",
    "    def verify_password(self, input_password: str, hashed_password: str) -> bool:\n",
    "        return bcrypt.checkpw(input_password.encode(), hashed_password.encode())\n"
   ]
  }
 ],
 "metadata": {
  "language_info": {
   "name": "python"
  }
 },
 "nbformat": 4,
 "nbformat_minor": 2
}
