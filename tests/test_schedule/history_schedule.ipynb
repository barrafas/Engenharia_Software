{
 "cells": [
  {
   "cell_type": "markdown",
   "metadata": {},
   "source": [
    "# Histórico do Schedule\n",
    "\n",
    "Notebook a ponto de registrar o avanço da classe Schedule. Não é para ser executado."
   ]
  },
  {
   "cell_type": "markdown",
   "metadata": {},
   "source": [
    "## Properties\n",
    "\n",
    "Testes a serem realizados:"
   ]
  },
  {
   "cell_type": "code",
   "execution_count": null,
   "metadata": {},
   "outputs": [],
   "source": [
    "def test_id_property(self):\n",
    "    # Test the id property\n",
    "    self.assertEqual(self.schedule.id, self.id)\n",
    "\n",
    "def test_permissions_property(self):\n",
    "    # Test the permissions property\n",
    "    self.assertEqual(self.schedule.permissions, self.permissions)\n",
    "\n",
    "def test_elements_property(self):\n",
    "    # Test the elements property\n",
    "    self.assertEqual(self.schedule.elements, self.elements)"
   ]
  },
  {
   "cell_type": "markdown",
   "metadata": {},
   "source": [
    "Esses testes são muito simples e foram feitos apenas para desencargo de consciência. O código original foi suficiente para passar nos testes do enunciado:"
   ]
  },
  {
   "cell_type": "code",
   "execution_count": null,
   "metadata": {},
   "outputs": [],
   "source": [
    "@property\n",
    "def id(self):\n",
    "    return self.__id\n",
    "\n",
    "@property\n",
    "def permissions(self):\n",
    "    return self.__permissions\n",
    "\n",
    "@property\n",
    "def elements(self):\n",
    "    return self.__elements"
   ]
  },
  {
   "cell_type": "markdown",
   "metadata": {},
   "source": [
    "## Set Title\n",
    "\n",
    "O seguinte teste inicial foi criado:"
   ]
  },
  {
   "cell_type": "code",
   "execution_count": null,
   "metadata": {},
   "outputs": [],
   "source": [
    "def test_set_title_valid(self):\n",
    "    # Test setting a valid title\n",
    "    valid_title = \"Valid Title\"\n",
    "    self.schedule.set_title(valid_title)\n",
    "    self.assertEqual(self.schedule.title, valid_title)"
   ]
  },
  {
   "cell_type": "markdown",
   "metadata": {},
   "source": [
    "Este código foi o suficiente para passar no teste:"
   ]
  },
  {
   "cell_type": "code",
   "execution_count": null,
   "metadata": {},
   "outputs": [],
   "source": [
    "def set_title(self, title: str) -> None:\n",
    "    '''\n",
    "        Sets the title of the schedule.\n",
    "\n",
    "        Arguments:\n",
    "            title -- title of the schedule.\n",
    "    '''\n",
    "\n",
    "    self.title = title"
   ]
  },
  {
   "cell_type": "markdown",
   "metadata": {},
   "source": [
    "Em seguida, foram criados os seguintes testes, que impedem que o título seja vazio ou diferente de uma string:"
   ]
  },
  {
   "cell_type": "code",
   "execution_count": null,
   "metadata": {},
   "outputs": [],
   "source": [
    "def test_set_title_not_string(self):\n",
    "    # Test setting a title that is not a string\n",
    "    with self.assertRaises(TypeError):\n",
    "        self.schedule.set_title(123)\n",
    "\n",
    "def test_set_title_none(self):\n",
    "    # Test setting a title that is None\n",
    "    with self.assertRaises(ValueError):\n",
    "        self.schedule.set_title(None)"
   ]
  },
  {
   "cell_type": "markdown",
   "metadata": {},
   "source": [
    "O código não foi suficiente para passar nos testes, sendo necessário atualizá-lo:"
   ]
  },
  {
   "cell_type": "code",
   "execution_count": null,
   "metadata": {},
   "outputs": [],
   "source": [
    "def set_title(self, title: str) -> None:\n",
    "    '''\n",
    "        Sets the title of the schedule.\n",
    "\n",
    "        Arguments:\n",
    "            title -- title of the schedule.\n",
    "    '''\n",
    "    if title is None:\n",
    "        raise ValueError(\"Title cannot be None\")\n",
    "    if not isinstance(title, str):\n",
    "        raise TypeError(\"Title must be a string\")\n",
    "    self.title = title"
   ]
  },
  {
   "cell_type": "markdown",
   "metadata": {},
   "source": [
    "Em seguida, foram criados os seguintes testes: um teste para impedir que o título fique muito grande (mais de 50 caracteres) e um teste na borda (50 caracteres):"
   ]
  },
  {
   "cell_type": "code",
   "execution_count": null,
   "metadata": {},
   "outputs": [],
   "source": [
    "def test_set_title_too_long(self):\n",
    "    # Test setting a title that is too long\n",
    "    with self.assertRaises(ValueError):\n",
    "        self.schedule.set_title(\"a\" * 51)\n",
    "\n",
    "def test_set_title_max_length(self):\n",
    "    # Test setting a title that is exactly at the maximum length\n",
    "    max_length_title = \"a\" * 50\n",
    "    self.schedule.set_title(max_length_title)\n",
    "    self.assertEqual(self.schedule.title, max_length_title)"
   ]
  },
  {
   "cell_type": "markdown",
   "metadata": {},
   "source": [
    "O código foi suficiente para passar apenas no teste da borda, uma vez que não mesmo com a implementação de um limite de caracteres, a borda não é considerada. Contudo, para passar no teste de limite, foi necessário atualizar o código:"
   ]
  },
  {
   "cell_type": "code",
   "execution_count": null,
   "metadata": {},
   "outputs": [],
   "source": [
    "def set_title(self, title: str) -> None:\n",
    "    '''\n",
    "        Sets the title of the schedule.\n",
    "\n",
    "        Arguments:\n",
    "            title -- title of the schedule.\n",
    "    '''\n",
    "    if title is None:\n",
    "        raise ValueError(\"Title cannot be None\")\n",
    "    if not isinstance(title, str):\n",
    "        raise TypeError(\"Title must be a string\")\n",
    "    if len(title) > 50:\n",
    "        raise ValueError(\"Title must have at most 50 characters\")\n",
    "    self.title = title"
   ]
  },
  {
   "cell_type": "markdown",
   "metadata": {},
   "source": [
    "Em seguida, foram criados dois testes para impedir que o título seja uma string vazia ou contenha apenas espaços:"
   ]
  },
  {
   "cell_type": "code",
   "execution_count": null,
   "metadata": {},
   "outputs": [],
   "source": [
    "def test_set_title_whitespace(self):\n",
    "    # Test setting a title that contains only whitespace\n",
    "    with self.assertRaises(ValueError):\n",
    "        self.schedule.set_title(\"   \")\n",
    "\n",
    "def test_set_title_empty(self):\n",
    "    # Test setting an empty title\n",
    "    with self.assertRaises(ValueError):\n",
    "        self.schedule.set_title(\"\")"
   ]
  },
  {
   "cell_type": "markdown",
   "metadata": {},
   "source": [
    "O código não foi suficiente para passar nos testes, sendo necessário atualizá-lo. Para isso, utilizamos o método `strip()`, que remove os espaços em branco do início e do fim de uma string:"
   ]
  },
  {
   "cell_type": "code",
   "execution_count": null,
   "metadata": {},
   "outputs": [],
   "source": [
    "def set_title(self, title: str) -> None:\n",
    "    '''\n",
    "        Sets the title of the schedule.\n",
    "\n",
    "        Arguments:\n",
    "            title -- title of the schedule.\n",
    "    '''\n",
    "    if title is None:\n",
    "        raise ValueError(\"Title cannot be None\")\n",
    "    if not isinstance(title, str):\n",
    "        raise TypeError(\"Title must be a string\")\n",
    "    if len(title.strip()) == 0:\n",
    "        raise ValueError(\"Title cannot be empty\")\n",
    "    if len(title) > 50:\n",
    "        raise ValueError(\"Title must have at most 50 characters\")\n",
    "    self.title = title"
   ]
  },
  {
   "cell_type": "markdown",
   "metadata": {},
   "source": [
    "## Set Description\n",
    "\n",
    "O seguinte teste inicial foi criado:"
   ]
  },
  {
   "cell_type": "code",
   "execution_count": null,
   "metadata": {},
   "outputs": [],
   "source": [
    "def test_set_description_valid(self):\n",
    "    # Test setting a valid description\n",
    "    valid_description = \"Valid Description\"\n",
    "    self.schedule.set_description(valid_description)\n",
    "    self.assertEqual(self.schedule.description, valid_description)"
   ]
  },
  {
   "cell_type": "markdown",
   "metadata": {},
   "source": [
    "Este código foi o suficiente para passar no teste:"
   ]
  },
  {
   "cell_type": "code",
   "execution_count": null,
   "metadata": {},
   "outputs": [],
   "source": [
    "def set_description(self, description: str) -> None:\n",
    "    '''\n",
    "        Sets the description of the schedule.\n",
    "\n",
    "        Arguments:\n",
    "            description -- description of the schedule.\n",
    "    '''\n",
    "    self.description = description"
   ]
  },
  {
   "cell_type": "markdown",
   "metadata": {},
   "source": [
    "Em seguida, foram criados os seguintes testes, que impedem que a descrição seja vazia ou diferente de uma string:"
   ]
  },
  {
   "cell_type": "code",
   "execution_count": null,
   "metadata": {},
   "outputs": [],
   "source": [
    "def test_set_description_not_string(self):\n",
    "    # Test setting a description that is not a string\n",
    "    with self.assertRaises(TypeError):\n",
    "        self.schedule.set_description(123)\n",
    "\n",
    "def test_set_description_none(self):\n",
    "    # Test setting a description that is None\n",
    "    self.schedule.set_description(None)\n",
    "    self.assertEqual(self.schedule.description, None)"
   ]
  },
  {
   "cell_type": "markdown",
   "metadata": {},
   "source": [
    "O código não foi suficiente para passar nos testes, sendo necessário atualizá-lo:"
   ]
  },
  {
   "cell_type": "code",
   "execution_count": null,
   "metadata": {},
   "outputs": [],
   "source": [
    "def set_description(self, description: str) -> None:\n",
    "    '''\n",
    "        Sets the description of the schedule.\n",
    "\n",
    "        Arguments:\n",
    "            description -- description of the schedule.\n",
    "    '''\n",
    "    if description is None:\n",
    "        raise ValueError(\"Description cannot be None\")\n",
    "    if not isinstance(description, str):\n",
    "        raise TypeError(\"Description must be a string\")\n",
    "    self.description = description"
   ]
  },
  {
   "cell_type": "markdown",
   "metadata": {},
   "source": [
    "Em seguida, foram criados os seguintes testes: um teste para impedir que a descrição fique muito grande (mais de 500 caracteres) e um teste na borda (500 caracteres):"
   ]
  },
  {
   "cell_type": "code",
   "execution_count": null,
   "metadata": {},
   "outputs": [],
   "source": [
    "def test_set_description_too_long(self):\n",
    "    # Test setting a description that is too long\n",
    "    with self.assertRaises(ValueError):\n",
    "        self.schedule.set_description(\"a\" * 501)\n",
    "\n",
    "def test_set_description_max_length(self):\n",
    "    # Test setting a description that is exactly at the maximum length\n",
    "    max_length_description = \"a\" * 500\n",
    "    self.schedule.set_description(max_length_description)\n",
    "    self.assertEqual(self.schedule.description, max_length_description)"
   ]
  },
  {
   "cell_type": "markdown",
   "metadata": {},
   "source": [
    "O código foi suficiente para passar apenas no teste da borda, uma vez que não mesmo com a implementação de um limite de caracteres, a borda não é considerada. Contudo, para passar no teste de limite, foi necessário atualizar o código:"
   ]
  },
  {
   "cell_type": "code",
   "execution_count": null,
   "metadata": {},
   "outputs": [],
   "source": [
    "def set_description(self, description: str) -> None:\n",
    "    '''\n",
    "        Sets the description of the schedule.\n",
    "\n",
    "        Arguments:\n",
    "            description -- description of the schedule.\n",
    "    '''\n",
    "    if description is not None:\n",
    "        if type(description) != str:\n",
    "            raise TypeError(\"Description must be a string\")\n",
    "        elif len(description) > 500:\n",
    "            raise ValueError(\"Description cannot have more than 500 characters\")\n",
    "    self.description = description"
   ]
  },
  {
   "cell_type": "markdown",
   "metadata": {},
   "source": [
    "*OBs.:* Cometi um erro ao levantar um erro para o caso de a descrição ser vazia, pois isto deveria ser permitido. Por isso, o teste foi atualizado para que a descrição vazia seja permitida:"
   ]
  },
  {
   "cell_type": "code",
   "execution_count": null,
   "metadata": {},
   "outputs": [],
   "source": [
    "def test_set_description_none(self):\n",
    "    # Test setting a description that is None\n",
    "    self.schedule.set_description(None)\n",
    "    self.assertEqual(self.schedule.description, None)"
   ]
  },
  {
   "cell_type": "markdown",
   "metadata": {},
   "source": [
    "## To Dict\n",
    "\n",
    "O seguinte teste inicial foi criado:"
   ]
  },
  {
   "cell_type": "code",
   "execution_count": null,
   "metadata": {},
   "outputs": [],
   "source": [
    "def test_to_dict(self):\n",
    "    # Call the to_dict method\n",
    "    schedule_dict = self.schedule.to_dict()\n",
    "\n",
    "    # Check that the dictionary has the correct keys and values\n",
    "    self.assertEqual(schedule_dict, {\n",
    "        \"id\": self.id,\n",
    "        \"title\": self.title,\n",
    "        \"description\": self.description,\n",
    "        \"permissions\": self.permissions,\n",
    "        \"elements\": self.elements\n",
    "})"
   ]
  },
  {
   "cell_type": "markdown",
   "metadata": {},
   "source": [
    "O código foi o suficiente para passar no teste:"
   ]
  },
  {
   "cell_type": "code",
   "execution_count": null,
   "metadata": {},
   "outputs": [],
   "source": [
    "def to_dict(self) -> dict:\n",
    "    '''\n",
    "        Returns a dictionary representation of the schedule,\n",
    "        which can be used to create a JSON object.\n",
    "\n",
    "        Returns:\n",
    "            dict -- Dictionary representation of the schedule.\n",
    "    '''\n",
    "    return {\n",
    "        \"id\": self.__id,\n",
    "        \"title\": self.title,\n",
    "        \"description\": self.description,\n",
    "        \"permissions\": self.__permissions,\n",
    "        \"elements\": self.__elements\n",
    "    }"
   ]
  },
  {
   "cell_type": "markdown",
   "metadata": {},
   "source": [
    "Em seguida, foram feitos dois testes para observar o comportamento das listas permissions e elements do dicionário, a fim de ver uma conversão correta:"
   ]
  },
  {
   "cell_type": "code",
   "execution_count": null,
   "metadata": {},
   "outputs": [],
   "source": [
    "def test_to_dict_permissions(self):\n",
    "    # Test that to_dict correctly converts permissions\n",
    "    schedule_dict = self.schedule.to_dict()\n",
    "    self.assertEqual(schedule_dict[\"permissions\"], self.permissions)\n",
    "\n",
    "def test_to_dict_elements(self):\n",
    "    # Test that to_dict correctly converts elements\n",
    "    schedule_dict = self.schedule.to_dict()\n",
    "    self.assertEqual(schedule_dict[\"elements\"], self.elements)"
   ]
  },
  {
   "cell_type": "markdown",
   "metadata": {},
   "source": [
    "Novamente, o código foi o suficiente para passar nos testes. Por fim, adicionamos um teste para verificar a conversão da entrada de atributos vazios (quando possíveis, isto é, diferente de `id` ou `title`):"
   ]
  },
  {
   "cell_type": "code",
   "execution_count": null,
   "metadata": {},
   "outputs": [],
   "source": [
    "def test_to_dict_none_empty(self):\n",
    "    # Test to_dict when attributes are None or empty\n",
    "    empty_schedule = Schedule(self.id, self.title, None, [], [])\n",
    "    schedule_dict = empty_schedule.to_dict()\n",
    "    self.assertEqual(schedule_dict, {\n",
    "        \"id\": self.id,\n",
    "        \"title\": self.title,\n",
    "        \"description\": None,\n",
    "        \"permissions\": [],\n",
    "        \"elements\": []\n",
    "    })"
   ]
  },
  {
   "cell_type": "markdown",
   "metadata": {},
   "source": [
    "O código foi o suficiente para passar no teste novamente."
   ]
  },
  {
   "cell_type": "markdown",
   "metadata": {},
   "source": [
    "Obs.: O teste `test_to_dict_none_empty` foi atualizado, pois não é possível que uma Schedule tenha `permissions` vazia:"
   ]
  },
  {
   "cell_type": "code",
   "execution_count": null,
   "metadata": {},
   "outputs": [],
   "source": [
    "def test_to_dict_none_empty(self):\n",
    "    # Test to_dict when attributes are None or empty\n",
    "    empty_schedule = Schedule(self.id, self.title, None, [('userid1', 'permissiontype1')], [])\n",
    "    schedule_dict = empty_schedule.to_dict()\n",
    "    self.assertEqual(schedule_dict, {\n",
    "        \"id\": self.id,\n",
    "        \"title\": self.title,\n",
    "        \"description\": None,\n",
    "        \"permissions\": [('userid1', 'permissiontype1')],\n",
    "        \"elements\": []\n",
    "    })"
   ]
  },
  {
   "cell_type": "markdown",
   "metadata": {},
   "source": [
    "Obs: A chave \"id\" foi alterada para \"_id\", para melhor se adequar ao MongoDB. Os testes foram atualizados para refletir essa mudança:"
   ]
  },
  {
   "cell_type": "code",
   "execution_count": null,
   "metadata": {},
   "outputs": [],
   "source": [
    "def test_to_dict(self):\n",
    "    # Call the to_dict method\n",
    "    schedule_dict = self.schedule.to_dict()\n",
    "\n",
    "    # Check that the dictionary has the correct keys and values\n",
    "    self.assertEqual(schedule_dict, {\n",
    "        \"_id\": self.id,\n",
    "        \"title\": self.title,\n",
    "        \"description\": self.description,\n",
    "        \"permissions\": self.permissions,\n",
    "        \"elements\": self.elements\n",
    "})\n",
    "\n",
    "def test_to_dict_none_empty(self):\n",
    "    # Test to_dict when attributes are None or empty\n",
    "    empty_schedule = Schedule(self.id, self.title, None, [('userid1', 'permissiontype1')], [])\n",
    "    schedule_dict = empty_schedule.to_dict()\n",
    "    self.assertEqual(schedule_dict, {\n",
    "        \"_id\": self.id,\n",
    "        \"title\": self.title,\n",
    "        \"description\": None,\n",
    "        \"permissions\": [('userid1', 'permissiontype1')],\n",
    "        \"elements\": []\n",
    "    })"
   ]
  },
  {
   "cell_type": "markdown",
   "metadata": {},
   "source": [
    "O código teve uma pequena alteração para passar nos testes atualizados:"
   ]
  },
  {
   "cell_type": "code",
   "execution_count": null,
   "metadata": {},
   "outputs": [],
   "source": [
    "def to_dict(self) -> dict:\n",
    "    '''\n",
    "        Returns a dictionary representation of the schedule,\n",
    "        which can be used to create a JSON object.\n",
    "\n",
    "        Returns:\n",
    "            dict -- Dictionary representation of the schedule.\n",
    "    '''\n",
    "    return {\n",
    "        \"_id\": self.__id,\n",
    "        \"title\": self.title,\n",
    "        \"description\": self.description,\n",
    "        \"permissions\": self.__permissions,\n",
    "        \"elements\": self.__elements\n",
    "    }"
   ]
  },
  {
   "cell_type": "markdown",
   "metadata": {},
   "source": [
    "## Get Elements\n",
    "\n",
    "Para este método, foi criado o seguinte teste inicial:"
   ]
  },
  {
   "cell_type": "code",
   "execution_count": null,
   "metadata": {},
   "outputs": [],
   "source": [
    "def test_get_elements(self):\n",
    "    # Test that get_elements returns the correct elements\n",
    "    element_management = ElementManagement.get_instance()\n",
    "    schedule = Schedule('id', 'title', 'description', [], ['elementid1', 'elementid2'])\n",
    "    elements = schedule.get_elements()\n",
    "    expected_elements = [element_management.elements['elementid1'], element_management.elements['elementid2']]\n",
    "    self.assertEqual(elements, expected_elements)"
   ]
  },
  {
   "cell_type": "markdown",
   "metadata": {},
   "source": [
    "Para realizar o teste, foi necessário utilizar de mocks, uma vez que o método `get_elements` da classe `Schedule` utiliza o método `get_element` da classe `ElementManagement`. Para isso, um mock foi criado:"
   ]
  },
  {
   "cell_type": "code",
   "execution_count": null,
   "metadata": {},
   "outputs": [],
   "source": [
    "from datetime import datetime, timedelta\n",
    "\n",
    "    \n",
    "class Element:\n",
    "    def __init__(self, start_time: datetime, end_time: datetime, element_type: str):\n",
    "        self.start_time = start_time\n",
    "        self.end_time = end_time\n",
    "        self.type = element_type\n",
    "    \n",
    "class ElementManagement:\n",
    "    _instance = None\n",
    "\n",
    "    @classmethod\n",
    "    def get_instance(cls):\n",
    "        if cls._instance is None:\n",
    "            cls._instance = cls()\n",
    "        return cls._instance\n",
    "\n",
    "    def __init__(self):\n",
    "        self.elements = {\n",
    "            'elementid1': Element(\n",
    "                datetime.now(), datetime.now() + timedelta(hours=1), 'evento'),\n",
    "            'elementid2': Element(\n",
    "                datetime.now() + timedelta(hours=15), \n",
    "                datetime.now() + timedelta(hours=16), 'evento'),\n",
    "            'elementid3': Element(\n",
    "                datetime.now() + timedelta(hours=8), \n",
    "                datetime.now() + timedelta(hours=9), 'tarefa'),\n",
    "            'elementid4': Element(\n",
    "                datetime.now() + timedelta(hours=9), \n",
    "                datetime.now() + timedelta(hours=10), 'evento'),\n",
    "            'elementid5': Element(\n",
    "                datetime.now() + timedelta(hours=12), \n",
    "                datetime.now() + timedelta(hours=14), 'evento'),\n",
    "            'elementid6': Element(\n",
    "                datetime.now() + timedelta(hours=18), \n",
    "                datetime.now() + timedelta(hours=19), 'evento'),\n",
    "            'elementid7': Element(\n",
    "                datetime.now() + timedelta(hours=19), \n",
    "                datetime.now() + timedelta(hours=20), 'evento'),\n",
    "        }\n",
    "\n",
    "    def get_element(self, element_id: str) -> Element:\n",
    "        return self.elements[element_id]"
   ]
  },
  {
   "cell_type": "markdown",
   "metadata": {},
   "source": [
    "O código inicial foi o seguinte:"
   ]
  },
  {
   "cell_type": "code",
   "execution_count": null,
   "metadata": {},
   "outputs": [],
   "source": [
    "def get_elements(self, types =  []) -> list:\n",
    "    '''\n",
    "        Returns a list of elements IDs for elements that are displayed in the schedule.\n",
    "\n",
    "        Arguments:\n",
    "            types -- list of element types.\n",
    "\n",
    "        Returns:\n",
    "            [Element] -- List of element instances in the schedule that have the specified types.\n",
    "    '''\n",
    "    element_management = ElementManagement.get_instance()\n",
    "    elements = []\n",
    "    for element_id in self.__elements:\n",
    "        element = element_management.get_element(element_id)\n",
    "        elements.append(element)\n",
    "    return elements"
   ]
  },
  {
   "cell_type": "markdown",
   "metadata": {},
   "source": [
    "O código inicial foi o suficiente para passar no teste. Adicionamos mais um teste para verificar a funcionalidade de filtro por tipo de elemento:"
   ]
  },
  {
   "cell_type": "code",
   "execution_count": null,
   "metadata": {},
   "outputs": [],
   "source": [
    "def test_get_elements_with_types(self):\n",
    "    # Test that get_elements returns the correct elements with the specified types\n",
    "    element_management = ElementManagement.get_instance()\n",
    "    schedule = Schedule('id', 'title', 'description', {'userid1': 'permissiontype1'}, ['elementid1', 'elementid2', 'elementid3', 'elementid4'])\n",
    "    elements = schedule.get_elements(['evento'])\n",
    "    expected_elements = [element_management.elements['elementid1'], element_management.elements['elementid4']]\n",
    "    self.assertEqual(elements, expected_elements)"
   ]
  },
  {
   "cell_type": "markdown",
   "metadata": {},
   "source": [
    "O código não foi suficiente para passar no teste, sendo necessário atualizá-lo:"
   ]
  },
  {
   "cell_type": "code",
   "execution_count": null,
   "metadata": {},
   "outputs": [],
   "source": [
    "def get_elements(self, types =  []) -> list:\n",
    "    '''\n",
    "        Returns a list of elements IDs for elements that are displayed in the schedule.\n",
    "\n",
    "        Arguments:\n",
    "            types -- list of element types.\n",
    "\n",
    "        Returns:\n",
    "            [Element] -- List of element instances in the schedule that have the specified types.\n",
    "    '''\n",
    "    element_management = ElementManagement.get_instance()\n",
    "    elements = []\n",
    "    for element_id in self.__elements:\n",
    "        element = element_management.get_element(element_id)\n",
    "        if not types or element.type in types:\n",
    "            elements.append(element)\n",
    "    return elements"
   ]
  },
  {
   "cell_type": "markdown",
   "metadata": {},
   "source": [
    "O código foi o suficiente para passar no teste. Realizamos mais dois testes: um para veriicar o que ocorre quando não há elementos e outro para verificar o que ocorre quando o tipo de elemento não existe:"
   ]
  },
  {
   "cell_type": "code",
   "execution_count": null,
   "metadata": {},
   "outputs": [],
   "source": [
    "def test_get_elements_empty(self):\n",
    "    # Test that get_elements returns an empty list when there are no elements\n",
    "    schedule = Schedule('id', 'title', 'description', [], [])\n",
    "    elements = schedule.get_elements()\n",
    "    self.assertEqual(elements, [])\n",
    "\n",
    "def test_get_elements_nonexistent_type(self):\n",
    "    # Test that get_elements returns an empty list when there are no elements with the specified type\n",
    "    schedule = Schedule('id', 'title', 'description', [], ['elementid1', 'elementid2', 'elementid3', 'elementid4'])\n",
    "    elements = schedule.get_elements(['citrico'])\n",
    "    self.assertEqual(elements, [])"
   ]
  },
  {
   "cell_type": "markdown",
   "metadata": {},
   "source": [
    "O código foi o suficiente para passar nos testes."
   ]
  },
  {
   "cell_type": "markdown",
   "metadata": {},
   "source": [
    "## Get Users\n",
    "\n",
    "Para este método, foi criado o seguinte teste inicial:"
   ]
  },
  {
   "cell_type": "code",
   "execution_count": null,
   "metadata": {},
   "outputs": [],
   "source": [
    "def test_get_users(self):\n",
    "    # Test that get_users returns the correct users\n",
    "    user_management = UserManagement.get_instance()\n",
    "    schedule = Schedule('id', 'title', 'description', [('userid1', 'permissiontype1'), ('userid2', 'permissiontype2')], [])\n",
    "    users = schedule.get_users()\n",
    "    expected_users = [user_management.users['userid1'], user_management.users['userid2']]\n",
    "    self.assertEqual(users, expected_users)"
   ]
  },
  {
   "cell_type": "markdown",
   "metadata": {},
   "source": [
    "Para realizar o teste, foi necessário utilizar de mocks, uma vez que o método `get_users` da classe `Schedule` utiliza o método `get_user` da classe `UserManagement`. Para isso, um mock foi criado:"
   ]
  },
  {
   "cell_type": "code",
   "execution_count": null,
   "metadata": {},
   "outputs": [],
   "source": [
    "class User:\n",
    "    def __init__(self, user_id: str):\n",
    "        self.__id = user_id\n",
    "\n",
    "    @property\n",
    "    def id(self):\n",
    "        return self.__id\n",
    "\n",
    "class UserManagement:\n",
    "    _instance = None\n",
    "\n",
    "    @classmethod\n",
    "    def get_instance(cls):\n",
    "        if cls._instance is None:\n",
    "            cls._instance = cls()\n",
    "        return cls._instance\n",
    "\n",
    "    def __init__(self):\n",
    "        self.users = {\n",
    "            'userid1': User('userid1'),\n",
    "            'userid2': User('userid2'),\n",
    "            'userid3': User('userid3'),\n",
    "            'userid4': User('userid4'),\n",
    "            'userid5': User('userid5'),\n",
    "            'userid6': User('userid6'),\n",
    "            'userid7': User('userid7'),\n",
    "            'userid8': User('userid8'),\n",
    "            'userid9': User('userid9'),\n",
    "            'userid10': User('userid10'),\n",
    "        }\n",
    "\n",
    "    def get_user(self, user_id: str) -> User:\n",
    "        return self.users[user_id]"
   ]
  },
  {
   "cell_type": "markdown",
   "metadata": {},
   "source": [
    "O código inicial foi o seguinte:"
   ]
  },
  {
   "cell_type": "code",
   "execution_count": null,
   "metadata": {},
   "outputs": [],
   "source": [
    "def get_users(self, permission_types = []) -> list:\n",
    "    '''\n",
    "        Returns a list of users that have the specified permission types.\n",
    "        If no permission types are specified, returns all the users in the schedule.\n",
    "\n",
    "        Arguments:\n",
    "            permission_types -- list of permission types.\n",
    "\n",
    "        Returns:\n",
    "            [User] -- List of users that have the specified permission types.\n",
    "    '''\n",
    "    \n",
    "    user_management = UserManagement.get_instance()\n",
    "    users = []\n",
    "    for user_id, permission_type in self.__permissions:\n",
    "        user = user_management.get_user(user_id)\n",
    "        users.append(user)\n",
    "    return users"
   ]
  },
  {
   "cell_type": "markdown",
   "metadata": {},
   "source": [
    "O código inicial foi o suficiente para passar no teste. Adicionamos mais um teste para verificar a funcionalidade de filtro por tipo de permissão:"
   ]
  },
  {
   "cell_type": "code",
   "execution_count": null,
   "metadata": {},
   "outputs": [],
   "source": [
    "def test_get_users_with_permission_types(self):\n",
    "    # Test that get_users returns the correct users with the specified permission types\n",
    "    user_management = UserManagement.get_instance()\n",
    "    schedule = Schedule('id', 'title', 'description', [('userid1', 'permissiontype1'), ('userid2', 'permissiontype2'), ('userid3', 'permissiontype1')], [])\n",
    "    users = schedule.get_users(['permissiontype1'])\n",
    "    expected_users = [user_management.users['userid1'], user_management.users['userid3']]\n",
    "    self.assertEqual(users, expected_users)"
   ]
  },
  {
   "cell_type": "markdown",
   "metadata": {},
   "source": [
    "O código não foi o suficiente para passar no teste, sendo necessário atualizá-lo:"
   ]
  },
  {
   "cell_type": "code",
   "execution_count": null,
   "metadata": {},
   "outputs": [],
   "source": [
    "def get_users(self, permission_types = []) -> list:\n",
    "    '''\n",
    "        Returns a list of users that have the specified permission types.\n",
    "        If no permission types are specified, returns all the users in the schedule.\n",
    "\n",
    "        Arguments:\n",
    "            permission_types -- list of permission types.\n",
    "\n",
    "        Returns:\n",
    "            [User] -- List of users that have the specified permission types.\n",
    "    '''\n",
    "    \n",
    "    user_management = UserManagement.get_instance()\n",
    "    users = []\n",
    "    for user_id, permission_type in self.__permissions:\n",
    "        if not permission_types or permission_type in permission_types:\n",
    "            user = user_management.get_user(user_id)\n",
    "            users.append(user)\n",
    "    return users"
   ]
  },
  {
   "cell_type": "markdown",
   "metadata": {},
   "source": [
    "O código foi o suficiente para passar no teste. Por fim, criamos dois testes: um para verificar o comportamento do método quando não há usuários e outro para verificar o comportamento do método quando o tipo de permissão não existe:"
   ]
  },
  {
   "cell_type": "code",
   "execution_count": null,
   "metadata": {},
   "outputs": [],
   "source": [
    "def test_get_users_empty(self):\n",
    "    # Test that get_users returns an empty list when there are no users\n",
    "    schedule = Schedule('id', 'title', 'description', [], [])\n",
    "    users = schedule.get_users()\n",
    "    self.assertEqual(users, [])\n",
    "\n",
    "def test_get_users_nonexistent_permission_type(self):\n",
    "    # Test that get_users returns an empty list when there are no users with the specified permission type\n",
    "    schedule = Schedule('id', 'title', 'description', [('userid1', 'permissiontype1'), ('userid2', 'permissiontype2'), ('userid3', 'permissiontype1')], [])\n",
    "    users = schedule.get_users(['permissiontype3'])\n",
    "    self.assertEqual(users, [])"
   ]
  },
  {
   "cell_type": "markdown",
   "metadata": {},
   "source": [
    "O código foi o suficiente para passar no teste."
   ]
  },
  {
   "cell_type": "markdown",
   "metadata": {},
   "source": [
    "OBS.: O teste `test_get_users_empty` foi removido, pois não é permitido que um Schedule não tenha usuários."
   ]
  },
  {
   "cell_type": "markdown",
   "metadata": {},
   "source": [
    "# Refactor\n",
    "\n",
    "Permissions foi alterado de uma tupla (user_id, permission) para um dicionário {user_id: permission}. Os testes foram atualizados para refletir essa mudança:"
   ]
  },
  {
   "cell_type": "code",
   "execution_count": null,
   "metadata": {},
   "outputs": [],
   "source": [
    "def test_to_dict_none_empty(self):\n",
    "    # Test to_dict when attributes are None or empty\n",
    "    empty_schedule = Schedule(self.id, self.title, None, {'userid1': 'permissiontype1'}, [])\n",
    "    schedule_dict = empty_schedule.to_dict()\n",
    "    self.assertEqual(schedule_dict, {\n",
    "        \"_id\": self.id,\n",
    "        \"title\": self.title,\n",
    "        \"description\": None,\n",
    "        \"permissions\": {'userid1': 'permissiontype1'},\n",
    "        \"elements\": []\n",
    "    })\n",
    "\n",
    "def test_get_elements(self):\n",
    "    # Test that get_elements returns the correct elements\n",
    "    element_management = ElementManagement.get_instance()\n",
    "    schedule = Schedule('id', 'title', 'description', {'userid1': 'permissiontype1'}, ['elementid1', 'elementid2'])\n",
    "    elements = schedule.get_elements()\n",
    "    expected_elements = [element_management.elements['elementid1'], element_management.elements['elementid2']]\n",
    "    self.assertEqual(elements, expected_elements)\n",
    "\n",
    "def test_get_elements_with_types(self):\n",
    "    # Test that get_elements returns the correct elements with the specified types\n",
    "    element_management = ElementManagement.get_instance()\n",
    "    schedule = Schedule('id', 'title', 'description', {'userid1': 'permissiontype1'}, ['elementid1', 'elementid2', 'elementid3', 'elementid4'])\n",
    "    elements = schedule.get_elements(['evento'])\n",
    "    expected_elements = [element_management.elements['elementid1'], element_management.elements['elementid4']]\n",
    "    self.assertEqual(elements, expected_elements)\n",
    "\n",
    "def test_get_elements_empty(self):\n",
    "    # Test that get_elements returns an empty list when there are no elements\n",
    "    schedule = Schedule('id', 'title', 'description', {'userid1': 'permissiontype1'}, [])\n",
    "    elements = schedule.get_elements()\n",
    "    self.assertEqual(elements, [])\n",
    "\n",
    "def test_get_elements_nonexistent_type(self):\n",
    "    # Test that get_elements returns an empty list when there are no elements with the specified type\n",
    "    schedule = Schedule('id', 'title', 'description', {'userid1': 'permissiontype1'}, ['elementid1', 'elementid2', 'elementid3', 'elementid4'])\n",
    "    elements = schedule.get_elements(['citrico'])\n",
    "    self.assertEqual(elements, [])\n",
    "\n",
    "def test_get_users(self):\n",
    "    # Test that get_users returns the correct users\n",
    "    user_management = UserManagement.get_instance()\n",
    "    schedule = Schedule('id', 'title', 'description', {'userid1': 'permissiontype1', 'userid2': 'permissiontype2'}, [])\n",
    "    users = schedule.get_users()\n",
    "    expected_users = [user_management.users['userid1'], user_management.users['userid2']]\n",
    "    self.assertEqual(users, expected_users)\n",
    "\n",
    "def test_get_users_with_permission_types(self):\n",
    "    # Test that get_users returns the correct users with the specified permission types\n",
    "    user_management = UserManagement.get_instance()\n",
    "    schedule = Schedule('id', 'title', 'description', {'userid1': 'permissiontype1', 'userid2': 'permissiontype2', 'userid3': 'permissiontype1'}, [])\n",
    "    users = schedule.get_users(['permissiontype1'])\n",
    "    expected_users = [user_management.users['userid1'], user_management.users['userid3']]\n",
    "    self.assertEqual(users, expected_users)\n",
    "\n",
    "def test_get_users_nonexistent_permission_type(self):\n",
    "    # Test that get_users returns an empty list when there are no users with the specified permission type\n",
    "    schedule = Schedule('id', 'title', 'description', {'userid1': 'permissiontype1', 'userid2': 'permissiontype2', 'userid3': 'permissiontype1'}, [])\n",
    "    users = schedule.get_users(['permissiontype3'])\n",
    "    self.assertEqual(users, [])"
   ]
  },
  {
   "cell_type": "markdown",
   "metadata": {},
   "source": [
    "Para isso, foi necessário atualizar o método `get_users` e o `init` da classe `Schedule`:\t"
   ]
  },
  {
   "cell_type": "code",
   "execution_count": null,
   "metadata": {},
   "outputs": [],
   "source": [
    "def __init__(self, schedule_id: str, title: str, description: str, \n",
    "        permissions: dict, elements: [str] = None):\n",
    "    \"\"\"\n",
    "        Schedule constructor.\n",
    "        Arguments:\n",
    "            schedule_id -- id of the schedule.\n",
    "            title -- title of the schedule.\n",
    "            description -- description of the schedule.\n",
    "            permissions -- list of tuples (user_id, permission_type) \n",
    "                    that represent the permissions of the users in the schedule.\n",
    "            elements -- list of elements ids that are displayed in the schedule.\n",
    "    \"\"\"\n",
    "    self.__id = schedule_id\n",
    "    self.set_title(title)\n",
    "    self.set_description(description)\n",
    "    self.__permissions = permissions\n",
    "    self.__elements = elements if elements else []\n",
    "\n",
    "def get_users(self, permission_types = []) -> list:\n",
    "    '''\n",
    "        Returns a list of users that have the specified permission types.\n",
    "        If no permission types are specified, returns all the users in the schedule.\n",
    "\n",
    "        Arguments:\n",
    "            permission_types -- list of permission types.\n",
    "\n",
    "        Returns:\n",
    "            [User] -- List of users that have the specified permission types.\n",
    "    '''\n",
    "    \n",
    "    user_management = UserManagement.get_instance()\n",
    "    users = []\n",
    "    for user_id, permission_type in self.__permissions.items():\n",
    "        if not permission_types or permission_type in permission_types:\n",
    "            user = user_management.get_user(user_id)\n",
    "            users.append(user)\n",
    "    return users"
   ]
  },
  {
   "cell_type": "markdown",
   "metadata": {},
   "source": [
    "## Elements Setter\n",
    "\n",
    "Precisamos que elements possa ser alterado, para isso, precisamos de um @element.setter. Os seguintes testes iniciais foram criados:"
   ]
  },
  {
   "cell_type": "code",
   "execution_count": null,
   "metadata": {},
   "outputs": [],
   "source": [
    "def test_elements_setter_accepts_valid_input(self):\n",
    "    # Arrange\n",
    "    schedule = Schedule(\"schedule1\", \"Title\", \"Description\", {\"user1\": \"read\"}, [\"element1\"])\n",
    "    new_elements = [\"element2\", \"element3\"]\n",
    "    # Act\n",
    "    schedule.elements = new_elements\n",
    "    # Assert\n",
    "    self.assertEqual(schedule.elements, new_elements)\n",
    "\n",
    "def test_elements_setter_raises_error_on_invalid_input(self):\n",
    "    # Arrange\n",
    "    schedule = Schedule(\"schedule1\", \"Title\", \"Description\", {\"user1\": \"read\"}, [\"element1\"])\n",
    "    invalid_elements = \"element2\"\n",
    "    # Act & Assert\n",
    "    with self.assertRaises(ValueError):\n",
    "        schedule.elements = invalid_elements"
   ]
  },
  {
   "cell_type": "markdown",
   "metadata": {},
   "source": [
    "O código inicial foi o seguinte:"
   ]
  },
  {
   "cell_type": "code",
   "execution_count": null,
   "metadata": {},
   "outputs": [],
   "source": [
    "@elements.setter\n",
    "def elements(self, value):\n",
    "    if isinstance(value, list) and all(isinstance(i, str) for i in value):\n",
    "        self.__elements = value\n",
    "    else:\n",
    "        raise ValueError(\"Elements must be a list of strings\")\n"
   ]
  },
  {
   "cell_type": "markdown",
   "metadata": {},
   "source": [
    "O código foi suficiente."
   ]
  }
 ],
 "metadata": {
  "language_info": {
   "name": "python"
  }
 },
 "nbformat": 4,
 "nbformat_minor": 2
}
