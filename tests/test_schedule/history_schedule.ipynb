{
 "cells": [
  {
   "cell_type": "markdown",
   "metadata": {},
   "source": [
    "# Histórico do Schedule\n",
    "\n",
    "Notebook a ponto de registrar o avanço da classe Schedule. Não é para ser executado."
   ]
  },
  {
   "cell_type": "markdown",
   "metadata": {},
   "source": [
    "## Properties\n",
    "\n",
    "Testes a serem realizados:"
   ]
  },
  {
   "cell_type": "code",
   "execution_count": null,
   "metadata": {},
   "outputs": [],
   "source": [
    "def test_id_property(self):\n",
    "    # Test the id property\n",
    "    self.assertEqual(self.schedule.id, self.id)\n",
    "\n",
    "def test_permissions_property(self):\n",
    "    # Test the permissions property\n",
    "    self.assertEqual(self.schedule.permissions, self.permissions)\n",
    "\n",
    "def test_elements_property(self):\n",
    "    # Test the elements property\n",
    "    self.assertEqual(self.schedule.elements, self.elements)"
   ]
  },
  {
   "cell_type": "markdown",
   "metadata": {},
   "source": [
    "Esses testes são muito simples e foram feitos apenas para desencargo de consciência. O código original foi suficiente para passar nos testes do enunciado:"
   ]
  },
  {
   "cell_type": "code",
   "execution_count": null,
   "metadata": {},
   "outputs": [],
   "source": [
    "@property\n",
    "def id(self):\n",
    "    return self.__id\n",
    "\n",
    "@property\n",
    "def permissions(self):\n",
    "    return self.__permissions\n",
    "\n",
    "@property\n",
    "def elements(self):\n",
    "    return self.__elements"
   ]
  },
  {
   "cell_type": "markdown",
   "metadata": {},
   "source": [
    "## Set Title\n",
    "\n",
    "O seguinte teste inicial foi criado:"
   ]
  },
  {
   "cell_type": "code",
   "execution_count": null,
   "metadata": {},
   "outputs": [],
   "source": [
    "def test_set_title_valid(self):\n",
    "    # Test setting a valid title\n",
    "    valid_title = \"Valid Title\"\n",
    "    self.schedule.set_title(valid_title)\n",
    "    self.assertEqual(self.schedule.title, valid_title)"
   ]
  },
  {
   "cell_type": "markdown",
   "metadata": {},
   "source": [
    "Este código foi o suficiente para passar no teste:"
   ]
  },
  {
   "cell_type": "code",
   "execution_count": null,
   "metadata": {},
   "outputs": [],
   "source": [
    "def set_title(self, title: str) -> None:\n",
    "    '''\n",
    "        Sets the title of the schedule.\n",
    "\n",
    "        Arguments:\n",
    "            title -- title of the schedule.\n",
    "    '''\n",
    "\n",
    "    self.title = title"
   ]
  },
  {
   "cell_type": "markdown",
   "metadata": {},
   "source": [
    "Em seguida, foram criados os seguintes testes, que impedem que o título seja vazio ou diferente de uma string:"
   ]
  },
  {
   "cell_type": "code",
   "execution_count": null,
   "metadata": {},
   "outputs": [],
   "source": [
    "def test_set_title_not_string(self):\n",
    "    # Test setting a title that is not a string\n",
    "    with self.assertRaises(TypeError):\n",
    "        self.schedule.set_title(123)\n",
    "\n",
    "def test_set_title_none(self):\n",
    "    # Test setting a title that is None\n",
    "    with self.assertRaises(ValueError):\n",
    "        self.schedule.set_title(None)"
   ]
  },
  {
   "cell_type": "markdown",
   "metadata": {},
   "source": [
    "O código não foi suficiente para passar nos testes, sendo necessário atualizá-lo:"
   ]
  },
  {
   "cell_type": "code",
   "execution_count": null,
   "metadata": {},
   "outputs": [],
   "source": [
    "def set_title(self, title: str) -> None:\n",
    "    '''\n",
    "        Sets the title of the schedule.\n",
    "\n",
    "        Arguments:\n",
    "            title -- title of the schedule.\n",
    "    '''\n",
    "    if title is None:\n",
    "        raise ValueError(\"Title cannot be None\")\n",
    "    if not isinstance(title, str):\n",
    "        raise TypeError(\"Title must be a string\")\n",
    "    self.title = title"
   ]
  },
  {
   "cell_type": "markdown",
   "metadata": {},
   "source": [
    "Em seguida, foram criados os seguintes testes: um teste para impedir que o título fique muito grande (mais de 50 caracteres) e um teste na borda (50 caracteres):"
   ]
  },
  {
   "cell_type": "code",
   "execution_count": null,
   "metadata": {},
   "outputs": [],
   "source": [
    "def test_set_title_too_long(self):\n",
    "    # Test setting a title that is too long\n",
    "    with self.assertRaises(ValueError):\n",
    "        self.schedule.set_title(\"a\" * 51)\n",
    "\n",
    "def test_set_title_max_length(self):\n",
    "    # Test setting a title that is exactly at the maximum length\n",
    "    max_length_title = \"a\" * 50\n",
    "    self.schedule.set_title(max_length_title)\n",
    "    self.assertEqual(self.schedule.title, max_length_title)"
   ]
  },
  {
   "cell_type": "markdown",
   "metadata": {},
   "source": [
    "O código foi suficiente para passar apenas no teste da borda, uma vez que não mesmo com a implementação de um limite de caracteres, a borda não é considerada. Contudo, para passar no teste de limite, foi necessário atualizar o código:"
   ]
  },
  {
   "cell_type": "markdown",
   "metadata": {},
   "source": [
    "## Set Description\n",
    "\n",
    "O seguinte teste inicial foi criado:"
   ]
  },
  {
   "cell_type": "code",
   "execution_count": null,
   "metadata": {},
   "outputs": [],
   "source": [
    "def test_set_description_valid(self):\n",
    "    # Test setting a valid description\n",
    "    valid_description = \"Valid Description\"\n",
    "    self.schedule.set_description(valid_description)\n",
    "    self.assertEqual(self.schedule.description, valid_description)"
   ]
  },
  {
   "cell_type": "markdown",
   "metadata": {},
   "source": [
    "Este código foi o suficiente para passar no teste:"
   ]
  },
  {
   "cell_type": "code",
   "execution_count": null,
   "metadata": {},
   "outputs": [],
   "source": [
    "def set_description(self, description: str) -> None:\n",
    "    '''\n",
    "        Sets the description of the schedule.\n",
    "\n",
    "        Arguments:\n",
    "            description -- description of the schedule.\n",
    "    '''\n",
    "    self.description = description"
   ]
  },
  {
   "cell_type": "markdown",
   "metadata": {},
   "source": [
    "Em seguida, foram criados os seguintes testes, que impedem que a descrição seja vazia ou diferente de uma string:"
   ]
  },
  {
   "cell_type": "code",
   "execution_count": null,
   "metadata": {},
   "outputs": [],
   "source": [
    "def test_set_description_not_string(self):\n",
    "    # Test setting a description that is not a string\n",
    "    with self.assertRaises(TypeError):\n",
    "        self.schedule.set_description(123)\n",
    "\n",
    "def test_set_description_none(self):\n",
    "    # Test setting a description that is None\n",
    "    self.schedule.set_description(None)\n",
    "    self.assertEqual(self.schedule.description, None)"
   ]
  },
  {
   "cell_type": "markdown",
   "metadata": {},
   "source": [
    "O código não foi suficiente para passar nos testes, sendo necessário atualizá-lo:"
   ]
  },
  {
   "cell_type": "code",
   "execution_count": null,
   "metadata": {},
   "outputs": [],
   "source": [
    "def set_description(self, description: str) -> None:\n",
    "    '''\n",
    "        Sets the description of the schedule.\n",
    "\n",
    "        Arguments:\n",
    "            description -- description of the schedule.\n",
    "    '''\n",
    "    if description is None:\n",
    "        raise ValueError(\"Description cannot be None\")\n",
    "    if not isinstance(description, str):\n",
    "        raise TypeError(\"Description must be a string\")\n",
    "    self.description = description"
   ]
  },
  {
   "cell_type": "markdown",
   "metadata": {},
   "source": [
    "Em seguida, foram criados os seguintes testes: um teste para impedir que a descrição fique muito grande (mais de 500 caracteres) e um teste na borda (500 caracteres):"
   ]
  },
  {
   "cell_type": "code",
   "execution_count": null,
   "metadata": {},
   "outputs": [],
   "source": [
    "def test_set_description_too_long(self):\n",
    "    # Test setting a description that is too long\n",
    "    with self.assertRaises(ValueError):\n",
    "        self.schedule.set_description(\"a\" * 501)\n",
    "\n",
    "def test_set_description_max_length(self):\n",
    "    # Test setting a description that is exactly at the maximum length\n",
    "    max_length_description = \"a\" * 500\n",
    "    self.schedule.set_description(max_length_description)\n",
    "    self.assertEqual(self.schedule.description, max_length_description)"
   ]
  },
  {
   "cell_type": "markdown",
   "metadata": {},
   "source": [
    "O código foi suficiente para passar apenas no teste da borda, uma vez que não mesmo com a implementação de um limite de caracteres, a borda não é considerada. Contudo, para passar no teste de limite, foi necessário atualizar o código:"
   ]
  }
 ],
 "metadata": {
  "language_info": {
   "name": "python"
  }
 },
 "nbformat": 4,
 "nbformat_minor": 2
}
