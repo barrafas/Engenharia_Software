{
 "cells": [
  {
   "cell_type": "markdown",
   "metadata": {},
   "source": [
    "# Histórico do Schedule Management\n",
    "\n",
    "Notebook a ponto de registrar o histórico de alterações do Schedule Management. Não é necessário executar este notebook."
   ]
  },
  {
   "cell_type": "markdown",
   "metadata": {},
   "source": [
    "## Get Instance\n",
    "\n",
    "Como o Schedule Management será implementado como um Singleton, é necessário utilizar o método `get_instance` para obter a instância do objeto. Para isso, desenvolvemos dois testes, um para verificar a instância e outro para verificar se a instância é única:"
   ]
  },
  {
   "cell_type": "code",
   "execution_count": null,
   "metadata": {},
   "outputs": [],
   "source": [
    "def test_get_instance_creates_instance(self):\n",
    "    instance = ScheduleManagement.get_instance(self.db_module)\n",
    "    self.assertIsInstance(instance, ScheduleManagement)\n",
    "\n",
    "def test_get_instance_returns_same_instance(self):\n",
    "    instance1 = ScheduleManagement.get_instance(self.db_module)\n",
    "    instance2 = ScheduleManagement.get_instance(self.db_module)\n",
    "    self.assertIs(instance1, instance2)"
   ]
  },
  {
   "cell_type": "markdown",
   "metadata": {},
   "source": [
    "Para isso, o código abaixo foi desenvolvido:"
   ]
  },
  {
   "cell_type": "code",
   "execution_count": null,
   "metadata": {},
   "outputs": [],
   "source": [
    "class ScheduleManagement:\n",
    "    \"\"\"\n",
    "    ScheduleManagement class\n",
    "    Responsible for managing the schedules in the database\n",
    "\n",
    "    Attributes:\n",
    "        db: Database module\n",
    "        schedules: Dictionary of schedules, where the key is the schedule ID\n",
    "            and the value is the schedule instance\n",
    "    \"\"\"\n",
    "\n",
    "    _instance = None\n",
    "\n",
    "    @classmethod\n",
    "    def get_instance(cls, database_module: MongoModule, schedules: dict = None):\n",
    "        if cls._instance is None:\n",
    "            cls._instance = cls(database_module, schedules)\n",
    "        return cls._instance"
   ]
  }
 ],
 "metadata": {
  "language_info": {
   "name": "python"
  }
 },
 "nbformat": 4,
 "nbformat_minor": 2
}
