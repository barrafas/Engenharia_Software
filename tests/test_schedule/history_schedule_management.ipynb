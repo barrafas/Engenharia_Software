{
 "cells": [
  {
   "cell_type": "markdown",
   "metadata": {},
   "source": [
    "# Histórico do Schedule Management\n",
    "\n",
    "Notebook a ponto de registrar o histórico de alterações do Schedule Management. Não é necessário executar este notebook."
   ]
  },
  {
   "cell_type": "markdown",
   "metadata": {},
   "source": [
    "## Get Instance\n",
    "\n",
    "Como o Schedule Management será implementado como um Singleton, é necessário utilizar o método `get_instance` para obter a instância do objeto. Para isso, desenvolvemos dois testes, um para verificar a instância e outro para verificar se a instância é única:"
   ]
  },
  {
   "cell_type": "code",
   "execution_count": null,
   "metadata": {},
   "outputs": [],
   "source": [
    "class TestScheduleManagement(unittest.TestCase):\n",
    "    def setUp(self):\n",
    "        # Reset the singleton instance before each test\n",
    "        ScheduleManagement._instance = None\n",
    "        self.db_module = Mock()\n",
    "        \n",
    "    def test_get_instance_creates_instance(self):\n",
    "        instance = ScheduleManagement.get_instance(self.db_module)\n",
    "        self.assertIsInstance(instance, ScheduleManagement)\n",
    "\n",
    "    def test_get_instance_returns_same_instance(self):\n",
    "        instance1 = ScheduleManagement.get_instance(self.db_module)\n",
    "        instance2 = ScheduleManagement.get_instance(self.db_module)\n",
    "        self.assertIs(instance1, instance2)"
   ]
  },
  {
   "cell_type": "markdown",
   "metadata": {},
   "source": [
    "Para isso, o código abaixo foi desenvolvido:"
   ]
  },
  {
   "cell_type": "code",
   "execution_count": null,
   "metadata": {},
   "outputs": [],
   "source": [
    "class ScheduleManagement:\n",
    "    \"\"\"\n",
    "    ScheduleManagement class\n",
    "    Responsible for managing the schedules in the database\n",
    "\n",
    "    Attributes:\n",
    "        db: Database module\n",
    "        schedules: Dictionary of schedules, where the key is the schedule ID\n",
    "            and the value is the schedule instance\n",
    "    \"\"\"\n",
    "\n",
    "    _instance = None\n",
    "\n",
    "    @classmethod\n",
    "    def get_instance(cls, database_module: MongoModule, schedules: dict = None):\n",
    "        if cls._instance is None:\n",
    "            cls._instance = cls(database_module, schedules)\n",
    "        return cls._instance"
   ]
  },
  {
   "cell_type": "markdown",
   "metadata": {},
   "source": [
    "O código foi suficiente para verificar se a instância é única e se a instância é a mesma."
   ]
  },
  {
   "cell_type": "markdown",
   "metadata": {},
   "source": [
    "## Schedule Exists\n",
    "\n",
    "Para verificar se um schedule existe, foi desenvolvido os seguintes testes:"
   ]
  },
  {
   "cell_type": "code",
   "execution_count": null,
   "metadata": {},
   "outputs": [],
   "source": [
    "def test_schedule_exists(self):\n",
    "    self.db_module.select_data = MagicMock(return_value=[{'_id': 'schedule1',\\\n",
    "                                                            'title': 'Schedule 1',\\\n",
    "                                                            'description': 'This is schedule 1',\\\n",
    "                                                            'permissions': {'user1': 'read', 'user2': 'write'},\\\n",
    "                                                            'elements': ['element1', 'element2']\n",
    "                                                            }])\n",
    "    result = self.schedule_management.schedule_exists('schedule1')\n",
    "    self.assertTrue(result)\n",
    "    self.db_module.select_data.assert_called_with('schedules', {'_id': 'schedule1'})\n",
    "\n",
    "def test_schedule_does_not_exist(self):\n",
    "    self.db_module.select_data = MagicMock(return_value=[])\n",
    "    result = self.schedule_management.schedule_exists('schedule1')\n",
    "    self.assertFalse(result)\n",
    "    self.db_module.select_data.assert_called_with('schedules', {'_id': 'schedule1'})"
   ]
  },
  {
   "cell_type": "markdown",
   "metadata": {},
   "source": [
    "O código não foi suficiente para verificar se o schedule existe, pois o método `schedule_exists` não foi implementado. O código abaixo foi desenvolvido para implementar o método:"
   ]
  },
  {
   "cell_type": "code",
   "execution_count": null,
   "metadata": {},
   "outputs": [],
   "source": [
    "def schedule_exists(self, schedule_id: str) -> bool:\n",
    "    \"\"\"\n",
    "    Check if a schedule exists\n",
    "\n",
    "    Args:\n",
    "        schedule_id: Schedule ID\n",
    "\n",
    "    Returns:\n",
    "        True if the schedule exists, False otherwise\n",
    "    \"\"\"\n",
    "\n",
    "    # Get the schedules from the database that match the given ID\n",
    "    schedule = self.db_module.select_data('schedules', {'_id': schedule_id})\n",
    "\n",
    "    # If the list is not empty, the schedule exists\n",
    "    return bool(schedule)"
   ]
  },
  {
   "cell_type": "markdown",
   "metadata": {},
   "source": [
    "O código foi suficiente."
   ]
  },
  {
   "cell_type": "markdown",
   "metadata": {},
   "source": [
    "## Create Schedule\n",
    "\n",
    "Para criar um schedule, foi desenvolvido um teste com três subtestes. O primeiro subteste verifica se a chamada de inserção dos dados no banco é chamada, o segundo subteste verifica se o retorno da função é o esperado e o terceiro subteste verifica se o schedule possui os atributos esperados:"
   ]
  },
  {
   "cell_type": "code",
   "execution_count": null,
   "metadata": {},
   "outputs": [],
   "source": [
    "def test_create_schedule(self):\n",
    "    # Arrange\n",
    "    self.db_module.insert_data = MagicMock()\n",
    "    schedule_id = \"schedule1\"\n",
    "    title = \"Schedule 1\"\n",
    "    description = \"This is schedule 1\"\n",
    "    permissions = {\"user1\": \"read\", \"user2\": \"write\"}\n",
    "    elements = [\"element1\", \"element2\"]\n",
    "    self._test_create_schedule_insert_data(schedule_id, title, description, permissions, elements)\n",
    "    self._test_create_schedule_return(schedule_id, title, description, permissions, elements)\n",
    "    self._test_create_schedule_attributes(schedule_id, title, description, permissions, elements)\n",
    "\n",
    "def _test_create_schedule_insert_data(self, schedule_id, title, description, permissions, elements):\n",
    "    # Act\n",
    "    result = self.schedule_management.create_schedule(schedule_id, title, description, permissions, elements)\n",
    "    # Assert\n",
    "    self.db_module.insert_data.assert_called_with('schedules', \n",
    "                                                    {'_id': schedule_id, \n",
    "                                                    'title': title, \n",
    "                                                    'description': description, \n",
    "                                                    'permissions': permissions,\n",
    "                                                        'elements': elements})\n",
    "    \n",
    "def _test_create_schedule_return(self, schedule_id, title, description, permissions, elements):\n",
    "    # Act\n",
    "    result = self.schedule_management.create_schedule(schedule_id, title, description, permissions, elements)\n",
    "    # Assert\n",
    "    self.assertIsInstance(result, Schedule)\n",
    "\n",
    "def _test_create_schedule_attributes(self, schedule_id, title, description, permissions, elements):\n",
    "    # Act\n",
    "    result = self.schedule_management.create_schedule(schedule_id, title, description, permissions, elements)\n",
    "    # Assert\n",
    "    self.assertEqual(result.id, schedule_id)\n",
    "    self.assertEqual(result.title, title)\n",
    "    self.assertEqual(result.description, description)\n",
    "    self.assertEqual(result.permissions, permissions)\n",
    "    self.assertEqual(result.elements, elements)"
   ]
  },
  {
   "cell_type": "markdown",
   "metadata": {},
   "source": [
    "Como o método `create_schedule` não foi implementado, o teste retorna erro. O código abaixo foi desenvolvido para implementar o método:"
   ]
  },
  {
   "cell_type": "code",
   "execution_count": null,
   "metadata": {},
   "outputs": [],
   "source": [
    "def create_schedule(self, schedule_id: str, title: str, description: str, \n",
    "        permissions: dict, elements: list) -> Schedule:\n",
    "    \"\"\"\n",
    "    Create a new schedule\n",
    "\n",
    "    Args:\n",
    "        schedule_id: Schedule ID\n",
    "        title: Title of the schedule\n",
    "        description: Description of the schedule\n",
    "        permissions: Dictionary of permissions, where the key is the user \n",
    "        elements: List of elements IDs that are displayed in the schedule\n",
    "\n",
    "    Returns:\n",
    "        The created schedule instance\n",
    "    \"\"\"\n",
    "\n",
    "    schedule = Schedule(schedule_id, title, description, permissions, elements)\n",
    "    self.db_module.insert_data('schedules', {'_id': schedule_id, \n",
    "                                                'title': title, \n",
    "                                                'description': description, \n",
    "                                                'permissions': permissions,\n",
    "                                                'elements': elements})\n",
    "    return schedule"
   ]
  },
  {
   "cell_type": "markdown",
   "metadata": {},
   "source": [
    "O código foi suficiente. Criamos dois subtestes adicionais: um para verificar se o schedule foi adicionado ao dicionário schedules do Schedule Management e outro para verificar se o erro DuplicatedIDError é lançado quando o schedule já existe:"
   ]
  },
  {
   "cell_type": "code",
   "execution_count": null,
   "metadata": {},
   "outputs": [],
   "source": [
    "def _test_create_schedule_adds_to_self_schedules(self, schedule_id):\n",
    "    # Assert\n",
    "    self.assertIn(schedule_id, self.schedule_management.schedules)\n",
    "    self.assertIsInstance(self.schedule_management.schedules[schedule_id], Schedule)\n",
    "\n",
    "def _test_create_schedule_raises_error_if_schedule_exists(self, schedule_id, title, description, permissions, elements):\n",
    "    # Arrange\n",
    "    self.schedule_management.schedule_exists = MagicMock(return_value=True)\n",
    "    # Act & Assert\n",
    "    with self.assertRaises(DuplicatedIDError):\n",
    "        self.schedule_management.create_schedule(schedule_id, title, description, permissions, elements)"
   ]
  },
  {
   "cell_type": "markdown",
   "metadata": {},
   "source": [
    "O código não foi suficiente. O código foi adaptado, além de ser criado o erro DuplicatedIDError:"
   ]
  },
  {
   "cell_type": "code",
   "execution_count": null,
   "metadata": {},
   "outputs": [],
   "source": [
    "class DuplicatedIDError(Exception):\n",
    "    \"\"\"Raised when the ID already exists\"\"\"\n",
    "    pass\n",
    "\n",
    "def create_schedule(self, schedule_id: str, title: str, description: str, \n",
    "        permissions: dict, elements: list) -> Schedule:\n",
    "    \"\"\"\n",
    "    Create a new schedule\n",
    "\n",
    "    Args:\n",
    "        schedule_id: Schedule ID\n",
    "        title: Title of the schedule\n",
    "        description: Description of the schedule\n",
    "        permissions: Dictionary of permissions, where the key is the user \n",
    "        elements: List of elements IDs that are displayed in the schedule\n",
    "\n",
    "    Returns:\n",
    "        The created schedule instance\n",
    "    \"\"\"\n",
    "    if self.schedule_exists(schedule_id):\n",
    "        raise DuplicatedIDError(f\"A schedule with ID {schedule_id} already exists\")\n",
    "\n",
    "    schedule = Schedule(schedule_id, title, description, permissions, elements)\n",
    "    self.db_module.insert_data('schedules', {'_id': schedule_id, \n",
    "                                                'title': title, \n",
    "                                                'description': description, \n",
    "                                                'permissions': permissions,\n",
    "                                                'elements': elements})\n",
    "    self.schedules[schedule_id] = schedule\n",
    "    return schedule"
   ]
  },
  {
   "cell_type": "markdown",
   "metadata": {},
   "source": [
    "O código foi suficiente. Em seguida, foi desenvolvido dois testes para verificar se erros das funções `set_title` e `set_description` do schedule são propagados para a função `create_schedule`:"
   ]
  },
  {
   "cell_type": "code",
   "execution_count": null,
   "metadata": {},
   "outputs": [],
   "source": [
    "def test_create_schedule_raises_error_with_invalid_title(self):\n",
    "    # Arrange\n",
    "    self.schedule_management.db_module.insert_data = MagicMock()\n",
    "    self.schedule_management.db_module.select_data = MagicMock(return_value=[])\n",
    "    invalid_titles = [None, 123, \"\", \"   \", \"a\" * 51]  # Covers all restrictions\n",
    "    schedule_id = \"schedule10\"\n",
    "    description = \"This is schedule 2\"\n",
    "    permissions = {\"user1\": \"write\", \"user2\": \"read\"}\n",
    "    elements = [\"element2\", \"element3\"]\n",
    "    # Act & Assert\n",
    "    for title in invalid_titles:\n",
    "        with self.assertRaises((ValueError, TypeError)):\n",
    "            self.schedule_management.create_schedule(schedule_id, title, description, permissions, elements)\n",
    "\n",
    "def test_create_schedule_raises_error_with_invalid_description(self):\n",
    "    # Arrange\n",
    "    self.schedule_management.db_module.insert_data = MagicMock()\n",
    "    self.schedule_management.db_module.select_data = MagicMock(return_value=[])\n",
    "    invalid_descriptions = [123, \"a\" * 501]  # Covers all restrictions\n",
    "    schedule_id = \"schedule10\"\n",
    "    title = \"Schedule 2\"\n",
    "    permissions = {\"user1\": \"write\", \"user2\": \"read\"}\n",
    "    elements = [\"element2\", \"element3\"]\n",
    "    # Act & Assert\n",
    "    for description in invalid_descriptions:\n",
    "        with self.assertRaises((ValueError, TypeError)):\n",
    "            self.schedule_management.create_schedule(schedule_id, title, description, permissions, elements)"
   ]
  },
  {
   "cell_type": "markdown",
   "metadata": {},
   "source": [
    "O código foi suficiente. Também foram desenvolvidos dois testes para impedir que o id não seja uma string e impedir que permissions esteja vazio:"
   ]
  },
  {
   "cell_type": "code",
   "execution_count": null,
   "metadata": {},
   "outputs": [],
   "source": [
    "def test_create_schedule_raises_error_with_non_string_id(self):\n",
    "    # Arrange\n",
    "    self.schedule_management.db_module.insert_data = MagicMock()\n",
    "    self.schedule_management.db_module.select_data = MagicMock(return_value=[])\n",
    "    schedule_id = 123  # Non-string ID\n",
    "    title = \"Schedule 2\"\n",
    "    description = \"This is schedule 2\"\n",
    "    permissions = {\"user1\": \"write\", \"user2\": \"read\"}\n",
    "    elements = [\"element2\", \"element3\"]\n",
    "    # Act & Assert\n",
    "    with self.assertRaises(TypeError):\n",
    "        self.schedule_management.create_schedule(schedule_id, title, description, permissions, elements)\n",
    "\n",
    "def test_create_schedule_raises_error_with_empty_permissions(self):\n",
    "    # Arrange\n",
    "    self.schedule_management.db_module.insert_data = MagicMock()\n",
    "    self.schedule_management.db_module.select_data = MagicMock(return_value=[])\n",
    "    schedule_id = \"schedule10\"\n",
    "    title = \"Schedule 2\"\n",
    "    description = \"This is schedule 2\"\n",
    "    permissions = {}  # Empty permissions\n",
    "    elements = [\"element2\", \"element3\"]\n",
    "    # Act & Assert\n",
    "    with self.assertRaises(EmptyPermissionsError):\n",
    "        self.schedule_management.create_schedule(schedule_id, title, description, permissions, elements)"
   ]
  },
  {
   "cell_type": "markdown",
   "metadata": {},
   "source": [
    "O código não foi suficiente. O código foi adaptado, e o erro EmptyPermissionsError foi utilizado:"
   ]
  },
  {
   "cell_type": "code",
   "execution_count": null,
   "metadata": {},
   "outputs": [],
   "source": [
    "class EmptyPermissionsError(Exception):\n",
    "    \"\"\"Raised when the permissions list is empty\"\"\"\n",
    "    pass\n",
    "\n",
    "def create_schedule(self, schedule_id: str, title: str, description: str, \n",
    "        permissions: dict, elements: list) -> Schedule:\n",
    "    \"\"\"\n",
    "    Create a new schedule\n",
    "\n",
    "    Args:\n",
    "        schedule_id: Schedule ID\n",
    "        title: Title of the schedule\n",
    "        description: Description of the schedule\n",
    "        permissions: Dictionary of permissions, where the key is the user \n",
    "        elements: List of elements IDs that are displayed in the schedule\n",
    "\n",
    "    Returns:\n",
    "        The created schedule instance\n",
    "    \"\"\"\n",
    "    # Possible errors:\n",
    "    if self.schedule_exists(schedule_id):\n",
    "        raise DuplicatedIDError(f\"A schedule with ID {schedule_id} already exists\")\n",
    "    if not isinstance(schedule_id, str):\n",
    "        raise TypeError(\"Schedule ID must be a string\")\n",
    "    if not permissions:\n",
    "        raise EmptyPermissionsError(\"Permissions cannot be empty\")\n",
    "    # Create the schedule instance and insert it into the database\n",
    "    schedule = Schedule(schedule_id, title, description, permissions, elements)\n",
    "    self.db_module.insert_data('schedules', {'_id': schedule_id, \n",
    "                                                'title': title, \n",
    "                                                'description': description, \n",
    "                                                'permissions': permissions,\n",
    "                                                'elements': elements})\n",
    "    # Add the schedule to the dictionary\n",
    "    self.schedules[schedule_id] = schedule\n",
    "    return schedule"
   ]
  },
  {
   "cell_type": "markdown",
   "metadata": {},
   "source": [
    "O código foi suficiente."
   ]
  },
  {
   "cell_type": "markdown",
   "metadata": {},
   "source": [
    "## Get Schedule\n",
    "\n",
    "Para obter um schedule, foi desenvolvido um teste inicial para um caso onde o schedule existe e está no dicionário schedules do Schedule Management:"
   ]
  },
  {
   "cell_type": "code",
   "execution_count": null,
   "metadata": {},
   "outputs": [],
   "source": [
    "def test_get_schedule_id_exists_on_dict(self):\n",
    "    # Arrange\n",
    "    schedule_id = \"schedule10\"\n",
    "    title = \"Schedule 2\"\n",
    "    description = \"This is schedule 2\"\n",
    "    permissions = {\"user1\": \"write\", \"user2\": \"read\"}\n",
    "    elements = [\"element2\", \"element3\"]\n",
    "    schedule = Schedule(schedule_id, title, description, permissions, elements)\n",
    "    self.schedule_management.schedules[schedule_id] = schedule\n",
    "    # Act\n",
    "    result = self.schedule_management.get_schedule(schedule_id)\n",
    "    # Assert\n",
    "    self.assertEqual(result, schedule)"
   ]
  },
  {
   "cell_type": "markdown",
   "metadata": {},
   "source": [
    "O código inicial foi o seguinte:"
   ]
  },
  {
   "cell_type": "code",
   "execution_count": null,
   "metadata": {},
   "outputs": [],
   "source": [
    "def get_schedule(self, schedule_id: str) -> Schedule:\n",
    "    \"\"\"\n",
    "    Get a schedule by its ID\n",
    "\n",
    "    Args:\n",
    "        schedule_id: Schedule ID\n",
    "\n",
    "    Returns:\n",
    "        The schedule instance\n",
    "    \"\"\"\n",
    "\n",
    "    if schedule_id in self.schedules:\n",
    "        return self.schedules[schedule_id]"
   ]
  },
  {
   "cell_type": "markdown",
   "metadata": {},
   "source": [
    "O código foi suficiente. Foram criados mais dois testes: um para que seja retornado um schedule quando ele não está no dicionário schedules do Schedule Management porém está no banco de dados e outro para que seja retornado um erro quando o schedule não está no dicionário schedules do Schedule Management e nem no banco de dados:"
   ]
  },
  {
   "cell_type": "code",
   "execution_count": null,
   "metadata": {},
   "outputs": [],
   "source": [
    "def test_get_schedule_id_exists_in_database(self):\n",
    "    # Arrange\n",
    "    schedule_id = \"schedule10\"\n",
    "    title = \"Schedule 2\"\n",
    "    description = \"This is schedule 2\"\n",
    "    permissions = {\"user1\": \"write\", \"user2\": \"read\"}\n",
    "    elements = [\"element2\", \"element3\"]\n",
    "    self.schedule_management.db_module.select_data = MagicMock(return_value={\n",
    "        '_id': schedule_id, \n",
    "        'title': title, \n",
    "        'description': description, \n",
    "        'permissions': permissions, \n",
    "        'elements': elements\n",
    "    })\n",
    "    self.schedule_management.schedule_exists = MagicMock(return_value=True)\n",
    "    # Act\n",
    "    result = self.schedule_management.get_schedule(schedule_id)\n",
    "    # Assert\n",
    "    self.assertEqual(result.title, title)\n",
    "    self.assertEqual(result.description, description)\n",
    "    self.assertEqual(result.permissions, permissions)\n",
    "    self.assertEqual(result.elements, elements)\n",
    "\n",
    "def test_get_schedule_id_doesnt_exist(self):\n",
    "    # Arrange\n",
    "    schedule_id = \"schedule10\"\n",
    "    self.schedule_management.schedule_exists = MagicMock(return_value=False)\n",
    "    # Act & Assert\n",
    "    with self.assertRaises(NonExistentIDError):\n",
    "        self.schedule_management.get_schedule(schedule_id)"
   ]
  },
  {
   "cell_type": "markdown",
   "metadata": {},
   "source": [
    "Para isso, foi necessário criar o erro NonExistentIDError:"
   ]
  },
  {
   "cell_type": "code",
   "execution_count": null,
   "metadata": {},
   "outputs": [],
   "source": [
    "class NonExistentIDError(Exception):\n",
    "    \"\"\"Raised when the ID does not exist\"\"\"\n",
    "    pass"
   ]
  },
  {
   "cell_type": "markdown",
   "metadata": {},
   "source": [
    "O código não fui suficiente. O código foi adaptado:"
   ]
  },
  {
   "cell_type": "code",
   "execution_count": null,
   "metadata": {},
   "outputs": [],
   "source": [
    "def get_schedule(self, schedule_id: str) -> Schedule:\n",
    "    \"\"\"\n",
    "    Get a schedule by its ID\n",
    "\n",
    "    Args:\n",
    "        schedule_id: Schedule ID\n",
    "\n",
    "    Returns:\n",
    "        The schedule instance\n",
    "    \"\"\"\n",
    "    if schedule_id in self.schedules:\n",
    "        return self.schedules[schedule_id]\n",
    "    elif self.schedule_exists(schedule_id):\n",
    "        schedule_data = self.db_module.select_data('schedules', {'_id': schedule_id})\n",
    "        schedule = Schedule(schedule_id, \n",
    "                            schedule_data['title'], \n",
    "                            schedule_data['description'], \n",
    "                            schedule_data['permissions'], \n",
    "                            schedule_data['elements'])\n",
    "        self.schedules[schedule_id] = schedule\n",
    "        return schedule\n",
    "    else:\n",
    "        raise NonExistentIDError(f\"No schedule found with ID {schedule_id}\")"
   ]
  },
  {
   "cell_type": "markdown",
   "metadata": {},
   "source": [
    "O código foi suficiente."
   ]
  },
  {
   "cell_type": "markdown",
   "metadata": {},
   "source": [
    "## Update Schedule\n",
    "\n",
    "Para atualizar um schedule, foi desenvolvido um teste inicial para um caso onde o schedule existe e está no dicionário schedules do Schedule Management:"
   ]
  },
  {
   "cell_type": "code",
   "execution_count": null,
   "metadata": {},
   "outputs": [],
   "source": [
    "def test_update_schedule_id_exists(self):\n",
    "    # Arrange\n",
    "    schedule_id = \"schedule10\"\n",
    "    title = \"Schedule 2\"\n",
    "    description = \"This is schedule 2\"\n",
    "    permissions = {\"user1\": \"write\", \"user2\": \"read\"}\n",
    "    elements = [\"element2\", \"element3\"]\n",
    "    schedule = Schedule(schedule_id, title, description, permissions, elements)\n",
    "    self.schedule_management.schedules[schedule_id] = schedule\n",
    "    self.schedule_management.db_module.update_data = MagicMock()\n",
    "    # Act\n",
    "    self.schedule_management.update_schedule(schedule_id)\n",
    "    # Assert\n",
    "    self.schedule_management.db_module.update_data.assert_called_once_with(\n",
    "        'schedules', \n",
    "        {'_id': schedule_id}, \n",
    "        schedule.to_dict()\n",
    "    )"
   ]
  },
  {
   "cell_type": "markdown",
   "metadata": {},
   "source": [
    "Como o método `update_schedule` não foi implementado, o teste retorna erro. O código abaixo foi desenvolvido para implementar o método: "
   ]
  },
  {
   "cell_type": "code",
   "execution_count": null,
   "metadata": {},
   "outputs": [],
   "source": [
    "def update_schedule(self, schedule_id: str) -> None:\n",
    "    \"\"\"\n",
    "    Updates a schedule in the database\n",
    "\n",
    "    Args:\n",
    "        schedule_id: Schedule ID\n",
    "    \"\"\"\n",
    "    schedule = self.schedules[schedule_id]\n",
    "    new_data = schedule.to_dict()\n",
    "    self.db_module.update_data('schedules', {'_id': schedule_id}, new_data)"
   ]
  },
  {
   "cell_type": "markdown",
   "metadata": {},
   "source": [
    "O código foi suficiente. Foi criado mais um teste para verificar se o erro NonExistentIDError é lançado quando o schedule não está no database. Não é necessário dois casos como no método anterior, pois não faz sentido rodar o método `update_schedule` se o schedule não está no dictionary schedules do Schedule Management:"
   ]
  },
  {
   "cell_type": "code",
   "execution_count": null,
   "metadata": {},
   "outputs": [],
   "source": [
    "def test_update_schedule_id_doesnt_exist(self):\n",
    "    # Arrange\n",
    "    schedule_id = \"schedule10\"\n",
    "    self.schedule_management.schedule_exists = MagicMock(return_value=False)\n",
    "    # Act & Assert\n",
    "    with self.assertRaises(NonExistentIDError):\n",
    "        self.schedule_management.update_schedule(schedule_id)"
   ]
  },
  {
   "cell_type": "markdown",
   "metadata": {},
   "source": [
    "O código não foi suficiente. O código foi adaptado:"
   ]
  },
  {
   "cell_type": "code",
   "execution_count": null,
   "metadata": {},
   "outputs": [],
   "source": [
    "def test_update_schedule_id_doesnt_exist(self):\n",
    "    # Arrange\n",
    "    schedule_id = \"schedule10\"\n",
    "    self.schedule_management.schedule_exists = MagicMock(return_value=False)\n",
    "    # Act & Assert\n",
    "    with self.assertRaises(NonExistentIDError):\n",
    "        self.schedule_management.update_schedule(schedule_id)"
   ]
  },
  {
   "cell_type": "markdown",
   "metadata": {},
   "source": [
    "O código foi suficiente."
   ]
  },
  {
   "cell_type": "markdown",
   "metadata": {},
   "source": [
    "## Delete Schedule\n",
    "\n",
    "Para deletar um schedule, foi desenvolvido um teste inicial para verificar se o delete é chamado para o banco:"
   ]
  },
  {
   "cell_type": "code",
   "execution_count": null,
   "metadata": {},
   "outputs": [],
   "source": [
    "def test_delete_schedule_deletes_from_database(self):\n",
    "    # Check that delete_schedule deletes the schedule from the database\n",
    "    # Arrange\n",
    "    schedule_id = \"schedule10\"\n",
    "    self.schedule_management.db_module.delete_data = MagicMock()\n",
    "    # Act\n",
    "    self.schedule_management.delete_schedule(schedule_id)\n",
    "    # Assert\n",
    "    self.schedule_management.db_module.delete_data.assert_called_once_with(\n",
    "        'schedules', \n",
    "        {'_id': schedule_id}\n",
    "    )"
   ]
  },
  {
   "cell_type": "markdown",
   "metadata": {},
   "source": [
    "Como o método `delete_schedule` não foi implementado, o teste retorna erro. O código abaixo foi desenvolvido para implementar o método:"
   ]
  },
  {
   "cell_type": "code",
   "execution_count": null,
   "metadata": {},
   "outputs": [],
   "source": [
    "def delete_schedule(self, schedule_id: str) -> None:\n",
    "    \"\"\"\n",
    "    Deletes a schedule from the database\n",
    "\n",
    "    Args:\n",
    "        schedule_id: Schedule ID\n",
    "\n",
    "    \"\"\"\n",
    "\n",
    "    self.db_module.delete_data('schedules', {'_id': schedule_id})"
   ]
  },
  {
   "cell_type": "markdown",
   "metadata": {},
   "source": [
    "O código foi suficiente. Adicionamos dois novos testes: um para verificar se o schedule é removido do dicionário schedules do Schedule Management e outro para verificar se o erro NonExistentIDError é lançado quando o schedule não existe:"
   ]
  },
  {
   "cell_type": "code",
   "execution_count": null,
   "metadata": {},
   "outputs": [],
   "source": [
    "def test_delete_schedule_deletes_schedule_from_dictionary(self):\n",
    "    # Check that delete_schedule deletes the schedule from the dictionary\n",
    "    # Arrange\n",
    "    schedule_id = \"schedule10\"\n",
    "    self.schedule_management.schedules[schedule_id] = MagicMock()\n",
    "    self.schedule_management.schedule_exists = MagicMock(return_value=True)\n",
    "    self.schedule_management.db_module.delete_data = MagicMock()\n",
    "    # Act\n",
    "    self.schedule_management.delete_schedule(schedule_id)\n",
    "    # Assert\n",
    "    self.schedule_management.db_module.delete_data.assert_called_once_with(\n",
    "        'schedules', \n",
    "        {'_id': schedule_id}\n",
    "    )\n",
    "    self.assertNotIn(schedule_id, self.schedule_management.schedules)\n",
    "\n",
    "def test_delete_schedule_id_doesnt_exist(self):\n",
    "    # Check that delete_schedule raises an error when the schedule does not exist\n",
    "    # Arrange\n",
    "    schedule_id = \"schedule10\"\n",
    "    self.schedule_management.schedule_exists = MagicMock(return_value=False)\n",
    "    # Act & Assert\n",
    "    with self.assertRaises(NonExistentIDError):\n",
    "        self.schedule_management.delete_schedule(schedule_id)"
   ]
  },
  {
   "cell_type": "markdown",
   "metadata": {},
   "source": [
    "O código não foi suficiente. O código foi adaptado:"
   ]
  },
  {
   "cell_type": "code",
   "execution_count": null,
   "metadata": {},
   "outputs": [],
   "source": [
    "def delete_schedule(self, schedule_id: str) -> None:\n",
    "    \"\"\"\n",
    "    Deletes a schedule from the database and the schedules dictionary\n",
    "\n",
    "    Args:\n",
    "        schedule_id: Schedule ID\n",
    "    \"\"\"\n",
    "    if not self.schedule_exists(schedule_id):\n",
    "        raise NonExistentIDError(f\"No schedule found with ID {schedule_id}\")\n",
    "\n",
    "    self.db_module.delete_data('schedules', {'_id': schedule_id})\n",
    "    if schedule_id in self.schedules:\n",
    "        del self.schedules[schedule_id]"
   ]
  },
  {
   "cell_type": "markdown",
   "metadata": {},
   "source": [
    "O código foi suficiente."
   ]
  },
  {
   "cell_type": "markdown",
   "metadata": {},
   "source": [
    "## Add Element to Schedule\n",
    "\n",
    "Para adicionar um elemento a um schedule, foi desenvolvido um teste inicial para verificar se a lista elements do schedule é atualizada:"
   ]
  },
  {
   "cell_type": "code",
   "execution_count": null,
   "metadata": {},
   "outputs": [],
   "source": [
    "def test_add_element_to_schedule_updates_schedule_elements(self):\n",
    "    # Check that add_element_to_schedule updates the elements list of the schedule\n",
    "    # Arrange\n",
    "    schedule_id = \"schedule10\"\n",
    "    element_id = \"element1\"\n",
    "    self.schedule_management.schedules[schedule_id] = Schedule(schedule_id, \"Title\", \"Description\", {\"user1\": \"read\"}, [])\n",
    "    # Act\n",
    "    self.schedule_management.add_element_to_schedule(schedule_id, element_id)\n",
    "    # Assert\n",
    "    self.assertIn(element_id, self.schedule_management.schedules[schedule_id].elements)"
   ]
  },
  {
   "cell_type": "markdown",
   "metadata": {},
   "source": [
    "Como o método `add_element_to_schedule` não foi implementado, o teste retorna erro. O código abaixo foi desenvolvido para implementar o método:"
   ]
  },
  {
   "cell_type": "code",
   "execution_count": null,
   "metadata": {},
   "outputs": [],
   "source": [
    "def add_element_to_schedule(self, schedule_id: str, element_id: str) -> None:\n",
    "    \"\"\"\n",
    "    Add an element to a schedule\n",
    "\n",
    "    Args:\n",
    "        schedule_id: Schedule ID\n",
    "        element_id: Element ID\n",
    "    \"\"\"\n",
    "\n",
    "    schedule = self.schedules[schedule_id]\n",
    "    if element_id not in schedule.elements:\n",
    "        schedule.elements = schedule.elements + [element_id]"
   ]
  },
  {
   "cell_type": "markdown",
   "metadata": {},
   "source": [
    "O código foi suficiente. Em seguida, foi desenvolvido um teste para verificar se o erro NonExistentIDError é lançado quando o element não existe:"
   ]
  },
  {
   "cell_type": "code",
   "execution_count": null,
   "metadata": {},
   "outputs": [],
   "source": [
    "@patch.object(ElementManagement, 'get_instance')\n",
    "def test_add_element_to_schedule_invalid_element(self, mock_get_instance):\n",
    "    # Arrange\n",
    "    mock_element_manager = Mock()\n",
    "    mock_element_manager.element_exists.return_value = False\n",
    "    mock_get_instance.return_value = mock_element_manager\n",
    "    schedule_id = \"schedule1\"\n",
    "    element_id = \"nonexistent_element\"\n",
    "    # Act & Assert\n",
    "    with self.assertRaises(NonExistentIDError):\n",
    "        self.schedule_management.add_element_to_schedule(schedule_id, element_id)\n"
   ]
  },
  {
   "cell_type": "markdown",
   "metadata": {},
   "source": [
    "O código não foi suficiente. O código foi adaptado:"
   ]
  },
  {
   "cell_type": "code",
   "execution_count": null,
   "metadata": {},
   "outputs": [],
   "source": [
    "def add_element_to_schedule(self, schedule_id: str, element_id: str) -> None:\n",
    "    \"\"\"\n",
    "    Add an element to a schedule\n",
    "\n",
    "    Args:\n",
    "        schedule_id: Schedule ID\n",
    "        element_id: Element ID\n",
    "    \"\"\"\n",
    "    element_manager = ElementManagement.get_instance()\n",
    "    if not element_manager.element_exists(element_id):\n",
    "        raise NonExistentIDError(f\"No element found with ID {element_id}\")\n",
    "\n",
    "    schedule = self.schedules[schedule_id]\n",
    "    if element_id not in schedule.elements:\n",
    "        schedule.elements = schedule.elements + [element_id]"
   ]
  },
  {
   "cell_type": "markdown",
   "metadata": {},
   "source": [
    "O código foi suficiente. Em seguida, foi desenvolvido um teste para verificar se o erro NonExistentIDError é lançado quando o schedule não existe:"
   ]
  },
  {
   "cell_type": "code",
   "execution_count": null,
   "metadata": {},
   "outputs": [],
   "source": [
    "def test_add_element_to_schedule_invalid_schedule(self):\n",
    "    # Check that add_element_to_schedule raises an error when the schedule does not exist\n",
    "    # Arrange\n",
    "    schedule_id = \"nonexistent_schedule\"\n",
    "    element_id = \"element1\"\n",
    "    self.schedule_management.schedule_exists = MagicMock(return_value=False)\n",
    "    # Act & Assert\n",
    "    with self.assertRaises(NonExistentIDError):\n",
    "        self.schedule_management.add_element_to_schedule(schedule_id, element_id)"
   ]
  },
  {
   "cell_type": "markdown",
   "metadata": {},
   "source": [
    "O código não foi suficiente. O código foi adaptado:"
   ]
  },
  {
   "cell_type": "code",
   "execution_count": null,
   "metadata": {},
   "outputs": [],
   "source": [
    "def add_element_to_schedule(self, schedule_id: str, element_id: str) -> None:\n",
    "    \"\"\"\n",
    "    Add an element to a schedule\n",
    "\n",
    "    Args:\n",
    "        schedule_id: Schedule ID\n",
    "        element_id: Element ID\n",
    "    \"\"\"\n",
    "    element_manager = ElementManagement.get_instance()\n",
    "    if not element_manager.element_exists(element_id):\n",
    "        raise NonExistentIDError(f\"No element found with ID {element_id}\")\n",
    "\n",
    "    if not self.schedule_exists(schedule_id):\n",
    "        raise NonExistentIDError(f\"No schedule found with ID {schedule_id}\")\n",
    "\n",
    "    schedule = self.schedules[schedule_id]\n",
    "    if element_id not in schedule.elements:\n",
    "        schedule.elements = schedule.elements + [element_id]"
   ]
  },
  {
   "cell_type": "markdown",
   "metadata": {},
   "source": [
    "O código foi suficiente. Em seguida, foi desenvolvido um teste para verificar se o erro DuplicatedElementError é lançado quando o element já está no schedule:"
   ]
  },
  {
   "cell_type": "code",
   "execution_count": null,
   "metadata": {},
   "outputs": [],
   "source": [
    "def test_add_element_to_schedule_duplicated_element(self):\n",
    "    # Arrange\n",
    "    schedule_id = \"schedule1\"\n",
    "    element_id = \"element1\"\n",
    "    self.schedule_management.schedules[schedule_id] = Schedule(schedule_id, \"Title\", \"Description\", {\"user1\": \"read\"}, [element_id])\n",
    "    self.schedule_management.schedule_exists = MagicMock(return_value=True)\n",
    "    # Act & Assert\n",
    "    with self.assertRaises(DuplicatedIDError):\n",
    "        self.schedule_management.add_element_to_schedule(schedule_id, element_id)"
   ]
  },
  {
   "cell_type": "markdown",
   "metadata": {},
   "source": [
    "O código não foi suficiente. O código foi adaptado:"
   ]
  },
  {
   "cell_type": "code",
   "execution_count": null,
   "metadata": {},
   "outputs": [],
   "source": [
    "def add_element_to_schedule(self, schedule_id: str, element_id: str) -> None:\n",
    "    \"\"\"\n",
    "    Add an element to a schedule\n",
    "\n",
    "    Args:\n",
    "        schedule_id: Schedule ID\n",
    "        element_id: Element ID\n",
    "    \"\"\"\n",
    "    element_manager = ElementManagement.get_instance()\n",
    "    if not element_manager.element_exists(element_id):\n",
    "        raise NonExistentIDError(f\"No element found with ID {element_id}\")\n",
    "\n",
    "    if not self.schedule_exists(schedule_id):\n",
    "        raise NonExistentIDError(f\"No schedule found with ID {schedule_id}\")\n",
    "\n",
    "    schedule = self.schedules[schedule_id]\n",
    "    if element_id not in schedule.elements:\n",
    "        schedule.elements = schedule.elements + [element_id]\n",
    "    else: \n",
    "        raise DuplicatedIDError(f\"Element with ID {element_id} already exists in schedule {schedule_id}\")"
   ]
  },
  {
   "cell_type": "markdown",
   "metadata": {},
   "source": [
    "O código foi suficiente. Adicionamos mais um teste para verificar se o schedule está sendo atualizado no banco:"
   ]
  },
  {
   "cell_type": "code",
   "execution_count": null,
   "metadata": {},
   "outputs": [],
   "source": [
    "def test_add_element_to_schedule_calls_update_database_schedule(self):\n",
    "    # Check that add_element_to_schedule calls update_schedule\n",
    "    # Arrange\n",
    "    schedule_id = \"schedule1\"\n",
    "    element_id = \"element1\"\n",
    "    self.schedule_management.schedules[schedule_id] = Schedule(schedule_id, \"Title\", \"Description\", {\"user1\": \"read\"}, [\"element2\"])\n",
    "    self.schedule_management.update_schedule = MagicMock()\n",
    "    # Act\n",
    "    self.schedule_management.add_element_to_schedule(schedule_id, element_id)\n",
    "    # Assert\n",
    "    self.schedule_management.update_schedule.assert_called_once_with(schedule_id)"
   ]
  },
  {
   "cell_type": "markdown",
   "metadata": {},
   "source": [
    "O código não foi suficiente. O código foi adaptado:"
   ]
  },
  {
   "cell_type": "code",
   "execution_count": null,
   "metadata": {},
   "outputs": [],
   "source": [
    "def add_element_to_schedule(self, schedule_id: str, element_id: str) -> None:\n",
    "    \"\"\"\n",
    "    Add an element to a schedule\n",
    "\n",
    "    Args:\n",
    "        schedule_id: Schedule ID\n",
    "        element_id: Element ID\n",
    "    \"\"\"\n",
    "    element_manager = ElementManagement.get_instance()\n",
    "    if not element_manager.element_exists(element_id):\n",
    "        raise NonExistentIDError(f\"No element found with ID {element_id}\")\n",
    "\n",
    "    if not self.schedule_exists(schedule_id):\n",
    "        raise NonExistentIDError(f\"No schedule found with ID {schedule_id}\")\n",
    "\n",
    "    schedule = self.schedules[schedule_id]\n",
    "    if element_id not in schedule.elements:\n",
    "        schedule.elements = schedule.elements + [element_id]\n",
    "        self.update_schedule(schedule_id)\n",
    "    else: \n",
    "        raise DuplicatedIDError(f\"Element with ID {element_id} already exists in schedule {schedule_id}\")"
   ]
  },
  {
   "cell_type": "markdown",
   "metadata": {},
   "source": [
    "O código foi suficiente. A próxima etapa foi desenvolver um teste para atualizar a lista de schedules do element. Contudo, a implementação do método get_element do Element Management gerou erro em outros dois testes. O novo teste e os testes atualizados são:"
   ]
  },
  {
   "cell_type": "code",
   "execution_count": null,
   "metadata": {},
   "outputs": [],
   "source": [
    "def test_add_element_to_schedule_updates_schedule_elements(self):\n",
    "    # Check that add_element_to_schedule updates the elements list of the schedule\n",
    "    # Arrange\n",
    "    schedule_id = \"schedule10\"\n",
    "    element_id = \"element1\"\n",
    "    mock_element = MagicMock()\n",
    "    self.schedule_management.schedules[schedule_id] = Schedule(schedule_id, \"Title\", \"Description\", {\"user1\": \"read\"}, [])\n",
    "    with patch.object(ElementManagement, 'get_element', return_value=mock_element):\n",
    "        # Act\n",
    "        self.schedule_management.add_element_to_schedule(schedule_id, element_id)\n",
    "        # Assert\n",
    "        self.assertIn(element_id, self.schedule_management.schedules[schedule_id].elements)\n",
    "\n",
    "def test_add_element_to_schedule_calls_update_schedule(self):\n",
    "    # Check that add_element_to_schedule calls update_schedule\n",
    "    # Arrange\n",
    "    schedule_id = \"schedule1\"\n",
    "    element_id = \"element1\"\n",
    "    mock_element = MagicMock()\n",
    "    self.schedule_management.schedules[schedule_id] = Schedule(schedule_id, \"Title\", \"Description\", {\"user1\": \"read\"}, [\"element2\"])\n",
    "    self.schedule_management.update_schedule = MagicMock()\n",
    "    with patch.object(ElementManagement, 'get_element', return_value=mock_element):\n",
    "        # Act\n",
    "        self.schedule_management.add_element_to_schedule(schedule_id, element_id)\n",
    "        # Assert\n",
    "        self.schedule_management.update_schedule.assert_called_once_with(schedule_id)\n",
    "\n",
    "def test_add_element_to_schedule_updates_element_schedules(self):\n",
    "    # Arrange\n",
    "    schedule_id = \"schedule10\"\n",
    "    element_id = \"element1\"\n",
    "    # Create a mock schedule with 'element2' as an element\n",
    "    mock_schedule = MagicMock(spec=Schedule)\n",
    "    mock_schedule.elements = [\"element2\"]\n",
    "    # Create a mock element with no schedules\n",
    "    mock_element = MagicMock()\n",
    "    mock_element.schedules = []\n",
    "    # Mock the get_element method to return our mock element when called with 'element1'\n",
    "    with patch.object(ElementManagement, 'get_element', return_value=mock_element):\n",
    "        # Add the mock schedule to the schedules dictionary\n",
    "        self.schedule_management.schedules[schedule_id] = mock_schedule\n",
    "        # Act\n",
    "        self.schedule_management.add_element_to_schedule(schedule_id, element_id)\n",
    "        # Assert\n",
    "        self.assertIn(schedule_id, mock_element.schedules)"
   ]
  },
  {
   "cell_type": "markdown",
   "metadata": {},
   "source": [
    "Esse código foi suficiente:"
   ]
  },
  {
   "cell_type": "code",
   "execution_count": null,
   "metadata": {},
   "outputs": [],
   "source": [
    "def add_element_to_schedule(self, schedule_id: str, element_id: str) -> None:\n",
    "    \"\"\"\n",
    "    Add an element to a schedule\n",
    "\n",
    "    Args:\n",
    "        schedule_id: Schedule ID\n",
    "        element_id: Element ID\n",
    "    \"\"\"\n",
    "    element_manager = ElementManagement.get_instance()\n",
    "    if not element_manager.element_exists(element_id):\n",
    "        raise NonExistentIDError(f\"No element found with ID {element_id}\")\n",
    "\n",
    "    if not self.schedule_exists(schedule_id):\n",
    "        raise NonExistentIDError(f\"No schedule found with ID {schedule_id}\")\n",
    "\n",
    "    schedule = self.schedules[schedule_id]\n",
    "    if element_id not in schedule.elements:\n",
    "        schedule.elements = schedule.elements + [element_id]\n",
    "        self.update_schedule(schedule_id)\n",
    "        element = element_manager.get_element(element_id)\n",
    "        element.schedules = element.schedules + [schedule_id]\n",
    "    else: \n",
    "        raise DuplicatedIDError(f\"Element with ID {element_id} already exists in schedule {schedule_id}\")"
   ]
  },
  {
   "cell_type": "markdown",
   "metadata": {},
   "source": [
    "Por fim, adicionamos um teste para verificar se o element está sendo atualizado no banco:"
   ]
  },
  {
   "cell_type": "code",
   "execution_count": null,
   "metadata": {},
   "outputs": [],
   "source": [
    "def test_add_element_to_schedule_calls_update_element(self):\n",
    "    # Check that add_element_to_schedule calls update_element\n",
    "    # Arrange\n",
    "    schedule_id = \"schedule1\"\n",
    "    element_id = \"element1\"\n",
    "    mock_element = MagicMock()\n",
    "    mock_element.schedules = []\n",
    "    self.schedule_management.schedules[schedule_id] = Schedule(schedule_id, \"Title\", \"Description\", {\"user1\": \"read\"}, [\"element2\"])\n",
    "    with patch.object(ElementManagement, 'get_element', return_value=mock_element), \\\n",
    "        patch.object(ElementManagement, 'update_element', return_value=None) as mock_update_element:\n",
    "        # Act\n",
    "        self.schedule_management.add_element_to_schedule(schedule_id, element_id)\n",
    "        # Assert\n",
    "        mock_update_element.assert_called_once_with(element_id)"
   ]
  },
  {
   "cell_type": "markdown",
   "metadata": {},
   "source": [
    "O código não foi suficiente. O código foi adaptado:"
   ]
  },
  {
   "cell_type": "code",
   "execution_count": null,
   "metadata": {},
   "outputs": [],
   "source": [
    "def add_element_to_schedule(self, schedule_id: str, element_id: str) -> None:\n",
    "    \"\"\"\n",
    "    Add an element to a schedule\n",
    "\n",
    "    Args:\n",
    "        schedule_id: Schedule ID\n",
    "        element_id: Element ID\n",
    "    \"\"\"\n",
    "    element_manager = ElementManagement.get_instance()\n",
    "    if not element_manager.element_exists(element_id):\n",
    "        raise NonExistentIDError(f\"No element found with ID {element_id}\")\n",
    "\n",
    "    if not self.schedule_exists(schedule_id):\n",
    "        raise NonExistentIDError(f\"No schedule found with ID {schedule_id}\")\n",
    "\n",
    "    schedule = self.schedules[schedule_id]\n",
    "    if element_id not in schedule.elements:\n",
    "        schedule.elements = schedule.elements + [element_id]\n",
    "        self.update_schedule(schedule_id)\n",
    "        element = element_manager.get_element(element_id)\n",
    "        element.schedules = element.schedules + [schedule_id]\n",
    "        element_manager.update_element(element_id)\n",
    "    else: \n",
    "        raise DuplicatedIDError(f\"Element with ID {element_id} already exists in schedule {schedule_id}\")\n",
    "    "
   ]
  },
  {
   "cell_type": "markdown",
   "metadata": {},
   "source": [
    "O código foi suficiente.s"
   ]
  }
 ],
 "metadata": {
  "language_info": {
   "name": "python"
  }
 },
 "nbformat": 4,
 "nbformat_minor": 2
}
