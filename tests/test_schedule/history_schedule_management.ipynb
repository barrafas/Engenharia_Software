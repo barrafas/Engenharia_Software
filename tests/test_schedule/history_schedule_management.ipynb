{
 "cells": [
  {
   "cell_type": "markdown",
   "metadata": {},
   "source": [
    "# Histórico do Schedule Management\n",
    "\n",
    "Notebook a ponto de registrar o histórico de alterações do Schedule Management. Não é necessário executar este notebook."
   ]
  },
  {
   "cell_type": "markdown",
   "metadata": {},
   "source": [
    "## Get Instance\n",
    "\n",
    "Como o Schedule Management será implementado como um Singleton, é necessário utilizar o método `get_instance` para obter a instância do objeto. Para isso, desenvolvemos dois testes, um para verificar a instância e outro para verificar se a instância é única:"
   ]
  },
  {
   "cell_type": "code",
   "execution_count": null,
   "metadata": {},
   "outputs": [],
   "source": [
    "class TestScheduleManagement(unittest.TestCase):\n",
    "    def setUp(self):\n",
    "        # Reset the singleton instance before each test\n",
    "        ScheduleManagement._instance = None\n",
    "        self.db_module = Mock()\n",
    "        \n",
    "    def test_get_instance_creates_instance(self):\n",
    "        instance = ScheduleManagement.get_instance(self.db_module)\n",
    "        self.assertIsInstance(instance, ScheduleManagement)\n",
    "\n",
    "    def test_get_instance_returns_same_instance(self):\n",
    "        instance1 = ScheduleManagement.get_instance(self.db_module)\n",
    "        instance2 = ScheduleManagement.get_instance(self.db_module)\n",
    "        self.assertIs(instance1, instance2)"
   ]
  },
  {
   "cell_type": "markdown",
   "metadata": {},
   "source": [
    "Para isso, o código abaixo foi desenvolvido:"
   ]
  },
  {
   "cell_type": "code",
   "execution_count": null,
   "metadata": {},
   "outputs": [],
   "source": [
    "class ScheduleManagement:\n",
    "    \"\"\"\n",
    "    ScheduleManagement class\n",
    "    Responsible for managing the schedules in the database\n",
    "\n",
    "    Attributes:\n",
    "        db: Database module\n",
    "        schedules: Dictionary of schedules, where the key is the schedule ID\n",
    "            and the value is the schedule instance\n",
    "    \"\"\"\n",
    "\n",
    "    _instance = None\n",
    "\n",
    "    @classmethod\n",
    "    def get_instance(cls, database_module: MongoModule, schedules: dict = None):\n",
    "        if cls._instance is None:\n",
    "            cls._instance = cls(database_module, schedules)\n",
    "        return cls._instance"
   ]
  },
  {
   "cell_type": "markdown",
   "metadata": {},
   "source": [
    "O código foi suficiente para verificar se a instância é única e se a instância é a mesma."
   ]
  },
  {
   "cell_type": "markdown",
   "metadata": {},
   "source": [
    "## Schedule Exists\n",
    "\n",
    "Para verificar se um schedule existe, foi desenvolvido os seguintes testes:"
   ]
  },
  {
   "cell_type": "code",
   "execution_count": null,
   "metadata": {},
   "outputs": [],
   "source": [
    "def test_schedule_exists(self):\n",
    "    self.db_module.select_data = MagicMock(return_value=[{'_id': 'schedule1',\\\n",
    "                                                            'title': 'Schedule 1',\\\n",
    "                                                            'description': 'This is schedule 1',\\\n",
    "                                                            'permissions': {'user1': 'read', 'user2': 'write'},\\\n",
    "                                                            'elements': ['element1', 'element2']\n",
    "                                                            }])\n",
    "    result = self.schedule_management.schedule_exists('schedule1')\n",
    "    self.assertTrue(result)\n",
    "    self.db_module.select_data.assert_called_with('schedules', {'_id': 'schedule1'})\n",
    "\n",
    "def test_schedule_does_not_exist(self):\n",
    "    self.db_module.select_data = MagicMock(return_value=[])\n",
    "    result = self.schedule_management.schedule_exists('schedule1')\n",
    "    self.assertFalse(result)\n",
    "    self.db_module.select_data.assert_called_with('schedules', {'_id': 'schedule1'})"
   ]
  },
  {
   "cell_type": "markdown",
   "metadata": {},
   "source": [
    "O código não foi suficiente para verificar se o schedule existe, pois o método `schedule_exists` não foi implementado. O código abaixo foi desenvolvido para implementar o método:"
   ]
  },
  {
   "cell_type": "code",
   "execution_count": null,
   "metadata": {},
   "outputs": [],
   "source": [
    "def schedule_exists(self, schedule_id: str) -> bool:\n",
    "    \"\"\"\n",
    "    Check if a schedule exists\n",
    "\n",
    "    Args:\n",
    "        schedule_id: Schedule ID\n",
    "\n",
    "    Returns:\n",
    "        True if the schedule exists, False otherwise\n",
    "    \"\"\"\n",
    "\n",
    "    # Get the schedules from the database that match the given ID\n",
    "    schedule = self.db_module.select_data('schedules', {'_id': schedule_id})\n",
    "\n",
    "    # If the list is not empty, the schedule exists\n",
    "    return bool(schedule)"
   ]
  },
  {
   "cell_type": "markdown",
   "metadata": {},
   "source": [
    "O código foi suficiente."
   ]
  }
 ],
 "metadata": {
  "language_info": {
   "name": "python"
  }
 },
 "nbformat": 4,
 "nbformat_minor": 2
}
