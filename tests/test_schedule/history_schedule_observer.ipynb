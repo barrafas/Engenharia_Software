{
 "cells": [
  {
   "cell_type": "markdown",
   "metadata": {},
   "source": [
    "O Schedule e o Schedule manager estavam funcionais, entretando o Schedule não poderia se referir ao manager por uma questão de acoplamento, e é necessário que sempre que uma alteração seja feita no Schedule, o update seja chamado no Schadule manager.\n",
    "Para isso a saída escolhida foi utilizar o padrão Observer, que resolve esse problema.\n",
    "Aqui estão a classe de interface para o Observer e o Subject:\n",
    "\n",
    "> obs: Em cada edição no codigo, os testes de schedule e schedule manager são rodados novamente para verificar que continum funcionando."
   ]
  },
  {
   "cell_type": "code",
   "execution_count": null,
   "metadata": {},
   "outputs": [],
   "source": [
    "\"\"\"\n",
    "Module that contains the observer interface for the schedule.\n",
    "\"\"\"\n",
    "from abc import ABC, abstractmethod\n",
    "\n",
    "class Subject(ABC): ...\n",
    "\n",
    "class Observer(ABC):\n",
    "    \"\"\"\n",
    "    Observer interface, used to implement the observer pattern in the schedule.\n",
    "    solve the problem of circular dependencies between the schedule and the schedule management.\n",
    "    provide a update method that is called when the schedule is updated.\n",
    "    \"\"\"\n",
    "    \n",
    "    @abstractmethod\n",
    "    def update(self, subject: Subject) -> None:\n",
    "        \"\"\"\n",
    "        Called when the schedule is updated.\n",
    "\n",
    "        Arguments:\n",
    "            schedule -- the schedule that was updated.\n",
    "        \"\"\"\n",
    "        pass\n",
    "\n",
    "class Subject(ABC):\n",
    "    \"\"\"\n",
    "    Subject interface, used to implement the observer pattern in the schedule.\n",
    "    solve the problem of circular dependencies between the schedule and the schedule management.\n",
    "    provide a attach method that is called when the schedule is updated.\n",
    "    \"\"\"\n",
    "    \n",
    "    @abstractmethod\n",
    "    def attach(self, observer: Observer) -> None:\n",
    "        \"\"\"\n",
    "        Attach an observer to the subject.\n",
    "\n",
    "        Arguments:\n",
    "            observer -- the observer to attach.\n",
    "        \"\"\"\n",
    "        pass\n",
    "\n",
    "    @abstractmethod\n",
    "    def detach(self, observer: Observer) -> None:\n",
    "        \"\"\"\n",
    "        Detach an observer from the subject.\n",
    "\n",
    "        Arguments:\n",
    "            observer -- the observer to detach.\n",
    "        \"\"\"\n",
    "        pass\n",
    "\n",
    "    @abstractmethod\n",
    "    def notify(self) -> None:\n",
    "        \"\"\"\n",
    "        Notify all the observers that the subject has changed.\n",
    "        \"\"\"\n",
    "        pass"
   ]
  },
  {
   "cell_type": "markdown",
   "metadata": {},
   "source": [
    "Agora necessitamos que essa funcionalidade seja corretamente implementada nas classes, para isso vamos preparar um teste inicial:"
   ]
  },
  {
   "cell_type": "code",
   "execution_count": null,
   "metadata": {},
   "outputs": [],
   "source": [
    "def test_subject_start_with_no_observers(self):\n",
    "    permissions = {\n",
    "        'user1': \"read\"\n",
    "    }\n",
    "    schedule = Schedule('schedule_id', 'title', 'description', permissions)\n",
    "    \n",
    "    initial_observers_len = len(schedule.__observers)\n",
    "    self.assertEqual(initial_observers_len, 0)\n",
    "\n",
    "def test_subject_add_observer(self):\n",
    "    permissions = {\n",
    "        'user1': \"read\"\n",
    "    }\n",
    "    schedule = Schedule('schedule_id', 'title', 'description', permissions)\n",
    "    \n",
    "    schedule.attach(self.observer)\n",
    "        observers_len = len(schedule.__observers)\n",
    "        self.assertEqual(observers_len, 1)"
   ]
  },
  {
   "cell_type": "markdown",
   "metadata": {},
   "source": [
    "Fazendo o Schedule se comportar como Subject, e adicionando os metodos necessários para passar nos testes"
   ]
  },
  {
   "cell_type": "markdown",
   "metadata": {},
   "source": [
    "```python\n",
    "from .schedule_observer import Observer, Subject\n",
    "\n",
    "class Schedule(Subject):\n",
    "    def __init__(self, schedule_id: str, title: str, description: str, \n",
    "            permissions: dict, elements: [str] = None):\n",
    "        [...]\n",
    "        self.__observers = []\n",
    "    \n",
    "    [...]\n",
    "    @property\n",
    "    def observers(self):\n",
    "        return self.__observers\n",
    "    \n",
    "    @elements.setter\n",
    "    def elements(self, value):\n",
    "        if isinstance(value, list) and all(isinstance(i, str) for i in value):\n",
    "            self.__elements = value\n",
    "            self.notify() # adicionado o notify\n",
    "        else:\n",
    "            raise ValueError(\"Elements must be a list of strings\")\n",
    "\n",
    "    [...]\n",
    "\n",
    "    \n",
    "    def attach(self, observer: Observer) -> None:\n",
    "        '''\n",
    "            Attach an observer to the subject.\n",
    "\n",
    "            Arguments:\n",
    "                observer -- the observer to attach.\n",
    "        '''\n",
    "        self.__observers.append(observer)\n",
    "\n",
    "    def detach(self, observer: Observer) -> None:\n",
    "        '''\n",
    "            Detach an observer from the subject.\n",
    "\n",
    "            Arguments:\n",
    "                observer -- the observer to detach.\n",
    "        '''\n",
    "        self.__observers.remove(observer)\n",
    "\n",
    "    def notify(self) -> None:\n",
    "        '''\n",
    "            Notify all the observers that the subject has changed.\n",
    "        '''\n",
    "        for observer in self.__observers:\n",
    "            observer.update(self)\n",
    "\n",
    "```\n",
    "\n"
   ]
  },
  {
   "cell_type": "markdown",
   "metadata": {},
   "source": [
    "Continuando a adição de testes até que algum não passe:"
   ]
  },
  {
   "cell_type": "code",
   "execution_count": null,
   "metadata": {},
   "outputs": [],
   "source": [
    "\n",
    "    def test_subject_remove_observer(self):\n",
    "        permissions = {\n",
    "            'user1': \"read\"\n",
    "        }\n",
    "        schedule = Schedule('schedule_id', 'title', 'description', permissions)\n",
    "        \n",
    "        schedule.attach(self.observer)\n",
    "        schedule.detach(self.observer)\n",
    "        observers_len = len(schedule.observers)\n",
    "        self.assertEqual(observers_len, 0)\n",
    "\n",
    "    def test_observer_gets_notified_on_elements_set(self):\n",
    "        permissions = {\n",
    "            'user1': \"read\"\n",
    "        }\n",
    "        schedule = Schedule('schedule_id', 'title', 'description', permissions)\n",
    "\n",
    "        schedule.attach(self.observer)\n",
    "        schedule.elements = ['element1', 'element2']\n",
    "        # verificando se o observer chamou o método update\n",
    "        self.assertEqual(len(self.observer.notifications), 1)\n",
    "\n",
    "    def test_observer_gets_notified_on_title_set(self):\n",
    "        permissions = {\n",
    "            'user1': \"read\"\n",
    "        }\n",
    "        schedule = Schedule('schedule_id', 'title', 'description', permissions)\n",
    "\n",
    "        schedule.attach(self.observer)\n",
    "        schedule.set_title('new title')\n",
    "        # verificando se o observer chamou o método update\n",
    "        self.assertEqual(len(self.observer.notifications), 1)"
   ]
  },
  {
   "cell_type": "markdown",
   "metadata": {},
   "source": [
    "Está faltando o notify no set_title(), o que é facilmente solucionável:\n",
    "```diff\n",
    "def set_title(self, title: str) -> None:\n",
    "        '''\n",
    "            Sets the title of the schedule.\n",
    "\n",
    "            Arguments:\n",
    "                title -- title of the schedule.\n",
    "        '''\n",
    "        if title is None:\n",
    "            raise ValueError(\"Title cannot be None\")\n",
    "        if not isinstance(title, str):\n",
    "            raise TypeError(\"Title must be a string\")\n",
    "        if len(title.strip()) == 0:\n",
    "            raise ValueError(\"Title cannot be empty\")\n",
    "        if len(title) > 50:\n",
    "            raise ValueError(\"Title must have at most 50 characters\")\n",
    "        self.title = title\n",
    "++        self.notify()\n",
    "```"
   ]
  },
  {
   "cell_type": "markdown",
   "metadata": {},
   "source": [
    "Testando para a edição de description:"
   ]
  },
  {
   "cell_type": "code",
   "execution_count": null,
   "metadata": {},
   "outputs": [],
   "source": [
    "    def test_observer_gets_notified_on_description_set(self):\n",
    "        permissions = {\n",
    "            'user1': \"read\"\n",
    "        }\n",
    "        schedule = Schedule('schedule_id', 'title', 'description', permissions)\n",
    "\n",
    "        schedule.attach(self.observer)\n",
    "        schedule.set_description('new description')\n",
    "        # verificando se o observer chamou o método update\n",
    "        self.assertEqual(len(self.observer.notifications), 1)"
   ]
  },
  {
   "cell_type": "markdown",
   "metadata": {},
   "source": [
    "O teste não passa, mas a adição do notify() deve ser suficiente:\n",
    "\n",
    "```diff\n",
    "    def set_description(self, description: str) -> None:\n",
    "        '''\n",
    "            Sets the description of the schedule.\n",
    "\n",
    "            Arguments:\n",
    "                description -- description of the schedule.\n",
    "        '''\n",
    "        if description is not None:\n",
    "            if type(description) != str:\n",
    "                raise TypeError(\"Description must be a string\")\n",
    "            elif len(description) > 500:\n",
    "                raise ValueError(\"Description cannot have more than 500 characters\")\n",
    "        self.description = description\n",
    "++      self.notify()\n",
    "```"
   ]
  },
  {
   "cell_type": "markdown",
   "metadata": {},
   "source": [
    "Agora precisamos garantir que o observer (user management) está reagindo corretamente a essas notificações, para isso vamos montar um teste para ver se ele está dando update no banco quando uma alteração acontece."
   ]
  },
  {
   "cell_type": "code",
   "execution_count": null,
   "metadata": {},
   "outputs": [],
   "source": [
    "\n",
    "    def test_update_schedule_gets_called_when_schedule_is_updated(self):\n",
    "        permissions = {\n",
    "            'user1': \"read\"\n",
    "        }\n",
    "        schedule = Schedule('schedule_id', 'title', 'description', permissions)\n",
    "\n",
    "        schedule.attach(self.schedule_management)\n",
    "        schedule.set_description('Sample change')\n",
    "\n",
    "        self.schedule_management.update_schedule.assert_called_once_with(schedule.id)"
   ]
  },
  {
   "cell_type": "markdown",
   "metadata": {},
   "source": [
    "O teste não passa devido à não implementação do ScheduleManagement como Observer, vamos corrigir isso."
   ]
  },
  {
   "cell_type": "markdown",
   "metadata": {},
   "source": [
    "```python\n",
    "from .schedule_observer import Observer, Subject\n",
    "\n",
    "class ScheduleManagement(Observer):\n",
    "    \n",
    "    [...]\n",
    "\n",
    "    def update(self, schedule: Schedule) -> None:\n",
    "        \"\"\"\n",
    "        Called when the schedule is updated.\n",
    "\n",
    "        Args:\n",
    "            schedule: The schedule that was updated.\n",
    "        \"\"\"\n",
    "        self.update_schedule(schedule.id)\n",
    "\n",
    "```"
   ]
  },
  {
   "cell_type": "markdown",
   "metadata": {},
   "source": [
    "Com isso o teste passa, isso indica que o comportamento do pattern Observer está funcional, e quando alterações forem feitas no Schedule, o update do management será corretamente chamado.\n",
    "Além disso todos os demais testes continuam passando, então o refactor feito não quebra o código original."
   ]
  },
  {
   "cell_type": "markdown",
   "metadata": {},
   "source": []
  }
 ],
 "metadata": {
  "language_info": {
   "name": "python"
  }
 },
 "nbformat": 4,
 "nbformat_minor": 2
}
