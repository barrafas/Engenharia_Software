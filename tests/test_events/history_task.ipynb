{
 "cells": [
  {
   "cell_type": "markdown",
   "metadata": {},
   "source": [
    "# Histórico do TaskEvent\n",
    "\n",
    "Notebook a ponto de registrar o avanço da classe TaskEvent. Não é para ser executado.\n",
    "Podemos ver usos de TDD e refatoração."
   ]
  },
  {
   "cell_type": "markdown",
   "metadata": {},
   "source": [
    "## Properties\n",
    "\n",
    "Testes a serem realizados:"
   ]
  },
  {
   "cell_type": "code",
   "execution_count": null,
   "metadata": {},
   "outputs": [],
   "source": [
    "def test_id_property(self):\n",
    "    # Test the id property\n",
    "    self.assertEqual(self.task.id, self.id)\n",
    "\n",
    "def test_type_property(self):\n",
    "    # Test the schedules property\n",
    "    self.assertEqual(self.task.type, self.element_type)\n",
    "\n",
    "def test_schedules_property(self):\n",
    "    # Test the schedules property\n",
    "    self.assertEqual(self.task.schedules, self.schedules)"
   ]
  },
  {
   "cell_type": "markdown",
   "metadata": {},
   "source": [
    "Testes muito simples e feitos apenas para desencargo de consciência. O código original foi suficiente para passar nos testes do enunciado:"
   ]
  },
  {
   "cell_type": "code",
   "execution_count": null,
   "metadata": {},
   "outputs": [],
   "source": [
    "@property\n",
    "def id(self):\n",
    "    return self.__id\n",
    "\n",
    "@property\n",
    "def schedules(self):\n",
    "    return self.__schedules\n",
    "\n",
    "@property\n",
    "def type(self):\n",
    "    return self.__element_type"
   ]
  },
  {
   "cell_type": "markdown",
   "metadata": {},
   "source": [
    "## set_due_date\n",
    "\n",
    "Testes a serem realizados:"
   ]
  },
  {
   "cell_type": "code",
   "execution_count": null,
   "metadata": {},
   "outputs": [],
   "source": [
    "def test_set_due_date_valid(self):\n",
    "    # Test setting a valid due date\n",
    "    valid_due_date = datetime(2023, 1, 1)\n",
    "    self.task.set_due_date(valid_due_date)\n",
    "    self.assertEqual(self.task.due_date, valid_due_date)"
   ]
  },
  {
   "cell_type": "markdown",
   "metadata": {},
   "source": [
    "Este código foi o suficiente para passar no teste:"
   ]
  },
  {
   "cell_type": "code",
   "execution_count": null,
   "metadata": {},
   "outputs": [],
   "source": [
    "def set_due_date(self, due_date: datetime) -> None:\n",
    "    '''\n",
    "        Sets the due date of the task.\n",
    "\n",
    "        Arguments:\n",
    "            due_date -- due date of the task.\n",
    "    '''\n",
    "    self.due_date = due_date"
   ]
  },
  {
   "cell_type": "markdown",
   "metadata": {},
   "source": [
    "Em seguida, foram criados os seguintes testes, que impedem que a data seja vazia ou diferente de datatime:"
   ]
  },
  {
   "cell_type": "code",
   "execution_count": null,
   "metadata": {},
   "outputs": [],
   "source": [
    "def test_set_due_date_not_datetime(self):\n",
    "    # Test setting a due date that is not a datetime\n",
    "    with self.assertRaises(TypeError):\n",
    "        self.task.set_due_date(123)\n",
    "\n",
    "def test_set_due_date_none(self):\n",
    "    # Test setting a due date that is None\n",
    "    with self.assertRaises(ValueError):\n",
    "        self.task.set_due_date(None)"
   ]
  },
  {
   "cell_type": "markdown",
   "metadata": {},
   "source": [
    "O código foi alterado para passar nos testes:"
   ]
  },
  {
   "cell_type": "code",
   "execution_count": null,
   "metadata": {},
   "outputs": [],
   "source": [
    "def set_due_date(self, due_date: datetime) -> None:\n",
    "    '''\n",
    "        Sets the due date of the task.\n",
    "\n",
    "        Arguments:\n",
    "            due_date -- due date of the task.\n",
    "    '''\n",
    "    if due_date is None:\n",
    "        raise ValueError(\"Due date cannot be None\")\n",
    "    elif type(due_date) != datetime:\n",
    "        raise TypeError(\"Due date must be a datetime object\")\n",
    "    else:\n",
    "        self.due_date = due_date"
   ]
  },
  {
   "cell_type": "markdown",
   "metadata": {},
   "source": [
    "Após refactor:"
   ]
  },
  {
   "cell_type": "code",
   "execution_count": null,
   "metadata": {},
   "outputs": [],
   "source": [
    "def set_due_date(self, due_date: datetime) -> None:\n",
    "        \"\"\"\n",
    "        Sets the due date of the task.\n",
    "\n",
    "        Arguments:\n",
    "            due_date -- due date of the task.\n",
    "        \"\"\"\n",
    "        if due_date is None:\n",
    "            raise ValueError(\"Due date cannot be None\")\n",
    "        elif not isinstance(due_date, datetime):\n",
    "            raise TypeError(\"Due date must be a datetime object\")\n",
    "        else:\n",
    "            self.due_date = due_date"
   ]
  },
  {
   "cell_type": "markdown",
   "metadata": {},
   "source": [
    "## set_state\n",
    "\n",
    "Testes a serem realizados:"
   ]
  },
  {
   "cell_type": "code",
   "execution_count": null,
   "metadata": {},
   "outputs": [],
   "source": [
    "def test_set_state(self):\n",
    "    # Verify if the state is set correctly\n",
    "    states = ['incomplete', 'complete', 'cancelled']\n",
    "    for state in states:\n",
    "        self.task.set_state(state)\n",
    "        self.assertEqual(self.task.state, state)"
   ]
  },
  {
   "cell_type": "markdown",
   "metadata": {},
   "source": [
    "O código abaixo foi o suficiente para passar no teste:"
   ]
  },
  {
   "cell_type": "code",
   "execution_count": null,
   "metadata": {},
   "outputs": [],
   "source": [
    "def set_state(self, state: str):\n",
    "    \"\"\"\n",
    "    Sets the state of the task.\n",
    "\n",
    "    Arguments:\n",
    "        state -- The new state of the task.\n",
    "    \"\"\"\n",
    "    self.state = state"
   ]
  },
  {
   "cell_type": "markdown",
   "metadata": {},
   "source": [
    "Foi adicionado o seguinte teste para que quando o estado da tarefa não foi definido, o estado seja \"incomplete\":"
   ]
  },
  {
   "cell_type": "code",
   "execution_count": null,
   "metadata": {},
   "outputs": [],
   "source": [
    "def test_set_state_none(self):\n",
    "    # Verify if a None state set the state as incomplete\n",
    "    self.task.set_state(None)\n",
    "    self.assertEqual(self.task.state, 'incomplete')\n"
   ]
  },
  {
   "cell_type": "markdown",
   "metadata": {},
   "source": [
    "Foram necessárias as seguintes alterações para passar no teste:"
   ]
  },
  {
   "cell_type": "code",
   "execution_count": null,
   "metadata": {},
   "outputs": [],
   "source": [
    "def set_state(self, state: str):\n",
    "    \"\"\"\n",
    "    Sets the state of the task.\n",
    "\n",
    "    Arguments:\n",
    "        state -- The new state of the task.\n",
    "    \"\"\"\n",
    "    if state is None:\n",
    "        self.state = 'incomplete'\n",
    "    else:\n",
    "        self.state = state"
   ]
  },
  {
   "cell_type": "markdown",
   "metadata": {},
   "source": [
    "Foram adicionados os seguintes testes, que impedem que o estado seja diferente de \"incomplete\", \"complete\" e \"cancelled\":"
   ]
  },
  {
   "cell_type": "code",
   "execution_count": null,
   "metadata": {},
   "outputs": [],
   "source": [
    "def test_set_state_invalid(self):\n",
    "    # Verify if an invalid state raises a ValueError\n",
    "    with self.assertRaises(ValueError):\n",
    "        self.task.set_state(\"invalid\")\n",
    "\n",
    "def test_set_state_not_string(self):\n",
    "    # Verify if a non-string state raises a TypeError\n",
    "    with self.assertRaises(TypeError):\n",
    "        self.task.set_state(123)"
   ]
  },
  {
   "cell_type": "markdown",
   "metadata": {},
   "source": [
    "Foram necessárias as seguintes alterações para passar no teste:"
   ]
  },
  {
   "cell_type": "code",
   "execution_count": null,
   "metadata": {},
   "outputs": [],
   "source": [
    "def set_state(self, state: str):\n",
    "    \"\"\"\n",
    "    Sets the state of the task.\n",
    "\n",
    "    Arguments:\n",
    "        state -- The new state of the task.\n",
    "    \"\"\"\n",
    "    if state is None:\n",
    "        self.state = 'incomplete'\n",
    "    else:\n",
    "        if type(state) != str:\n",
    "            raise TypeError(\"State must be a string\")\n",
    "        elif state not in ['incomplete', 'complete', 'cancelled']:\n",
    "            raise ValueError(\"State must be either 'incomplete' or 'complete'\")\n",
    "        else:\n",
    "            self.state = state"
   ]
  },
  {
   "cell_type": "markdown",
   "metadata": {},
   "source": [
    "Após refactor:"
   ]
  },
  {
   "cell_type": "code",
   "execution_count": null,
   "metadata": {},
   "outputs": [],
   "source": [
    "def set_state(self, state: str):\n",
    "    \"\"\"\n",
    "    Sets the state of the task.\n",
    "\n",
    "    Arguments:\n",
    "        state -- The new state of the task.\n",
    "    \"\"\"\n",
    "    valid_states = ['incomplete', 'complete', 'cancelled']\n",
    "\n",
    "    if state is None:\n",
    "        self.state = 'incomplete'\n",
    "    elif not isinstance(state, str):\n",
    "        raise TypeError(\"State must be a string\")\n",
    "    elif state not in valid_states:\n",
    "        raise ValueError(\"State must be either 'incomplete', 'complete', or 'cancelled'\")\n",
    "    else:\n",
    "        self.state = state"
   ]
  },
  {
   "cell_type": "markdown",
   "metadata": {},
   "source": [
    "## set_title\n",
    "\n",
    "Testes a serem realizados:"
   ]
  },
  {
   "cell_type": "code",
   "execution_count": null,
   "metadata": {},
   "outputs": [],
   "source": [
    "def test_set_title_valid(self):\n",
    "    # Test setting a valid title\n",
    "    valid_title = \"Valid Title\"\n",
    "    self.task.set_title(valid_title)\n",
    "    self.assertEqual(self.task.title, valid_title)"
   ]
  },
  {
   "cell_type": "markdown",
   "metadata": {},
   "source": [
    "Código suficiente para passar no teste:"
   ]
  },
  {
   "cell_type": "code",
   "execution_count": null,
   "metadata": {},
   "outputs": [],
   "source": [
    "def set_title(self, title: str) -> None:\n",
    "    '''\n",
    "        Sets the title of the schedule.\n",
    "\n",
    "        Arguments:\n",
    "            title -- title of the schedule.\n",
    "    '''\n",
    "\n",
    "    self.title = title"
   ]
  },
  {
   "cell_type": "markdown",
   "metadata": {},
   "source": [
    "Em seguida, foram criados os seguintes testes, que impedem que o título seja vazio ou diferente de uma string:"
   ]
  },
  {
   "cell_type": "code",
   "execution_count": null,
   "metadata": {},
   "outputs": [],
   "source": [
    "def test_set_title_not_string(self):\n",
    "    # Test setting a title that is not a string\n",
    "    with self.assertRaises(TypeError):\n",
    "        self.task.set_title(123)\n",
    "\n",
    "def test_set_title_none(self):\n",
    "    # Test setting a title that is None\n",
    "    with self.assertRaises(ValueError):\n",
    "        self.task.set_title(None)"
   ]
  },
  {
   "cell_type": "markdown",
   "metadata": {},
   "source": [
    "O código não foi suficiente para passar nos testes, sendo necessário atualizá-lo:"
   ]
  },
  {
   "cell_type": "code",
   "execution_count": null,
   "metadata": {},
   "outputs": [],
   "source": [
    "def set_title(self, title: str) -> None:\n",
    "    '''\n",
    "        Sets the title of the task.\n",
    "\n",
    "        Arguments:\n",
    "            title -- title of the task.\n",
    "    '''\n",
    "    if title is None:\n",
    "        raise ValueError(\"Title cannot be None\")\n",
    "    elif type(title) != str:\n",
    "        raise TypeError(\"Title must be a string\")\n",
    "    else:\n",
    "        self.title = title"
   ]
  },
  {
   "cell_type": "markdown",
   "metadata": {},
   "source": [
    "Em seguida, foram criados dois testes para impedir que o título seja uma string vazia ou contenha apenas espaços:"
   ]
  },
  {
   "cell_type": "code",
   "execution_count": null,
   "metadata": {},
   "outputs": [],
   "source": [
    "def test_set_title_whitespace(self):\n",
    "    # Test setting a title that contains only whitespace\n",
    "    with self.assertRaises(ValueError):\n",
    "        self.task.set_title(\"   \")\n",
    "\n",
    "def test_set_title_empty(self):\n",
    "    # Test setting an empty title\n",
    "    with self.assertRaises(ValueError):\n",
    "        self.task.set_title(\"\")"
   ]
  },
  {
   "cell_type": "markdown",
   "metadata": {},
   "source": [
    "O código não foi suficiente para passar nos testes, sendo necessário atualizá-lo. Para isso, utilizamos o método `strip()`, que remove os espaços em branco do início e do fim de uma string:"
   ]
  },
  {
   "cell_type": "code",
   "execution_count": null,
   "metadata": {},
   "outputs": [],
   "source": [
    "def set_title(self, title: str) -> None:\n",
    "    '''\n",
    "        Sets the title of the task.\n",
    "\n",
    "        Arguments:\n",
    "            title -- title of the task.\n",
    "    '''\n",
    "    if title is None:\n",
    "        raise ValueError(\"Title cannot be None\")\n",
    "    elif type(title) != str:\n",
    "        raise TypeError(\"Title must be a string\")\n",
    "    elif not title.strip():\n",
    "            raise ValueError(\"Title cannot be empty or blank\")\n",
    "    else:\n",
    "        self.title = title"
   ]
  },
  {
   "cell_type": "markdown",
   "metadata": {},
   "source": [
    "Em seguida, foram criados os seguintes testes: um teste para impedir que o título fique muito grande (mais de 50 caracteres) e um teste na borda (50 caracteres):"
   ]
  },
  {
   "cell_type": "code",
   "execution_count": null,
   "metadata": {},
   "outputs": [],
   "source": [
    "def test_set_title_too_long(self):\n",
    "    # Test setting a title that is too long\n",
    "    with self.assertRaises(ValueError):\n",
    "        self.task.set_title(\"a\" * 51)\n",
    "\n",
    "def test_set_title_max_length(self):\n",
    "    # Test setting a title that is exactly at the maximum length\n",
    "    max_length_title = \"a\" * 50\n",
    "    self.task.set_title(max_length_title)\n",
    "    self.assertEqual(self.task.title, max_length_title)"
   ]
  },
  {
   "cell_type": "markdown",
   "metadata": {},
   "source": [
    "Atualização do código para passar nos testes:"
   ]
  },
  {
   "cell_type": "code",
   "execution_count": null,
   "metadata": {},
   "outputs": [],
   "source": [
    "def set_title(self, title: str) -> None:\n",
    "        '''\n",
    "            Sets the title of the task.\n",
    "\n",
    "            Arguments:\n",
    "                title -- title of the task.\n",
    "        '''\n",
    "\n",
    "        if title is None:\n",
    "            raise ValueError(\"Title cannot be None\")\n",
    "        elif type(title) != str:\n",
    "            raise TypeError(\"Title must be a string\")\n",
    "        elif not title.strip():\n",
    "            raise ValueError(\"Title cannot be empty or blank\")\n",
    "        elif len(title) > 50:\n",
    "            raise ValueError(\"Title cannot have more than 50 characters\")\n",
    "        else:   \n",
    "            self.title = title"
   ]
  },
  {
   "cell_type": "markdown",
   "metadata": {},
   "source": [
    "## Set description of the task\n",
    "\n",
    "Testes a serem realizados:"
   ]
  },
  {
   "cell_type": "code",
   "execution_count": null,
   "metadata": {},
   "outputs": [],
   "source": [
    "def test_set_description_valid(self):\n",
    "        # Test setting a valid description\n",
    "        valid_description = \"Valid Description\"\n",
    "        self.task.set_description(valid_description)\n",
    "        self.assertEqual(self.task.description, valid_description)"
   ]
  },
  {
   "cell_type": "markdown",
   "metadata": {},
   "source": [
    "Código suficiente para passar no teste:"
   ]
  },
  {
   "cell_type": "code",
   "execution_count": null,
   "metadata": {},
   "outputs": [],
   "source": [
    "def set_description(self, description: str) -> None:\n",
    "    '''\n",
    "        Sets the description of the task.\n",
    "\n",
    "        Arguments:\n",
    "            description -- description of the task.\n",
    "    '''\n",
    "   self.description = description"
   ]
  },
  {
   "cell_type": "markdown",
   "metadata": {},
   "source": [
    "Em seguida, foram criados os seguintes testes para descrição vazia ou diferente de uma string:"
   ]
  },
  {
   "cell_type": "code",
   "execution_count": null,
   "metadata": {},
   "outputs": [],
   "source": [
    "def test_set_description_not_string(self):\n",
    "    # Test setting a description that is not a string\n",
    "    with self.assertRaises(TypeError):\n",
    "        self.task.set_description(123)\n",
    "\n",
    "def test_set_description_none(self):\n",
    "    # Test setting a description that is None\n",
    "    self.task.set_description(None)\n",
    "    self.assertEqual(self.task.description, None)"
   ]
  },
  {
   "cell_type": "markdown",
   "metadata": {},
   "source": [
    "Código atualizado para passar nos testes:"
   ]
  },
  {
   "cell_type": "code",
   "execution_count": null,
   "metadata": {},
   "outputs": [],
   "source": [
    "def set_description(self, description: str) -> None:\n",
    "    '''\n",
    "        Sets the description of the task.\n",
    "\n",
    "        Arguments:\n",
    "            description -- description of the task.\n",
    "    '''\n",
    "    if description is not None:\n",
    "        if type(description) != str:\n",
    "            raise TypeError(\"Description must be a string\")\n",
    "    self.description = description"
   ]
  },
  {
   "cell_type": "markdown",
   "metadata": {},
   "source": [
    "Adicionado testes para impedir descrições muito grandes (mais de 500 caracteres):"
   ]
  },
  {
   "cell_type": "code",
   "execution_count": null,
   "metadata": {},
   "outputs": [],
   "source": [
    "def test_set_description_too_long(self):\n",
    "    # Test setting a description that is too long\n",
    "    with self.assertRaises(ValueError):\n",
    "        self.task.set_description(\"a\" * 501)\n",
    "\n",
    "def test_set_description_max_length(self):\n",
    "    # Test setting a description that is exactly at the maximum length\n",
    "    max_length_description = \"a\" * 500\n",
    "    self.task.set_description(max_length_description)\n",
    "    self.assertEqual(self.task.description, max_length_description)"
   ]
  },
  {
   "cell_type": "markdown",
   "metadata": {},
   "source": [
    "Atualização do código para passar nos testes:"
   ]
  },
  {
   "cell_type": "code",
   "execution_count": null,
   "metadata": {},
   "outputs": [],
   "source": [
    "def set_description(self, description: str) -> None:\n",
    "    '''\n",
    "        Sets the description of the task.\n",
    "\n",
    "        Arguments:\n",
    "            description -- description of the task.\n",
    "    '''\n",
    "    if description is not None:\n",
    "        if type(description) != str:\n",
    "            raise TypeError(\"Description must be a string\")\n",
    "        elif len(description) > 500:\n",
    "            raise ValueError(\"Description cannot have more than 500 characters\")\n",
    "    self.description = description"
   ]
  },
  {
   "cell_type": "markdown",
   "metadata": {},
   "source": [
    "Após refatoração:"
   ]
  },
  {
   "cell_type": "code",
   "execution_count": null,
   "metadata": {},
   "outputs": [],
   "source": [
    "def set_description(self, description: str) -> None:\n",
    "    \"\"\"\n",
    "    Sets the description of the task.\n",
    "\n",
    "    Arguments:\n",
    "        description -- description of the task.\n",
    "    \"\"\"\n",
    "    if description is not None:\n",
    "        if not isinstance(description, str):\n",
    "            raise TypeError(\"Description must be a string\")\n",
    "        elif len(description) > 500:\n",
    "            raise ValueError(\"Description cannot have more than 500 characters\")\n",
    "    self.description = description"
   ]
  },
  {
   "cell_type": "markdown",
   "metadata": {},
   "source": [
    "## get_users\n",
    "\n",
    "Foi realizado o teste inicial para verificar se a função retorna a lista de usuários correta, o código do teste será omitido nesse caso pois é bastante longo devido ao uso de 'MagicMock', mas pode ser visto em `test_task_event.py`:"
   ]
  },
  {
   "cell_type": "code",
   "execution_count": null,
   "metadata": {},
   "outputs": [],
   "source": [
    "def test_get_users(self):\n",
    "    \"\"\"\n",
    "    Test if the users returned match the ones that were set in the \n",
    "    constructor\n",
    "    \"\"\""
   ]
  },
  {
   "cell_type": "markdown",
   "metadata": {},
   "source": [
    "O código abaixo foi suficiente para passar no teste."
   ]
  },
  {
   "cell_type": "code",
   "execution_count": null,
   "metadata": {},
   "outputs": [],
   "source": [
    "def get_users(self, filter_schedules = []) -> list:\n",
    "    \"\"\"\n",
    "    Returns the users that are assigned to the event.\n",
    "\n",
    "    Arguments:\n",
    "        filter_schedules -- A list of schedules to filter the users.\n",
    "\n",
    "    Returns:\n",
    "        [user] -- The users that are assigned to the reminder.\n",
    "    \"\"\"\n",
    "    schedule_manager = ScheduleManagement.get_instance()\n",
    "    filter_schedules = [schedule for schedule in self.__schedules if schedule in filter_schedules]\n",
    "    users = []\n",
    "    for schedule_id in filter_schedules:\n",
    "        schedule = schedule_manager.get_schedule(schedule_id)\n",
    "        users += list(schedule.permissions.keys())\n",
    "    \n",
    "    user_manager = UserManagement.get_instance()\n",
    "\n",
    "    users = [user_manager.get_user(id) for id in users]\n",
    "    return users"
   ]
  },
  {
   "cell_type": "markdown",
   "metadata": {},
   "source": [
    "Posteriormente, foi criado o teste para verificar se a função funciona quando não é especificado a lista de schedules."
   ]
  },
  {
   "cell_type": "code",
   "execution_count": null,
   "metadata": {},
   "outputs": [],
   "source": [
    "def test_get_users_nonfilter(self):\n",
    "        \"\"\"Test get_users when no filter of schedules are not specified.\n",
    "        Default to all schedules.\n",
    "        \"\"\""
   ]
  },
  {
   "cell_type": "markdown",
   "metadata": {},
   "source": [
    "Foi necessário atualizar o código para passar no teste:"
   ]
  },
  {
   "cell_type": "code",
   "execution_count": null,
   "metadata": {},
   "outputs": [],
   "source": [
    "def get_users(self, filter_schedules = []) -> list:\n",
    "    \"\"\"\n",
    "    Returns the users that are assigned to the task.\n",
    "\n",
    "    Arguments:\n",
    "        filter_schedules -- A list of schedules to filter the users.\n",
    "\n",
    "    Returns:\n",
    "        [str] -- The users that are assigned to the task.\n",
    "    \"\"\"\n",
    "    schedule_manager = ScheduleManagement.get_instance()\n",
    "    if filter_schedules == []:\n",
    "        filter_schedules = self.__schedules\n",
    "    else:\n",
    "        filter_schedules = [schedule for schedule in self.__schedules if schedule in filter_schedules]\n",
    "    users = []\n",
    "    for schedule_id in filter_schedules:\n",
    "        schedule = schedule_manager.get_schedule(schedule_id)\n",
    "        users += list(schedule.permissions.keys())\n",
    "    \n",
    "    user_manager = UserManagement.get_instance()\n",
    "\n",
    "    users = [user_manager.get_user(id) for id in users]\n",
    "    return users"
   ]
  },
  {
   "cell_type": "markdown",
   "metadata": {},
   "source": [
    "Foi realizado o teste para verificar se o filtro funciona corretamente. O códidigo acima foi suficiente para passar no teste."
   ]
  },
  {
   "cell_type": "code",
   "execution_count": null,
   "metadata": {},
   "outputs": [],
   "source": [
    "def test_get_users_with_filter_by_schedules(self):\n",
    "        \"\"\"\n",
    "        Test if the users returned match the ones that were set in the \n",
    "        constructor and if they belong to the specified schedules\n",
    "        \"\"\""
   ]
  },
  {
   "cell_type": "markdown",
   "metadata": {},
   "source": [
    "Por fim, foi adicionado o teste para verificar se a função retorna uma lista sem usuários repetidos."
   ]
  },
  {
   "cell_type": "code",
   "execution_count": null,
   "metadata": {},
   "outputs": [],
   "source": [
    "def test_get_users_nonrepeat_users(self):\n",
    "        \"\"\"Test if the users returned are unique\"\"\""
   ]
  },
  {
   "cell_type": "markdown",
   "metadata": {},
   "source": [
    "Foi necessário atualizar o código para passar no teste:"
   ]
  },
  {
   "cell_type": "code",
   "execution_count": null,
   "metadata": {},
   "outputs": [],
   "source": [
    "def get_users(self, filter_schedules = []) -> list:\n",
    "    \"\"\"\n",
    "    Returns the users that are assigned to the task.\n",
    "\n",
    "    Arguments:\n",
    "        filter_schedules -- A list of schedules to filter the users.\n",
    "\n",
    "    Returns:\n",
    "        [str] -- The users that are assigned to the task.\n",
    "    \"\"\"\n",
    "    schedule_manager = ScheduleManagement.get_instance()\n",
    "    if filter_schedules == []:\n",
    "        filter_schedules = self.__schedules\n",
    "    else:\n",
    "        filter_schedules = [schedule for schedule in self.__schedules if schedule in filter_schedules]\n",
    "    users = []\n",
    "    for schedule_id in filter_schedules:\n",
    "        schedule = schedule_manager.get_schedule(schedule_id)\n",
    "        users += list(schedule.permissions.keys())\n",
    "        \n",
    "    users = list(set(users)) # Remove duplicates\n",
    "    \n",
    "    user_manager = UserManagement.get_instance()\n",
    "\n",
    "    users = [user_manager.get_user(id) for id in users]\n",
    "    return users"
   ]
  },
  {
   "cell_type": "markdown",
   "metadata": {},
   "source": [
    "Após refatorar o código, ficamos com:"
   ]
  },
  {
   "cell_type": "code",
   "execution_count": null,
   "metadata": {},
   "outputs": [],
   "source": [
    "def get_users(self, filter_schedules = []) -> list:\n",
    "        \"\"\"\n",
    "        Returns the users that are assigned to the task.\n",
    "\n",
    "        Arguments:\n",
    "            filter_schedules -- A list of schedules to filter the users.\n",
    "\n",
    "        Returns:\n",
    "            [user] -- The users that are assigned to the task.\n",
    "        \"\"\"\n",
    "        schedule_manager = ScheduleManagement.get_instance()\n",
    "        schedules_to_use = filter_schedules or self.__schedules\n",
    "  \n",
    "        users = set()\n",
    "        for schedule_id in schedules_to_use:\n",
    "            schedule = schedule_manager.get_schedule(schedule_id)\n",
    "            users.update(schedule.permissions.keys())\n",
    "        \n",
    "        user_manager = UserManagement.get_instance()\n",
    "        return [user_manager.get_user(id) for id in users]"
   ]
  }
 ],
 "metadata": {
  "language_info": {
   "name": "python"
  }
 },
 "nbformat": 4,
 "nbformat_minor": 2
}
