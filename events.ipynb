{
 "cells": [
  {
   "cell_type": "code",
   "execution_count": 1,
   "metadata": {},
   "outputs": [
    {
     "name": "stdout",
     "output_type": "stream",
     "text": [
      "Evento: Reunião, Início: 2023-01-01 10:00:00, Fim: 2023-01-01 12:00:00\n",
      "Tarefa: Limpar a casa\n",
      "Lembrete: Comprar leite, Data de Vencimento: 2023-01-05 00:00:00\n"
     ]
    }
   ],
   "source": [
    "from datetime import datetime\n",
    "from src.events.event_factory import EventFactory\n",
    "\n",
    "# Criação de eventos usando o Factory Method\n",
    "event_factory = EventFactory()\n",
    "\n",
    "evento = event_factory.create_event(\"evento\", \"Reunião\", datetime(2023, 1, 1, 10, 0), datetime(2023, 1, 1, 12, 0))\n",
    "tarefa = event_factory.create_event(\"tarefa\", \"Limpar a casa\")\n",
    "lembrete = event_factory.create_event(\"lembrete\", \"Comprar leite\", due_date=datetime(2023, 1, 5))\n",
    "\n",
    "# Exibição de informações dos eventos\n",
    "evento.display_info()\n",
    "tarefa.display_info()\n",
    "lembrete.display_info()"
   ]
  },
  {
   "cell_type": "code",
   "execution_count": null,
   "metadata": {},
   "outputs": [],
   "source": []
  },
  {
   "cell_type": "code",
   "execution_count": null,
   "metadata": {},
   "outputs": [],
   "source": []
  }
 ],
 "metadata": {
  "kernelspec": {
   "display_name": "venv",
   "language": "python",
   "name": "python3"
  },
  "language_info": {
   "codemirror_mode": {
    "name": "ipython",
    "version": 3
   },
   "file_extension": ".py",
   "mimetype": "text/x-python",
   "name": "python",
   "nbconvert_exporter": "python",
   "pygments_lexer": "ipython3",
   "version": "3.11.2"
  }
 },
 "nbformat": 4,
 "nbformat_minor": 2
}
