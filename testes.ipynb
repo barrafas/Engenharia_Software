{
 "cells": [
  {
   "cell_type": "markdown",
   "metadata": {},
   "source": [
    "Para executar os testes, basta executar o comando abaixo:\n",
    "\n",
    "```bash\n",
    "python -m pytest\n",
    "```\n",
    "\n",
    "Alternativamente, rode a celula abaixo"
   ]
  },
  {
   "cell_type": "code",
   "execution_count": 1,
   "metadata": {},
   "outputs": [
    {
     "name": "stdout",
     "output_type": "stream",
     "text": [
      "Requirement already satisfied: pytest in e:\\projects-local\\engenharia_software\\venv\\lib\\site-packages (from -r requirements.txt (line 1)) (7.4.3)\n",
      "Requirement already satisfied: bcrypt in e:\\projects-local\\engenharia_software\\venv\\lib\\site-packages (from -r requirements.txt (line 2)) (4.0.1)\n",
      "Requirement already satisfied: iniconfig in e:\\projects-local\\engenharia_software\\venv\\lib\\site-packages (from pytest->-r requirements.txt (line 1)) (2.0.0)\n",
      "Requirement already satisfied: packaging in e:\\projects-local\\engenharia_software\\venv\\lib\\site-packages (from pytest->-r requirements.txt (line 1)) (23.2)\n",
      "Requirement already satisfied: pluggy<2.0,>=0.12 in e:\\projects-local\\engenharia_software\\venv\\lib\\site-packages (from pytest->-r requirements.txt (line 1)) (1.3.0)\n",
      "Requirement already satisfied: colorama in e:\\projects-local\\engenharia_software\\venv\\lib\\site-packages (from pytest->-r requirements.txt (line 1)) (0.4.6)\n",
      "\u001b[1m============================= test session starts =============================\u001b[0m\n",
      "platform win32 -- Python 3.11.2, pytest-7.4.3, pluggy-1.3.0\n",
      "rootdir: e:\\projects-local\\Engenharia_Software\n",
      "collected 12 items\n",
      "\n",
      "tests\\test_auth\\test_authentication_module.py \u001b[31mF\u001b[0m\u001b[31mF\u001b[0m\u001b[31mF\u001b[0m\u001b[31m                        [ 25%]\u001b[0m\n",
      "tests\\test_auth\\test_user_management_module.py \u001b[32m.\u001b[0m\u001b[32m.\u001b[0m\u001b[32m.\u001b[0m\u001b[32m.\u001b[0m\u001b[32m.\u001b[0m\u001b[32m.\u001b[0m\u001b[31m                    [ 75%]\u001b[0m\n",
      "tests\\test_database\\test_document_database_module.py \u001b[32m.\u001b[0m\u001b[32m.\u001b[0m\u001b[32m.\u001b[0m\u001b[31m                 [100%]\u001b[0m\n",
      "\n",
      "================================== FAILURES ===================================\n",
      "\u001b[31m\u001b[1m_____________ TestAuthenticationModule.test_failed_authentication _____________\u001b[0m\n",
      "\n",
      "self = <test_authentication_module.TestAuthenticationModule testMethod=test_failed_authentication>\n",
      "\n",
      "    \u001b[94mdef\u001b[39;49;00m \u001b[92msetUp\u001b[39;49;00m(\u001b[96mself\u001b[39;49;00m):\u001b[90m\u001b[39;49;00m\n",
      "        \u001b[90m# Set up for the tests\u001b[39;49;00m\u001b[90m\u001b[39;49;00m\n",
      "        \u001b[96mself\u001b[39;49;00m.auth_module = Authentication()\u001b[90m\u001b[39;49;00m\n",
      ">       \u001b[96mself\u001b[39;49;00m.user_management_module = UserManagement()\u001b[90m\u001b[39;49;00m\n",
      "\u001b[1m\u001b[31mE       TypeError: UserManagement.__init__() missing 1 required positional argument: 'database_module'\u001b[0m\n",
      "\n",
      "\u001b[1m\u001b[31mtests\\test_auth\\test_authentication_module.py\u001b[0m:9: TypeError\n",
      "\u001b[31m\u001b[1m__________________ TestAuthenticationModule.test_logout_user __________________\u001b[0m\n",
      "\n",
      "self = <test_authentication_module.TestAuthenticationModule testMethod=test_logout_user>\n",
      "\n",
      "    \u001b[94mdef\u001b[39;49;00m \u001b[92msetUp\u001b[39;49;00m(\u001b[96mself\u001b[39;49;00m):\u001b[90m\u001b[39;49;00m\n",
      "        \u001b[90m# Set up for the tests\u001b[39;49;00m\u001b[90m\u001b[39;49;00m\n",
      "        \u001b[96mself\u001b[39;49;00m.auth_module = Authentication()\u001b[90m\u001b[39;49;00m\n",
      ">       \u001b[96mself\u001b[39;49;00m.user_management_module = UserManagement()\u001b[90m\u001b[39;49;00m\n",
      "\u001b[1m\u001b[31mE       TypeError: UserManagement.__init__() missing 1 required positional argument: 'database_module'\u001b[0m\n",
      "\n",
      "\u001b[1m\u001b[31mtests\\test_auth\\test_authentication_module.py\u001b[0m:9: TypeError\n",
      "\u001b[31m\u001b[1m___________ TestAuthenticationModule.test_successful_authentication ___________\u001b[0m\n",
      "\n",
      "self = <test_authentication_module.TestAuthenticationModule testMethod=test_successful_authentication>\n",
      "\n",
      "    \u001b[94mdef\u001b[39;49;00m \u001b[92msetUp\u001b[39;49;00m(\u001b[96mself\u001b[39;49;00m):\u001b[90m\u001b[39;49;00m\n",
      "        \u001b[90m# Set up for the tests\u001b[39;49;00m\u001b[90m\u001b[39;49;00m\n",
      "        \u001b[96mself\u001b[39;49;00m.auth_module = Authentication()\u001b[90m\u001b[39;49;00m\n",
      ">       \u001b[96mself\u001b[39;49;00m.user_management_module = UserManagement()\u001b[90m\u001b[39;49;00m\n",
      "\u001b[1m\u001b[31mE       TypeError: UserManagement.__init__() missing 1 required positional argument: 'database_module'\u001b[0m\n",
      "\n",
      "\u001b[1m\u001b[31mtests\\test_auth\\test_authentication_module.py\u001b[0m:9: TypeError\n",
      "\u001b[36m\u001b[1m=========================== short test summary info ===========================\u001b[0m\n",
      "\u001b[31mFAILED\u001b[0m tests/test_auth/test_authentication_module.py::\u001b[1mTestAuthenticationModule::test_failed_authentication\u001b[0m - TypeError: UserManagement.__init__() missing 1 required positional argument...\n",
      "\u001b[31mFAILED\u001b[0m tests/test_auth/test_authentication_module.py::\u001b[1mTestAuthenticationModule::test_logout_user\u001b[0m - TypeError: UserManagement.__init__() missing 1 required positional argument...\n",
      "\u001b[31mFAILED\u001b[0m tests/test_auth/test_authentication_module.py::\u001b[1mTestAuthenticationModule::test_successful_authentication\u001b[0m - TypeError: UserManagement.__init__() missing 1 required positional argument...\n",
      "\u001b[31m========================= \u001b[31m\u001b[1m3 failed\u001b[0m, \u001b[32m9 passed\u001b[0m\u001b[31m in 1.51s\u001b[0m\u001b[31m =========================\u001b[0m\n"
     ]
    }
   ],
   "source": [
    "!pip install -r requirements.txt\n",
    "!python -m pytest"
   ]
  },
  {
   "cell_type": "code",
   "execution_count": 2,
   "metadata": {},
   "outputs": [
    {
     "name": "stdout",
     "output_type": "stream",
     "text": [
      "Requirement already satisfied: coverage in e:\\projects-local\\engenharia_software\\venv\\lib\\site-packages (7.3.2)\n"
     ]
    }
   ],
   "source": [
    "!pip install coverage"
   ]
  },
  {
   "cell_type": "code",
   "execution_count": 9,
   "metadata": {},
   "outputs": [
    {
     "name": "stdout",
     "output_type": "stream",
     "text": [
      "\u001b[1m============================= test session starts =============================\u001b[0m\n",
      "platform win32 -- Python 3.11.2, pytest-7.4.3, pluggy-1.3.0\n",
      "rootdir: e:\\projects-local\\Engenharia_Software\n",
      "collected 9 items\n",
      "\n",
      "tests\\test_auth\\test_authentication_module.py \u001b[32m.\u001b[0m\u001b[32m.\u001b[0m\u001b[32m.\u001b[0m\u001b[32m                        [ 33%]\u001b[0m\n",
      "tests\\test_auth\\test_user_management_module.py \u001b[32m.\u001b[0m\u001b[32m.\u001b[0m\u001b[32m.\u001b[0m\u001b[32m.\u001b[0m\u001b[32m.\u001b[0m\u001b[32m.\u001b[0m\u001b[32m                    [100%]\u001b[0m\n",
      "\n",
      "\u001b[32m============================== \u001b[32m\u001b[1m9 passed\u001b[0m\u001b[32m in 2.71s\u001b[0m\u001b[32m ==============================\u001b[0m\n"
     ]
    }
   ],
   "source": [
    "!coverage run -m pytest"
   ]
  },
  {
   "cell_type": "code",
   "execution_count": 13,
   "metadata": {},
   "outputs": [
    {
     "name": "stdout",
     "output_type": "stream",
     "text": [
      "The autoreload extension is already loaded. To reload it, use:\n",
      "  %reload_ext autoreload\n"
     ]
    }
   ],
   "source": [
    "%load_ext autoreload\n",
    "%autoreload 2"
   ]
  },
  {
   "cell_type": "code",
   "execution_count": 4,
   "metadata": {},
   "outputs": [
    {
     "name": "stdout",
     "output_type": "stream",
     "text": [
      "Name                                                   Stmts   Miss  Cover   Missing\n",
      "------------------------------------------------------------------------------------\n",
      "src\\auth\\authentication.py                                 4      0   100%\n",
      "src\\auth\\user_management.py                               31      4    87%   45, 83-85\n",
      "src\\database\\database_module.py                           10      0   100%\n",
      "src\\database\\text_document_module.py                      35      2    94%   18, 22\n",
      "tests\\test_auth\\test_authentication_module.py             19      8    58%   12, 16-17, 21-22, 26-27, 30\n",
      "tests\\test_auth\\test_user_management_module.py            37      7    81%   19, 24-26, 37-38, 62\n",
      "tests\\test_database\\test_document_database_module.py      26      1    96%   49\n",
      "------------------------------------------------------------------------------------\n",
      "TOTAL                                                    162     22    86%\n"
     ]
    }
   ],
   "source": [
    "# explicação do copitot:\n",
    "# Name: nome do arquivo testado\n",
    "# Stmts: número de linhas executadas\n",
    "# Miss: número de linhas não executadas\n",
    "# Cover: porcentagem de cobertura\n",
    "# Missing: linhas não executadas\n",
    "!coverage report -m"
   ]
  },
  {
   "cell_type": "markdown",
   "metadata": {},
   "source": [
    "Rode a célula (ou o comando) abaixo para gerar um relatório de cobertura em html dos testes:"
   ]
  },
  {
   "cell_type": "code",
   "execution_count": 5,
   "metadata": {},
   "outputs": [
    {
     "name": "stdout",
     "output_type": "stream",
     "text": [
      "Wrote HTML report to htmlcov\\index.html\n"
     ]
    }
   ],
   "source": [
    "!coverage html"
   ]
  },
  {
   "cell_type": "code",
   "execution_count": 36,
   "metadata": {},
   "outputs": [
    {
     "name": "stdout",
     "output_type": "stream",
     "text": [
      "\u001b[1m============================= test session starts =============================\u001b[0m\n",
      "platform win32 -- Python 3.11.2, pytest-7.4.3, pluggy-1.3.0\n",
      "rootdir: e:\\projects-local\\Engenharia_Software\n",
      "collected 3 items\n",
      "\n",
      "tests\\test_auth\\test_authentication_module.py \u001b[32m.\u001b[0m\u001b[32m.\u001b[0m\u001b[32m.\u001b[0m\u001b[32m                        [100%]\u001b[0m\n",
      "\n",
      "\u001b[32m============================== \u001b[32m\u001b[1m3 passed\u001b[0m\u001b[32m in 1.13s\u001b[0m\u001b[32m ==============================\u001b[0m\n"
     ]
    }
   ],
   "source": [
    "# rodando um teste específico\n",
    "!coverage run -m pytest tests/test_auth/test_authentication_module.py"
   ]
  },
  {
   "cell_type": "code",
   "execution_count": 7,
   "metadata": {},
   "outputs": [],
   "source": []
  },
  {
   "cell_type": "code",
   "execution_count": null,
   "metadata": {},
   "outputs": [],
   "source": []
  },
  {
   "cell_type": "code",
   "execution_count": null,
   "metadata": {},
   "outputs": [],
   "source": []
  }
 ],
 "metadata": {
  "kernelspec": {
   "display_name": "Python 3",
   "language": "python",
   "name": "python3"
  },
  "language_info": {
   "codemirror_mode": {
    "name": "ipython",
    "version": 3
   },
   "file_extension": ".py",
   "mimetype": "text/x-python",
   "name": "python",
   "nbconvert_exporter": "python",
   "pygments_lexer": "ipython3",
   "version": "3.11.2"
  }
 },
 "nbformat": 4,
 "nbformat_minor": 2
}
