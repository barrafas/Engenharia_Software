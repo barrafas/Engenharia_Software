{
 "cells": [
  {
   "cell_type": "markdown",
   "metadata": {},
   "source": [
    "Para executar os testes, basta executar o comando abaixo:\n",
    "\n",
    "```bash\n",
    "python -m pytest\n",
    "```\n",
    "\n",
    "Alternativamente, rode a celula abaixo"
   ]
  },
  {
   "cell_type": "code",
   "execution_count": 46,
   "metadata": {},
   "outputs": [
    {
     "name": "stdout",
     "output_type": "stream",
     "text": [
      "Requirement already satisfied: pytest in c:\\users\\rodrigopintucci\\appdata\\local\\packages\\pythonsoftwarefoundation.python.3.9_qbz5n2kfra8p0\\localcache\\local-packages\\python39\\site-packages (from -r requirements.txt (line 1)) (7.4.3)\n",
      "Requirement already satisfied: bcrypt in c:\\users\\rodrigopintucci\\appdata\\local\\packages\\pythonsoftwarefoundation.python.3.9_qbz5n2kfra8p0\\localcache\\local-packages\\python39\\site-packages (from -r requirements.txt (line 2)) (4.1.1)\n",
      "Requirement already satisfied: colorama in c:\\users\\rodrigopintucci\\appdata\\local\\packages\\pythonsoftwarefoundation.python.3.9_qbz5n2kfra8p0\\localcache\\local-packages\\python39\\site-packages (from pytest->-r requirements.txt (line 1)) (0.3.9)\n",
      "Requirement already satisfied: exceptiongroup>=1.0.0rc8 in c:\\users\\rodrigopintucci\\appdata\\local\\packages\\pythonsoftwarefoundation.python.3.9_qbz5n2kfra8p0\\localcache\\local-packages\\python39\\site-packages (from pytest->-r requirements.txt (line 1)) (1.2.0)\n",
      "Requirement already satisfied: packaging in c:\\users\\rodrigopintucci\\appdata\\local\\packages\\pythonsoftwarefoundation.python.3.9_qbz5n2kfra8p0\\localcache\\local-packages\\python39\\site-packages (from pytest->-r requirements.txt (line 1)) (21.3)\n",
      "Requirement already satisfied: tomli>=1.0.0 in c:\\users\\rodrigopintucci\\appdata\\local\\packages\\pythonsoftwarefoundation.python.3.9_qbz5n2kfra8p0\\localcache\\local-packages\\python39\\site-packages (from pytest->-r requirements.txt (line 1)) (2.0.1)\n",
      "Requirement already satisfied: iniconfig in c:\\users\\rodrigopintucci\\appdata\\local\\packages\\pythonsoftwarefoundation.python.3.9_qbz5n2kfra8p0\\localcache\\local-packages\\python39\\site-packages (from pytest->-r requirements.txt (line 1)) (2.0.0)\n",
      "Requirement already satisfied: pluggy<2.0,>=0.12 in c:\\users\\rodrigopintucci\\appdata\\local\\packages\\pythonsoftwarefoundation.python.3.9_qbz5n2kfra8p0\\localcache\\local-packages\\python39\\site-packages (from pytest->-r requirements.txt (line 1)) (1.3.0)\n",
      "Requirement already satisfied: pyparsing!=3.0.5,>=2.0.2 in c:\\users\\rodrigopintucci\\appdata\\local\\packages\\pythonsoftwarefoundation.python.3.9_qbz5n2kfra8p0\\localcache\\local-packages\\python39\\site-packages (from packaging->pytest->-r requirements.txt (line 1)) (3.0.9)\n"
     ]
    },
    {
     "name": "stderr",
     "output_type": "stream",
     "text": [
      "\n",
      "[notice] A new release of pip available: 22.3.1 -> 23.3.1\n",
      "[notice] To update, run: C:\\Users\\RodrigoPintucci\\AppData\\Local\\Microsoft\\WindowsApps\\PythonSoftwareFoundation.Python.3.9_qbz5n2kfra8p0\\python.exe -m pip install --upgrade pip\n"
     ]
    },
    {
     "name": "stdout",
     "output_type": "stream",
     "text": [
      "============================= test session starts =============================\n",
      "platform win32 -- Python 3.9.13, pytest-7.4.3, pluggy-1.3.0\n",
      "rootdir: c:\\Users\\RodrigoPintucci\\Documents\\EngenhariaSoftware\\Engenharia_Software\n",
      "collected 15 items / 2 errors\n",
      "\n",
      "=================================== ERRORS ====================================\n",
      "_______ ERROR collecting tests/test_auth/test_authentication_module.py ________\n",
      "ImportError while importing test module 'c:\\Users\\RodrigoPintucci\\Documents\\EngenhariaSoftware\\Engenharia_Software\\tests\\test_auth\\test_authentication_module.py'.\n",
      "Hint: make sure your test modules/packages have valid Python names.\n",
      "Traceback:\n",
      "C:\\Program Files\\WindowsApps\\PythonSoftwareFoundation.Python.3.9_3.9.3568.0_x64__qbz5n2kfra8p0\\lib\\importlib\\__init__.py:127: in import_module\n",
      "    return _bootstrap._gcd_import(name[level:], package, level)\n",
      "tests\\test_auth\\test_authentication_module.py:11: in <module>\n",
      "    from src.auth.user_management import UserManagement\n",
      "E   ModuleNotFoundError: No module named 'src.auth.user_management'\n",
      "______ ERROR collecting tests/test_schedule/test_schedule_management.py _______\n",
      "..\\..\\..\\AppData\\Local\\Packages\\PythonSoftwareFoundation.Python.3.9_qbz5n2kfra8p0\\LocalCache\\local-packages\\Python39\\site-packages\\_pytest\\runner.py:341: in from_call\n",
      "    result: Optional[TResult] = func()\n",
      "..\\..\\..\\AppData\\Local\\Packages\\PythonSoftwareFoundation.Python.3.9_qbz5n2kfra8p0\\LocalCache\\local-packages\\Python39\\site-packages\\_pytest\\runner.py:372: in <lambda>\n",
      "    call = CallInfo.from_call(lambda: list(collector.collect()), \"collect\")\n",
      "..\\..\\..\\AppData\\Local\\Packages\\PythonSoftwareFoundation.Python.3.9_qbz5n2kfra8p0\\LocalCache\\local-packages\\Python39\\site-packages\\_pytest\\python.py:531: in collect\n",
      "    self._inject_setup_module_fixture()\n",
      "..\\..\\..\\AppData\\Local\\Packages\\PythonSoftwareFoundation.Python.3.9_qbz5n2kfra8p0\\LocalCache\\local-packages\\Python39\\site-packages\\_pytest\\python.py:545: in _inject_setup_module_fixture\n",
      "    self.obj, (\"setUpModule\", \"setup_module\")\n",
      "..\\..\\..\\AppData\\Local\\Packages\\PythonSoftwareFoundation.Python.3.9_qbz5n2kfra8p0\\LocalCache\\local-packages\\Python39\\site-packages\\_pytest\\python.py:310: in obj\n",
      "    self._obj = obj = self._getobj()\n",
      "..\\..\\..\\AppData\\Local\\Packages\\PythonSoftwareFoundation.Python.3.9_qbz5n2kfra8p0\\LocalCache\\local-packages\\Python39\\site-packages\\_pytest\\python.py:528: in _getobj\n",
      "    return self._importtestmodule()\n",
      "..\\..\\..\\AppData\\Local\\Packages\\PythonSoftwareFoundation.Python.3.9_qbz5n2kfra8p0\\LocalCache\\local-packages\\Python39\\site-packages\\_pytest\\python.py:617: in _importtestmodule\n",
      "    mod = import_path(self.path, mode=importmode, root=self.config.rootpath)\n",
      "..\\..\\..\\AppData\\Local\\Packages\\PythonSoftwareFoundation.Python.3.9_qbz5n2kfra8p0\\LocalCache\\local-packages\\Python39\\site-packages\\_pytest\\pathlib.py:567: in import_path\n",
      "    importlib.import_module(module_name)\n",
      "C:\\Program Files\\WindowsApps\\PythonSoftwareFoundation.Python.3.9_3.9.3568.0_x64__qbz5n2kfra8p0\\lib\\importlib\\__init__.py:127: in import_module\n",
      "    return _bootstrap._gcd_import(name[level:], package, level)\n",
      "<frozen importlib._bootstrap>:1030: in _gcd_import\n",
      "    ???\n",
      "<frozen importlib._bootstrap>:1007: in _find_and_load\n",
      "    ???\n",
      "<frozen importlib._bootstrap>:986: in _find_and_load_unlocked\n",
      "    ???\n",
      "<frozen importlib._bootstrap>:680: in _load_unlocked\n",
      "    ???\n",
      "..\\..\\..\\AppData\\Local\\Packages\\PythonSoftwareFoundation.Python.3.9_qbz5n2kfra8p0\\LocalCache\\local-packages\\Python39\\site-packages\\_pytest\\assertion\\rewrite.py:186: in exec_module\n",
      "    exec(co, module.__dict__)\n",
      "tests\\test_schedule\\test_schedule_management.py:2: in <module>\n",
      "    from src.schedule.schedule_management import ScheduleManagement\n",
      "src\\schedule\\schedule_management.py:3: in <module>\n",
      "    class ScheduleManagement:\n",
      "src\\schedule\\schedule_management.py:17: in ScheduleManagement\n",
      "    def get_instance(cls, database_module: DatabaseModule, schedules: dict = None):\n",
      "E   NameError: name 'DatabaseModule' is not defined\n",
      "=========================== short test summary info ===========================\n",
      "ERROR tests/test_auth/test_authentication_module.py\n",
      "ERROR tests/test_schedule/test_schedule_management.py - NameError: name 'Data...\n",
      "!!!!!!!!!!!!!!!!!!! Interrupted: 2 errors during collection !!!!!!!!!!!!!!!!!!!\n",
      "============================== 2 errors in 0.36s ==============================\n"
     ]
    }
   ],
   "source": [
    "!pip install -r requirements.txt\n",
    "!python -m pytest"
   ]
  },
  {
   "cell_type": "code",
   "execution_count": 47,
   "metadata": {},
   "outputs": [
    {
     "name": "stdout",
     "output_type": "stream",
     "text": [
      "Requirement already satisfied: coverage in c:\\users\\rodrigopintucci\\appdata\\local\\packages\\pythonsoftwarefoundation.python.3.9_qbz5n2kfra8p0\\localcache\\local-packages\\python39\\site-packages (7.3.2)\n"
     ]
    },
    {
     "name": "stderr",
     "output_type": "stream",
     "text": [
      "\n",
      "[notice] A new release of pip available: 22.3.1 -> 23.3.1\n",
      "[notice] To update, run: C:\\Users\\RodrigoPintucci\\AppData\\Local\\Microsoft\\WindowsApps\\PythonSoftwareFoundation.Python.3.9_qbz5n2kfra8p0\\python.exe -m pip install --upgrade pip\n"
     ]
    }
   ],
   "source": [
    "!pip install coverage"
   ]
  },
  {
   "cell_type": "code",
   "execution_count": 48,
   "metadata": {},
   "outputs": [
    {
     "name": "stdout",
     "output_type": "stream",
     "text": [
      "============================= test session starts =============================\n",
      "platform win32 -- Python 3.9.13, pytest-7.4.3, pluggy-1.3.0\n",
      "rootdir: c:\\Users\\RodrigoPintucci\\Documents\\EngenhariaSoftware\\Engenharia_Software\n",
      "collected 15 items / 2 errors\n",
      "\n",
      "=================================== ERRORS ====================================\n",
      "_______ ERROR collecting tests/test_auth/test_authentication_module.py ________\n",
      "ImportError while importing test module 'c:\\Users\\RodrigoPintucci\\Documents\\EngenhariaSoftware\\Engenharia_Software\\tests\\test_auth\\test_authentication_module.py'.\n",
      "Hint: make sure your test modules/packages have valid Python names.\n",
      "Traceback:\n",
      "C:\\Program Files\\WindowsApps\\PythonSoftwareFoundation.Python.3.9_3.9.3568.0_x64__qbz5n2kfra8p0\\lib\\importlib\\__init__.py:127: in import_module\n",
      "    return _bootstrap._gcd_import(name[level:], package, level)\n",
      "tests\\test_auth\\test_authentication_module.py:11: in <module>\n",
      "    from src.auth.user_management import UserManagement\n",
      "E   ModuleNotFoundError: No module named 'src.auth.user_management'\n",
      "______ ERROR collecting tests/test_schedule/test_schedule_management.py _______\n",
      "..\\..\\..\\AppData\\Local\\Packages\\PythonSoftwareFoundation.Python.3.9_qbz5n2kfra8p0\\LocalCache\\local-packages\\Python39\\site-packages\\_pytest\\runner.py:341: in from_call\n",
      "    result: Optional[TResult] = func()\n",
      "..\\..\\..\\AppData\\Local\\Packages\\PythonSoftwareFoundation.Python.3.9_qbz5n2kfra8p0\\LocalCache\\local-packages\\Python39\\site-packages\\_pytest\\runner.py:372: in <lambda>\n",
      "    call = CallInfo.from_call(lambda: list(collector.collect()), \"collect\")\n",
      "..\\..\\..\\AppData\\Local\\Packages\\PythonSoftwareFoundation.Python.3.9_qbz5n2kfra8p0\\LocalCache\\local-packages\\Python39\\site-packages\\_pytest\\python.py:531: in collect\n",
      "    self._inject_setup_module_fixture()\n",
      "..\\..\\..\\AppData\\Local\\Packages\\PythonSoftwareFoundation.Python.3.9_qbz5n2kfra8p0\\LocalCache\\local-packages\\Python39\\site-packages\\_pytest\\python.py:545: in _inject_setup_module_fixture\n",
      "    self.obj, (\"setUpModule\", \"setup_module\")\n",
      "..\\..\\..\\AppData\\Local\\Packages\\PythonSoftwareFoundation.Python.3.9_qbz5n2kfra8p0\\LocalCache\\local-packages\\Python39\\site-packages\\_pytest\\python.py:310: in obj\n",
      "    self._obj = obj = self._getobj()\n",
      "..\\..\\..\\AppData\\Local\\Packages\\PythonSoftwareFoundation.Python.3.9_qbz5n2kfra8p0\\LocalCache\\local-packages\\Python39\\site-packages\\_pytest\\python.py:528: in _getobj\n",
      "    return self._importtestmodule()\n",
      "..\\..\\..\\AppData\\Local\\Packages\\PythonSoftwareFoundation.Python.3.9_qbz5n2kfra8p0\\LocalCache\\local-packages\\Python39\\site-packages\\_pytest\\python.py:617: in _importtestmodule\n",
      "    mod = import_path(self.path, mode=importmode, root=self.config.rootpath)\n",
      "..\\..\\..\\AppData\\Local\\Packages\\PythonSoftwareFoundation.Python.3.9_qbz5n2kfra8p0\\LocalCache\\local-packages\\Python39\\site-packages\\_pytest\\pathlib.py:567: in import_path\n",
      "    importlib.import_module(module_name)\n",
      "C:\\Program Files\\WindowsApps\\PythonSoftwareFoundation.Python.3.9_3.9.3568.0_x64__qbz5n2kfra8p0\\lib\\importlib\\__init__.py:127: in import_module\n",
      "    return _bootstrap._gcd_import(name[level:], package, level)\n",
      "<frozen importlib._bootstrap>:1030: in _gcd_import\n",
      "    ???\n",
      "<frozen importlib._bootstrap>:1007: in _find_and_load\n",
      "    ???\n",
      "<frozen importlib._bootstrap>:986: in _find_and_load_unlocked\n",
      "    ???\n",
      "<frozen importlib._bootstrap>:680: in _load_unlocked\n",
      "    ???\n",
      "..\\..\\..\\AppData\\Local\\Packages\\PythonSoftwareFoundation.Python.3.9_qbz5n2kfra8p0\\LocalCache\\local-packages\\Python39\\site-packages\\_pytest\\assertion\\rewrite.py:186: in exec_module\n",
      "    exec(co, module.__dict__)\n",
      "tests\\test_schedule\\test_schedule_management.py:2: in <module>\n",
      "    from src.schedule.schedule_management import ScheduleManagement\n",
      "src\\schedule\\schedule_management.py:3: in <module>\n",
      "    class ScheduleManagement:\n",
      "src\\schedule\\schedule_management.py:17: in ScheduleManagement\n",
      "    def get_instance(cls, database_module: DatabaseModule, schedules: dict = None):\n",
      "E   NameError: name 'DatabaseModule' is not defined\n",
      "=========================== short test summary info ===========================\n",
      "ERROR tests/test_auth/test_authentication_module.py\n",
      "ERROR tests/test_schedule/test_schedule_management.py - NameError: name 'Data...\n",
      "!!!!!!!!!!!!!!!!!!! Interrupted: 2 errors during collection !!!!!!!!!!!!!!!!!!!\n",
      "============================== 2 errors in 0.48s ==============================\n"
     ]
    }
   ],
   "source": [
    "!coverage run -m pytest"
   ]
  },
  {
   "cell_type": "code",
   "execution_count": 49,
   "metadata": {},
   "outputs": [
    {
     "name": "stdout",
     "output_type": "stream",
     "text": [
      "The autoreload extension is already loaded. To reload it, use:\n",
      "  %reload_ext autoreload\n"
     ]
    }
   ],
   "source": [
    "%load_ext autoreload\n",
    "%autoreload 2"
   ]
  },
  {
   "cell_type": "code",
   "execution_count": 50,
   "metadata": {},
   "outputs": [
    {
     "name": "stdout",
     "output_type": "stream",
     "text": [
      "Name                                              Stmts   Miss  Cover   Missing\n",
      "-------------------------------------------------------------------------------\n",
      "src\\__init__.py                                       0      0   100%\n",
      "src\\auth\\__init__.py                                  0      0   100%\n",
      "src\\auth\\authentication.py                           22     14    36%   46-47, 57-69, 79, 88\n",
      "src\\calendar_elements\\__init__.py                     0      0   100%\n",
      "src\\calendar_elements\\element_interface.py            9      0   100%\n",
      "src\\database\\__init__.py                              0      0   100%\n",
      "src\\database\\database_module.py                      10      0   100%\n",
      "src\\database\\text_document_module.py                 60     48    20%   7, 10-27, 30, 33-49, 52-62, 65-66, 69-70, 73-77\n",
      "src\\schedule\\__init__.py                              0      0   100%\n",
      "src\\schedule\\schedule_management.py                  23     18    22%   18-107\n",
      "src\\schedule\\schedule_model.py                       27     13    52%   26-30, 34, 38, 42, 52, 66, 76, 85, 95\n",
      "src\\user\\__init__.py                                  0      0   100%\n",
      "src\\user\\user_management.py                          37     23    38%   41, 58-73, 86-89, 102-104, 116-118, 130-132\n",
      "src\\user\\user_model.py                               18     10    44%   3-7, 10, 13, 23, 32, 35\n",
      "tests\\__init__.py                                     0      0   100%\n",
      "tests\\test_auth\\__init__.py                           0      0   100%\n",
      "tests\\test_auth\\test_authentication_module.py        23     19    17%   14-72\n",
      "tests\\test_schedule\\__init__.py                       0      0   100%\n",
      "tests\\test_schedule\\test_schedule_management.py       9      7    22%   4-21\n",
      "tests\\test_schedule\\test_schedule_model.py           42     27    36%   9-22, 26, 30, 34, 38-40, 44-45, 49-50, 54-56, 60-61, 65-66, 70\n",
      "tests\\test_uesrs\\__init__.py                          0      0   100%\n",
      "tests\\test_uesrs\\test_user_management_module.py      40     26    35%   11-18, 22-23, 27-30, 34-36, 40-42, 46-47, 51-62, 66, 70\n",
      "-------------------------------------------------------------------------------\n",
      "TOTAL                                               320    205    36%\n"
     ]
    }
   ],
   "source": [
    "# explicação do copitot:\n",
    "# Name: nome do arquivo testado\n",
    "# Stmts: número de linhas executadas\n",
    "# Miss: número de linhas não executadas\n",
    "# Cover: porcentagem de cobertura\n",
    "# Missing: linhas não executadas\n",
    "!coverage report -m"
   ]
  },
  {
   "cell_type": "markdown",
   "metadata": {},
   "source": [
    "Rode a célula (ou o comando) abaixo para gerar um relatório de cobertura em html dos testes:"
   ]
  },
  {
   "cell_type": "code",
   "execution_count": 51,
   "metadata": {},
   "outputs": [
    {
     "name": "stdout",
     "output_type": "stream",
     "text": [
      "Wrote HTML report to htmlcov\\index.html\n"
     ]
    }
   ],
   "source": [
    "!coverage html"
   ]
  },
  {
   "cell_type": "code",
   "execution_count": 52,
   "metadata": {},
   "outputs": [
    {
     "name": "stdout",
     "output_type": "stream",
     "text": [
      "============================= test session starts =============================\n",
      "platform win32 -- Python 3.9.13, pytest-7.4.3, pluggy-1.3.0\n",
      "rootdir: c:\\Users\\RodrigoPintucci\\Documents\\EngenhariaSoftware\\Engenharia_Software\n",
      "collected 9 items\n",
      "\n",
      "tests\\test_schedule\\test_schedule_model.py ...FF.FF.                     [100%]\n",
      "\n",
      "================================== FAILURES ===================================\n",
      "_________________ TestScheduleModel.test_set_description_none _________________\n",
      "\n",
      "self = <tests.test_schedule.test_schedule_model.TestScheduleModel testMethod=test_set_description_none>\n",
      "\n",
      "    def test_set_description_none(self):\n",
      "        # Test setting a description that is None\n",
      "        with self.assertRaises(ValueError):\n",
      ">           self.schedule.set_description(None)\n",
      "E           AssertionError: ValueError not raised\n",
      "\n",
      "tests\\test_schedule\\test_schedule_model.py:66: AssertionError\n",
      "______________ TestScheduleModel.test_set_description_not_string ______________\n",
      "\n",
      "self = <tests.test_schedule.test_schedule_model.TestScheduleModel testMethod=test_set_description_not_string>\n",
      "\n",
      "    def test_set_description_not_string(self):\n",
      "        # Test setting a description that is not a string\n",
      "        with self.assertRaises(TypeError):\n",
      ">           self.schedule.set_description(123)\n",
      "E           AssertionError: TypeError not raised\n",
      "\n",
      "tests\\test_schedule\\test_schedule_model.py:61: AssertionError\n",
      "____________________ TestScheduleModel.test_set_title_none ____________________\n",
      "\n",
      "self = <tests.test_schedule.test_schedule_model.TestScheduleModel testMethod=test_set_title_none>\n",
      "\n",
      "    def test_set_title_none(self):\n",
      "        # Test setting a title that is None\n",
      "        with self.assertRaises(ValueError):\n",
      ">           self.schedule.set_title(None)\n",
      "E           AssertionError: ValueError not raised\n",
      "\n",
      "tests\\test_schedule\\test_schedule_model.py:50: AssertionError\n",
      "_________________ TestScheduleModel.test_set_title_not_string _________________\n",
      "\n",
      "self = <tests.test_schedule.test_schedule_model.TestScheduleModel testMethod=test_set_title_not_string>\n",
      "\n",
      "    def test_set_title_not_string(self):\n",
      "        # Test setting a title that is not a string\n",
      "        with self.assertRaises(TypeError):\n",
      ">           self.schedule.set_title(123)\n",
      "E           AssertionError: TypeError not raised\n",
      "\n",
      "tests\\test_schedule\\test_schedule_model.py:45: AssertionError\n",
      "=========================== short test summary info ===========================\n",
      "FAILED tests/test_schedule/test_schedule_model.py::TestScheduleModel::test_set_description_none\n",
      "FAILED tests/test_schedule/test_schedule_model.py::TestScheduleModel::test_set_description_not_string\n",
      "FAILED tests/test_schedule/test_schedule_model.py::TestScheduleModel::test_set_title_none\n",
      "FAILED tests/test_schedule/test_schedule_model.py::TestScheduleModel::test_set_title_not_string\n",
      "========================= 4 failed, 5 passed in 0.15s =========================\n"
     ]
    }
   ],
   "source": [
    "# rodando um teste específico\n",
    "#!coverage run -m pytest tests/test_auth/test_user_management_module.py\n",
    "!coverage run -m pytest tests/test_schedule/test_schedule_model.py"
   ]
  }
 ],
 "metadata": {
  "kernelspec": {
   "display_name": "Python 3",
   "language": "python",
   "name": "python3"
  },
  "language_info": {
   "codemirror_mode": {
    "name": "ipython",
    "version": 3
   },
   "file_extension": ".py",
   "mimetype": "text/x-python",
   "name": "python",
   "nbconvert_exporter": "python",
   "pygments_lexer": "ipython3",
   "version": "3.9.13"
  }
 },
 "nbformat": 4,
 "nbformat_minor": 2
}
