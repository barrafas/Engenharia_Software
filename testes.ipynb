{
 "cells": [
  {
   "cell_type": "markdown",
   "metadata": {},
   "source": [
    "Para executar os testes, basta executar o comando abaixo:\n",
    "\n",
    "```bash\n",
    "python -m pytest\n",
    "```\n",
    "\n",
    "Alternativamente, rode a celula abaixo"
   ]
  },
  {
   "cell_type": "code",
<<<<<<< HEAD
   "execution_count": 537,
=======
   "execution_count": 103,
>>>>>>> 437e404a107165ee0a06de9c03e2bc32530d194a
   "metadata": {},
   "outputs": [
    {
     "name": "stdout",
     "output_type": "stream",
     "text": [
<<<<<<< HEAD
      "Requirement already satisfied: pytest in c:\\users\\rodrigopintucci\\appdata\\local\\packages\\pythonsoftwarefoundation.python.3.9_qbz5n2kfra8p0\\localcache\\local-packages\\python39\\site-packages (from -r requirements.txt (line 1)) (7.4.3)\n",
      "Requirement already satisfied: bcrypt in c:\\users\\rodrigopintucci\\appdata\\local\\packages\\pythonsoftwarefoundation.python.3.9_qbz5n2kfra8p0\\localcache\\local-packages\\python39\\site-packages (from -r requirements.txt (line 2)) (4.1.1)\n",
      "Requirement already satisfied: packaging in c:\\users\\rodrigopintucci\\appdata\\local\\packages\\pythonsoftwarefoundation.python.3.9_qbz5n2kfra8p0\\localcache\\local-packages\\python39\\site-packages (from pytest->-r requirements.txt (line 1)) (21.3)\n",
      "Requirement already satisfied: iniconfig in c:\\users\\rodrigopintucci\\appdata\\local\\packages\\pythonsoftwarefoundation.python.3.9_qbz5n2kfra8p0\\localcache\\local-packages\\python39\\site-packages (from pytest->-r requirements.txt (line 1)) (2.0.0)\n",
      "Requirement already satisfied: exceptiongroup>=1.0.0rc8 in c:\\users\\rodrigopintucci\\appdata\\local\\packages\\pythonsoftwarefoundation.python.3.9_qbz5n2kfra8p0\\localcache\\local-packages\\python39\\site-packages (from pytest->-r requirements.txt (line 1)) (1.2.0)\n",
      "Requirement already satisfied: pluggy<2.0,>=0.12 in c:\\users\\rodrigopintucci\\appdata\\local\\packages\\pythonsoftwarefoundation.python.3.9_qbz5n2kfra8p0\\localcache\\local-packages\\python39\\site-packages (from pytest->-r requirements.txt (line 1)) (1.3.0)\n",
      "Requirement already satisfied: colorama in c:\\users\\rodrigopintucci\\appdata\\local\\packages\\pythonsoftwarefoundation.python.3.9_qbz5n2kfra8p0\\localcache\\local-packages\\python39\\site-packages (from pytest->-r requirements.txt (line 1)) (0.3.9)\n",
      "Requirement already satisfied: tomli>=1.0.0 in c:\\users\\rodrigopintucci\\appdata\\local\\packages\\pythonsoftwarefoundation.python.3.9_qbz5n2kfra8p0\\localcache\\local-packages\\python39\\site-packages (from pytest->-r requirements.txt (line 1)) (2.0.1)\n",
      "Requirement already satisfied: pyparsing!=3.0.5,>=2.0.2 in c:\\users\\rodrigopintucci\\appdata\\local\\packages\\pythonsoftwarefoundation.python.3.9_qbz5n2kfra8p0\\localcache\\local-packages\\python39\\site-packages (from packaging->pytest->-r requirements.txt (line 1)) (3.0.9)\n"
     ]
    },
    {
     "name": "stderr",
     "output_type": "stream",
     "text": [
      "\n",
      "[notice] A new release of pip available: 22.3.1 -> 23.3.1\n",
      "[notice] To update, run: C:\\Users\\RodrigoPintucci\\AppData\\Local\\Microsoft\\WindowsApps\\PythonSoftwareFoundation.Python.3.9_qbz5n2kfra8p0\\python.exe -m pip install --upgrade pip\n"
     ]
    },
    {
     "name": "stdout",
     "output_type": "stream",
     "text": [
      "============================= test session starts =============================\n",
      "platform win32 -- Python 3.9.13, pytest-7.4.3, pluggy-1.3.0\n",
      "rootdir: c:\\Users\\RodrigoPintucci\\Documents\\EngenhariaSoftware\\Engenharia_Software\n",
      "collected 62 items / 1 error\n",
      "\n",
      "=================================== ERRORS ====================================\n",
      "_______ ERROR collecting tests/test_auth/test_authentication_module.py ________\n",
      "ImportError while importing test module 'c:\\Users\\RodrigoPintucci\\Documents\\EngenhariaSoftware\\Engenharia_Software\\tests\\test_auth\\test_authentication_module.py'.\n",
      "Hint: make sure your test modules/packages have valid Python names.\n",
      "Traceback:\n",
      "C:\\Program Files\\WindowsApps\\PythonSoftwareFoundation.Python.3.9_3.9.3568.0_x64__qbz5n2kfra8p0\\lib\\importlib\\__init__.py:127: in import_module\n",
      "    return _bootstrap._gcd_import(name[level:], package, level)\n",
      "tests\\test_auth\\test_authentication_module.py:11: in <module>\n",
      "    from src.auth.user_management import UserManagement\n",
      "E   ModuleNotFoundError: No module named 'src.auth.user_management'\n",
      "=========================== short test summary info ===========================\n",
      "ERROR tests/test_auth/test_authentication_module.py\n",
      "!!!!!!!!!!!!!!!!!!! Interrupted: 1 error during collection !!!!!!!!!!!!!!!!!!!!\n",
      "============================== 1 error in 0.50s ===============================\n"
=======
      "Requirement already satisfied: pytest in c:\\users\\cole\\appdata\\local\\programs\\python\\python311\\lib\\site-packages (from -r requirements.txt (line 1)) (7.4.3)\n",
      "Requirement already satisfied: bcrypt in c:\\users\\cole\\appdata\\local\\programs\\python\\python311\\lib\\site-packages (from -r requirements.txt (line 2)) (4.1.1)\n",
      "Requirement already satisfied: iniconfig in c:\\users\\cole\\appdata\\local\\programs\\python\\python311\\lib\\site-packages (from pytest->-r requirements.txt (line 1)) (2.0.0)\n",
      "Requirement already satisfied: packaging in c:\\users\\cole\\appdata\\roaming\\python\\python311\\site-packages (from pytest->-r requirements.txt (line 1)) (23.0)\n",
      "Requirement already satisfied: pluggy<2.0,>=0.12 in c:\\users\\cole\\appdata\\local\\programs\\python\\python311\\lib\\site-packages (from pytest->-r requirements.txt (line 1)) (1.3.0)\n",
      "Requirement already satisfied: colorama in c:\\users\\cole\\appdata\\roaming\\python\\python311\\site-packages (from pytest->-r requirements.txt (line 1)) (0.4.6)\n",
      "\u001b[1m============================= test session starts =============================\u001b[0m\n",
      "platform win32 -- Python 3.11.1, pytest-7.4.3, pluggy-1.3.0\n",
      "rootdir: c:\\Users\\Cole\\OneDrive - Fundacao Getulio Vargas - FGV\\Área de Trabalho\\Documentos\\Engenharia_Software\n",
      "plugins: anyio-3.6.2\n",
      "collected 121 items\n",
      "\n",
      "tests\\test_auth\\test_authentication_module.py \u001b[32m.\u001b[0m\u001b[32m.\u001b[0m\u001b[32m.\u001b[0m\u001b[32m.\u001b[0m\u001b[32m.\u001b[0m\u001b[32m                      [  4%]\u001b[0m\n",
      "tests\\test_events\\test_element_event.py \u001b[32m.\u001b[0m\u001b[32m.\u001b[0m\u001b[32m.\u001b[0m\u001b[32m.\u001b[0m\u001b[32m.\u001b[0m\u001b[32m.\u001b[0m\u001b[32m.\u001b[0m\u001b[32m.\u001b[0m\u001b[32m.\u001b[0m\u001b[32m.\u001b[0m\u001b[32m.\u001b[0m\u001b[32m.\u001b[0m\u001b[32m.\u001b[0m\u001b[32m.\u001b[0m\u001b[32m.\u001b[0m\u001b[32m.\u001b[0m\u001b[32m.\u001b[0m\u001b[32m.\u001b[0m\u001b[32m.\u001b[0m\u001b[32m.\u001b[0m\u001b[32m.\u001b[0m\u001b[32m.\u001b[0m\u001b[32m.\u001b[0m\u001b[32m.\u001b[0m\u001b[32m.\u001b[0m\u001b[32m.\u001b[0m\u001b[32m.\u001b[0m\u001b[32m      [ 26%]\u001b[0m\n",
      "tests\\test_events\\test_element_factory.py \u001b[32m.\u001b[0m\u001b[32m.\u001b[0m\u001b[32m.\u001b[0m\u001b[32m.\u001b[0m\u001b[32m                           [ 29%]\u001b[0m\n",
      "tests\\test_events\\test_element_reminder.py \u001b[32m.\u001b[0m\u001b[32m.\u001b[0m\u001b[32m.\u001b[0m\u001b[32m.\u001b[0m\u001b[32m.\u001b[0m\u001b[32m.\u001b[0m\u001b[32m.\u001b[0m\u001b[32m.\u001b[0m\u001b[32m.\u001b[0m\u001b[32m.\u001b[0m\u001b[32m.\u001b[0m\u001b[32m.\u001b[0m\u001b[32m.\u001b[0m\u001b[32m.\u001b[0m\u001b[32m.\u001b[0m\u001b[32m.\u001b[0m\u001b[32m.\u001b[0m\u001b[32m.\u001b[0m\u001b[32m.\u001b[0m\u001b[32m.\u001b[0m\u001b[32m.\u001b[0m\u001b[32m.\u001b[0m\u001b[32m.\u001b[0m\u001b[32m.\u001b[0m\u001b[32m.\u001b[0m\u001b[32m     [ 50%]\u001b[0m\n",
      "tests\\test_events\\test_element_task.py \u001b[32m.\u001b[0m\u001b[32m.\u001b[0m\u001b[32m.\u001b[0m\u001b[32m.\u001b[0m\u001b[32m.\u001b[0m\u001b[32m.\u001b[0m\u001b[32m.\u001b[0m\u001b[32m.\u001b[0m\u001b[32m.\u001b[0m\u001b[32m.\u001b[0m\u001b[32m.\u001b[0m\u001b[32m.\u001b[0m\u001b[32m.\u001b[0m\u001b[32m.\u001b[0m\u001b[32m.\u001b[0m\u001b[32m.\u001b[0m\u001b[32m.\u001b[0m\u001b[32m.\u001b[0m\u001b[32m.\u001b[0m\u001b[32m.\u001b[0m\u001b[32m.\u001b[0m\u001b[32m.\u001b[0m\u001b[32m.\u001b[0m\u001b[32m.\u001b[0m\u001b[32m.\u001b[0m\u001b[32m.\u001b[0m\u001b[32m.\u001b[0m\u001b[32m.\u001b[0m\u001b[32m.\u001b[0m\u001b[32m     [ 74%]\u001b[0m\n",
      "tests\\test_mongomodule\\test_mongo_module.py \u001b[32m.\u001b[0m\u001b[32m.\u001b[0m\u001b[32m.\u001b[0m\u001b[32m.\u001b[0m\u001b[32m.\u001b[0m\u001b[32m.\u001b[0m\u001b[32m                       [ 79%]\u001b[0m\n",
      "tests\\test_schedule\\test_schedule_model.py \u001b[32m.\u001b[0m\u001b[32m.\u001b[0m\u001b[32m.\u001b[0m\u001b[32m.\u001b[0m\u001b[32m.\u001b[0m\u001b[32m.\u001b[0m\u001b[32m.\u001b[0m\u001b[32m.\u001b[0m\u001b[32m.\u001b[0m\u001b[32m.\u001b[0m\u001b[32m.\u001b[0m\u001b[32m.\u001b[0m\u001b[32m.\u001b[0m\u001b[32m.\u001b[0m\u001b[32m.\u001b[0m\u001b[32m.\u001b[0m\u001b[32m.\u001b[0m\u001b[32m.\u001b[0m\u001b[32m.\u001b[0m\u001b[32m           [ 95%]\u001b[0m\n",
      "tests\\test_uesrs\\test_user_management_module.py \u001b[31mF\u001b[0m\u001b[31mF\u001b[0m\u001b[31mF\u001b[0m\u001b[31mF\u001b[0m\u001b[31mF\u001b[0m\u001b[31mF\u001b[0m\u001b[31m                   [100%]\u001b[0m\n",
      "\n",
      "================================== FAILURES ===================================\n",
      "\u001b[31m\u001b[1m_____________ TestUserManagementModule.test_create_existing_user ______________\u001b[0m\n",
      "\n",
      "self = <Engenharia_Software.tests.test_uesrs.test_user_management_module.TestUserManagementModule testMethod=test_create_existing_user>\n",
      "\n",
      "    \u001b[94mdef\u001b[39;49;00m \u001b[92msetUp\u001b[39;49;00m(\u001b[96mself\u001b[39;49;00m):\u001b[90m\u001b[39;49;00m\n",
      "        \u001b[90m# Set up for the tests\u001b[39;49;00m\u001b[90m\u001b[39;49;00m\n",
      "    \u001b[90m\u001b[39;49;00m\n",
      "        \u001b[90m# Cria um mock para a interface DatabaseModule\u001b[39;49;00m\u001b[90m\u001b[39;49;00m\n",
      ">       \u001b[96mself\u001b[39;49;00m.database_module_mock = TextDocumentModule(\u001b[33m\"\u001b[39;49;00m\u001b[33mtests/test_auth/test_database.json\u001b[39;49;00m\u001b[33m\"\u001b[39;49;00m)\u001b[90m\u001b[39;49;00m\n",
      "\u001b[1m\u001b[31mE       TypeError: Can't instantiate abstract class TextDocumentModule with abstract methods delete_data, insert_data, select_data, update_data\u001b[0m\n",
      "\n",
      "\u001b[1m\u001b[31mtests\\test_uesrs\\test_user_management_module.py\u001b[0m:11: TypeError\n",
      "\u001b[31m\u001b[1m______________ TestUserManagementModule.test_create_user_success ______________\u001b[0m\n",
      "\n",
      "self = <Engenharia_Software.tests.test_uesrs.test_user_management_module.TestUserManagementModule testMethod=test_create_user_success>\n",
      "\n",
      "    \u001b[94mdef\u001b[39;49;00m \u001b[92msetUp\u001b[39;49;00m(\u001b[96mself\u001b[39;49;00m):\u001b[90m\u001b[39;49;00m\n",
      "        \u001b[90m# Set up for the tests\u001b[39;49;00m\u001b[90m\u001b[39;49;00m\n",
      "    \u001b[90m\u001b[39;49;00m\n",
      "        \u001b[90m# Cria um mock para a interface DatabaseModule\u001b[39;49;00m\u001b[90m\u001b[39;49;00m\n",
      ">       \u001b[96mself\u001b[39;49;00m.database_module_mock = TextDocumentModule(\u001b[33m\"\u001b[39;49;00m\u001b[33mtests/test_auth/test_database.json\u001b[39;49;00m\u001b[33m\"\u001b[39;49;00m)\u001b[90m\u001b[39;49;00m\n",
      "\u001b[1m\u001b[31mE       TypeError: Can't instantiate abstract class TextDocumentModule with abstract methods delete_data, insert_data, select_data, update_data\u001b[0m\n",
      "\n",
      "\u001b[1m\u001b[31mtests\\test_uesrs\\test_user_management_module.py\u001b[0m:11: TypeError\n",
      "\u001b[31m\u001b[1m__________________ TestUserManagementModule.test_delete_user __________________\u001b[0m\n",
      "\n",
      "self = <Engenharia_Software.tests.test_uesrs.test_user_management_module.TestUserManagementModule testMethod=test_delete_user>\n",
      "\n",
      "    \u001b[94mdef\u001b[39;49;00m \u001b[92msetUp\u001b[39;49;00m(\u001b[96mself\u001b[39;49;00m):\u001b[90m\u001b[39;49;00m\n",
      "        \u001b[90m# Set up for the tests\u001b[39;49;00m\u001b[90m\u001b[39;49;00m\n",
      "    \u001b[90m\u001b[39;49;00m\n",
      "        \u001b[90m# Cria um mock para a interface DatabaseModule\u001b[39;49;00m\u001b[90m\u001b[39;49;00m\n",
      ">       \u001b[96mself\u001b[39;49;00m.database_module_mock = TextDocumentModule(\u001b[33m\"\u001b[39;49;00m\u001b[33mtests/test_auth/test_database.json\u001b[39;49;00m\u001b[33m\"\u001b[39;49;00m)\u001b[90m\u001b[39;49;00m\n",
      "\u001b[1m\u001b[31mE       TypeError: Can't instantiate abstract class TextDocumentModule with abstract methods delete_data, insert_data, select_data, update_data\u001b[0m\n",
      "\n",
      "\u001b[1m\u001b[31mtests\\test_uesrs\\test_user_management_module.py\u001b[0m:11: TypeError\n",
      "\u001b[31m\u001b[1m_________________ TestUserManagementModule.test_hash_password _________________\u001b[0m\n",
      "\n",
      "self = <Engenharia_Software.tests.test_uesrs.test_user_management_module.TestUserManagementModule testMethod=test_hash_password>\n",
      "\n",
      "    \u001b[94mdef\u001b[39;49;00m \u001b[92msetUp\u001b[39;49;00m(\u001b[96mself\u001b[39;49;00m):\u001b[90m\u001b[39;49;00m\n",
      "        \u001b[90m# Set up for the tests\u001b[39;49;00m\u001b[90m\u001b[39;49;00m\n",
      "    \u001b[90m\u001b[39;49;00m\n",
      "        \u001b[90m# Cria um mock para a interface DatabaseModule\u001b[39;49;00m\u001b[90m\u001b[39;49;00m\n",
      ">       \u001b[96mself\u001b[39;49;00m.database_module_mock = TextDocumentModule(\u001b[33m\"\u001b[39;49;00m\u001b[33mtests/test_auth/test_database.json\u001b[39;49;00m\u001b[33m\"\u001b[39;49;00m)\u001b[90m\u001b[39;49;00m\n",
      "\u001b[1m\u001b[31mE       TypeError: Can't instantiate abstract class TextDocumentModule with abstract methods delete_data, insert_data, select_data, update_data\u001b[0m\n",
      "\n",
      "\u001b[1m\u001b[31mtests\\test_uesrs\\test_user_management_module.py\u001b[0m:11: TypeError\n",
      "\u001b[31m\u001b[1m__________________ TestUserManagementModule.test_user_exists __________________\u001b[0m\n",
      "\n",
      "self = <Engenharia_Software.tests.test_uesrs.test_user_management_module.TestUserManagementModule testMethod=test_user_exists>\n",
      "\n",
      "    \u001b[94mdef\u001b[39;49;00m \u001b[92msetUp\u001b[39;49;00m(\u001b[96mself\u001b[39;49;00m):\u001b[90m\u001b[39;49;00m\n",
      "        \u001b[90m# Set up for the tests\u001b[39;49;00m\u001b[90m\u001b[39;49;00m\n",
      "    \u001b[90m\u001b[39;49;00m\n",
      "        \u001b[90m# Cria um mock para a interface DatabaseModule\u001b[39;49;00m\u001b[90m\u001b[39;49;00m\n",
      ">       \u001b[96mself\u001b[39;49;00m.database_module_mock = TextDocumentModule(\u001b[33m\"\u001b[39;49;00m\u001b[33mtests/test_auth/test_database.json\u001b[39;49;00m\u001b[33m\"\u001b[39;49;00m)\u001b[90m\u001b[39;49;00m\n",
      "\u001b[1m\u001b[31mE       TypeError: Can't instantiate abstract class TextDocumentModule with abstract methods delete_data, insert_data, select_data, update_data\u001b[0m\n",
      "\n",
      "\u001b[1m\u001b[31mtests\\test_uesrs\\test_user_management_module.py\u001b[0m:11: TypeError\n",
      "\u001b[31m\u001b[1m________________ TestUserManagementModule.test_user_not_exists ________________\u001b[0m\n",
      "\n",
      "self = <Engenharia_Software.tests.test_uesrs.test_user_management_module.TestUserManagementModule testMethod=test_user_not_exists>\n",
      "\n",
      "    \u001b[94mdef\u001b[39;49;00m \u001b[92msetUp\u001b[39;49;00m(\u001b[96mself\u001b[39;49;00m):\u001b[90m\u001b[39;49;00m\n",
      "        \u001b[90m# Set up for the tests\u001b[39;49;00m\u001b[90m\u001b[39;49;00m\n",
      "    \u001b[90m\u001b[39;49;00m\n",
      "        \u001b[90m# Cria um mock para a interface DatabaseModule\u001b[39;49;00m\u001b[90m\u001b[39;49;00m\n",
      ">       \u001b[96mself\u001b[39;49;00m.database_module_mock = TextDocumentModule(\u001b[33m\"\u001b[39;49;00m\u001b[33mtests/test_auth/test_database.json\u001b[39;49;00m\u001b[33m\"\u001b[39;49;00m)\u001b[90m\u001b[39;49;00m\n",
      "\u001b[1m\u001b[31mE       TypeError: Can't instantiate abstract class TextDocumentModule with abstract methods delete_data, insert_data, select_data, update_data\u001b[0m\n",
      "\n",
      "\u001b[1m\u001b[31mtests\\test_uesrs\\test_user_management_module.py\u001b[0m:11: TypeError\n",
      "\u001b[36m\u001b[1m=========================== short test summary info ===========================\u001b[0m\n",
      "\u001b[31mFAILED\u001b[0m tests/test_uesrs/test_user_management_module.py::\u001b[1mTestUserManagementModule::test_create_existing_user\u001b[0m - TypeError: Can't instantiate abstract class TextDocumentModule with abstrac...\n",
      "\u001b[31mFAILED\u001b[0m tests/test_uesrs/test_user_management_module.py::\u001b[1mTestUserManagementModule::test_create_user_success\u001b[0m - TypeError: Can't instantiate abstract class TextDocumentModule with abstrac...\n",
      "\u001b[31mFAILED\u001b[0m tests/test_uesrs/test_user_management_module.py::\u001b[1mTestUserManagementModule::test_delete_user\u001b[0m - TypeError: Can't instantiate abstract class TextDocumentModule with abstrac...\n",
      "\u001b[31mFAILED\u001b[0m tests/test_uesrs/test_user_management_module.py::\u001b[1mTestUserManagementModule::test_hash_password\u001b[0m - TypeError: Can't instantiate abstract class TextDocumentModule with abstrac...\n",
      "\u001b[31mFAILED\u001b[0m tests/test_uesrs/test_user_management_module.py::\u001b[1mTestUserManagementModule::test_user_exists\u001b[0m - TypeError: Can't instantiate abstract class TextDocumentModule with abstrac...\n",
      "\u001b[31mFAILED\u001b[0m tests/test_uesrs/test_user_management_module.py::\u001b[1mTestUserManagementModule::test_user_not_exists\u001b[0m - TypeError: Can't instantiate abstract class TextDocumentModule with abstrac...\n",
      "\u001b[31m======================== \u001b[31m\u001b[1m6 failed\u001b[0m, \u001b[32m115 passed\u001b[0m\u001b[31m in 0.82s\u001b[0m\u001b[31m ========================\u001b[0m\n"
>>>>>>> 437e404a107165ee0a06de9c03e2bc32530d194a
     ]
    }
   ],
   "source": [
    "!pip install -r requirements.txt\n",
    "!python -m pytest"
   ]
  },
  {
   "cell_type": "code",
<<<<<<< HEAD
   "execution_count": 538,
=======
   "execution_count": 104,
>>>>>>> 437e404a107165ee0a06de9c03e2bc32530d194a
   "metadata": {},
   "outputs": [
    {
     "name": "stdout",
     "output_type": "stream",
     "text": [
      "Requirement already satisfied: coverage in c:\\users\\cole\\appdata\\local\\programs\\python\\python311\\lib\\site-packages (7.3.2)\n"
     ]
    }
   ],
   "source": [
    "!pip install coverage"
   ]
  },
  {
   "cell_type": "code",
<<<<<<< HEAD
   "execution_count": 539,
=======
   "execution_count": 105,
>>>>>>> 437e404a107165ee0a06de9c03e2bc32530d194a
   "metadata": {},
   "outputs": [
    {
     "name": "stdout",
     "output_type": "stream",
     "text": [
<<<<<<< HEAD
      "============================= test session starts =============================\n",
      "platform win32 -- Python 3.9.13, pytest-7.4.3, pluggy-1.3.0\n",
      "rootdir: c:\\Users\\RodrigoPintucci\\Documents\\EngenhariaSoftware\\Engenharia_Software\n",
      "collected 62 items / 1 error\n",
      "\n",
      "=================================== ERRORS ====================================\n",
      "_______ ERROR collecting tests/test_auth/test_authentication_module.py ________\n",
      "ImportError while importing test module 'c:\\Users\\RodrigoPintucci\\Documents\\EngenhariaSoftware\\Engenharia_Software\\tests\\test_auth\\test_authentication_module.py'.\n",
      "Hint: make sure your test modules/packages have valid Python names.\n",
      "Traceback:\n",
      "C:\\Program Files\\WindowsApps\\PythonSoftwareFoundation.Python.3.9_3.9.3568.0_x64__qbz5n2kfra8p0\\lib\\importlib\\__init__.py:127: in import_module\n",
      "    return _bootstrap._gcd_import(name[level:], package, level)\n",
      "tests\\test_auth\\test_authentication_module.py:11: in <module>\n",
      "    from src.auth.user_management import UserManagement\n",
      "E   ModuleNotFoundError: No module named 'src.auth.user_management'\n",
      "=========================== short test summary info ===========================\n",
      "ERROR tests/test_auth/test_authentication_module.py\n",
      "!!!!!!!!!!!!!!!!!!! Interrupted: 1 error during collection !!!!!!!!!!!!!!!!!!!!\n",
      "============================== 1 error in 0.57s ===============================\n"
=======
      "\u001b[1m============================= test session starts =============================\u001b[0m\n",
      "platform win32 -- Python 3.11.1, pytest-7.4.3, pluggy-1.3.0\n",
      "rootdir: c:\\Users\\Cole\\OneDrive - Fundacao Getulio Vargas - FGV\\Área de Trabalho\\Documentos\\Engenharia_Software\n",
      "plugins: anyio-3.6.2\n",
      "collected 121 items\n",
      "\n",
      "tests\\test_auth\\test_authentication_module.py \u001b[32m.\u001b[0m\u001b[32m.\u001b[0m\u001b[32m.\u001b[0m\u001b[32m.\u001b[0m\u001b[32m.\u001b[0m\u001b[32m                      [  4%]\u001b[0m\n",
      "tests\\test_events\\test_element_event.py \u001b[32m.\u001b[0m\u001b[32m.\u001b[0m\u001b[32m.\u001b[0m\u001b[32m.\u001b[0m\u001b[32m.\u001b[0m\u001b[32m.\u001b[0m\u001b[32m.\u001b[0m\u001b[32m.\u001b[0m\u001b[32m.\u001b[0m\u001b[32m.\u001b[0m\u001b[32m.\u001b[0m\u001b[32m.\u001b[0m\u001b[32m.\u001b[0m\u001b[32m.\u001b[0m\u001b[32m.\u001b[0m\u001b[32m.\u001b[0m\u001b[32m.\u001b[0m\u001b[32m.\u001b[0m\u001b[32m.\u001b[0m\u001b[32m.\u001b[0m\u001b[32m.\u001b[0m\u001b[32m.\u001b[0m\u001b[32m.\u001b[0m\u001b[32m.\u001b[0m\u001b[32m.\u001b[0m\u001b[32m.\u001b[0m\u001b[32m.\u001b[0m\u001b[32m      [ 26%]\u001b[0m\n",
      "tests\\test_events\\test_element_factory.py \u001b[32m.\u001b[0m\u001b[32m.\u001b[0m\u001b[32m.\u001b[0m\u001b[32m.\u001b[0m\u001b[32m                           [ 29%]\u001b[0m\n",
      "tests\\test_events\\test_element_reminder.py \u001b[32m.\u001b[0m\u001b[32m.\u001b[0m\u001b[32m.\u001b[0m\u001b[32m.\u001b[0m\u001b[32m.\u001b[0m\u001b[32m.\u001b[0m\u001b[32m.\u001b[0m\u001b[32m.\u001b[0m\u001b[32m.\u001b[0m\u001b[32m.\u001b[0m\u001b[32m.\u001b[0m\u001b[32m.\u001b[0m\u001b[32m.\u001b[0m\u001b[32m.\u001b[0m\u001b[32m.\u001b[0m\u001b[32m.\u001b[0m\u001b[32m.\u001b[0m\u001b[32m.\u001b[0m\u001b[32m.\u001b[0m\u001b[32m.\u001b[0m\u001b[32m.\u001b[0m\u001b[32m.\u001b[0m\u001b[32m.\u001b[0m\u001b[32m.\u001b[0m\u001b[32m.\u001b[0m\u001b[32m     [ 50%]\u001b[0m\n",
      "tests\\test_events\\test_element_task.py \u001b[32m.\u001b[0m\u001b[32m.\u001b[0m\u001b[32m.\u001b[0m\u001b[32m.\u001b[0m\u001b[32m.\u001b[0m\u001b[32m.\u001b[0m\u001b[32m.\u001b[0m\u001b[32m.\u001b[0m\u001b[32m.\u001b[0m\u001b[32m.\u001b[0m\u001b[32m.\u001b[0m\u001b[32m.\u001b[0m\u001b[32m.\u001b[0m\u001b[32m.\u001b[0m\u001b[32m.\u001b[0m\u001b[32m.\u001b[0m\u001b[32m.\u001b[0m\u001b[32m.\u001b[0m\u001b[32m.\u001b[0m\u001b[32m.\u001b[0m\u001b[32m.\u001b[0m\u001b[32m.\u001b[0m\u001b[32m.\u001b[0m\u001b[32m.\u001b[0m\u001b[32m.\u001b[0m\u001b[32m.\u001b[0m\u001b[32m.\u001b[0m\u001b[32m.\u001b[0m\u001b[32m.\u001b[0m\u001b[32m     [ 74%]\u001b[0m\n",
      "tests\\test_mongomodule\\test_mongo_module.py \u001b[32m.\u001b[0m\u001b[32m.\u001b[0m\u001b[32m.\u001b[0m\u001b[32m.\u001b[0m\u001b[32m.\u001b[0m\u001b[32m.\u001b[0m\u001b[32m                       [ 79%]\u001b[0m\n",
      "tests\\test_schedule\\test_schedule_model.py \u001b[32m.\u001b[0m\u001b[32m.\u001b[0m\u001b[32m.\u001b[0m\u001b[32m.\u001b[0m\u001b[32m.\u001b[0m\u001b[32m.\u001b[0m\u001b[32m.\u001b[0m\u001b[32m.\u001b[0m\u001b[32m.\u001b[0m\u001b[32m.\u001b[0m\u001b[32m.\u001b[0m\u001b[32m.\u001b[0m\u001b[32m.\u001b[0m\u001b[32m.\u001b[0m\u001b[32m.\u001b[0m\u001b[32m.\u001b[0m\u001b[32m.\u001b[0m\u001b[32m.\u001b[0m\u001b[32m.\u001b[0m\u001b[32m           [ 95%]\u001b[0m\n",
      "tests\\test_uesrs\\test_user_management_module.py \u001b[31mF\u001b[0m\u001b[31mF\u001b[0m\u001b[31mF\u001b[0m\u001b[31mF\u001b[0m\u001b[31mF\u001b[0m\u001b[31mF\u001b[0m\u001b[31m                   [100%]\u001b[0m\n",
      "\n",
      "================================== FAILURES ===================================\n",
      "\u001b[31m\u001b[1m_____________ TestUserManagementModule.test_create_existing_user ______________\u001b[0m\n",
      "\n",
      "self = <Engenharia_Software.tests.test_uesrs.test_user_management_module.TestUserManagementModule testMethod=test_create_existing_user>\n",
      "\n",
      "    \u001b[94mdef\u001b[39;49;00m \u001b[92msetUp\u001b[39;49;00m(\u001b[96mself\u001b[39;49;00m):\u001b[90m\u001b[39;49;00m\n",
      "        \u001b[90m# Set up for the tests\u001b[39;49;00m\u001b[90m\u001b[39;49;00m\n",
      "    \u001b[90m\u001b[39;49;00m\n",
      "        \u001b[90m# Cria um mock para a interface DatabaseModule\u001b[39;49;00m\u001b[90m\u001b[39;49;00m\n",
      ">       \u001b[96mself\u001b[39;49;00m.database_module_mock = TextDocumentModule(\u001b[33m\"\u001b[39;49;00m\u001b[33mtests/test_auth/test_database.json\u001b[39;49;00m\u001b[33m\"\u001b[39;49;00m)\u001b[90m\u001b[39;49;00m\n",
      "\u001b[1m\u001b[31mE       TypeError: Can't instantiate abstract class TextDocumentModule with abstract methods delete_data, insert_data, select_data, update_data\u001b[0m\n",
      "\n",
      "\u001b[1m\u001b[31mtests\\test_uesrs\\test_user_management_module.py\u001b[0m:11: TypeError\n",
      "\u001b[31m\u001b[1m______________ TestUserManagementModule.test_create_user_success ______________\u001b[0m\n",
      "\n",
      "self = <Engenharia_Software.tests.test_uesrs.test_user_management_module.TestUserManagementModule testMethod=test_create_user_success>\n",
      "\n",
      "    \u001b[94mdef\u001b[39;49;00m \u001b[92msetUp\u001b[39;49;00m(\u001b[96mself\u001b[39;49;00m):\u001b[90m\u001b[39;49;00m\n",
      "        \u001b[90m# Set up for the tests\u001b[39;49;00m\u001b[90m\u001b[39;49;00m\n",
      "    \u001b[90m\u001b[39;49;00m\n",
      "        \u001b[90m# Cria um mock para a interface DatabaseModule\u001b[39;49;00m\u001b[90m\u001b[39;49;00m\n",
      ">       \u001b[96mself\u001b[39;49;00m.database_module_mock = TextDocumentModule(\u001b[33m\"\u001b[39;49;00m\u001b[33mtests/test_auth/test_database.json\u001b[39;49;00m\u001b[33m\"\u001b[39;49;00m)\u001b[90m\u001b[39;49;00m\n",
      "\u001b[1m\u001b[31mE       TypeError: Can't instantiate abstract class TextDocumentModule with abstract methods delete_data, insert_data, select_data, update_data\u001b[0m\n",
      "\n",
      "\u001b[1m\u001b[31mtests\\test_uesrs\\test_user_management_module.py\u001b[0m:11: TypeError\n",
      "\u001b[31m\u001b[1m__________________ TestUserManagementModule.test_delete_user __________________\u001b[0m\n",
      "\n",
      "self = <Engenharia_Software.tests.test_uesrs.test_user_management_module.TestUserManagementModule testMethod=test_delete_user>\n",
      "\n",
      "    \u001b[94mdef\u001b[39;49;00m \u001b[92msetUp\u001b[39;49;00m(\u001b[96mself\u001b[39;49;00m):\u001b[90m\u001b[39;49;00m\n",
      "        \u001b[90m# Set up for the tests\u001b[39;49;00m\u001b[90m\u001b[39;49;00m\n",
      "    \u001b[90m\u001b[39;49;00m\n",
      "        \u001b[90m# Cria um mock para a interface DatabaseModule\u001b[39;49;00m\u001b[90m\u001b[39;49;00m\n",
      ">       \u001b[96mself\u001b[39;49;00m.database_module_mock = TextDocumentModule(\u001b[33m\"\u001b[39;49;00m\u001b[33mtests/test_auth/test_database.json\u001b[39;49;00m\u001b[33m\"\u001b[39;49;00m)\u001b[90m\u001b[39;49;00m\n",
      "\u001b[1m\u001b[31mE       TypeError: Can't instantiate abstract class TextDocumentModule with abstract methods delete_data, insert_data, select_data, update_data\u001b[0m\n",
      "\n",
      "\u001b[1m\u001b[31mtests\\test_uesrs\\test_user_management_module.py\u001b[0m:11: TypeError\n",
      "\u001b[31m\u001b[1m_________________ TestUserManagementModule.test_hash_password _________________\u001b[0m\n",
      "\n",
      "self = <Engenharia_Software.tests.test_uesrs.test_user_management_module.TestUserManagementModule testMethod=test_hash_password>\n",
      "\n",
      "    \u001b[94mdef\u001b[39;49;00m \u001b[92msetUp\u001b[39;49;00m(\u001b[96mself\u001b[39;49;00m):\u001b[90m\u001b[39;49;00m\n",
      "        \u001b[90m# Set up for the tests\u001b[39;49;00m\u001b[90m\u001b[39;49;00m\n",
      "    \u001b[90m\u001b[39;49;00m\n",
      "        \u001b[90m# Cria um mock para a interface DatabaseModule\u001b[39;49;00m\u001b[90m\u001b[39;49;00m\n",
      ">       \u001b[96mself\u001b[39;49;00m.database_module_mock = TextDocumentModule(\u001b[33m\"\u001b[39;49;00m\u001b[33mtests/test_auth/test_database.json\u001b[39;49;00m\u001b[33m\"\u001b[39;49;00m)\u001b[90m\u001b[39;49;00m\n",
      "\u001b[1m\u001b[31mE       TypeError: Can't instantiate abstract class TextDocumentModule with abstract methods delete_data, insert_data, select_data, update_data\u001b[0m\n",
      "\n",
      "\u001b[1m\u001b[31mtests\\test_uesrs\\test_user_management_module.py\u001b[0m:11: TypeError\n",
      "\u001b[31m\u001b[1m__________________ TestUserManagementModule.test_user_exists __________________\u001b[0m\n",
      "\n",
      "self = <Engenharia_Software.tests.test_uesrs.test_user_management_module.TestUserManagementModule testMethod=test_user_exists>\n",
      "\n",
      "    \u001b[94mdef\u001b[39;49;00m \u001b[92msetUp\u001b[39;49;00m(\u001b[96mself\u001b[39;49;00m):\u001b[90m\u001b[39;49;00m\n",
      "        \u001b[90m# Set up for the tests\u001b[39;49;00m\u001b[90m\u001b[39;49;00m\n",
      "    \u001b[90m\u001b[39;49;00m\n",
      "        \u001b[90m# Cria um mock para a interface DatabaseModule\u001b[39;49;00m\u001b[90m\u001b[39;49;00m\n",
      ">       \u001b[96mself\u001b[39;49;00m.database_module_mock = TextDocumentModule(\u001b[33m\"\u001b[39;49;00m\u001b[33mtests/test_auth/test_database.json\u001b[39;49;00m\u001b[33m\"\u001b[39;49;00m)\u001b[90m\u001b[39;49;00m\n",
      "\u001b[1m\u001b[31mE       TypeError: Can't instantiate abstract class TextDocumentModule with abstract methods delete_data, insert_data, select_data, update_data\u001b[0m\n",
      "\n",
      "\u001b[1m\u001b[31mtests\\test_uesrs\\test_user_management_module.py\u001b[0m:11: TypeError\n",
      "\u001b[31m\u001b[1m________________ TestUserManagementModule.test_user_not_exists ________________\u001b[0m\n",
      "\n",
      "self = <Engenharia_Software.tests.test_uesrs.test_user_management_module.TestUserManagementModule testMethod=test_user_not_exists>\n",
      "\n",
      "    \u001b[94mdef\u001b[39;49;00m \u001b[92msetUp\u001b[39;49;00m(\u001b[96mself\u001b[39;49;00m):\u001b[90m\u001b[39;49;00m\n",
      "        \u001b[90m# Set up for the tests\u001b[39;49;00m\u001b[90m\u001b[39;49;00m\n",
      "    \u001b[90m\u001b[39;49;00m\n",
      "        \u001b[90m# Cria um mock para a interface DatabaseModule\u001b[39;49;00m\u001b[90m\u001b[39;49;00m\n",
      ">       \u001b[96mself\u001b[39;49;00m.database_module_mock = TextDocumentModule(\u001b[33m\"\u001b[39;49;00m\u001b[33mtests/test_auth/test_database.json\u001b[39;49;00m\u001b[33m\"\u001b[39;49;00m)\u001b[90m\u001b[39;49;00m\n",
      "\u001b[1m\u001b[31mE       TypeError: Can't instantiate abstract class TextDocumentModule with abstract methods delete_data, insert_data, select_data, update_data\u001b[0m\n",
      "\n",
      "\u001b[1m\u001b[31mtests\\test_uesrs\\test_user_management_module.py\u001b[0m:11: TypeError\n",
      "\u001b[36m\u001b[1m=========================== short test summary info ===========================\u001b[0m\n",
      "\u001b[31mFAILED\u001b[0m tests/test_uesrs/test_user_management_module.py::\u001b[1mTestUserManagementModule::test_create_existing_user\u001b[0m - TypeError: Can't instantiate abstract class TextDocumentModule with abstrac...\n",
      "\u001b[31mFAILED\u001b[0m tests/test_uesrs/test_user_management_module.py::\u001b[1mTestUserManagementModule::test_create_user_success\u001b[0m - TypeError: Can't instantiate abstract class TextDocumentModule with abstrac...\n",
      "\u001b[31mFAILED\u001b[0m tests/test_uesrs/test_user_management_module.py::\u001b[1mTestUserManagementModule::test_delete_user\u001b[0m - TypeError: Can't instantiate abstract class TextDocumentModule with abstrac...\n",
      "\u001b[31mFAILED\u001b[0m tests/test_uesrs/test_user_management_module.py::\u001b[1mTestUserManagementModule::test_hash_password\u001b[0m - TypeError: Can't instantiate abstract class TextDocumentModule with abstrac...\n",
      "\u001b[31mFAILED\u001b[0m tests/test_uesrs/test_user_management_module.py::\u001b[1mTestUserManagementModule::test_user_exists\u001b[0m - TypeError: Can't instantiate abstract class TextDocumentModule with abstrac...\n",
      "\u001b[31mFAILED\u001b[0m tests/test_uesrs/test_user_management_module.py::\u001b[1mTestUserManagementModule::test_user_not_exists\u001b[0m - TypeError: Can't instantiate abstract class TextDocumentModule with abstrac...\n",
      "\u001b[31m======================== \u001b[31m\u001b[1m6 failed\u001b[0m, \u001b[32m115 passed\u001b[0m\u001b[31m in 1.28s\u001b[0m\u001b[31m ========================\u001b[0m\n"
>>>>>>> 437e404a107165ee0a06de9c03e2bc32530d194a
     ]
    }
   ],
   "source": [
    "!coverage run -m pytest"
   ]
  },
  {
   "cell_type": "code",
<<<<<<< HEAD
   "execution_count": 540,
=======
   "execution_count": 106,
>>>>>>> 437e404a107165ee0a06de9c03e2bc32530d194a
   "metadata": {},
   "outputs": [
    {
     "name": "stdout",
     "output_type": "stream",
     "text": [
      "The autoreload extension is already loaded. To reload it, use:\n",
      "  %reload_ext autoreload\n"
     ]
    }
   ],
   "source": [
    "%load_ext autoreload\n",
    "%autoreload 2"
   ]
  },
  {
   "cell_type": "code",
<<<<<<< HEAD
   "execution_count": 541,
=======
   "execution_count": 107,
>>>>>>> 437e404a107165ee0a06de9c03e2bc32530d194a
   "metadata": {},
   "outputs": [
    {
     "name": "stdout",
     "output_type": "stream",
     "text": [
      "Name                                              Stmts   Miss  Cover   Missing\n",
      "-------------------------------------------------------------------------------\n",
      "__init__.py                                           0      0   100%\n",
      "src\\__init__.py                                       0      0   100%\n",
      "src\\auth\\__init__.py                                  0      0   100%\n",
<<<<<<< HEAD
      "src\\auth\\authentication.py                           22     14    36%   46-47, 57-69, 79, 88\n",
      "src\\database\\__init__.py                              0      0   100%\n",
      "src\\database\\database_module.py                      14      0   100%\n",
      "src\\database\\mongo_module.py                         36     26    28%   44-52, 60-65, 73-77, 89-91, 103, 116, 128-130\n",
      "src\\database\\text_document_module.py                 60     48    20%   7, 10-27, 30, 33-49, 52-62, 65-66, 69-70, 73-77\n",
      "src\\schedule\\__init__.py                              0      0   100%\n",
      "src\\schedule\\schedule_management.py                  67     45    33%   35-37, 47-48, 62-64, 83-98, 110-122, 131-136, 145-150, 160-172\n",
      "src\\schedule\\schedule_model.py                       57     41    28%   28-32, 36, 40, 44, 48-51, 63-69, 84-90, 99-107, 116-121, 131\n",
=======
      "src\\auth\\authentication.py                           19      0   100%\n",
      "src\\calendar_elements\\__init__.py                     0      0   100%\n",
      "src\\calendar_elements\\element_factory.py             12      0   100%\n",
      "src\\calendar_elements\\element_interface.py            9      0   100%\n",
      "src\\calendar_elements\\element_types.py              231     11    95%   12-16, 20, 24, 28, 40, 57, 174\n",
      "src\\database\\__init__.py                              0      0   100%\n",
      "src\\database\\database_module.py                      14      0   100%\n",
      "src\\database\\mongo_module.py                         45      5    89%   188-199\n",
      "src\\database\\text_document_module.py                 60     48    20%   7, 10-27, 30, 33-49, 52-62, 65-66, 69-70, 73-77\n",
      "src\\schedule\\__init__.py                              0      0   100%\n",
      "src\\schedule\\schedule_model.py                       40      2    95%   52, 66\n",
>>>>>>> 437e404a107165ee0a06de9c03e2bc32530d194a
      "src\\user\\__init__.py                                  0      0   100%\n",
      "src\\user\\user_management.py                          37     22    41%   58-73, 86-89, 102-104, 116-118, 130-132\n",
      "src\\user\\user_model.py                               18     10    44%   3-7, 10, 13, 23, 32, 35\n",
      "tests\\__init__.py                                     0      0   100%\n",
      "tests\\test_auth\\__init__.py                           0      0   100%\n",
<<<<<<< HEAD
      "tests\\test_auth\\test_authentication_module.py        23     19    17%   14-72\n",
      "tests\\test_mongomodule\\__init__.py                    0      0   100%\n",
      "tests\\test_mongomodule\\test_mongo_module.py         106     76    28%   11-12, 15-17, 20-22, 25-28, 31-32, 35-36, 39-40, 43-49, 53-60, 63-64, 67-68, 71-74, 77-78, 81-82, 85-88, 91-93, 96-99, 102-104, 107-108, 111-113, 116-119, 122-128, 132-134\n",
      "tests\\test_schedule\\__init__.py                       0      0   100%\n",
      "tests\\test_schedule\\mocks.py                         41     18    56%   5, 63-65, 72-74, 77, 101, 104, 108, 112, 119-121, 124, 138, 141\n",
      "tests\\test_schedule\\test_schedule_management.py     207    168    19%   13-15, 19-20, 24-26, 31-40, 45-49, 54-72, 76, 85, 89-93, 97-98, 102-105, 110-120, 125-135, 140-149, 154-163, 168-178, 183-202, 207-211, 216-227, 236-240, 245-250, 258-269, 274-278, 283-289, 295-302, 307-312, 317-323, 328-335, 338\n",
      "tests\\test_schedule\\test_schedule_model.py          121     87    28%   9-22, 26, 30, 34, 38-40, 44-45, 49-50, 54-55, 59-61, 65-66, 70-71, 75-77, 81-82, 86-87, 91-92, 96-98, 102-105, 115-116, 120-121, 125-127, 137-141, 145-149, 153-155, 159-161, 165-169, 173-177, 188-190, 194-199, 203-207, 211\n",
=======
      "tests\\test_auth\\test_authentication_module.py        39      1    97%   76\n",
      "tests\\test_events\\__init__.py                         0      0   100%\n",
      "tests\\test_events\\test_element_event.py             160      1    99%   292\n",
      "tests\\test_events\\test_element_factory.py            22      1    95%   66\n",
      "tests\\test_events\\test_element_reminder.py          152      1    99%   278\n",
      "tests\\test_events\\test_element_task.py              166      1    99%   303\n",
      "tests\\test_mongomodule\\__init__.py                    0      0   100%\n",
      "tests\\test_mongomodule\\test_mongo_module.py         104      3    97%   144-146\n",
      "tests\\test_schedule\\__init__.py                       0      0   100%\n",
      "tests\\test_schedule\\test_schedule_model.py           75      1    99%   136\n",
>>>>>>> 437e404a107165ee0a06de9c03e2bc32530d194a
      "tests\\test_uesrs\\__init__.py                          0      0   100%\n",
      "tests\\test_uesrs\\test_user_management_module.py      40     25    38%   12-18, 22-23, 27-30, 34-36, 40-42, 46-47, 51-62, 66, 70\n",
      "-------------------------------------------------------------------------------\n",
<<<<<<< HEAD
      "TOTAL                                               849    601    29%\n"
=======
      "TOTAL                                              1243    132    89%\n"
>>>>>>> 437e404a107165ee0a06de9c03e2bc32530d194a
     ]
    }
   ],
   "source": [
    "# explicação do copitot:\n",
    "# Name: nome do arquivo testado\n",
    "# Stmts: número de linhas executadas\n",
    "# Miss: número de linhas não executadas\n",
    "# Cover: porcentagem de cobertura\n",
    "# Missing: linhas não executadas\n",
    "!coverage report -m"
   ]
  },
  {
   "cell_type": "markdown",
   "metadata": {},
   "source": [
    "Rode a célula (ou o comando) abaixo para gerar um relatório de cobertura em html dos testes:"
   ]
  },
  {
   "cell_type": "code",
<<<<<<< HEAD
   "execution_count": 542,
=======
   "execution_count": 108,
>>>>>>> 437e404a107165ee0a06de9c03e2bc32530d194a
   "metadata": {},
   "outputs": [
    {
     "name": "stdout",
     "output_type": "stream",
     "text": [
      "Wrote HTML report to htmlcov\\index.html\n"
     ]
    }
   ],
   "source": [
    "!coverage html"
   ]
  },
  {
   "cell_type": "code",
<<<<<<< HEAD
   "execution_count": 543,
=======
   "execution_count": 109,
>>>>>>> 437e404a107165ee0a06de9c03e2bc32530d194a
   "metadata": {},
   "outputs": [
    {
     "name": "stdout",
     "output_type": "stream",
     "text": [
<<<<<<< HEAD
      "============================= test session starts =============================\n",
      "platform win32 -- Python 3.9.13, pytest-7.4.3, pluggy-1.3.0\n",
      "rootdir: c:\\Users\\RodrigoPintucci\\Documents\\EngenhariaSoftware\\Engenharia_Software\n",
      "collected 22 items\n",
      "\n",
      "tests\\test_schedule\\test_schedule_management.py ......................   [100%]\n",
      "\n",
      "============================= 22 passed in 0.45s ==============================\n"
=======
      "\u001b[1m============================= test session starts =============================\u001b[0m\n",
      "platform win32 -- Python 3.11.1, pytest-7.4.3, pluggy-1.3.0\n",
      "rootdir: c:\\Users\\Cole\\OneDrive - Fundacao Getulio Vargas - FGV\\Área de Trabalho\\Documentos\\Engenharia_Software\n",
      "plugins: anyio-3.6.2\n",
      "collected 5 items\n",
      "\n",
      "tests\\test_auth\\test_authentication_module.py \u001b[32m.\u001b[0m\u001b[32m.\u001b[0m\u001b[32m.\u001b[0m\u001b[32m.\u001b[0m\u001b[32m.\u001b[0m\u001b[32m                      [100%]\u001b[0m\n",
      "\n",
      "\u001b[32m============================== \u001b[32m\u001b[1m5 passed\u001b[0m\u001b[32m in 0.08s\u001b[0m\u001b[32m ==============================\u001b[0m\n"
>>>>>>> 437e404a107165ee0a06de9c03e2bc32530d194a
     ]
    }
   ],
   "source": [
    "# rodando um teste específico\n",
<<<<<<< HEAD
    "#!coverage run -m pytest tests/test_auth/test_user_management_module.py\n",
    "!coverage run -m pytest tests/test_schedule/test_schedule_management.py"
=======
    "!coverage run -m pytest tests/test_auth/test_authentication_module.py"
>>>>>>> 437e404a107165ee0a06de9c03e2bc32530d194a
   ]
  },
  {
   "cell_type": "code",
   "execution_count": null,
   "metadata": {},
   "outputs": [],
   "source": []
  }
 ],
 "metadata": {
  "kernelspec": {
   "display_name": "Python 3",
   "language": "python",
   "name": "python3"
  },
  "language_info": {
   "codemirror_mode": {
    "name": "ipython",
    "version": 3
   },
   "file_extension": ".py",
   "mimetype": "text/x-python",
   "name": "python",
   "nbconvert_exporter": "python",
   "pygments_lexer": "ipython3",
   "version": "3.11.1"
  }
 },
 "nbformat": 4,
 "nbformat_minor": 2
}
