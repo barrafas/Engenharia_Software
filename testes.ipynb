{
 "cells": [
  {
   "cell_type": "markdown",
   "metadata": {},
   "source": [
    "Para executar os testes, basta executar o comando abaixo:\n",
    "\n",
    "```bash\n",
    "python -m pytest\n",
    "```\n",
    "\n",
    "Alternativamente, rode a celula abaixo"
   ]
  },
  {
   "cell_type": "code",
   "execution_count": 61,
   "metadata": {},
   "outputs": [
    {
     "name": "stdout",
     "output_type": "stream",
     "text": [
      "Requirement already satisfied: pytest in c:\\users\\cole\\appdata\\local\\programs\\python\\python311\\lib\\site-packages (from -r requirements.txt (line 1)) (7.4.3)\n",
      "Requirement already satisfied: bcrypt in c:\\users\\cole\\appdata\\local\\programs\\python\\python311\\lib\\site-packages (from -r requirements.txt (line 2)) (4.1.1)\n",
      "Requirement already satisfied: iniconfig in c:\\users\\cole\\appdata\\local\\programs\\python\\python311\\lib\\site-packages (from pytest->-r requirements.txt (line 1)) (2.0.0)\n",
      "Requirement already satisfied: packaging in c:\\users\\cole\\appdata\\roaming\\python\\python311\\site-packages (from pytest->-r requirements.txt (line 1)) (23.0)\n",
      "Requirement already satisfied: pluggy<2.0,>=0.12 in c:\\users\\cole\\appdata\\local\\programs\\python\\python311\\lib\\site-packages (from pytest->-r requirements.txt (line 1)) (1.3.0)\n",
      "Requirement already satisfied: colorama in c:\\users\\cole\\appdata\\roaming\\python\\python311\\site-packages (from pytest->-r requirements.txt (line 1)) (0.4.6)\n",
      "\u001b[1m============================= test session starts =============================\u001b[0m\n",
      "platform win32 -- Python 3.11.1, pytest-7.4.3, pluggy-1.3.0\n",
      "rootdir: c:\\Users\\Cole\\OneDrive - Fundacao Getulio Vargas - FGV\\Área de Trabalho\\Documentos\\Engenharia_Software\n",
      "plugins: anyio-3.6.2\n",
      "collected 120 items\n",
      "\n",
      "tests\\test_auth\\test_authentication_module.py \u001b[32m.\u001b[0m\u001b[32m.\u001b[0m\u001b[32m.\u001b[0m\u001b[31mF\u001b[0m\u001b[31m                       [  3%]\u001b[0m\n",
      "tests\\test_events\\test_element_event.py \u001b[32m.\u001b[0m\u001b[32m.\u001b[0m\u001b[32m.\u001b[0m\u001b[32m.\u001b[0m\u001b[32m.\u001b[0m\u001b[32m.\u001b[0m\u001b[32m.\u001b[0m\u001b[32m.\u001b[0m\u001b[32m.\u001b[0m\u001b[32m.\u001b[0m\u001b[32m.\u001b[0m\u001b[32m.\u001b[0m\u001b[32m.\u001b[0m\u001b[32m.\u001b[0m\u001b[32m.\u001b[0m\u001b[32m.\u001b[0m\u001b[32m.\u001b[0m\u001b[32m.\u001b[0m\u001b[32m.\u001b[0m\u001b[32m.\u001b[0m\u001b[32m.\u001b[0m\u001b[32m.\u001b[0m\u001b[32m.\u001b[0m\u001b[32m.\u001b[0m\u001b[32m.\u001b[0m\u001b[32m.\u001b[0m\u001b[32m.\u001b[0m\u001b[31m      [ 25%]\u001b[0m\n",
      "tests\\test_events\\test_element_factory.py \u001b[32m.\u001b[0m\u001b[32m.\u001b[0m\u001b[32m.\u001b[0m\u001b[32m.\u001b[0m\u001b[31m                           [ 29%]\u001b[0m\n",
      "tests\\test_events\\test_element_reminder.py \u001b[32m.\u001b[0m\u001b[32m.\u001b[0m\u001b[32m.\u001b[0m\u001b[32m.\u001b[0m\u001b[32m.\u001b[0m\u001b[32m.\u001b[0m\u001b[32m.\u001b[0m\u001b[32m.\u001b[0m\u001b[32m.\u001b[0m\u001b[32m.\u001b[0m\u001b[32m.\u001b[0m\u001b[32m.\u001b[0m\u001b[32m.\u001b[0m\u001b[32m.\u001b[0m\u001b[32m.\u001b[0m\u001b[32m.\u001b[0m\u001b[32m.\u001b[0m\u001b[32m.\u001b[0m\u001b[32m.\u001b[0m\u001b[32m.\u001b[0m\u001b[32m.\u001b[0m\u001b[32m.\u001b[0m\u001b[32m.\u001b[0m\u001b[32m.\u001b[0m\u001b[32m.\u001b[0m\u001b[31m     [ 50%]\u001b[0m\n",
      "tests\\test_events\\test_element_task.py \u001b[32m.\u001b[0m\u001b[32m.\u001b[0m\u001b[32m.\u001b[0m\u001b[32m.\u001b[0m\u001b[32m.\u001b[0m\u001b[32m.\u001b[0m\u001b[32m.\u001b[0m\u001b[32m.\u001b[0m\u001b[32m.\u001b[0m\u001b[32m.\u001b[0m\u001b[32m.\u001b[0m\u001b[32m.\u001b[0m\u001b[32m.\u001b[0m\u001b[32m.\u001b[0m\u001b[32m.\u001b[0m\u001b[32m.\u001b[0m\u001b[32m.\u001b[0m\u001b[32m.\u001b[0m\u001b[32m.\u001b[0m\u001b[32m.\u001b[0m\u001b[32m.\u001b[0m\u001b[32m.\u001b[0m\u001b[32m.\u001b[0m\u001b[32m.\u001b[0m\u001b[32m.\u001b[0m\u001b[32m.\u001b[0m\u001b[32m.\u001b[0m\u001b[32m.\u001b[0m\u001b[32m.\u001b[0m\u001b[31m     [ 74%]\u001b[0m\n",
      "tests\\test_mongomodule\\test_mongo_module.py \u001b[32m.\u001b[0m\u001b[32m.\u001b[0m\u001b[32m.\u001b[0m\u001b[32m.\u001b[0m\u001b[32m.\u001b[0m\u001b[32m.\u001b[0m\u001b[31m                       [ 79%]\u001b[0m\n",
      "tests\\test_schedule\\test_schedule_model.py \u001b[32m.\u001b[0m\u001b[32m.\u001b[0m\u001b[32m.\u001b[0m\u001b[32m.\u001b[0m\u001b[32m.\u001b[0m\u001b[32m.\u001b[0m\u001b[32m.\u001b[0m\u001b[32m.\u001b[0m\u001b[32m.\u001b[0m\u001b[32m.\u001b[0m\u001b[32m.\u001b[0m\u001b[32m.\u001b[0m\u001b[32m.\u001b[0m\u001b[32m.\u001b[0m\u001b[32m.\u001b[0m\u001b[32m.\u001b[0m\u001b[32m.\u001b[0m\u001b[32m.\u001b[0m\u001b[32m.\u001b[0m\u001b[31m           [ 95%]\u001b[0m\n",
      "tests\\test_uesrs\\test_user_management_module.py \u001b[31mF\u001b[0m\u001b[31mF\u001b[0m\u001b[31mF\u001b[0m\u001b[31mF\u001b[0m\u001b[31mF\u001b[0m\u001b[31mF\u001b[0m\u001b[31m                   [100%]\u001b[0m\n",
      "\n",
      "================================== FAILURES ===================================\n",
      "\u001b[31m\u001b[1m_________ TestAuthenticationModule.test_password_verification_success _________\u001b[0m\n",
      "\n",
      "self = <Engenharia_Software.tests.test_auth.test_authentication_module.TestAuthenticationModule testMethod=test_password_verification_success>\n",
      "\n",
      "    \u001b[94mdef\u001b[39;49;00m \u001b[92mtest_password_verification_success\u001b[39;49;00m(\u001b[96mself\u001b[39;49;00m):\u001b[90m\u001b[39;49;00m\n",
      "        \u001b[90m# Mocking bcrypt.checkpw method\u001b[39;49;00m\u001b[90m\u001b[39;49;00m\n",
      "        bcrypt.checkpw = MagicMock(return_value=\u001b[94mTrue\u001b[39;49;00m)\u001b[90m\u001b[39;49;00m\n",
      "    \u001b[90m\u001b[39;49;00m\n",
      "        \u001b[90m# Test\u001b[39;49;00m\u001b[90m\u001b[39;49;00m\n",
      "        result = \u001b[96mself\u001b[39;49;00m.auth_module.verify_password(\u001b[33m\"\u001b[39;49;00m\u001b[33mtest_password\u001b[39;49;00m\u001b[33m\"\u001b[39;49;00m, \u001b[33m\"\u001b[39;49;00m\u001b[33mtest_hashed_password\u001b[39;49;00m\u001b[33m\"\u001b[39;49;00m)\u001b[90m\u001b[39;49;00m\n",
      ">       \u001b[96mself\u001b[39;49;00m.assertTrue(result)\u001b[90m\u001b[39;49;00m\n",
      "\u001b[1m\u001b[31mE       AssertionError: None is not true\u001b[0m\n",
      "\n",
      "\u001b[1m\u001b[31mtests\\test_auth\\test_authentication_module.py\u001b[0m:50: AssertionError\n",
      "\u001b[31m\u001b[1m_____________ TestUserManagementModule.test_create_existing_user ______________\u001b[0m\n",
      "\n",
      "self = <Engenharia_Software.tests.test_uesrs.test_user_management_module.TestUserManagementModule testMethod=test_create_existing_user>\n",
      "\n",
      "    \u001b[94mdef\u001b[39;49;00m \u001b[92msetUp\u001b[39;49;00m(\u001b[96mself\u001b[39;49;00m):\u001b[90m\u001b[39;49;00m\n",
      "        \u001b[90m# Set up for the tests\u001b[39;49;00m\u001b[90m\u001b[39;49;00m\n",
      "    \u001b[90m\u001b[39;49;00m\n",
      "        \u001b[90m# Cria um mock para a interface DatabaseModule\u001b[39;49;00m\u001b[90m\u001b[39;49;00m\n",
      ">       \u001b[96mself\u001b[39;49;00m.database_module_mock = TextDocumentModule(\u001b[33m\"\u001b[39;49;00m\u001b[33mtests/test_auth/test_database.json\u001b[39;49;00m\u001b[33m\"\u001b[39;49;00m)\u001b[90m\u001b[39;49;00m\n",
      "\u001b[1m\u001b[31mE       TypeError: Can't instantiate abstract class TextDocumentModule with abstract methods delete_data, insert_data, select_data, update_data\u001b[0m\n",
      "\n",
      "\u001b[1m\u001b[31mtests\\test_uesrs\\test_user_management_module.py\u001b[0m:11: TypeError\n",
      "\u001b[31m\u001b[1m______________ TestUserManagementModule.test_create_user_success ______________\u001b[0m\n",
      "\n",
      "self = <Engenharia_Software.tests.test_uesrs.test_user_management_module.TestUserManagementModule testMethod=test_create_user_success>\n",
      "\n",
      "    \u001b[94mdef\u001b[39;49;00m \u001b[92msetUp\u001b[39;49;00m(\u001b[96mself\u001b[39;49;00m):\u001b[90m\u001b[39;49;00m\n",
      "        \u001b[90m# Set up for the tests\u001b[39;49;00m\u001b[90m\u001b[39;49;00m\n",
      "    \u001b[90m\u001b[39;49;00m\n",
      "        \u001b[90m# Cria um mock para a interface DatabaseModule\u001b[39;49;00m\u001b[90m\u001b[39;49;00m\n",
      ">       \u001b[96mself\u001b[39;49;00m.database_module_mock = TextDocumentModule(\u001b[33m\"\u001b[39;49;00m\u001b[33mtests/test_auth/test_database.json\u001b[39;49;00m\u001b[33m\"\u001b[39;49;00m)\u001b[90m\u001b[39;49;00m\n",
      "\u001b[1m\u001b[31mE       TypeError: Can't instantiate abstract class TextDocumentModule with abstract methods delete_data, insert_data, select_data, update_data\u001b[0m\n",
      "\n",
      "\u001b[1m\u001b[31mtests\\test_uesrs\\test_user_management_module.py\u001b[0m:11: TypeError\n",
      "\u001b[31m\u001b[1m__________________ TestUserManagementModule.test_delete_user __________________\u001b[0m\n",
      "\n",
      "self = <Engenharia_Software.tests.test_uesrs.test_user_management_module.TestUserManagementModule testMethod=test_delete_user>\n",
      "\n",
      "    \u001b[94mdef\u001b[39;49;00m \u001b[92msetUp\u001b[39;49;00m(\u001b[96mself\u001b[39;49;00m):\u001b[90m\u001b[39;49;00m\n",
      "        \u001b[90m# Set up for the tests\u001b[39;49;00m\u001b[90m\u001b[39;49;00m\n",
      "    \u001b[90m\u001b[39;49;00m\n",
      "        \u001b[90m# Cria um mock para a interface DatabaseModule\u001b[39;49;00m\u001b[90m\u001b[39;49;00m\n",
      ">       \u001b[96mself\u001b[39;49;00m.database_module_mock = TextDocumentModule(\u001b[33m\"\u001b[39;49;00m\u001b[33mtests/test_auth/test_database.json\u001b[39;49;00m\u001b[33m\"\u001b[39;49;00m)\u001b[90m\u001b[39;49;00m\n",
      "\u001b[1m\u001b[31mE       TypeError: Can't instantiate abstract class TextDocumentModule with abstract methods delete_data, insert_data, select_data, update_data\u001b[0m\n",
      "\n",
      "\u001b[1m\u001b[31mtests\\test_uesrs\\test_user_management_module.py\u001b[0m:11: TypeError\n",
      "\u001b[31m\u001b[1m_________________ TestUserManagementModule.test_hash_password _________________\u001b[0m\n",
      "\n",
      "self = <Engenharia_Software.tests.test_uesrs.test_user_management_module.TestUserManagementModule testMethod=test_hash_password>\n",
      "\n",
      "    \u001b[94mdef\u001b[39;49;00m \u001b[92msetUp\u001b[39;49;00m(\u001b[96mself\u001b[39;49;00m):\u001b[90m\u001b[39;49;00m\n",
      "        \u001b[90m# Set up for the tests\u001b[39;49;00m\u001b[90m\u001b[39;49;00m\n",
      "    \u001b[90m\u001b[39;49;00m\n",
      "        \u001b[90m# Cria um mock para a interface DatabaseModule\u001b[39;49;00m\u001b[90m\u001b[39;49;00m\n",
      ">       \u001b[96mself\u001b[39;49;00m.database_module_mock = TextDocumentModule(\u001b[33m\"\u001b[39;49;00m\u001b[33mtests/test_auth/test_database.json\u001b[39;49;00m\u001b[33m\"\u001b[39;49;00m)\u001b[90m\u001b[39;49;00m\n",
      "\u001b[1m\u001b[31mE       TypeError: Can't instantiate abstract class TextDocumentModule with abstract methods delete_data, insert_data, select_data, update_data\u001b[0m\n",
      "\n",
      "\u001b[1m\u001b[31mtests\\test_uesrs\\test_user_management_module.py\u001b[0m:11: TypeError\n",
      "\u001b[31m\u001b[1m__________________ TestUserManagementModule.test_user_exists __________________\u001b[0m\n",
      "\n",
      "self = <Engenharia_Software.tests.test_uesrs.test_user_management_module.TestUserManagementModule testMethod=test_user_exists>\n",
      "\n",
      "    \u001b[94mdef\u001b[39;49;00m \u001b[92msetUp\u001b[39;49;00m(\u001b[96mself\u001b[39;49;00m):\u001b[90m\u001b[39;49;00m\n",
      "        \u001b[90m# Set up for the tests\u001b[39;49;00m\u001b[90m\u001b[39;49;00m\n",
      "    \u001b[90m\u001b[39;49;00m\n",
      "        \u001b[90m# Cria um mock para a interface DatabaseModule\u001b[39;49;00m\u001b[90m\u001b[39;49;00m\n",
      ">       \u001b[96mself\u001b[39;49;00m.database_module_mock = TextDocumentModule(\u001b[33m\"\u001b[39;49;00m\u001b[33mtests/test_auth/test_database.json\u001b[39;49;00m\u001b[33m\"\u001b[39;49;00m)\u001b[90m\u001b[39;49;00m\n",
      "\u001b[1m\u001b[31mE       TypeError: Can't instantiate abstract class TextDocumentModule with abstract methods delete_data, insert_data, select_data, update_data\u001b[0m\n",
      "\n",
      "\u001b[1m\u001b[31mtests\\test_uesrs\\test_user_management_module.py\u001b[0m:11: TypeError\n",
      "\u001b[31m\u001b[1m________________ TestUserManagementModule.test_user_not_exists ________________\u001b[0m\n",
      "\n",
      "self = <Engenharia_Software.tests.test_uesrs.test_user_management_module.TestUserManagementModule testMethod=test_user_not_exists>\n",
      "\n",
      "    \u001b[94mdef\u001b[39;49;00m \u001b[92msetUp\u001b[39;49;00m(\u001b[96mself\u001b[39;49;00m):\u001b[90m\u001b[39;49;00m\n",
      "        \u001b[90m# Set up for the tests\u001b[39;49;00m\u001b[90m\u001b[39;49;00m\n",
      "    \u001b[90m\u001b[39;49;00m\n",
      "        \u001b[90m# Cria um mock para a interface DatabaseModule\u001b[39;49;00m\u001b[90m\u001b[39;49;00m\n",
      ">       \u001b[96mself\u001b[39;49;00m.database_module_mock = TextDocumentModule(\u001b[33m\"\u001b[39;49;00m\u001b[33mtests/test_auth/test_database.json\u001b[39;49;00m\u001b[33m\"\u001b[39;49;00m)\u001b[90m\u001b[39;49;00m\n",
      "\u001b[1m\u001b[31mE       TypeError: Can't instantiate abstract class TextDocumentModule with abstract methods delete_data, insert_data, select_data, update_data\u001b[0m\n",
      "\n",
      "\u001b[1m\u001b[31mtests\\test_uesrs\\test_user_management_module.py\u001b[0m:11: TypeError\n",
      "\u001b[36m\u001b[1m=========================== short test summary info ===========================\u001b[0m\n",
      "\u001b[31mFAILED\u001b[0m tests/test_auth/test_authentication_module.py::\u001b[1mTestAuthenticationModule::test_password_verification_success\u001b[0m - AssertionError: None is not true\n",
      "\u001b[31mFAILED\u001b[0m tests/test_uesrs/test_user_management_module.py::\u001b[1mTestUserManagementModule::test_create_existing_user\u001b[0m - TypeError: Can't instantiate abstract class TextDocumentModule with abstrac...\n",
      "\u001b[31mFAILED\u001b[0m tests/test_uesrs/test_user_management_module.py::\u001b[1mTestUserManagementModule::test_create_user_success\u001b[0m - TypeError: Can't instantiate abstract class TextDocumentModule with abstrac...\n",
      "\u001b[31mFAILED\u001b[0m tests/test_uesrs/test_user_management_module.py::\u001b[1mTestUserManagementModule::test_delete_user\u001b[0m - TypeError: Can't instantiate abstract class TextDocumentModule with abstrac...\n",
      "\u001b[31mFAILED\u001b[0m tests/test_uesrs/test_user_management_module.py::\u001b[1mTestUserManagementModule::test_hash_password\u001b[0m - TypeError: Can't instantiate abstract class TextDocumentModule with abstrac...\n",
      "\u001b[31mFAILED\u001b[0m tests/test_uesrs/test_user_management_module.py::\u001b[1mTestUserManagementModule::test_user_exists\u001b[0m - TypeError: Can't instantiate abstract class TextDocumentModule with abstrac...\n",
      "\u001b[31mFAILED\u001b[0m tests/test_uesrs/test_user_management_module.py::\u001b[1mTestUserManagementModule::test_user_not_exists\u001b[0m - TypeError: Can't instantiate abstract class TextDocumentModule with abstrac...\n",
      "\u001b[31m======================== \u001b[31m\u001b[1m7 failed\u001b[0m, \u001b[32m113 passed\u001b[0m\u001b[31m in 0.70s\u001b[0m\u001b[31m ========================\u001b[0m\n"
     ]
    }
   ],
   "source": [
    "!pip install -r requirements.txt\n",
    "!python -m pytest"
   ]
  },
  {
   "cell_type": "code",
   "execution_count": 62,
   "metadata": {},
   "outputs": [
    {
     "name": "stdout",
     "output_type": "stream",
     "text": [
      "Requirement already satisfied: coverage in c:\\users\\cole\\appdata\\local\\programs\\python\\python311\\lib\\site-packages (7.3.2)\n"
     ]
    }
   ],
   "source": [
    "!pip install coverage"
   ]
  },
  {
   "cell_type": "code",
   "execution_count": 63,
   "metadata": {},
   "outputs": [
    {
     "name": "stdout",
     "output_type": "stream",
     "text": [
      "\u001b[1m============================= test session starts =============================\u001b[0m\n",
      "platform win32 -- Python 3.11.1, pytest-7.4.3, pluggy-1.3.0\n",
      "rootdir: c:\\Users\\Cole\\OneDrive - Fundacao Getulio Vargas - FGV\\Área de Trabalho\\Documentos\\Engenharia_Software\n",
      "plugins: anyio-3.6.2\n",
      "collected 120 items\n",
      "\n",
      "tests\\test_auth\\test_authentication_module.py \u001b[32m.\u001b[0m\u001b[32m.\u001b[0m\u001b[32m.\u001b[0m\u001b[31mF\u001b[0m\u001b[31m                       [  3%]\u001b[0m\n",
      "tests\\test_events\\test_element_event.py \u001b[32m.\u001b[0m\u001b[32m.\u001b[0m\u001b[32m.\u001b[0m\u001b[32m.\u001b[0m\u001b[32m.\u001b[0m\u001b[32m.\u001b[0m\u001b[32m.\u001b[0m\u001b[32m.\u001b[0m\u001b[32m.\u001b[0m\u001b[32m.\u001b[0m\u001b[32m.\u001b[0m\u001b[32m.\u001b[0m\u001b[32m.\u001b[0m\u001b[32m.\u001b[0m\u001b[32m.\u001b[0m\u001b[32m.\u001b[0m\u001b[32m.\u001b[0m\u001b[32m.\u001b[0m\u001b[32m.\u001b[0m\u001b[32m.\u001b[0m\u001b[32m.\u001b[0m\u001b[32m.\u001b[0m\u001b[32m.\u001b[0m\u001b[32m.\u001b[0m\u001b[32m.\u001b[0m\u001b[32m.\u001b[0m\u001b[32m.\u001b[0m\u001b[31m      [ 25%]\u001b[0m\n",
      "tests\\test_events\\test_element_factory.py \u001b[32m.\u001b[0m\u001b[32m.\u001b[0m\u001b[32m.\u001b[0m\u001b[32m.\u001b[0m\u001b[31m                           [ 29%]\u001b[0m\n",
      "tests\\test_events\\test_element_reminder.py \u001b[32m.\u001b[0m\u001b[32m.\u001b[0m\u001b[32m.\u001b[0m\u001b[32m.\u001b[0m\u001b[32m.\u001b[0m\u001b[32m.\u001b[0m\u001b[32m.\u001b[0m\u001b[32m.\u001b[0m\u001b[32m.\u001b[0m\u001b[32m.\u001b[0m\u001b[32m.\u001b[0m\u001b[32m.\u001b[0m\u001b[32m.\u001b[0m\u001b[32m.\u001b[0m\u001b[32m.\u001b[0m\u001b[32m.\u001b[0m\u001b[32m.\u001b[0m\u001b[32m.\u001b[0m\u001b[32m.\u001b[0m\u001b[32m.\u001b[0m\u001b[32m.\u001b[0m\u001b[32m.\u001b[0m\u001b[32m.\u001b[0m\u001b[32m.\u001b[0m\u001b[32m.\u001b[0m\u001b[31m     [ 50%]\u001b[0m\n",
      "tests\\test_events\\test_element_task.py \u001b[32m.\u001b[0m\u001b[32m.\u001b[0m\u001b[32m.\u001b[0m\u001b[32m.\u001b[0m\u001b[32m.\u001b[0m\u001b[32m.\u001b[0m\u001b[32m.\u001b[0m\u001b[32m.\u001b[0m\u001b[32m.\u001b[0m\u001b[32m.\u001b[0m\u001b[32m.\u001b[0m\u001b[32m.\u001b[0m\u001b[32m.\u001b[0m\u001b[32m.\u001b[0m\u001b[32m.\u001b[0m\u001b[32m.\u001b[0m\u001b[32m.\u001b[0m\u001b[32m.\u001b[0m\u001b[32m.\u001b[0m\u001b[32m.\u001b[0m\u001b[32m.\u001b[0m\u001b[32m.\u001b[0m\u001b[32m.\u001b[0m\u001b[32m.\u001b[0m\u001b[32m.\u001b[0m\u001b[32m.\u001b[0m\u001b[32m.\u001b[0m\u001b[32m.\u001b[0m\u001b[32m.\u001b[0m\u001b[31m     [ 74%]\u001b[0m\n",
      "tests\\test_mongomodule\\test_mongo_module.py \u001b[32m.\u001b[0m\u001b[32m.\u001b[0m\u001b[32m.\u001b[0m\u001b[32m.\u001b[0m\u001b[32m.\u001b[0m\u001b[32m.\u001b[0m\u001b[31m                       [ 79%]\u001b[0m\n",
      "tests\\test_schedule\\test_schedule_model.py \u001b[32m.\u001b[0m\u001b[32m.\u001b[0m\u001b[32m.\u001b[0m\u001b[32m.\u001b[0m\u001b[32m.\u001b[0m\u001b[32m.\u001b[0m\u001b[32m.\u001b[0m\u001b[32m.\u001b[0m\u001b[32m.\u001b[0m\u001b[32m.\u001b[0m\u001b[32m.\u001b[0m\u001b[32m.\u001b[0m\u001b[32m.\u001b[0m\u001b[32m.\u001b[0m\u001b[32m.\u001b[0m\u001b[32m.\u001b[0m\u001b[32m.\u001b[0m\u001b[32m.\u001b[0m\u001b[32m.\u001b[0m\u001b[31m           [ 95%]\u001b[0m\n",
      "tests\\test_uesrs\\test_user_management_module.py \u001b[31mF\u001b[0m\u001b[31mF\u001b[0m\u001b[31mF\u001b[0m\u001b[31mF\u001b[0m\u001b[31mF\u001b[0m\u001b[31mF\u001b[0m\u001b[31m                   [100%]\u001b[0m\n",
      "\n",
      "================================== FAILURES ===================================\n",
      "\u001b[31m\u001b[1m_________ TestAuthenticationModule.test_password_verification_success _________\u001b[0m\n",
      "\n",
      "self = <Engenharia_Software.tests.test_auth.test_authentication_module.TestAuthenticationModule testMethod=test_password_verification_success>\n",
      "\n",
      "    \u001b[94mdef\u001b[39;49;00m \u001b[92mtest_password_verification_success\u001b[39;49;00m(\u001b[96mself\u001b[39;49;00m):\u001b[90m\u001b[39;49;00m\n",
      "        \u001b[90m# Mocking bcrypt.checkpw method\u001b[39;49;00m\u001b[90m\u001b[39;49;00m\n",
      "        bcrypt.checkpw = MagicMock(return_value=\u001b[94mTrue\u001b[39;49;00m)\u001b[90m\u001b[39;49;00m\n",
      "    \u001b[90m\u001b[39;49;00m\n",
      "        \u001b[90m# Test\u001b[39;49;00m\u001b[90m\u001b[39;49;00m\n",
      "        result = \u001b[96mself\u001b[39;49;00m.auth_module.verify_password(\u001b[33m\"\u001b[39;49;00m\u001b[33mtest_password\u001b[39;49;00m\u001b[33m\"\u001b[39;49;00m, \u001b[33m\"\u001b[39;49;00m\u001b[33mtest_hashed_password\u001b[39;49;00m\u001b[33m\"\u001b[39;49;00m)\u001b[90m\u001b[39;49;00m\n",
      ">       \u001b[96mself\u001b[39;49;00m.assertTrue(result)\u001b[90m\u001b[39;49;00m\n",
      "\u001b[1m\u001b[31mE       AssertionError: None is not true\u001b[0m\n",
      "\n",
      "\u001b[1m\u001b[31mtests\\test_auth\\test_authentication_module.py\u001b[0m:50: AssertionError\n",
      "\u001b[31m\u001b[1m_____________ TestUserManagementModule.test_create_existing_user ______________\u001b[0m\n",
      "\n",
      "self = <Engenharia_Software.tests.test_uesrs.test_user_management_module.TestUserManagementModule testMethod=test_create_existing_user>\n",
      "\n",
      "    \u001b[94mdef\u001b[39;49;00m \u001b[92msetUp\u001b[39;49;00m(\u001b[96mself\u001b[39;49;00m):\u001b[90m\u001b[39;49;00m\n",
      "        \u001b[90m# Set up for the tests\u001b[39;49;00m\u001b[90m\u001b[39;49;00m\n",
      "    \u001b[90m\u001b[39;49;00m\n",
      "        \u001b[90m# Cria um mock para a interface DatabaseModule\u001b[39;49;00m\u001b[90m\u001b[39;49;00m\n",
      ">       \u001b[96mself\u001b[39;49;00m.database_module_mock = TextDocumentModule(\u001b[33m\"\u001b[39;49;00m\u001b[33mtests/test_auth/test_database.json\u001b[39;49;00m\u001b[33m\"\u001b[39;49;00m)\u001b[90m\u001b[39;49;00m\n",
      "\u001b[1m\u001b[31mE       TypeError: Can't instantiate abstract class TextDocumentModule with abstract methods delete_data, insert_data, select_data, update_data\u001b[0m\n",
      "\n",
      "\u001b[1m\u001b[31mtests\\test_uesrs\\test_user_management_module.py\u001b[0m:11: TypeError\n",
      "\u001b[31m\u001b[1m______________ TestUserManagementModule.test_create_user_success ______________\u001b[0m\n",
      "\n",
      "self = <Engenharia_Software.tests.test_uesrs.test_user_management_module.TestUserManagementModule testMethod=test_create_user_success>\n",
      "\n",
      "    \u001b[94mdef\u001b[39;49;00m \u001b[92msetUp\u001b[39;49;00m(\u001b[96mself\u001b[39;49;00m):\u001b[90m\u001b[39;49;00m\n",
      "        \u001b[90m# Set up for the tests\u001b[39;49;00m\u001b[90m\u001b[39;49;00m\n",
      "    \u001b[90m\u001b[39;49;00m\n",
      "        \u001b[90m# Cria um mock para a interface DatabaseModule\u001b[39;49;00m\u001b[90m\u001b[39;49;00m\n",
      ">       \u001b[96mself\u001b[39;49;00m.database_module_mock = TextDocumentModule(\u001b[33m\"\u001b[39;49;00m\u001b[33mtests/test_auth/test_database.json\u001b[39;49;00m\u001b[33m\"\u001b[39;49;00m)\u001b[90m\u001b[39;49;00m\n",
      "\u001b[1m\u001b[31mE       TypeError: Can't instantiate abstract class TextDocumentModule with abstract methods delete_data, insert_data, select_data, update_data\u001b[0m\n",
      "\n",
      "\u001b[1m\u001b[31mtests\\test_uesrs\\test_user_management_module.py\u001b[0m:11: TypeError\n",
      "\u001b[31m\u001b[1m__________________ TestUserManagementModule.test_delete_user __________________\u001b[0m\n",
      "\n",
      "self = <Engenharia_Software.tests.test_uesrs.test_user_management_module.TestUserManagementModule testMethod=test_delete_user>\n",
      "\n",
      "    \u001b[94mdef\u001b[39;49;00m \u001b[92msetUp\u001b[39;49;00m(\u001b[96mself\u001b[39;49;00m):\u001b[90m\u001b[39;49;00m\n",
      "        \u001b[90m# Set up for the tests\u001b[39;49;00m\u001b[90m\u001b[39;49;00m\n",
      "    \u001b[90m\u001b[39;49;00m\n",
      "        \u001b[90m# Cria um mock para a interface DatabaseModule\u001b[39;49;00m\u001b[90m\u001b[39;49;00m\n",
      ">       \u001b[96mself\u001b[39;49;00m.database_module_mock = TextDocumentModule(\u001b[33m\"\u001b[39;49;00m\u001b[33mtests/test_auth/test_database.json\u001b[39;49;00m\u001b[33m\"\u001b[39;49;00m)\u001b[90m\u001b[39;49;00m\n",
      "\u001b[1m\u001b[31mE       TypeError: Can't instantiate abstract class TextDocumentModule with abstract methods delete_data, insert_data, select_data, update_data\u001b[0m\n",
      "\n",
      "\u001b[1m\u001b[31mtests\\test_uesrs\\test_user_management_module.py\u001b[0m:11: TypeError\n",
      "\u001b[31m\u001b[1m_________________ TestUserManagementModule.test_hash_password _________________\u001b[0m\n",
      "\n",
      "self = <Engenharia_Software.tests.test_uesrs.test_user_management_module.TestUserManagementModule testMethod=test_hash_password>\n",
      "\n",
      "    \u001b[94mdef\u001b[39;49;00m \u001b[92msetUp\u001b[39;49;00m(\u001b[96mself\u001b[39;49;00m):\u001b[90m\u001b[39;49;00m\n",
      "        \u001b[90m# Set up for the tests\u001b[39;49;00m\u001b[90m\u001b[39;49;00m\n",
      "    \u001b[90m\u001b[39;49;00m\n",
      "        \u001b[90m# Cria um mock para a interface DatabaseModule\u001b[39;49;00m\u001b[90m\u001b[39;49;00m\n",
      ">       \u001b[96mself\u001b[39;49;00m.database_module_mock = TextDocumentModule(\u001b[33m\"\u001b[39;49;00m\u001b[33mtests/test_auth/test_database.json\u001b[39;49;00m\u001b[33m\"\u001b[39;49;00m)\u001b[90m\u001b[39;49;00m\n",
      "\u001b[1m\u001b[31mE       TypeError: Can't instantiate abstract class TextDocumentModule with abstract methods delete_data, insert_data, select_data, update_data\u001b[0m\n",
      "\n",
      "\u001b[1m\u001b[31mtests\\test_uesrs\\test_user_management_module.py\u001b[0m:11: TypeError\n",
      "\u001b[31m\u001b[1m__________________ TestUserManagementModule.test_user_exists __________________\u001b[0m\n",
      "\n",
      "self = <Engenharia_Software.tests.test_uesrs.test_user_management_module.TestUserManagementModule testMethod=test_user_exists>\n",
      "\n",
      "    \u001b[94mdef\u001b[39;49;00m \u001b[92msetUp\u001b[39;49;00m(\u001b[96mself\u001b[39;49;00m):\u001b[90m\u001b[39;49;00m\n",
      "        \u001b[90m# Set up for the tests\u001b[39;49;00m\u001b[90m\u001b[39;49;00m\n",
      "    \u001b[90m\u001b[39;49;00m\n",
      "        \u001b[90m# Cria um mock para a interface DatabaseModule\u001b[39;49;00m\u001b[90m\u001b[39;49;00m\n",
      ">       \u001b[96mself\u001b[39;49;00m.database_module_mock = TextDocumentModule(\u001b[33m\"\u001b[39;49;00m\u001b[33mtests/test_auth/test_database.json\u001b[39;49;00m\u001b[33m\"\u001b[39;49;00m)\u001b[90m\u001b[39;49;00m\n",
      "\u001b[1m\u001b[31mE       TypeError: Can't instantiate abstract class TextDocumentModule with abstract methods delete_data, insert_data, select_data, update_data\u001b[0m\n",
      "\n",
      "\u001b[1m\u001b[31mtests\\test_uesrs\\test_user_management_module.py\u001b[0m:11: TypeError\n",
      "\u001b[31m\u001b[1m________________ TestUserManagementModule.test_user_not_exists ________________\u001b[0m\n",
      "\n",
      "self = <Engenharia_Software.tests.test_uesrs.test_user_management_module.TestUserManagementModule testMethod=test_user_not_exists>\n",
      "\n",
      "    \u001b[94mdef\u001b[39;49;00m \u001b[92msetUp\u001b[39;49;00m(\u001b[96mself\u001b[39;49;00m):\u001b[90m\u001b[39;49;00m\n",
      "        \u001b[90m# Set up for the tests\u001b[39;49;00m\u001b[90m\u001b[39;49;00m\n",
      "    \u001b[90m\u001b[39;49;00m\n",
      "        \u001b[90m# Cria um mock para a interface DatabaseModule\u001b[39;49;00m\u001b[90m\u001b[39;49;00m\n",
      ">       \u001b[96mself\u001b[39;49;00m.database_module_mock = TextDocumentModule(\u001b[33m\"\u001b[39;49;00m\u001b[33mtests/test_auth/test_database.json\u001b[39;49;00m\u001b[33m\"\u001b[39;49;00m)\u001b[90m\u001b[39;49;00m\n",
      "\u001b[1m\u001b[31mE       TypeError: Can't instantiate abstract class TextDocumentModule with abstract methods delete_data, insert_data, select_data, update_data\u001b[0m\n",
      "\n",
      "\u001b[1m\u001b[31mtests\\test_uesrs\\test_user_management_module.py\u001b[0m:11: TypeError\n",
      "\u001b[36m\u001b[1m=========================== short test summary info ===========================\u001b[0m\n",
      "\u001b[31mFAILED\u001b[0m tests/test_auth/test_authentication_module.py::\u001b[1mTestAuthenticationModule::test_password_verification_success\u001b[0m - AssertionError: None is not true\n",
      "\u001b[31mFAILED\u001b[0m tests/test_uesrs/test_user_management_module.py::\u001b[1mTestUserManagementModule::test_create_existing_user\u001b[0m - TypeError: Can't instantiate abstract class TextDocumentModule with abstrac...\n",
      "\u001b[31mFAILED\u001b[0m tests/test_uesrs/test_user_management_module.py::\u001b[1mTestUserManagementModule::test_create_user_success\u001b[0m - TypeError: Can't instantiate abstract class TextDocumentModule with abstrac...\n",
      "\u001b[31mFAILED\u001b[0m tests/test_uesrs/test_user_management_module.py::\u001b[1mTestUserManagementModule::test_delete_user\u001b[0m - TypeError: Can't instantiate abstract class TextDocumentModule with abstrac...\n",
      "\u001b[31mFAILED\u001b[0m tests/test_uesrs/test_user_management_module.py::\u001b[1mTestUserManagementModule::test_hash_password\u001b[0m - TypeError: Can't instantiate abstract class TextDocumentModule with abstrac...\n",
      "\u001b[31mFAILED\u001b[0m tests/test_uesrs/test_user_management_module.py::\u001b[1mTestUserManagementModule::test_user_exists\u001b[0m - TypeError: Can't instantiate abstract class TextDocumentModule with abstrac...\n",
      "\u001b[31mFAILED\u001b[0m tests/test_uesrs/test_user_management_module.py::\u001b[1mTestUserManagementModule::test_user_not_exists\u001b[0m - TypeError: Can't instantiate abstract class TextDocumentModule with abstrac...\n",
      "\u001b[31m======================== \u001b[31m\u001b[1m7 failed\u001b[0m, \u001b[32m113 passed\u001b[0m\u001b[31m in 1.09s\u001b[0m\u001b[31m ========================\u001b[0m\n"
     ]
    }
   ],
   "source": [
    "!coverage run -m pytest"
   ]
  },
  {
   "cell_type": "code",
   "execution_count": 64,
   "metadata": {},
   "outputs": [
    {
     "name": "stdout",
     "output_type": "stream",
     "text": [
      "The autoreload extension is already loaded. To reload it, use:\n",
      "  %reload_ext autoreload\n"
     ]
    }
   ],
   "source": [
    "%load_ext autoreload\n",
    "%autoreload 2"
   ]
  },
  {
   "cell_type": "code",
   "execution_count": 65,
   "metadata": {},
   "outputs": [
    {
     "name": "stdout",
     "output_type": "stream",
     "text": [
      "Name                                              Stmts   Miss  Cover   Missing\n",
      "-------------------------------------------------------------------------------\n",
      "__init__.py                                           0      0   100%\n",
      "src\\__init__.py                                       0      0   100%\n",
      "src\\auth\\__init__.py                                  0      0   100%\n",
      "src\\auth\\authentication.py                           12      0   100%\n",
      "src\\calendar_elements\\__init__.py                     0      0   100%\n",
      "src\\calendar_elements\\element_factory.py             12      0   100%\n",
      "src\\calendar_elements\\element_interface.py            9      0   100%\n",
      "src\\calendar_elements\\element_types.py              231     11    95%   12-16, 20, 24, 28, 40, 57, 174\n",
      "src\\database\\__init__.py                              0      0   100%\n",
      "src\\database\\database_module.py                      14      0   100%\n",
      "src\\database\\mongo_module.py                         45      5    89%   188-199\n",
      "src\\database\\text_document_module.py                 60     48    20%   7, 10-27, 30, 33-49, 52-62, 65-66, 69-70, 73-77\n",
      "src\\schedule\\__init__.py                              0      0   100%\n",
      "src\\schedule\\schedule_model.py                       40      2    95%   52, 66\n",
      "src\\user\\__init__.py                                  0      0   100%\n",
      "src\\user\\user_management.py                          37     22    41%   58-73, 86-89, 102-104, 116-118, 130-132\n",
      "src\\user\\user_model.py                               18     10    44%   3-7, 10, 13, 23, 32, 35\n",
      "tests\\__init__.py                                     0      0   100%\n",
      "tests\\test_auth\\__init__.py                           0      0   100%\n",
      "tests\\test_auth\\test_authentication_module.py        35      1    97%   67\n",
      "tests\\test_events\\__init__.py                         0      0   100%\n",
      "tests\\test_events\\test_element_event.py             160      1    99%   292\n",
      "tests\\test_events\\test_element_factory.py            22      1    95%   66\n",
      "tests\\test_events\\test_element_reminder.py          152      1    99%   278\n",
      "tests\\test_events\\test_element_task.py              166      1    99%   303\n",
      "tests\\test_mongomodule\\__init__.py                    0      0   100%\n",
      "tests\\test_mongomodule\\test_mongo_module.py         104      3    97%   144-146\n",
      "tests\\test_schedule\\__init__.py                       0      0   100%\n",
      "tests\\test_schedule\\test_schedule_model.py           75      1    99%   136\n",
      "tests\\test_uesrs\\__init__.py                          0      0   100%\n",
      "tests\\test_uesrs\\test_user_management_module.py      40     25    38%   12-18, 22-23, 27-30, 34-36, 40-42, 46-47, 51-62, 66, 70\n",
      "-------------------------------------------------------------------------------\n",
      "TOTAL                                              1232    132    89%\n"
     ]
    }
   ],
   "source": [
    "# explicação do copitot:\n",
    "# Name: nome do arquivo testado\n",
    "# Stmts: número de linhas executadas\n",
    "# Miss: número de linhas não executadas\n",
    "# Cover: porcentagem de cobertura\n",
    "# Missing: linhas não executadas\n",
    "!coverage report -m"
   ]
  },
  {
   "cell_type": "markdown",
   "metadata": {},
   "source": [
    "Rode a célula (ou o comando) abaixo para gerar um relatório de cobertura em html dos testes:"
   ]
  },
  {
   "cell_type": "code",
   "execution_count": 66,
   "metadata": {},
   "outputs": [
    {
     "name": "stdout",
     "output_type": "stream",
     "text": [
      "Wrote HTML report to htmlcov\\index.html\n"
     ]
    }
   ],
   "source": [
    "!coverage html"
   ]
  },
  {
   "cell_type": "code",
   "execution_count": 67,
   "metadata": {},
   "outputs": [
    {
     "name": "stdout",
     "output_type": "stream",
     "text": [
      "\u001b[1m============================= test session starts =============================\u001b[0m\n",
      "platform win32 -- Python 3.11.1, pytest-7.4.3, pluggy-1.3.0\n",
      "rootdir: c:\\Users\\Cole\\OneDrive - Fundacao Getulio Vargas - FGV\\Área de Trabalho\\Documentos\\Engenharia_Software\n",
      "plugins: anyio-3.6.2\n",
      "collected 4 items\n",
      "\n",
      "tests\\test_auth\\test_authentication_module.py \u001b[32m.\u001b[0m\u001b[32m.\u001b[0m\u001b[32m.\u001b[0m\u001b[31mF\u001b[0m\u001b[31m                       [100%]\u001b[0m\n",
      "\n",
      "================================== FAILURES ===================================\n",
      "\u001b[31m\u001b[1m_________ TestAuthenticationModule.test_password_verification_success _________\u001b[0m\n",
      "\n",
      "self = <Engenharia_Software.tests.test_auth.test_authentication_module.TestAuthenticationModule testMethod=test_password_verification_success>\n",
      "\n",
      "    \u001b[94mdef\u001b[39;49;00m \u001b[92mtest_password_verification_success\u001b[39;49;00m(\u001b[96mself\u001b[39;49;00m):\u001b[90m\u001b[39;49;00m\n",
      "        \u001b[90m# Mocking bcrypt.checkpw method\u001b[39;49;00m\u001b[90m\u001b[39;49;00m\n",
      "        bcrypt.checkpw = MagicMock(return_value=\u001b[94mTrue\u001b[39;49;00m)\u001b[90m\u001b[39;49;00m\n",
      "    \u001b[90m\u001b[39;49;00m\n",
      "        \u001b[90m# Test\u001b[39;49;00m\u001b[90m\u001b[39;49;00m\n",
      "        result = \u001b[96mself\u001b[39;49;00m.auth_module.verify_password(\u001b[33m\"\u001b[39;49;00m\u001b[33mtest_password\u001b[39;49;00m\u001b[33m\"\u001b[39;49;00m, \u001b[33m\"\u001b[39;49;00m\u001b[33mtest_hashed_password\u001b[39;49;00m\u001b[33m\"\u001b[39;49;00m)\u001b[90m\u001b[39;49;00m\n",
      ">       \u001b[96mself\u001b[39;49;00m.assertTrue(result)\u001b[90m\u001b[39;49;00m\n",
      "\u001b[1m\u001b[31mE       AssertionError: None is not true\u001b[0m\n",
      "\n",
      "\u001b[1m\u001b[31mtests\\test_auth\\test_authentication_module.py\u001b[0m:50: AssertionError\n",
      "\u001b[36m\u001b[1m=========================== short test summary info ===========================\u001b[0m\n",
      "\u001b[31mFAILED\u001b[0m tests/test_auth/test_authentication_module.py::\u001b[1mTestAuthenticationModule::test_password_verification_success\u001b[0m - AssertionError: None is not true\n",
      "\u001b[31m========================= \u001b[31m\u001b[1m1 failed\u001b[0m, \u001b[32m3 passed\u001b[0m\u001b[31m in 0.25s\u001b[0m\u001b[31m =========================\u001b[0m\n"
     ]
    }
   ],
   "source": [
    "# rodando um teste específico\n",
    "!coverage run -m pytest tests/test_auth/test_authentication_module.py"
   ]
  },
  {
   "cell_type": "code",
   "execution_count": null,
   "metadata": {},
   "outputs": [],
   "source": []
  }
 ],
 "metadata": {
  "kernelspec": {
   "display_name": "Python 3",
   "language": "python",
   "name": "python3"
  },
  "language_info": {
   "codemirror_mode": {
    "name": "ipython",
    "version": 3
   },
   "file_extension": ".py",
   "mimetype": "text/x-python",
   "name": "python",
   "nbconvert_exporter": "python",
   "pygments_lexer": "ipython3",
   "version": "3.11.1"
  }
 },
 "nbformat": 4,
 "nbformat_minor": 2
}
