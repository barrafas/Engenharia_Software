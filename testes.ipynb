{
 "cells": [
  {
   "cell_type": "markdown",
   "metadata": {},
   "source": [
    "Para executar os testes, basta executar o comando abaixo:\n",
    "\n",
    "```bash\n",
    "python -m pytest\n",
    "```\n",
    "\n",
    "Alternativamente, rode a celula abaixo"
   ]
  },
  {
   "cell_type": "code",
   "execution_count": 298,
   "metadata": {},
   "outputs": [
    {
     "name": "stdout",
     "output_type": "stream",
     "text": [
      "Requirement already satisfied: pymongo in c:\\users\\rodrigopintucci\\appdata\\local\\packages\\pythonsoftwarefoundation.python.3.9_qbz5n2kfra8p0\\localcache\\local-packages\\python39\\site-packages (from -r requirements.txt (line 1)) (4.6.1)\n",
      "Requirement already satisfied: pytest in c:\\users\\rodrigopintucci\\appdata\\local\\packages\\pythonsoftwarefoundation.python.3.9_qbz5n2kfra8p0\\localcache\\local-packages\\python39\\site-packages (from -r requirements.txt (line 2)) (7.4.3)\n",
      "Requirement already satisfied: bcrypt in c:\\users\\rodrigopintucci\\appdata\\local\\packages\\pythonsoftwarefoundation.python.3.9_qbz5n2kfra8p0\\localcache\\local-packages\\python39\\site-packages (from -r requirements.txt (line 3)) (4.1.1)\n",
      "Requirement already satisfied: dnspython<3.0.0,>=1.16.0 in c:\\users\\rodrigopintucci\\appdata\\local\\packages\\pythonsoftwarefoundation.python.3.9_qbz5n2kfra8p0\\localcache\\local-packages\\python39\\site-packages (from pymongo->-r requirements.txt (line 1)) (2.4.2)\n",
      "Requirement already satisfied: exceptiongroup>=1.0.0rc8 in c:\\users\\rodrigopintucci\\appdata\\local\\packages\\pythonsoftwarefoundation.python.3.9_qbz5n2kfra8p0\\localcache\\local-packages\\python39\\site-packages (from pytest->-r requirements.txt (line 2)) (1.2.0)\n",
      "Requirement already satisfied: colorama in c:\\users\\rodrigopintucci\\appdata\\local\\packages\\pythonsoftwarefoundation.python.3.9_qbz5n2kfra8p0\\localcache\\local-packages\\python39\\site-packages (from pytest->-r requirements.txt (line 2)) (0.3.9)\n",
      "Requirement already satisfied: packaging in c:\\users\\rodrigopintucci\\appdata\\local\\packages\\pythonsoftwarefoundation.python.3.9_qbz5n2kfra8p0\\localcache\\local-packages\\python39\\site-packages (from pytest->-r requirements.txt (line 2)) (21.3)\n",
      "Requirement already satisfied: pluggy<2.0,>=0.12 in c:\\users\\rodrigopintucci\\appdata\\local\\packages\\pythonsoftwarefoundation.python.3.9_qbz5n2kfra8p0\\localcache\\local-packages\\python39\\site-packages (from pytest->-r requirements.txt (line 2)) (1.3.0)\n",
      "Requirement already satisfied: iniconfig in c:\\users\\rodrigopintucci\\appdata\\local\\packages\\pythonsoftwarefoundation.python.3.9_qbz5n2kfra8p0\\localcache\\local-packages\\python39\\site-packages (from pytest->-r requirements.txt (line 2)) (2.0.0)\n",
      "Requirement already satisfied: tomli>=1.0.0 in c:\\users\\rodrigopintucci\\appdata\\local\\packages\\pythonsoftwarefoundation.python.3.9_qbz5n2kfra8p0\\localcache\\local-packages\\python39\\site-packages (from pytest->-r requirements.txt (line 2)) (2.0.1)\n",
      "Requirement already satisfied: pyparsing!=3.0.5,>=2.0.2 in c:\\users\\rodrigopintucci\\appdata\\local\\packages\\pythonsoftwarefoundation.python.3.9_qbz5n2kfra8p0\\localcache\\local-packages\\python39\\site-packages (from packaging->pytest->-r requirements.txt (line 2)) (3.0.9)\n"
     ]
    },
    {
     "name": "stderr",
     "output_type": "stream",
     "text": [
      "\n",
      "[notice] A new release of pip available: 22.3.1 -> 23.3.1\n",
      "[notice] To update, run: C:\\Users\\RodrigoPintucci\\AppData\\Local\\Microsoft\\WindowsApps\\PythonSoftwareFoundation.Python.3.9_qbz5n2kfra8p0\\python.exe -m pip install --upgrade pip\n"
     ]
    },
    {
     "name": "stdout",
     "output_type": "stream",
     "text": [
      "============================= test session starts =============================\n",
      "platform win32 -- Python 3.9.13, pytest-7.4.3, pluggy-1.3.0\n",
      "rootdir: c:\\Users\\RodrigoPintucci\\Documents\\EngenhariaSoftware\\Engenharia_Software\n",
      "collected 159 items\n",
      "\n",
      "tests\\test_auth\\test_authentication_module.py .....                      [  3%]\n",
      "tests\\test_events\\test_element_event.py ...........................      [ 20%]\n",
      "tests\\test_events\\test_element_factory.py ....                           [ 22%]\n",
      "tests\\test_events\\test_element_reminder.py .........................     [ 38%]\n",
      "tests\\test_events\\test_element_task.py .............................     [ 56%]\n",
      "tests\\test_mongomodule\\test_mongo_module.py ......                       [ 60%]\n",
      "tests\\test_schedule\\test_schedule_management.py ........................ [ 75%]\n",
      ".....                                                                    [ 78%]\n",
      "tests\\test_schedule\\test_schedule_model.py ............................  [ 96%]\n",
      "tests\\test_uesrs\\test_user_management_module.py FFFFFF                   [100%]\n",
      "\n",
      "================================== FAILURES ===================================\n",
      "_____________ TestUserManagementModule.test_create_existing_user ______________\n",
      "\n",
      "self = <Engenharia_Software.tests.test_uesrs.test_user_management_module.TestUserManagementModule testMethod=test_create_existing_user>\n",
      "\n",
      "    def setUp(self):\n",
      "        # Set up for the tests\n",
      "    \n",
      "        # Cria um mock para a interface DatabaseModule\n",
      ">       self.database_module_mock = TextDocumentModule(\"tests/test_auth/test_database.json\")\n",
      "E       TypeError: Can't instantiate abstract class TextDocumentModule with abstract methods delete_data, insert_data, select_data, update_data\n",
      "\n",
      "tests\\test_uesrs\\test_user_management_module.py:11: TypeError\n",
      "______________ TestUserManagementModule.test_create_user_success ______________\n",
      "\n",
      "self = <Engenharia_Software.tests.test_uesrs.test_user_management_module.TestUserManagementModule testMethod=test_create_user_success>\n",
      "\n",
      "    def setUp(self):\n",
      "        # Set up for the tests\n",
      "    \n",
      "        # Cria um mock para a interface DatabaseModule\n",
      ">       self.database_module_mock = TextDocumentModule(\"tests/test_auth/test_database.json\")\n",
      "E       TypeError: Can't instantiate abstract class TextDocumentModule with abstract methods delete_data, insert_data, select_data, update_data\n",
      "\n",
      "tests\\test_uesrs\\test_user_management_module.py:11: TypeError\n",
      "__________________ TestUserManagementModule.test_delete_user __________________\n",
      "\n",
      "self = <Engenharia_Software.tests.test_uesrs.test_user_management_module.TestUserManagementModule testMethod=test_delete_user>\n",
      "\n",
      "    def setUp(self):\n",
      "        # Set up for the tests\n",
      "    \n",
      "        # Cria um mock para a interface DatabaseModule\n",
      ">       self.database_module_mock = TextDocumentModule(\"tests/test_auth/test_database.json\")\n",
      "E       TypeError: Can't instantiate abstract class TextDocumentModule with abstract methods delete_data, insert_data, select_data, update_data\n",
      "\n",
      "tests\\test_uesrs\\test_user_management_module.py:11: TypeError\n",
      "_________________ TestUserManagementModule.test_hash_password _________________\n",
      "\n",
      "self = <Engenharia_Software.tests.test_uesrs.test_user_management_module.TestUserManagementModule testMethod=test_hash_password>\n",
      "\n",
      "    def setUp(self):\n",
      "        # Set up for the tests\n",
      "    \n",
      "        # Cria um mock para a interface DatabaseModule\n",
      ">       self.database_module_mock = TextDocumentModule(\"tests/test_auth/test_database.json\")\n",
      "E       TypeError: Can't instantiate abstract class TextDocumentModule with abstract methods delete_data, insert_data, select_data, update_data\n",
      "\n",
      "tests\\test_uesrs\\test_user_management_module.py:11: TypeError\n",
      "__________________ TestUserManagementModule.test_user_exists __________________\n",
      "\n",
      "self = <Engenharia_Software.tests.test_uesrs.test_user_management_module.TestUserManagementModule testMethod=test_user_exists>\n",
      "\n",
      "    def setUp(self):\n",
      "        # Set up for the tests\n",
      "    \n",
      "        # Cria um mock para a interface DatabaseModule\n",
      ">       self.database_module_mock = TextDocumentModule(\"tests/test_auth/test_database.json\")\n",
      "E       TypeError: Can't instantiate abstract class TextDocumentModule with abstract methods delete_data, insert_data, select_data, update_data\n",
      "\n",
      "tests\\test_uesrs\\test_user_management_module.py:11: TypeError\n",
      "________________ TestUserManagementModule.test_user_not_exists ________________\n",
      "\n",
      "self = <Engenharia_Software.tests.test_uesrs.test_user_management_module.TestUserManagementModule testMethod=test_user_not_exists>\n",
      "\n",
      "    def setUp(self):\n",
      "        # Set up for the tests\n",
      "    \n",
      "        # Cria um mock para a interface DatabaseModule\n",
      ">       self.database_module_mock = TextDocumentModule(\"tests/test_auth/test_database.json\")\n",
      "E       TypeError: Can't instantiate abstract class TextDocumentModule with abstract methods delete_data, insert_data, select_data, update_data\n",
      "\n",
      "tests\\test_uesrs\\test_user_management_module.py:11: TypeError\n",
      "=========================== short test summary info ===========================\n",
      "FAILED tests/test_uesrs/test_user_management_module.py::TestUserManagementModule::test_create_existing_user\n",
      "FAILED tests/test_uesrs/test_user_management_module.py::TestUserManagementModule::test_create_user_success\n",
      "FAILED tests/test_uesrs/test_user_management_module.py::TestUserManagementModule::test_delete_user\n",
      "FAILED tests/test_uesrs/test_user_management_module.py::TestUserManagementModule::test_hash_password\n",
      "FAILED tests/test_uesrs/test_user_management_module.py::TestUserManagementModule::test_user_exists\n",
      "FAILED tests/test_uesrs/test_user_management_module.py::TestUserManagementModule::test_user_not_exists\n",
      "======================== 6 failed, 153 passed in 1.23s ========================\n"
     ]
    }
   ],
   "source": [
    "!pip install -r requirements.txt\n",
    "!python -m pytest"
   ]
  },
  {
   "cell_type": "code",
   "execution_count": 299,
   "metadata": {},
   "outputs": [
    {
     "name": "stdout",
     "output_type": "stream",
     "text": [
      "Requirement already satisfied: coverage in c:\\users\\rodrigopintucci\\appdata\\local\\packages\\pythonsoftwarefoundation.python.3.9_qbz5n2kfra8p0\\localcache\\local-packages\\python39\\site-packages (7.3.2)\n"
     ]
    },
    {
     "name": "stderr",
     "output_type": "stream",
     "text": [
      "\n",
      "[notice] A new release of pip available: 22.3.1 -> 23.3.1\n",
      "[notice] To update, run: C:\\Users\\RodrigoPintucci\\AppData\\Local\\Microsoft\\WindowsApps\\PythonSoftwareFoundation.Python.3.9_qbz5n2kfra8p0\\python.exe -m pip install --upgrade pip\n"
     ]
    }
   ],
   "source": [
    "!pip install coverage"
   ]
  },
  {
   "cell_type": "code",
   "execution_count": 300,
   "metadata": {},
   "outputs": [
    {
     "name": "stdout",
     "output_type": "stream",
     "text": [
      "============================= test session starts =============================\n",
      "platform win32 -- Python 3.9.13, pytest-7.4.3, pluggy-1.3.0\n",
      "rootdir: c:\\Users\\RodrigoPintucci\\Documents\\EngenhariaSoftware\\Engenharia_Software\n",
      "collected 159 items\n",
      "\n",
      "tests\\test_auth\\test_authentication_module.py .....                      [  3%]\n",
      "tests\\test_events\\test_element_event.py ...........................      [ 20%]\n",
      "tests\\test_events\\test_element_factory.py ....                           [ 22%]\n",
      "tests\\test_events\\test_element_reminder.py .........................     [ 38%]\n",
      "tests\\test_events\\test_element_task.py .............................     [ 56%]\n",
      "tests\\test_mongomodule\\test_mongo_module.py ......                       [ 60%]\n",
      "tests\\test_schedule\\test_schedule_management.py ........................ [ 75%]\n",
      ".....                                                                    [ 78%]\n",
      "tests\\test_schedule\\test_schedule_model.py ............................  [ 96%]\n",
      "tests\\test_uesrs\\test_user_management_module.py FFFFFF                   [100%]\n",
      "\n",
      "================================== FAILURES ===================================\n",
      "_____________ TestUserManagementModule.test_create_existing_user ______________\n",
      "\n",
      "self = <Engenharia_Software.tests.test_uesrs.test_user_management_module.TestUserManagementModule testMethod=test_create_existing_user>\n",
      "\n",
      "    def setUp(self):\n",
      "        # Set up for the tests\n",
      "    \n",
      "        # Cria um mock para a interface DatabaseModule\n",
      ">       self.database_module_mock = TextDocumentModule(\"tests/test_auth/test_database.json\")\n",
      "E       TypeError: Can't instantiate abstract class TextDocumentModule with abstract methods delete_data, insert_data, select_data, update_data\n",
      "\n",
      "tests\\test_uesrs\\test_user_management_module.py:11: TypeError\n",
      "______________ TestUserManagementModule.test_create_user_success ______________\n",
      "\n",
      "self = <Engenharia_Software.tests.test_uesrs.test_user_management_module.TestUserManagementModule testMethod=test_create_user_success>\n",
      "\n",
      "    def setUp(self):\n",
      "        # Set up for the tests\n",
      "    \n",
      "        # Cria um mock para a interface DatabaseModule\n",
      ">       self.database_module_mock = TextDocumentModule(\"tests/test_auth/test_database.json\")\n",
      "E       TypeError: Can't instantiate abstract class TextDocumentModule with abstract methods delete_data, insert_data, select_data, update_data\n",
      "\n",
      "tests\\test_uesrs\\test_user_management_module.py:11: TypeError\n",
      "__________________ TestUserManagementModule.test_delete_user __________________\n",
      "\n",
      "self = <Engenharia_Software.tests.test_uesrs.test_user_management_module.TestUserManagementModule testMethod=test_delete_user>\n",
      "\n",
      "    def setUp(self):\n",
      "        # Set up for the tests\n",
      "    \n",
      "        # Cria um mock para a interface DatabaseModule\n",
      ">       self.database_module_mock = TextDocumentModule(\"tests/test_auth/test_database.json\")\n",
      "E       TypeError: Can't instantiate abstract class TextDocumentModule with abstract methods delete_data, insert_data, select_data, update_data\n",
      "\n",
      "tests\\test_uesrs\\test_user_management_module.py:11: TypeError\n",
      "_________________ TestUserManagementModule.test_hash_password _________________\n",
      "\n",
      "self = <Engenharia_Software.tests.test_uesrs.test_user_management_module.TestUserManagementModule testMethod=test_hash_password>\n",
      "\n",
      "    def setUp(self):\n",
      "        # Set up for the tests\n",
      "    \n",
      "        # Cria um mock para a interface DatabaseModule\n",
      ">       self.database_module_mock = TextDocumentModule(\"tests/test_auth/test_database.json\")\n",
      "E       TypeError: Can't instantiate abstract class TextDocumentModule with abstract methods delete_data, insert_data, select_data, update_data\n",
      "\n",
      "tests\\test_uesrs\\test_user_management_module.py:11: TypeError\n",
      "__________________ TestUserManagementModule.test_user_exists __________________\n",
      "\n",
      "self = <Engenharia_Software.tests.test_uesrs.test_user_management_module.TestUserManagementModule testMethod=test_user_exists>\n",
      "\n",
      "    def setUp(self):\n",
      "        # Set up for the tests\n",
      "    \n",
      "        # Cria um mock para a interface DatabaseModule\n",
      ">       self.database_module_mock = TextDocumentModule(\"tests/test_auth/test_database.json\")\n",
      "E       TypeError: Can't instantiate abstract class TextDocumentModule with abstract methods delete_data, insert_data, select_data, update_data\n",
      "\n",
      "tests\\test_uesrs\\test_user_management_module.py:11: TypeError\n",
      "________________ TestUserManagementModule.test_user_not_exists ________________\n",
      "\n",
      "self = <Engenharia_Software.tests.test_uesrs.test_user_management_module.TestUserManagementModule testMethod=test_user_not_exists>\n",
      "\n",
      "    def setUp(self):\n",
      "        # Set up for the tests\n",
      "    \n",
      "        # Cria um mock para a interface DatabaseModule\n",
      ">       self.database_module_mock = TextDocumentModule(\"tests/test_auth/test_database.json\")\n",
      "E       TypeError: Can't instantiate abstract class TextDocumentModule with abstract methods delete_data, insert_data, select_data, update_data\n",
      "\n",
      "tests\\test_uesrs\\test_user_management_module.py:11: TypeError\n",
      "=========================== short test summary info ===========================\n",
      "FAILED tests/test_uesrs/test_user_management_module.py::TestUserManagementModule::test_create_existing_user\n",
      "FAILED tests/test_uesrs/test_user_management_module.py::TestUserManagementModule::test_create_user_success\n",
      "FAILED tests/test_uesrs/test_user_management_module.py::TestUserManagementModule::test_delete_user\n",
      "FAILED tests/test_uesrs/test_user_management_module.py::TestUserManagementModule::test_hash_password\n",
      "FAILED tests/test_uesrs/test_user_management_module.py::TestUserManagementModule::test_user_exists\n",
      "FAILED tests/test_uesrs/test_user_management_module.py::TestUserManagementModule::test_user_not_exists\n",
      "======================== 6 failed, 153 passed in 1.93s ========================\n"
     ]
    }
   ],
   "source": [
    "!coverage run -m pytest"
   ]
  },
  {
   "cell_type": "code",
   "execution_count": 301,
   "metadata": {},
   "outputs": [
    {
     "name": "stdout",
     "output_type": "stream",
     "text": [
      "The autoreload extension is already loaded. To reload it, use:\n",
      "  %reload_ext autoreload\n"
     ]
    }
   ],
   "source": [
    "%load_ext autoreload\n",
    "%autoreload 2"
   ]
  },
  {
   "cell_type": "code",
   "execution_count": 302,
   "metadata": {},
   "outputs": [
    {
     "name": "stdout",
     "output_type": "stream",
     "text": [
      "Name                                              Stmts   Miss  Cover   Missing\n",
      "-------------------------------------------------------------------------------\n",
      "__init__.py                                           0      0   100%\n",
      "src\\__init__.py                                       0      0   100%\n",
      "src\\auth\\__init__.py                                  0      0   100%\n",
      "src\\auth\\authentication.py                           19      0   100%\n",
      "src\\calendar_elements\\__init__.py                     0      0   100%\n",
      "src\\calendar_elements\\element_factory.py             12      0   100%\n",
      "src\\calendar_elements\\element_interface.py            9      0   100%\n",
      "src\\calendar_elements\\element_types.py              231     11    95%   12-16, 20, 24, 28, 40, 57, 174\n",
      "src\\database\\__init__.py                              0      0   100%\n",
      "src\\database\\database_module.py                      14      0   100%\n",
      "src\\database\\mongo_module.py                         45      5    89%   188-199\n",
      "src\\database\\text_document_module.py                 60     48    20%   7, 10-27, 30, 33-49, 52-62, 65-66, 69-70, 73-77\n",
      "src\\schedule\\__init__.py                              0      0   100%\n",
      "src\\schedule\\schedule_management.py                  84      0   100%\n",
      "src\\schedule\\schedule_model.py                       57      0   100%\n",
      "src\\user\\__init__.py                                  0      0   100%\n",
      "src\\user\\user_management.py                          37     22    41%   58-73, 86-89, 102-104, 116-118, 130-132\n",
      "src\\user\\user_model.py                               18     10    44%   3-7, 10, 13, 23, 32, 35\n",
      "tests\\__init__.py                                     0      0   100%\n",
      "tests\\test_auth\\__init__.py                           0      0   100%\n",
      "tests\\test_auth\\test_authentication_module.py        39      1    97%   76\n",
      "tests\\test_events\\__init__.py                         0      0   100%\n",
      "tests\\test_events\\test_element_event.py             160      1    99%   292\n",
      "tests\\test_events\\test_element_factory.py            22      1    95%   66\n",
      "tests\\test_events\\test_element_reminder.py          152      1    99%   278\n",
      "tests\\test_events\\test_element_task.py              166      1    99%   303\n",
      "tests\\test_mongomodule\\__init__.py                    0      0   100%\n",
      "tests\\test_mongomodule\\test_mongo_module.py         104      3    97%   144-146\n",
      "tests\\test_schedule\\__init__.py                       0      0   100%\n",
      "tests\\test_schedule\\mocks.py                         45      4    91%   5, 115, 144, 147\n",
      "tests\\test_schedule\\test_schedule_management.py     291      1    99%   474\n",
      "tests\\test_schedule\\test_schedule_model.py          121      1    99%   211\n",
      "tests\\test_uesrs\\__init__.py                          0      0   100%\n",
      "tests\\test_uesrs\\test_user_management_module.py      40     25    38%   12-18, 22-23, 27-30, 34-36, 40-42, 46-47, 51-62, 66, 70\n",
      "-------------------------------------------------------------------------------\n",
      "TOTAL                                              1726    135    92%\n"
     ]
    }
   ],
   "source": [
    "# explicação do copitot:\n",
    "# Name: nome do arquivo testado\n",
    "# Stmts: número de linhas executadas\n",
    "# Miss: número de linhas não executadas\n",
    "# Cover: porcentagem de cobertura\n",
    "# Missing: linhas não executadas\n",
    "!coverage report -m"
   ]
  },
  {
   "cell_type": "markdown",
   "metadata": {},
   "source": [
    "Rode a célula (ou o comando) abaixo para gerar um relatório de cobertura em html dos testes:"
   ]
  },
  {
   "cell_type": "code",
   "execution_count": 303,
   "metadata": {},
   "outputs": [
    {
     "name": "stdout",
     "output_type": "stream",
     "text": [
      "Wrote HTML report to htmlcov\\index.html\n"
     ]
    }
   ],
   "source": [
    "!coverage html"
   ]
  },
  {
   "cell_type": "code",
   "execution_count": 304,
   "metadata": {},
   "outputs": [
    {
     "name": "stdout",
     "output_type": "stream",
     "text": [
      "============================= test session starts =============================\n",
      "platform win32 -- Python 3.9.13, pytest-7.4.3, pluggy-1.3.0\n",
      "rootdir: c:\\Users\\RodrigoPintucci\\Documents\\EngenhariaSoftware\\Engenharia_Software\n",
      "collected 0 items\n",
      "\n",
      "============================ no tests ran in 0.55s ============================\n"
     ]
    },
    {
     "name": "stderr",
     "output_type": "stream",
     "text": [
      "ERROR: not found: c:\\Users\\RodrigoPintucci\\Documents\\EngenhariaSoftware\\Engenharia_Software\\tests\\test_schedule\\test_schedule_management.py::test_add_element_to_schedule_calls_update_element\n",
      "(no name 'c:\\\\Users\\\\RodrigoPintucci\\\\Documents\\\\EngenhariaSoftware\\\\Engenharia_Software\\\\tests\\\\test_schedule\\\\test_schedule_management.py::test_add_element_to_schedule_calls_update_element' in any of [<Module test_schedule_management.py>])\n",
      "\n"
     ]
    }
   ],
   "source": [
    "# rodando uma função específica de um teste\n",
    "#!coverage run -m pytest tests/test_schedule/test_schedule_management.py\n",
    "!coverage run -m pytest tests/test_schedule/test_schedule_management.py::test_add_element_to_schedule_calls_update_element"
   ]
  },
  {
   "cell_type": "code",
   "execution_count": 305,
   "metadata": {},
   "outputs": [
    {
     "name": "stdout",
     "output_type": "stream",
     "text": [
      "============================= test session starts =============================\n",
      "platform win32 -- Python 3.9.13, pytest-7.4.3, pluggy-1.3.0\n",
      "rootdir: c:\\Users\\RodrigoPintucci\\Documents\\EngenhariaSoftware\\Engenharia_Software\n",
      "collected 29 items\n",
      "\n",
      "tests\\test_schedule\\test_schedule_management.py ........................ [ 82%]\n",
      ".....                                                                    [100%]\n",
      "\n",
      "============================= 29 passed in 1.00s ==============================\n"
     ]
    }
   ],
   "source": [
    "# rodando um teste específico\n",
    "!coverage run -m pytest tests/test_schedule/test_schedule_management.py"
   ]
  }
 ],
 "metadata": {
  "kernelspec": {
   "display_name": "Python 3",
   "language": "python",
   "name": "python3"
  },
  "language_info": {
   "codemirror_mode": {
    "name": "ipython",
    "version": 3
   },
   "file_extension": ".py",
   "mimetype": "text/x-python",
   "name": "python",
   "nbconvert_exporter": "python",
   "pygments_lexer": "ipython3",
   "version": "3.9.13"
  }
 },
 "nbformat": 4,
 "nbformat_minor": 2
}
