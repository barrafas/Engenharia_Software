{
 "cells": [
  {
   "cell_type": "markdown",
   "metadata": {},
   "source": [
    "Para executar os testes, basta executar o comando abaixo:\n",
    "\n",
    "```bash\n",
    "python -m pytest\n",
    "```\n",
    "\n",
    "Alternativamente, rode a celula abaixo"
   ]
  },
  {
   "cell_type": "code",
   "execution_count": 1094,
   "metadata": {},
   "outputs": [
    {
     "name": "stdout",
     "output_type": "stream",
     "text": [
      "Requirement already satisfied: pymongo in c:\\users\\rodrigopintucci\\appdata\\local\\packages\\pythonsoftwarefoundation.python.3.9_qbz5n2kfra8p0\\localcache\\local-packages\\python39\\site-packages (from -r requirements.txt (line 1)) (4.6.1)\n",
      "Requirement already satisfied: customtkinter in c:\\users\\rodrigopintucci\\appdata\\local\\packages\\pythonsoftwarefoundation.python.3.9_qbz5n2kfra8p0\\localcache\\local-packages\\python39\\site-packages (from -r requirements.txt (line 2)) (5.2.1)\n",
      "Requirement already satisfied: pytest in c:\\users\\rodrigopintucci\\appdata\\local\\packages\\pythonsoftwarefoundation.python.3.9_qbz5n2kfra8p0\\localcache\\local-packages\\python39\\site-packages (from -r requirements.txt (line 3)) (7.4.3)\n",
      "Requirement already satisfied: bcrypt in c:\\users\\rodrigopintucci\\appdata\\local\\packages\\pythonsoftwarefoundation.python.3.9_qbz5n2kfra8p0\\localcache\\local-packages\\python39\\site-packages (from -r requirements.txt (line 4)) (4.1.1)\n",
      "Requirement already satisfied: pandas in c:\\users\\rodrigopintucci\\appdata\\local\\packages\\pythonsoftwarefoundation.python.3.9_qbz5n2kfra8p0\\localcache\\local-packages\\python39\\site-packages (from -r requirements.txt (line 5)) (1.5.1)\n",
      "Requirement already satisfied: dnspython<3.0.0,>=1.16.0 in c:\\users\\rodrigopintucci\\appdata\\local\\packages\\pythonsoftwarefoundation.python.3.9_qbz5n2kfra8p0\\localcache\\local-packages\\python39\\site-packages (from pymongo->-r requirements.txt (line 1)) (2.4.2)\n",
      "Requirement already satisfied: darkdetect in c:\\users\\rodrigopintucci\\appdata\\local\\packages\\pythonsoftwarefoundation.python.3.9_qbz5n2kfra8p0\\localcache\\local-packages\\python39\\site-packages (from customtkinter->-r requirements.txt (line 2)) (0.8.0)\n",
      "Requirement already satisfied: colorama in c:\\users\\rodrigopintucci\\appdata\\local\\packages\\pythonsoftwarefoundation.python.3.9_qbz5n2kfra8p0\\localcache\\local-packages\\python39\\site-packages (from pytest->-r requirements.txt (line 3)) (0.3.9)\n",
      "Requirement already satisfied: pluggy<2.0,>=0.12 in c:\\users\\rodrigopintucci\\appdata\\local\\packages\\pythonsoftwarefoundation.python.3.9_qbz5n2kfra8p0\\localcache\\local-packages\\python39\\site-packages (from pytest->-r requirements.txt (line 3)) (1.3.0)\n",
      "Requirement already satisfied: tomli>=1.0.0 in c:\\users\\rodrigopintucci\\appdata\\local\\packages\\pythonsoftwarefoundation.python.3.9_qbz5n2kfra8p0\\localcache\\local-packages\\python39\\site-packages (from pytest->-r requirements.txt (line 3)) (2.0.1)\n",
      "Requirement already satisfied: exceptiongroup>=1.0.0rc8 in c:\\users\\rodrigopintucci\\appdata\\local\\packages\\pythonsoftwarefoundation.python.3.9_qbz5n2kfra8p0\\localcache\\local-packages\\python39\\site-packages (from pytest->-r requirements.txt (line 3)) (1.2.0)\n",
      "Requirement already satisfied: packaging in c:\\users\\rodrigopintucci\\appdata\\local\\packages\\pythonsoftwarefoundation.python.3.9_qbz5n2kfra8p0\\localcache\\local-packages\\python39\\site-packages (from pytest->-r requirements.txt (line 3)) (21.3)\n",
      "Requirement already satisfied: iniconfig in c:\\users\\rodrigopintucci\\appdata\\local\\packages\\pythonsoftwarefoundation.python.3.9_qbz5n2kfra8p0\\localcache\\local-packages\\python39\\site-packages (from pytest->-r requirements.txt (line 3)) (2.0.0)\n",
      "Requirement already satisfied: numpy>=1.20.3 in c:\\users\\rodrigopintucci\\appdata\\local\\packages\\pythonsoftwarefoundation.python.3.9_qbz5n2kfra8p0\\localcache\\local-packages\\python39\\site-packages (from pandas->-r requirements.txt (line 5)) (1.22.4)\n",
      "Requirement already satisfied: python-dateutil>=2.8.1 in c:\\users\\rodrigopintucci\\appdata\\local\\packages\\pythonsoftwarefoundation.python.3.9_qbz5n2kfra8p0\\localcache\\local-packages\\python39\\site-packages (from pandas->-r requirements.txt (line 5)) (2.8.2)\n",
      "Requirement already satisfied: pytz>=2020.1 in c:\\users\\rodrigopintucci\\appdata\\local\\packages\\pythonsoftwarefoundation.python.3.9_qbz5n2kfra8p0\\localcache\\local-packages\\python39\\site-packages (from pandas->-r requirements.txt (line 5)) (2022.5)\n",
      "Requirement already satisfied: six>=1.5 in c:\\users\\rodrigopintucci\\appdata\\local\\packages\\pythonsoftwarefoundation.python.3.9_qbz5n2kfra8p0\\localcache\\local-packages\\python39\\site-packages (from python-dateutil>=2.8.1->pandas->-r requirements.txt (line 5)) (1.16.0)\n",
      "Requirement already satisfied: pyparsing!=3.0.5,>=2.0.2 in c:\\users\\rodrigopintucci\\appdata\\local\\packages\\pythonsoftwarefoundation.python.3.9_qbz5n2kfra8p0\\localcache\\local-packages\\python39\\site-packages (from packaging->pytest->-r requirements.txt (line 3)) (3.0.9)\n"
     ]
    },
    {
     "name": "stderr",
     "output_type": "stream",
     "text": [
      "\n",
      "[notice] A new release of pip available: 22.3.1 -> 23.3.1\n",
      "[notice] To update, run: C:\\Users\\RodrigoPintucci\\AppData\\Local\\Microsoft\\WindowsApps\\PythonSoftwareFoundation.Python.3.9_qbz5n2kfra8p0\\python.exe -m pip install --upgrade pip\n"
     ]
    },
    {
     "name": "stdout",
     "output_type": "stream",
     "text": [
      "============================= test session starts =============================\n",
      "platform win32 -- Python 3.9.13, pytest-7.4.3, pluggy-1.3.0\n",
      "rootdir: c:\\Users\\RodrigoPintucci\\Documents\\EngenhariaSoftware\\Engenharia_Software\n",
      "collected 214 items\n",
      "\n",
      "tests\\test_auth\\test_authentication_module.py .....                      [  2%]\n",
      "tests\\test_events\\test_element_event.py ...FFFF.....................     [ 15%]\n",
      "tests\\test_events\\test_element_factory.py ....                           [ 17%]\n",
      "tests\\test_events\\test_element_management.py ...................         [ 26%]\n",
      "tests\\test_events\\test_element_reminder.py ..........................    [ 38%]\n",
      "tests\\test_events\\test_element_task.py .............................     [ 51%]\n",
      "tests\\test_mongomodule\\test_mongo_module.py ......                       [ 54%]\n",
      "tests\\test_schedule\\test_schedule_management.py ........................ [ 65%]\n",
      ".....                                                                    [ 68%]\n",
      "tests\\test_schedule\\test_schedule_model.py ............................. [ 81%]\n",
      "                                                                         [ 81%]\n",
      "tests\\test_schedule\\test_schedule_observer.py .......                    [ 85%]\n",
      "tests\\test_users\\test_user_management_module.py .............            [ 91%]\n",
      "tests\\test_users\\test_user_model.py ...................                  [100%]\n",
      "\n",
      "================================== FAILURES ===================================\n",
      "_______________________ TestEventElement.test_get_users _______________________\n",
      "\n",
      "self = <Engenharia_Software.tests.test_events.test_element_event.TestEventElement testMethod=test_get_users>\n",
      "\n",
      "    def test_get_users(self):\n",
      "        \"\"\"\n",
      "        Test if the users returned match the ones that were set in the\n",
      "        constructor\n",
      "        \"\"\"\n",
      "        # Set up the mock objects and functions\n",
      "        get_schedule_mock, _, _ = self.get_mock_schedule()\n",
      "        get_user_mock, user_1, user_2, user_3, user_4 = self.get_mock_user()\n",
      "    \n",
      "        with unittest.mock.patch.object(\n",
      "            ScheduleManagement, \"get_schedule\", side_effect=get_schedule_mock\n",
      "        ):\n",
      "            with unittest.mock.patch.object(\n",
      "                UserManagement, \"get_user\", side_effect=get_user_mock\n",
      "            ):\n",
      "                users = self.event.get_users([\"schedule_1\", \"schedule_2\"])\n",
      "                self.assertEqual(len(users), 4)\n",
      "                for user in users:\n",
      ">                   self.assertIn(user, [user_1, user_2, user_3, user_4])\n",
      "E                   AssertionError: <MagicMock id='1299509226176'> not found in [<MagicMock spec='User' id='1299509731440'>, <MagicMock spec='User' id='1299509726800'>, <MagicMock spec='User' id='1299509731632'>, <MagicMock spec='User' id='1299509699248'>]\n",
      "\n",
      "tests\\test_events\\test_element_event.py:94: AssertionError\n",
      "__________________ TestEventElement.test_get_users_nonfilter __________________\n",
      "\n",
      "self = <Engenharia_Software.tests.test_events.test_element_event.TestEventElement testMethod=test_get_users_nonfilter>\n",
      "\n",
      "    def test_get_users_nonfilter(self):\n",
      "        \"\"\"Test get_users when no filter of schedules are not specified.\n",
      "        Default to all schedules.\n",
      "        #\"\"\"\n",
      "        # Set up the mock objects and functions\n",
      "        get_schedule_mock, _, _ = self.get_mock_schedule()\n",
      "        get_user_mock, user_1, user_2, user_3, user_4 = self.get_mock_user()\n",
      "    \n",
      "        with unittest.mock.patch.object(\n",
      "            ScheduleManagement, \"get_schedule\", side_effect=get_schedule_mock\n",
      "        ):\n",
      "            with unittest.mock.patch.object(\n",
      "                UserManagement, \"get_user\", side_effect=get_user_mock\n",
      "            ):\n",
      "                users = self.event.get_users()\n",
      "                self.assertEqual(len(users), 4)\n",
      "                for user in users:\n",
      ">                   self.assertIn(user, [user_1, user_2, user_3, user_4])\n",
      "E                   AssertionError: <MagicMock id='1299509226176'> not found in [<MagicMock spec='User' id='1299509689408'>, <MagicMock spec='User' id='1299509285168'>, <MagicMock spec='User' id='1299509689168'>, <MagicMock spec='User' id='1299509285072'>]\n",
      "\n",
      "tests\\test_events\\test_element_event.py:113: AssertionError\n",
      "_______________ TestEventElement.test_get_users_nonrepeat_users _______________\n",
      "\n",
      "self = <Engenharia_Software.tests.test_events.test_element_event.TestEventElement testMethod=test_get_users_nonrepeat_users>\n",
      "\n",
      "    def test_get_users_nonrepeat_users(self):\n",
      "        \"\"\"Test if the users returned are unique\"\"\"\n",
      "        # Set up the mock objects\n",
      "        get_schedule_mock, _, _ = self.get_mock_schedule(\n",
      "            repeat_user=True\n",
      "        )\n",
      "        get_user_mock, user_1, user_2, _, _ = self.get_mock_user()\n",
      "    \n",
      "        with unittest.mock.patch.object(\n",
      "            ScheduleManagement, \"get_schedule\", side_effect=get_schedule_mock\n",
      "        ):\n",
      "            with unittest.mock.patch.object(\n",
      "                UserManagement, \"get_user\", side_effect=get_user_mock\n",
      "            ):\n",
      "                users = self.event.get_users([\"schedule_1\", \"schedule_2\"])\n",
      "                self.assertEqual(len(users), 2)\n",
      "                for user in users:\n",
      ">                   self.assertIn(user, [user_1, user_2])\n",
      "E                   AssertionError: <MagicMock id='1299509226176'> not found in [<MagicMock spec='User' id='1299509552896'>, <MagicMock spec='User' id='1299510333056'>]\n",
      "\n",
      "tests\\test_events\\test_element_event.py:152: AssertionError\n",
      "__________ TestEventElement.test_get_users_with_filter_by_schedules ___________\n",
      "\n",
      "self = <Engenharia_Software.tests.test_events.test_element_event.TestEventElement testMethod=test_get_users_with_filter_by_schedules>\n",
      "\n",
      "    def test_get_users_with_filter_by_schedules(self):\n",
      "        \"\"\"\n",
      "        Test if the users returned match the ones that were set in the\n",
      "        constructor and if they belong to the specified schedules\n",
      "        \"\"\"\n",
      "        # Set up the mock objects\n",
      "        get_schedule_mock, _, _ = self.get_mock_schedule()\n",
      "        get_user_mock, user_1, user_2, user_3, user_4 = self.get_mock_user()\n",
      "    \n",
      "        with unittest.mock.patch.object(\n",
      "            ScheduleManagement, \"get_schedule\", side_effect=get_schedule_mock\n",
      "        ):\n",
      "            with unittest.mock.patch.object(\n",
      "                UserManagement, \"get_user\", side_effect=get_user_mock\n",
      "            ):\n",
      "                users = self.event.get_users([\"schedule_1\"])\n",
      "                self.assertEqual(len(users), 2)\n",
      "                for user in users:\n",
      ">                   self.assertIn(user, [user_1, user_2, user_3, user_4])\n",
      "E                   AssertionError: <MagicMock id='1299509226176'> not found in [<MagicMock spec='User' id='1299510227488'>, <MagicMock spec='User' id='1299509694032'>, <MagicMock spec='User' id='1299509173120'>, <MagicMock spec='User' id='1299509612160'>]\n",
      "\n",
      "tests\\test_events\\test_element_event.py:133: AssertionError\n",
      "=========================== short test summary info ===========================\n",
      "FAILED tests/test_events/test_element_event.py::TestEventElement::test_get_users\n",
      "FAILED tests/test_events/test_element_event.py::TestEventElement::test_get_users_nonfilter\n",
      "FAILED tests/test_events/test_element_event.py::TestEventElement::test_get_users_nonrepeat_users\n",
      "FAILED tests/test_events/test_element_event.py::TestEventElement::test_get_users_with_filter_by_schedules\n",
      "======================== 4 failed, 210 passed in 1.85s ========================\n"
     ]
    }
   ],
   "source": [
    "!pip install -r requirements.txt\n",
    "!python -m pytest"
   ]
  },
  {
   "cell_type": "code",
   "execution_count": 1095,
   "metadata": {},
   "outputs": [
    {
     "name": "stdout",
     "output_type": "stream",
     "text": [
      "Requirement already satisfied: coverage in c:\\users\\rodrigopintucci\\appdata\\local\\packages\\pythonsoftwarefoundation.python.3.9_qbz5n2kfra8p0\\localcache\\local-packages\\python39\\site-packages (7.3.2)\n"
     ]
    },
    {
     "name": "stderr",
     "output_type": "stream",
     "text": [
      "\n",
      "[notice] A new release of pip available: 22.3.1 -> 23.3.1\n",
      "[notice] To update, run: C:\\Users\\RodrigoPintucci\\AppData\\Local\\Microsoft\\WindowsApps\\PythonSoftwareFoundation.Python.3.9_qbz5n2kfra8p0\\python.exe -m pip install --upgrade pip\n"
     ]
    }
   ],
   "source": [
    "!pip install coverage"
   ]
  },
  {
   "cell_type": "code",
   "execution_count": 1096,
   "metadata": {},
   "outputs": [
    {
     "name": "stdout",
     "output_type": "stream",
     "text": [
      "============================= test session starts =============================\n",
      "platform win32 -- Python 3.9.13, pytest-7.4.3, pluggy-1.3.0\n",
      "rootdir: c:\\Users\\RodrigoPintucci\\Documents\\EngenhariaSoftware\\Engenharia_Software\n",
      "collected 214 items\n",
      "\n",
      "tests\\test_auth\\test_authentication_module.py .....                      [  2%]\n",
      "tests\\test_events\\test_element_event.py ...FFFF.....................     [ 15%]\n",
      "tests\\test_events\\test_element_factory.py ....                           [ 17%]\n",
      "tests\\test_events\\test_element_management.py ...................         [ 26%]\n",
      "tests\\test_events\\test_element_reminder.py ..........................    [ 38%]\n",
      "tests\\test_events\\test_element_task.py .............................     [ 51%]\n",
      "tests\\test_mongomodule\\test_mongo_module.py ......                       [ 54%]\n",
      "tests\\test_schedule\\test_schedule_management.py ........................ [ 65%]\n",
      ".....                                                                    [ 68%]\n",
      "tests\\test_schedule\\test_schedule_model.py ............................. [ 81%]\n",
      "                                                                         [ 81%]\n",
      "tests\\test_schedule\\test_schedule_observer.py .......                    [ 85%]\n",
      "tests\\test_users\\test_user_management_module.py .............            [ 91%]\n",
      "tests\\test_users\\test_user_model.py ...................                  [100%]\n",
      "\n",
      "================================== FAILURES ===================================\n",
      "_______________________ TestEventElement.test_get_users _______________________\n",
      "\n",
      "self = <Engenharia_Software.tests.test_events.test_element_event.TestEventElement testMethod=test_get_users>\n",
      "\n",
      "    def test_get_users(self):\n",
      "        \"\"\"\n",
      "        Test if the users returned match the ones that were set in the\n",
      "        constructor\n",
      "        \"\"\"\n",
      "        # Set up the mock objects and functions\n",
      "        get_schedule_mock, _, _ = self.get_mock_schedule()\n",
      "        get_user_mock, user_1, user_2, user_3, user_4 = self.get_mock_user()\n",
      "    \n",
      "        with unittest.mock.patch.object(\n",
      "            ScheduleManagement, \"get_schedule\", side_effect=get_schedule_mock\n",
      "        ):\n",
      "            with unittest.mock.patch.object(\n",
      "                UserManagement, \"get_user\", side_effect=get_user_mock\n",
      "            ):\n",
      "                users = self.event.get_users([\"schedule_1\", \"schedule_2\"])\n",
      "                self.assertEqual(len(users), 4)\n",
      "                for user in users:\n",
      ">                   self.assertIn(user, [user_1, user_2, user_3, user_4])\n",
      "E                   AssertionError: <MagicMock id='2196332935776'> not found in [<MagicMock spec='User' id='2196333211600'>, <MagicMock spec='User' id='2196333261200'>, <MagicMock spec='User' id='2196333241152'>, <MagicMock spec='User' id='2196333220768'>]\n",
      "\n",
      "tests\\test_events\\test_element_event.py:94: AssertionError\n",
      "__________________ TestEventElement.test_get_users_nonfilter __________________\n",
      "\n",
      "self = <Engenharia_Software.tests.test_events.test_element_event.TestEventElement testMethod=test_get_users_nonfilter>\n",
      "\n",
      "    def test_get_users_nonfilter(self):\n",
      "        \"\"\"Test get_users when no filter of schedules are not specified.\n",
      "        Default to all schedules.\n",
      "        #\"\"\"\n",
      "        # Set up the mock objects and functions\n",
      "        get_schedule_mock, _, _ = self.get_mock_schedule()\n",
      "        get_user_mock, user_1, user_2, user_3, user_4 = self.get_mock_user()\n",
      "    \n",
      "        with unittest.mock.patch.object(\n",
      "            ScheduleManagement, \"get_schedule\", side_effect=get_schedule_mock\n",
      "        ):\n",
      "            with unittest.mock.patch.object(\n",
      "                UserManagement, \"get_user\", side_effect=get_user_mock\n",
      "            ):\n",
      "                users = self.event.get_users()\n",
      "                self.assertEqual(len(users), 4)\n",
      "                for user in users:\n",
      ">                   self.assertIn(user, [user_1, user_2, user_3, user_4])\n",
      "E                   AssertionError: <MagicMock id='2196332935776'> not found in [<MagicMock spec='User' id='2196333088928'>, <MagicMock spec='User' id='2196333289824'>, <MagicMock spec='User' id='2196333243888'>, <MagicMock spec='User' id='2196333201248'>]\n",
      "\n",
      "tests\\test_events\\test_element_event.py:113: AssertionError\n",
      "_______________ TestEventElement.test_get_users_nonrepeat_users _______________\n",
      "\n",
      "self = <Engenharia_Software.tests.test_events.test_element_event.TestEventElement testMethod=test_get_users_nonrepeat_users>\n",
      "\n",
      "    def test_get_users_nonrepeat_users(self):\n",
      "        \"\"\"Test if the users returned are unique\"\"\"\n",
      "        # Set up the mock objects\n",
      "        get_schedule_mock, _, _ = self.get_mock_schedule(\n",
      "            repeat_user=True\n",
      "        )\n",
      "        get_user_mock, user_1, user_2, _, _ = self.get_mock_user()\n",
      "    \n",
      "        with unittest.mock.patch.object(\n",
      "            ScheduleManagement, \"get_schedule\", side_effect=get_schedule_mock\n",
      "        ):\n",
      "            with unittest.mock.patch.object(\n",
      "                UserManagement, \"get_user\", side_effect=get_user_mock\n",
      "            ):\n",
      "                users = self.event.get_users([\"schedule_1\", \"schedule_2\"])\n",
      "                self.assertEqual(len(users), 2)\n",
      "                for user in users:\n",
      ">                   self.assertIn(user, [user_1, user_2])\n",
      "E                   AssertionError: <MagicMock id='2196332935776'> not found in [<MagicMock spec='User' id='2196332863744'>, <MagicMock spec='User' id='2196332849232'>]\n",
      "\n",
      "tests\\test_events\\test_element_event.py:152: AssertionError\n",
      "__________ TestEventElement.test_get_users_with_filter_by_schedules ___________\n",
      "\n",
      "self = <Engenharia_Software.tests.test_events.test_element_event.TestEventElement testMethod=test_get_users_with_filter_by_schedules>\n",
      "\n",
      "    def test_get_users_with_filter_by_schedules(self):\n",
      "        \"\"\"\n",
      "        Test if the users returned match the ones that were set in the\n",
      "        constructor and if they belong to the specified schedules\n",
      "        \"\"\"\n",
      "        # Set up the mock objects\n",
      "        get_schedule_mock, _, _ = self.get_mock_schedule()\n",
      "        get_user_mock, user_1, user_2, user_3, user_4 = self.get_mock_user()\n",
      "    \n",
      "        with unittest.mock.patch.object(\n",
      "            ScheduleManagement, \"get_schedule\", side_effect=get_schedule_mock\n",
      "        ):\n",
      "            with unittest.mock.patch.object(\n",
      "                UserManagement, \"get_user\", side_effect=get_user_mock\n",
      "            ):\n",
      "                users = self.event.get_users([\"schedule_1\"])\n",
      "                self.assertEqual(len(users), 2)\n",
      "                for user in users:\n",
      ">                   self.assertIn(user, [user_1, user_2, user_3, user_4])\n",
      "E                   AssertionError: <MagicMock id='2196332935776'> not found in [<MagicMock spec='User' id='2196334132288'>, <MagicMock spec='User' id='2196333222016'>, <MagicMock spec='User' id='2196333242976'>, <MagicMock spec='User' id='2196333222688'>]\n",
      "\n",
      "tests\\test_events\\test_element_event.py:133: AssertionError\n",
      "=========================== short test summary info ===========================\n",
      "FAILED tests/test_events/test_element_event.py::TestEventElement::test_get_users\n",
      "FAILED tests/test_events/test_element_event.py::TestEventElement::test_get_users_nonfilter\n",
      "FAILED tests/test_events/test_element_event.py::TestEventElement::test_get_users_nonrepeat_users\n",
      "FAILED tests/test_events/test_element_event.py::TestEventElement::test_get_users_with_filter_by_schedules\n",
      "======================== 4 failed, 210 passed in 2.16s ========================\n"
     ]
    }
   ],
   "source": [
    "!coverage run -m pytest"
   ]
  },
  {
   "cell_type": "code",
   "execution_count": 1097,
   "metadata": {},
   "outputs": [
    {
     "name": "stdout",
     "output_type": "stream",
     "text": [
      "The autoreload extension is already loaded. To reload it, use:\n",
      "  %reload_ext autoreload\n"
     ]
    }
   ],
   "source": [
    "%load_ext autoreload\n",
    "%autoreload 2"
   ]
  },
  {
   "cell_type": "code",
   "execution_count": 1098,
   "metadata": {},
   "outputs": [
    {
     "name": "stdout",
     "output_type": "stream",
     "text": [
      "Name                                          Stmts   Miss  Cover\n",
      "-----------------------------------------------------------------\n",
      "src\\auth\\authentication.py                       22      2    91%\n",
      "src\\calendar_elements\\element_factory.py         12      0   100%\n",
      "src\\calendar_elements\\element_interface.py       24      1    96%\n",
      "src\\calendar_elements\\element_management.py      83      2    98%\n",
      "src\\calendar_elements\\element_types.py          231      7    97%\n",
      "src\\database\\database_module.py                  14      0   100%\n",
      "src\\database\\mongo_module.py                     44      0   100%\n",
      "src\\database\\utils.py                            65     50    23%\n",
      "src\\observer\\observer.py                         14      1    93%\n",
      "src\\schedule\\schedule_management.py              99      1    99%\n",
      "src\\schedule\\schedule_model.py                   79      4    95%\n",
      "src\\user\\user_management.py                      85      6    93%\n",
      "src\\user\\user_model.py                          107     14    87%\n",
      "-----------------------------------------------------------------\n",
      "TOTAL                                           879     88    90%\n"
     ]
    }
   ],
   "source": [
    "# explicação do copitot:\n",
    "# Name: nome do arquivo testado\n",
    "# Stmts: número de linhas executadas\n",
    "# Miss: número de linhas não executadas\n",
    "# Cover: porcentagem de cobertura\n",
    "# Missing: linhas não executadas\n",
    "# !coverage report -m\n",
    "\n",
    "!coverage report --omit \"*__init__*,*/lib/*,tests/*\""
   ]
  },
  {
   "cell_type": "markdown",
   "metadata": {},
   "source": [
    "Rode a célula (ou o comando) abaixo para gerar um relatório de cobertura em html dos testes:"
   ]
  },
  {
   "cell_type": "code",
   "execution_count": 1099,
   "metadata": {},
   "outputs": [
    {
     "name": "stdout",
     "output_type": "stream",
     "text": [
      "Wrote HTML report to htmlcov\\index.html\n"
     ]
    }
   ],
   "source": [
    "!coverage html --omit \"*__init__*,*/lib/*,tests/*\"\n"
   ]
  },
  {
   "cell_type": "code",
   "execution_count": 1100,
   "metadata": {},
   "outputs": [
    {
     "name": "stdout",
     "output_type": "stream",
     "text": [
      "============================= test session starts =============================\n",
      "platform win32 -- Python 3.9.13, pytest-7.4.3, pluggy-1.3.0\n",
      "rootdir: c:\\Users\\RodrigoPintucci\\Documents\\EngenhariaSoftware\\Engenharia_Software\n",
      "collected 28 items\n",
      "\n",
      "tests\\test_events\\test_element_event.py ............................     [100%]\n",
      "\n",
      "============================= 28 passed in 0.56s ==============================\n"
     ]
    }
   ],
   "source": [
    "# rodando um teste específico\n",
    "!coverage run -m pytest tests/test_events/test_element_event.py"
   ]
  },
  {
   "cell_type": "code",
   "execution_count": 1101,
   "metadata": {},
   "outputs": [
    {
     "name": "stdout",
     "output_type": "stream",
     "text": [
      "============================= test session starts =============================\n",
      "platform win32 -- Python 3.9.13, pytest-7.4.3, pluggy-1.3.0\n",
      "rootdir: c:\\Users\\RodrigoPintucci\\Documents\\EngenhariaSoftware\\Engenharia_Software\n",
      "collected 7 items\n",
      "\n",
      "tests\\test_schedule\\test_schedule_observer.py .......                    [100%]\n",
      "\n",
      "============================== 7 passed in 0.45s ==============================\n"
     ]
    }
   ],
   "source": [
    "# rodando um teste específico\n",
    "!coverage run -m pytest tests/test_schedule/test_schedule_observer.py"
   ]
  },
  {
   "cell_type": "code",
   "execution_count": 1102,
   "metadata": {},
   "outputs": [
    {
     "name": "stdout",
     "output_type": "stream",
     "text": [
      "============================= test session starts =============================\n",
      "platform win32 -- Python 3.9.13, pytest-7.4.3, pluggy-1.3.0\n",
      "rootdir: c:\\Users\\RodrigoPintucci\\Documents\\EngenhariaSoftware\\Engenharia_Software\n",
      "collected 13 items\n",
      "\n",
      "tests\\test_users\\test_user_management_module.py .............            [100%]\n",
      "\n",
      "============================= 13 passed in 1.42s ==============================\n"
     ]
    }
   ],
   "source": [
    "!coverage run -m pytest tests/test_users/test_user_management_module.py"
   ]
  }
 ],
 "metadata": {
  "kernelspec": {
   "display_name": "Python 3",
   "language": "python",
   "name": "python3"
  },
  "language_info": {
   "codemirror_mode": {
    "name": "ipython",
    "version": 3
   },
   "file_extension": ".py",
   "mimetype": "text/x-python",
   "name": "python",
   "nbconvert_exporter": "python",
   "pygments_lexer": "ipython3",
   "version": "3.11.1"
  }
 },
 "nbformat": 4,
 "nbformat_minor": 2
}
