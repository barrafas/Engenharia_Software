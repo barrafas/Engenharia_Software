{
 "cells": [
  {
   "cell_type": "markdown",
   "metadata": {},
   "source": [
    "Para executar os testes, basta executar o comando abaixo:\n",
    "\n",
    "```bash\n",
    "python -m pytest\n",
    "```\n",
    "\n",
    "Alternativamente, rode a celula abaixo"
   ]
  },
  {
   "cell_type": "code",
   "execution_count": 1,
   "metadata": {},
   "outputs": [
    {
     "name": "stdout",
     "output_type": "stream",
     "text": [
      "Requirement already satisfied: pytest in e:\\projects-local\\engenharia_software\\venv\\lib\\site-packages (from -r requirements.txt (line 1)) (7.4.3)\n",
      "Requirement already satisfied: bcrypt in e:\\projects-local\\engenharia_software\\venv\\lib\\site-packages (from -r requirements.txt (line 2)) (4.0.1)\n",
      "Requirement already satisfied: iniconfig in e:\\projects-local\\engenharia_software\\venv\\lib\\site-packages (from pytest->-r requirements.txt (line 1)) (2.0.0)\n",
      "Requirement already satisfied: packaging in e:\\projects-local\\engenharia_software\\venv\\lib\\site-packages (from pytest->-r requirements.txt (line 1)) (23.2)\n",
      "Requirement already satisfied: pluggy<2.0,>=0.12 in e:\\projects-local\\engenharia_software\\venv\\lib\\site-packages (from pytest->-r requirements.txt (line 1)) (1.3.0)\n",
      "Requirement already satisfied: colorama in e:\\projects-local\\engenharia_software\\venv\\lib\\site-packages (from pytest->-r requirements.txt (line 1)) (0.4.6)\n",
      "\u001b[1m============================= test session starts =============================\u001b[0m\n",
      "platform win32 -- Python 3.11.2, pytest-7.4.3, pluggy-1.3.0\n",
      "rootdir: e:\\projects-local\\Engenharia_Software\n",
      "collected 9 items\n",
      "\n",
      "tests\\test_auth\\test_authentication_module.py \u001b[32m.\u001b[0m\u001b[32m.\u001b[0m\u001b[32m.\u001b[0m\u001b[32m                        [ 33%]\u001b[0m\n",
      "tests\\test_auth\\test_user_management_module.py \u001b[32m.\u001b[0m\u001b[32m.\u001b[0m\u001b[32m.\u001b[0m\u001b[32m.\u001b[0m\u001b[32m.\u001b[0m\u001b[32m.\u001b[0m\u001b[32m                    [100%]\u001b[0m\n",
      "\n",
      "\u001b[32m============================== \u001b[32m\u001b[1m9 passed\u001b[0m\u001b[32m in 3.05s\u001b[0m\u001b[32m ==============================\u001b[0m\n"
     ]
    }
   ],
   "source": [
    "!pip install -r requirements.txt\n",
    "!python -m pytest"
   ]
  },
  {
   "cell_type": "code",
   "execution_count": 2,
   "metadata": {},
   "outputs": [
    {
     "name": "stdout",
     "output_type": "stream",
     "text": [
      "Requirement already satisfied: coverage in e:\\projects-local\\engenharia_software\\venv\\lib\\site-packages (7.3.2)\n"
     ]
    }
   ],
   "source": [
    "!pip install coverage"
   ]
  },
  {
   "cell_type": "code",
   "execution_count": 3,
   "metadata": {},
   "outputs": [
    {
     "name": "stdout",
     "output_type": "stream",
     "text": [
      "\u001b[1m============================= test session starts =============================\u001b[0m\n",
      "platform win32 -- Python 3.11.2, pytest-7.4.3, pluggy-1.3.0\n",
      "rootdir: e:\\projects-local\\Engenharia_Software\n",
      "collected 9 items\n",
      "\n",
      "tests\\test_auth\\test_authentication_module.py \u001b[32m.\u001b[0m\u001b[32m.\u001b[0m\u001b[32m.\u001b[0m\u001b[32m                        [ 33%]\u001b[0m\n",
      "tests\\test_auth\\test_user_management_module.py \u001b[32m.\u001b[0m\u001b[32m.\u001b[0m\u001b[32m.\u001b[0m\u001b[32m.\u001b[0m\u001b[32m.\u001b[0m\u001b[32m.\u001b[0m\u001b[32m                    [100%]\u001b[0m\n",
      "\n",
      "\u001b[32m============================== \u001b[32m\u001b[1m9 passed\u001b[0m\u001b[32m in 3.45s\u001b[0m\u001b[32m ==============================\u001b[0m\n"
     ]
    }
   ],
   "source": [
    "!coverage run -m pytest"
   ]
  },
  {
   "cell_type": "code",
   "execution_count": 4,
   "metadata": {},
   "outputs": [],
   "source": [
    "%load_ext autoreload\n",
    "%autoreload 2"
   ]
  },
  {
   "cell_type": "code",
   "execution_count": 5,
   "metadata": {},
   "outputs": [
    {
     "name": "stdout",
     "output_type": "stream",
     "text": [
      "Name                                             Stmts   Miss  Cover   Missing\n",
      "------------------------------------------------------------------------------\n",
      "src\\auth\\authentication.py                          23      2    91%   14-15\n",
      "src\\auth\\user_management.py                         45      8    82%   34, 47, 55-62\n",
      "src\\database\\database_module.py                     10      0   100%\n",
      "src\\database\\text_document_module.py                60     15    75%   11-12, 19, 22-24, 30, 42-47, 60, 77\n",
      "src\\models\\user_model.py                            18      3    83%   10, 13, 35\n",
      "tests\\test_auth\\test_authentication_module.py       24      1    96%   37\n",
      "tests\\test_auth\\test_user_management_module.py      41      1    98%   71\n",
      "------------------------------------------------------------------------------\n",
      "TOTAL                                              221     30    86%\n"
     ]
    }
   ],
   "source": [
    "# explicação do copitot:\n",
    "# Name: nome do arquivo testado\n",
    "# Stmts: número de linhas executadas\n",
    "# Miss: número de linhas não executadas\n",
    "# Cover: porcentagem de cobertura\n",
    "# Missing: linhas não executadas\n",
    "!coverage report -m"
   ]
  },
  {
   "cell_type": "markdown",
   "metadata": {},
   "source": [
    "Rode a célula (ou o comando) abaixo para gerar um relatório de cobertura em html dos testes:"
   ]
  },
  {
   "cell_type": "code",
   "execution_count": 6,
   "metadata": {},
   "outputs": [
    {
     "name": "stdout",
     "output_type": "stream",
     "text": [
      "Wrote HTML report to htmlcov\\index.html\n"
     ]
    }
   ],
   "source": [
    "!coverage html"
   ]
  },
  {
   "cell_type": "code",
   "execution_count": 3,
   "metadata": {},
   "outputs": [
    {
     "name": "stdout",
     "output_type": "stream",
     "text": [
      "\u001b[1m============================= test session starts =============================\u001b[0m\n",
      "platform win32 -- Python 3.11.2, pytest-7.4.3, pluggy-1.3.0\n",
      "rootdir: e:\\projects-local\\Engenharia_Software\n",
      "collected 6 items\n",
      "\n",
      "tests\\test_auth\\test_user_management_module.py \u001b[31mF\u001b[0m\u001b[32m.\u001b[0m\u001b[31mF\u001b[0m\u001b[32m.\u001b[0m\u001b[32m.\u001b[0m\u001b[32m.\u001b[0m\u001b[31m                    [100%]\u001b[0m\n",
      "\n",
      "================================== FAILURES ===================================\n",
      "\u001b[31m\u001b[1m_____________ TestUserManagementModule.test_create_existing_user ______________\u001b[0m\n",
      "\n",
      "self = <test_user_management_module.TestUserManagementModule testMethod=test_create_existing_user>\n",
      "\n",
      "    \u001b[94mdef\u001b[39;49;00m \u001b[92mtest_create_existing_user\u001b[39;49;00m(\u001b[96mself\u001b[39;49;00m):\u001b[90m\u001b[39;49;00m\n",
      "        \u001b[90m# Test creating a user that already exists\u001b[39;49;00m\u001b[90m\u001b[39;49;00m\n",
      "        \u001b[96mself\u001b[39;49;00m.user_management_module.create_user(\u001b[33m\"\u001b[39;49;00m\u001b[33mexisting_user\u001b[39;49;00m\u001b[33m\"\u001b[39;49;00m, \u001b[33m\"\u001b[39;49;00m\u001b[33mexisting_email\u001b[39;49;00m\u001b[33m\"\u001b[39;49;00m, \u001b[33m\"\u001b[39;49;00m\u001b[33mexisting_password\u001b[39;49;00m\u001b[33m\"\u001b[39;49;00m)\u001b[90m\u001b[39;49;00m\n",
      "        \u001b[94mwith\u001b[39;49;00m \u001b[96mself\u001b[39;49;00m.assertRaises(\u001b[96mException\u001b[39;49;00m) \u001b[94mas\u001b[39;49;00m context:\u001b[90m\u001b[39;49;00m\n",
      "            \u001b[96mself\u001b[39;49;00m.user_management_module.create_user(\u001b[33m\"\u001b[39;49;00m\u001b[33mexisting_user\u001b[39;49;00m\u001b[33m\"\u001b[39;49;00m, \u001b[33m\"\u001b[39;49;00m\u001b[33mexisting_email\u001b[39;49;00m\u001b[33m\"\u001b[39;49;00m, \u001b[33m\"\u001b[39;49;00m\u001b[33mexisting_password\u001b[39;49;00m\u001b[33m\"\u001b[39;49;00m)\u001b[90m\u001b[39;49;00m\n",
      ">       \u001b[96mself\u001b[39;49;00m.assertEqual(\u001b[96mstr\u001b[39;49;00m(context.exception), \u001b[33m'\u001b[39;49;00m\u001b[33mUsuário já existe\u001b[39;49;00m\u001b[33m'\u001b[39;49;00m)\u001b[90m\u001b[39;49;00m\n",
      "\u001b[1m\u001b[31mE       AssertionError: 'Usuário existing_user já existe' != 'Usuário já existe'\u001b[0m\n",
      "\u001b[1m\u001b[31mE       - Usuário existing_user já existe\u001b[0m\n",
      "\u001b[1m\u001b[31mE       + Usuário já existe\u001b[0m\n",
      "\n",
      "\u001b[1m\u001b[31mtests\\test_auth\\test_user_management_module.py\u001b[0m:30: AssertionError\n",
      "---------------------------- Captured stdout call -----------------------------\n",
      "\u001b[33m[INFO]\u001b[0m Conectado ao banco de dados de documentos de texto\n",
      "\u001b[31m\u001b[1m__________________ TestUserManagementModule.test_delete_user __________________\u001b[0m\n",
      "\n",
      "self = <test_user_management_module.TestUserManagementModule testMethod=test_delete_user>\n",
      "\n",
      "    \u001b[94mdef\u001b[39;49;00m \u001b[92mtest_delete_user\u001b[39;49;00m(\u001b[96mself\u001b[39;49;00m):\u001b[90m\u001b[39;49;00m\n",
      "        \u001b[90m# Testa a exclusão de um usuário\u001b[39;49;00m\u001b[90m\u001b[39;49;00m\n",
      "        username = \u001b[33m\"\u001b[39;49;00m\u001b[33muser_to_delete\u001b[39;49;00m\u001b[33m\"\u001b[39;49;00m\u001b[90m\u001b[39;49;00m\n",
      "        password = \u001b[33m\"\u001b[39;49;00m\u001b[33mpassword123\u001b[39;49;00m\u001b[33m\"\u001b[39;49;00m\u001b[90m\u001b[39;49;00m\n",
      "        \u001b[96mself\u001b[39;49;00m.user_management_module.create_user(username, \u001b[33m\"\u001b[39;49;00m\u001b[33mdelete_email@mail.com\u001b[39;49;00m\u001b[33m\"\u001b[39;49;00m, password)\u001b[90m\u001b[39;49;00m\n",
      "    \u001b[90m\u001b[39;49;00m\n",
      "        \u001b[90m# Verifica se o usuário existe antes da exclusão\u001b[39;49;00m\u001b[90m\u001b[39;49;00m\n",
      "        \u001b[96mself\u001b[39;49;00m.assertTrue(\u001b[96mself\u001b[39;49;00m.user_management_module.user_exists(username))\u001b[90m\u001b[39;49;00m\n",
      "    \u001b[90m\u001b[39;49;00m\n",
      "        \u001b[90m# Exclui o usuário\u001b[39;49;00m\u001b[90m\u001b[39;49;00m\n",
      "        result = \u001b[96mself\u001b[39;49;00m.user_management_module.delete_user(username)\u001b[90m\u001b[39;49;00m\n",
      ">       \u001b[96mself\u001b[39;49;00m.assertTrue(result)\u001b[90m\u001b[39;49;00m\n",
      "\u001b[1m\u001b[31mE       AssertionError: None is not true\u001b[0m\n",
      "\n",
      "\u001b[1m\u001b[31mtests\\test_auth\\test_user_management_module.py\u001b[0m:60: AssertionError\n",
      "---------------------------- Captured stdout call -----------------------------\n",
      "\u001b[33m[INFO]\u001b[0m Conectado ao banco de dados de documentos de texto\n",
      "\u001b[36m\u001b[1m=========================== short test summary info ===========================\u001b[0m\n",
      "\u001b[31mFAILED\u001b[0m tests/test_auth/test_user_management_module.py::\u001b[1mTestUserManagementModule::test_create_existing_user\u001b[0m - AssertionError: 'Usuário existing_user já existe' != 'Usuário já existe'\n",
      "\u001b[31mFAILED\u001b[0m tests/test_auth/test_user_management_module.py::\u001b[1mTestUserManagementModule::test_delete_user\u001b[0m - AssertionError: None is not true\n",
      "\u001b[31m========================= \u001b[31m\u001b[1m2 failed\u001b[0m, \u001b[32m4 passed\u001b[0m\u001b[31m in 1.74s\u001b[0m\u001b[31m =========================\u001b[0m\n"
     ]
    }
   ],
   "source": [
    "# rodando um teste específico\n",
    "!coverage run -m pytest tests/test_auth/test_user_management_module.py"
   ]
  }
 ],
 "metadata": {
  "kernelspec": {
   "display_name": "Python 3",
   "language": "python",
   "name": "python3"
  },
  "language_info": {
   "codemirror_mode": {
    "name": "ipython",
    "version": 3
   },
   "file_extension": ".py",
   "mimetype": "text/x-python",
   "name": "python",
   "nbconvert_exporter": "python",
   "pygments_lexer": "ipython3",
   "version": "3.11.2"
  }
 },
 "nbformat": 4,
 "nbformat_minor": 2
}
