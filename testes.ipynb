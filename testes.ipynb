{
 "cells": [
  {
   "cell_type": "markdown",
   "metadata": {},
   "source": [
    "Para executar os testes, basta executar o comando abaixo:\n",
    "\n",
    "```bash\n",
    "python -m pytest\n",
    "```\n",
    "\n",
    "Alternativamente, rode a celula abaixo"
   ]
  },
  {
   "cell_type": "code",
   "execution_count": 285,
   "metadata": {},
   "outputs": [
    {
     "name": "stdout",
     "output_type": "stream",
     "text": [
      "Requirement already satisfied: pytest in c:\\users\\rodrigopintucci\\appdata\\local\\packages\\pythonsoftwarefoundation.python.3.9_qbz5n2kfra8p0\\localcache\\local-packages\\python39\\site-packages (from -r requirements.txt (line 1)) (7.4.3)"
     ]
    },
    {
     "name": "stderr",
     "output_type": "stream",
     "text": [
      "\n",
      "[notice] A new release of pip available: 22.3.1 -> 23.3.1\n",
      "[notice] To update, run: C:\\Users\\RodrigoPintucci\\AppData\\Local\\Microsoft\\WindowsApps\\PythonSoftwareFoundation.Python.3.9_qbz5n2kfra8p0\\python.exe -m pip install --upgrade pip\n"
     ]
    },
    {
     "name": "stdout",
     "output_type": "stream",
     "text": [
      "\n",
      "Requirement already satisfied: bcrypt in c:\\users\\rodrigopintucci\\appdata\\local\\packages\\pythonsoftwarefoundation.python.3.9_qbz5n2kfra8p0\\localcache\\local-packages\\python39\\site-packages (from -r requirements.txt (line 2)) (4.1.1)\n",
      "Requirement already satisfied: iniconfig in c:\\users\\rodrigopintucci\\appdata\\local\\packages\\pythonsoftwarefoundation.python.3.9_qbz5n2kfra8p0\\localcache\\local-packages\\python39\\site-packages (from pytest->-r requirements.txt (line 1)) (2.0.0)\n",
      "Requirement already satisfied: tomli>=1.0.0 in c:\\users\\rodrigopintucci\\appdata\\local\\packages\\pythonsoftwarefoundation.python.3.9_qbz5n2kfra8p0\\localcache\\local-packages\\python39\\site-packages (from pytest->-r requirements.txt (line 1)) (2.0.1)\n",
      "Requirement already satisfied: exceptiongroup>=1.0.0rc8 in c:\\users\\rodrigopintucci\\appdata\\local\\packages\\pythonsoftwarefoundation.python.3.9_qbz5n2kfra8p0\\localcache\\local-packages\\python39\\site-packages (from pytest->-r requirements.txt (line 1)) (1.2.0)\n",
      "Requirement already satisfied: packaging in c:\\users\\rodrigopintucci\\appdata\\local\\packages\\pythonsoftwarefoundation.python.3.9_qbz5n2kfra8p0\\localcache\\local-packages\\python39\\site-packages (from pytest->-r requirements.txt (line 1)) (21.3)\n",
      "Requirement already satisfied: colorama in c:\\users\\rodrigopintucci\\appdata\\local\\packages\\pythonsoftwarefoundation.python.3.9_qbz5n2kfra8p0\\localcache\\local-packages\\python39\\site-packages (from pytest->-r requirements.txt (line 1)) (0.3.9)\n",
      "Requirement already satisfied: pluggy<2.0,>=0.12 in c:\\users\\rodrigopintucci\\appdata\\local\\packages\\pythonsoftwarefoundation.python.3.9_qbz5n2kfra8p0\\localcache\\local-packages\\python39\\site-packages (from pytest->-r requirements.txt (line 1)) (1.3.0)\n",
      "Requirement already satisfied: pyparsing!=3.0.5,>=2.0.2 in c:\\users\\rodrigopintucci\\appdata\\local\\packages\\pythonsoftwarefoundation.python.3.9_qbz5n2kfra8p0\\localcache\\local-packages\\python39\\site-packages (from packaging->pytest->-r requirements.txt (line 1)) (3.0.9)\n",
      "============================= test session starts =============================\n",
      "platform win32 -- Python 3.9.13, pytest-7.4.3, pluggy-1.3.0\n",
      "rootdir: c:\\Users\\RodrigoPintucci\\Documents\\EngenhariaSoftware\\Engenharia_Software\n",
      "collected 50 items / 1 error\n",
      "\n",
      "=================================== ERRORS ====================================\n",
      "_______ ERROR collecting tests/test_auth/test_authentication_module.py ________\n",
      "ImportError while importing test module 'c:\\Users\\RodrigoPintucci\\Documents\\EngenhariaSoftware\\Engenharia_Software\\tests\\test_auth\\test_authentication_module.py'.\n",
      "Hint: make sure your test modules/packages have valid Python names.\n",
      "Traceback:\n",
      "C:\\Program Files\\WindowsApps\\PythonSoftwareFoundation.Python.3.9_3.9.3568.0_x64__qbz5n2kfra8p0\\lib\\importlib\\__init__.py:127: in import_module\n",
      "    return _bootstrap._gcd_import(name[level:], package, level)\n",
      "tests\\test_auth\\test_authentication_module.py:11: in <module>\n",
      "    from src.auth.user_management import UserManagement\n",
      "E   ModuleNotFoundError: No module named 'src.auth.user_management'\n",
      "=========================== short test summary info ===========================\n",
      "ERROR tests/test_auth/test_authentication_module.py\n",
      "!!!!!!!!!!!!!!!!!!! Interrupted: 1 error during collection !!!!!!!!!!!!!!!!!!!!\n",
      "============================== 1 error in 0.47s ===============================\n"
     ]
    }
   ],
   "source": [
    "!pip install -r requirements.txt\n",
    "!python -m pytest"
   ]
  },
  {
   "cell_type": "code",
   "execution_count": 286,
   "metadata": {},
   "outputs": [
    {
     "name": "stdout",
     "output_type": "stream",
     "text": [
      "Requirement already satisfied: coverage in c:\\users\\rodrigopintucci\\appdata\\local\\packages\\pythonsoftwarefoundation.python.3.9_qbz5n2kfra8p0\\localcache\\local-packages\\python39\\site-packages (7.3.2)\n"
     ]
    },
    {
     "name": "stderr",
     "output_type": "stream",
     "text": [
      "\n",
      "[notice] A new release of pip available: 22.3.1 -> 23.3.1\n",
      "[notice] To update, run: C:\\Users\\RodrigoPintucci\\AppData\\Local\\Microsoft\\WindowsApps\\PythonSoftwareFoundation.Python.3.9_qbz5n2kfra8p0\\python.exe -m pip install --upgrade pip\n"
     ]
    }
   ],
   "source": [
    "!pip install coverage"
   ]
  },
  {
   "cell_type": "code",
   "execution_count": 287,
   "metadata": {},
   "outputs": [
    {
     "name": "stdout",
     "output_type": "stream",
     "text": [
      "============================= test session starts =============================\n",
      "platform win32 -- Python 3.9.13, pytest-7.4.3, pluggy-1.3.0\n",
      "rootdir: c:\\Users\\RodrigoPintucci\\Documents\\EngenhariaSoftware\\Engenharia_Software\n",
      "collected 50 items / 1 error\n",
      "\n",
      "=================================== ERRORS ====================================\n",
      "_______ ERROR collecting tests/test_auth/test_authentication_module.py ________\n",
      "ImportError while importing test module 'c:\\Users\\RodrigoPintucci\\Documents\\EngenhariaSoftware\\Engenharia_Software\\tests\\test_auth\\test_authentication_module.py'.\n",
      "Hint: make sure your test modules/packages have valid Python names.\n",
      "Traceback:\n",
      "C:\\Program Files\\WindowsApps\\PythonSoftwareFoundation.Python.3.9_3.9.3568.0_x64__qbz5n2kfra8p0\\lib\\importlib\\__init__.py:127: in import_module\n",
      "    return _bootstrap._gcd_import(name[level:], package, level)\n",
      "tests\\test_auth\\test_authentication_module.py:11: in <module>\n",
      "    from src.auth.user_management import UserManagement\n",
      "E   ModuleNotFoundError: No module named 'src.auth.user_management'\n",
      "=========================== short test summary info ===========================\n",
      "ERROR tests/test_auth/test_authentication_module.py\n",
      "!!!!!!!!!!!!!!!!!!! Interrupted: 1 error during collection !!!!!!!!!!!!!!!!!!!!\n",
      "============================== 1 error in 0.72s ===============================\n"
     ]
    }
   ],
   "source": [
    "!coverage run -m pytest"
   ]
  },
  {
   "cell_type": "code",
   "execution_count": 288,
   "metadata": {},
   "outputs": [
    {
     "name": "stdout",
     "output_type": "stream",
     "text": [
      "The autoreload extension is already loaded. To reload it, use:\n",
      "  %reload_ext autoreload\n"
     ]
    }
   ],
   "source": [
    "%load_ext autoreload\n",
    "%autoreload 2"
   ]
  },
  {
   "cell_type": "code",
   "execution_count": 289,
   "metadata": {},
   "outputs": [
    {
     "name": "stdout",
     "output_type": "stream",
     "text": [
      "Name                                              Stmts   Miss  Cover   Missing\n",
      "-------------------------------------------------------------------------------\n",
      "__init__.py                                           0      0   100%\n",
      "src\\__init__.py                                       0      0   100%\n",
      "src\\auth\\__init__.py                                  0      0   100%\n",
      "src\\auth\\authentication.py                           22     14    36%   46-47, 57-69, 79, 88\n",
      "src\\database\\__init__.py                              0      0   100%\n",
      "src\\database\\database_module.py                      14      0   100%\n",
      "src\\database\\mongo_module.py                         36     26    28%   44-52, 60-65, 73-77, 89-91, 103, 116, 128-130\n",
      "src\\database\\text_document_module.py                 60     48    20%   7, 10-27, 30, 33-49, 52-62, 65-66, 69-70, 73-77\n",
      "src\\schedule\\__init__.py                              0      0   100%\n",
      "src\\schedule\\schedule_management.py                  41     22    46%   31-33, 43-44, 58-60, 79-94, 106-107, 118, 129, 141\n",
      "src\\schedule\\schedule_model.py                       52     38    27%   28-32, 36, 40, 44, 57-63, 78-84, 93-101, 110-115, 125\n",
      "src\\user\\__init__.py                                  0      0   100%\n",
      "src\\user\\user_management.py                          37     23    38%   41, 58-73, 86-89, 102-104, 116-118, 130-132\n",
      "src\\user\\user_model.py                               18     10    44%   3-7, 10, 13, 23, 32, 35\n",
      "tests\\__init__.py                                     0      0   100%\n",
      "tests\\test_auth\\__init__.py                           0      0   100%\n",
      "tests\\test_auth\\test_authentication_module.py        23     19    17%   14-72\n",
      "tests\\test_mongomodule\\__init__.py                    0      0   100%\n",
      "tests\\test_mongomodule\\test_mongo_module.py         106     76    28%   11-12, 15-17, 20-22, 25-28, 31-32, 35-36, 39-40, 43-49, 53-60, 63-64, 67-68, 71-74, 77-78, 81-82, 85-88, 91-93, 96-99, 102-104, 107-108, 111-113, 116-119, 122-128, 132-134\n",
      "tests\\test_schedule\\__init__.py                       0      0   100%\n",
      "tests\\test_schedule\\mocks.py                         37     16    57%   5, 63-65, 72-74, 77, 101, 105, 109, 116-118, 121, 135\n",
      "tests\\test_schedule\\test_schedule_management.py     135    110    19%   10-12, 16-17, 21-23, 28-37, 42-46, 50-68, 72, 81, 85-89, 93-94, 98-101, 105-115, 119-129, 133-142, 146-155, 159-169, 173-192, 196-200, 204\n",
      "tests\\test_schedule\\test_schedule_model.py          111     79    29%   9-22, 26, 30, 34, 38-40, 44-45, 49-50, 54-55, 59-61, 65-66, 70-71, 75-77, 81-82, 86-87, 91-92, 96-98, 102-105, 115-116, 120-121, 125-127, 137-141, 145-149, 153-155, 159-161, 165-169, 173-177, 188-190, 194\n",
      "tests\\test_uesrs\\__init__.py                          0      0   100%\n",
      "tests\\test_uesrs\\test_user_management_module.py      40     26    35%   11-18, 22-23, 27-30, 34-36, 40-42, 46-47, 51-62, 66, 70\n",
      "-------------------------------------------------------------------------------\n",
      "TOTAL                                               732    507    31%\n"
     ]
    }
   ],
   "source": [
    "# explicação do copitot:\n",
    "# Name: nome do arquivo testado\n",
    "# Stmts: número de linhas executadas\n",
    "# Miss: número de linhas não executadas\n",
    "# Cover: porcentagem de cobertura\n",
    "# Missing: linhas não executadas\n",
    "!coverage report -m"
   ]
  },
  {
   "cell_type": "markdown",
   "metadata": {},
   "source": [
    "Rode a célula (ou o comando) abaixo para gerar um relatório de cobertura em html dos testes:"
   ]
  },
  {
   "cell_type": "code",
   "execution_count": 290,
   "metadata": {},
   "outputs": [
    {
     "name": "stdout",
     "output_type": "stream",
     "text": [
      "Wrote HTML report to htmlcov\\index.html\n"
     ]
    }
   ],
   "source": [
    "!coverage html"
   ]
  },
  {
   "cell_type": "code",
   "execution_count": 291,
   "metadata": {},
   "outputs": [
    {
     "name": "stdout",
     "output_type": "stream",
     "text": [
      "============================= test session starts =============================\n",
      "platform win32 -- Python 3.9.13, pytest-7.4.3, pluggy-1.3.0\n",
      "rootdir: c:\\Users\\RodrigoPintucci\\Documents\\EngenhariaSoftware\\Engenharia_Software\n",
      "collected 12 items\n",
      "\n",
      "tests\\test_schedule\\test_schedule_management.py .......FF...             [100%]\n",
      "\n",
      "================================== FAILURES ===================================\n",
      "__________ TestScheduleManagement.test_get_schedule_id_doesnt_exist ___________\n",
      "\n",
      "self = <Engenharia_Software.tests.test_schedule.test_schedule_management.TestScheduleManagement testMethod=test_get_schedule_id_doesnt_exist>\n",
      "\n",
      "    def test_get_schedule_id_doesnt_exist(self):\n",
      "        # Arrange\n",
      "        schedule_id = \"schedule10\"\n",
      "        self.schedule_management.schedule_exists = MagicMock(return_value=False)\n",
      "        # Act & Assert\n",
      "        with self.assertRaises(NonExistentIDError):\n",
      ">           self.schedule_management.get_schedule(schedule_id)\n",
      "E           AssertionError: NonExistentIDError not raised\n",
      "\n",
      "tests\\test_schedule\\test_schedule_management.py:200: AssertionError\n",
      "_______ TestScheduleManagement.test_get_schedule_id_exists_in_database ________\n",
      "\n",
      "self = <Engenharia_Software.tests.test_schedule.test_schedule_management.TestScheduleManagement testMethod=test_get_schedule_id_exists_in_database>\n",
      "\n",
      "    def test_get_schedule_id_exists_in_database(self):\n",
      "        # Arrange\n",
      "        schedule_id = \"schedule10\"\n",
      "        title = \"Schedule 2\"\n",
      "        description = \"This is schedule 2\"\n",
      "        permissions = {\"user1\": \"write\", \"user2\": \"read\"}\n",
      "        elements = [\"element2\", \"element3\"]\n",
      "        self.schedule_management.db_module.select_data = MagicMock(return_value={\n",
      "            '_id': schedule_id,\n",
      "            'title': title,\n",
      "            'description': description,\n",
      "            'permissions': permissions,\n",
      "            'elements': elements\n",
      "        })\n",
      "        self.schedule_management.schedule_exists = MagicMock(return_value=True)\n",
      "        # Act\n",
      "        result = self.schedule_management.get_schedule(schedule_id)\n",
      "        # Assert\n",
      ">       self.assertEqual(result.title, title)\n",
      "E       AttributeError: 'NoneType' object has no attribute 'title'\n",
      "\n",
      "tests\\test_schedule\\test_schedule_management.py:189: AttributeError\n",
      "=========================== short test summary info ===========================\n",
      "FAILED tests/test_schedule/test_schedule_management.py::TestScheduleManagement::test_get_schedule_id_doesnt_exist\n",
      "FAILED tests/test_schedule/test_schedule_management.py::TestScheduleManagement::test_get_schedule_id_exists_in_database\n",
      "======================== 2 failed, 10 passed in 0.44s =========================\n"
     ]
    }
   ],
   "source": [
    "# rodando um teste específico\n",
    "#!coverage run -m pytest tests/test_auth/test_user_management_module.py\n",
    "!coverage run -m pytest tests/test_schedule/test_schedule_management.py"
   ]
  }
 ],
 "metadata": {
  "kernelspec": {
   "display_name": "Python 3",
   "language": "python",
   "name": "python3"
  },
  "language_info": {
   "codemirror_mode": {
    "name": "ipython",
    "version": 3
   },
   "file_extension": ".py",
   "mimetype": "text/x-python",
   "name": "python",
   "nbconvert_exporter": "python",
   "pygments_lexer": "ipython3",
   "version": "3.9.13"
  }
 },
 "nbformat": 4,
 "nbformat_minor": 2
}
