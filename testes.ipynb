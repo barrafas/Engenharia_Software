{
 "cells": [
  {
   "cell_type": "markdown",
   "metadata": {},
   "source": [
    "Para executar os testes, basta executar o comando abaixo:\n",
    "\n",
    "```bash\n",
    "python -m pytest\n",
    "```\n",
    "\n",
    "Alternativamente, rode a celula abaixo"
   ]
  },
  {
   "cell_type": "code",
   "execution_count": 9,
   "metadata": {},
   "outputs": [
    {
     "name": "stdout",
     "output_type": "stream",
     "text": [
      "Requirement already satisfied: pymongo in c:\\users\\cole\\onedrive - fundacao getulio vargas - fgv\\área de trabalho\\engenharia_software\\venv\\lib\\site-packages (from -r requirements.txt (line 1)) (4.6.1)\n",
      "Requirement already satisfied: pytest in c:\\users\\cole\\onedrive - fundacao getulio vargas - fgv\\área de trabalho\\engenharia_software\\venv\\lib\\site-packages (from -r requirements.txt (line 2)) (7.4.3)\n",
      "Requirement already satisfied: bcrypt in c:\\users\\cole\\onedrive - fundacao getulio vargas - fgv\\área de trabalho\\engenharia_software\\venv\\lib\\site-packages (from -r requirements.txt (line 3)) (4.1.1)\n",
      "Requirement already satisfied: dnspython<3.0.0,>=1.16.0 in c:\\users\\cole\\onedrive - fundacao getulio vargas - fgv\\área de trabalho\\engenharia_software\\venv\\lib\\site-packages (from pymongo->-r requirements.txt (line 1)) (2.4.2)\n",
      "Requirement already satisfied: iniconfig in c:\\users\\cole\\onedrive - fundacao getulio vargas - fgv\\área de trabalho\\engenharia_software\\venv\\lib\\site-packages (from pytest->-r requirements.txt (line 2)) (2.0.0)\n",
      "Requirement already satisfied: packaging in c:\\users\\cole\\onedrive - fundacao getulio vargas - fgv\\área de trabalho\\engenharia_software\\venv\\lib\\site-packages (from pytest->-r requirements.txt (line 2)) (23.2)\n",
      "Requirement already satisfied: pluggy<2.0,>=0.12 in c:\\users\\cole\\onedrive - fundacao getulio vargas - fgv\\área de trabalho\\engenharia_software\\venv\\lib\\site-packages (from pytest->-r requirements.txt (line 2)) (1.3.0)\n",
      "Requirement already satisfied: colorama in c:\\users\\cole\\onedrive - fundacao getulio vargas - fgv\\área de trabalho\\engenharia_software\\venv\\lib\\site-packages (from pytest->-r requirements.txt (line 2)) (0.4.6)\n"
     ]
    },
    {
     "name": "stderr",
     "output_type": "stream",
     "text": [
      "\n",
      "[notice] A new release of pip available: 22.3.1 -> 23.3.1\n",
      "[notice] To update, run: python.exe -m pip install --upgrade pip\n"
     ]
    },
    {
     "name": "stdout",
     "output_type": "stream",
     "text": [
      "\u001b[1m============================= test session starts =============================\u001b[0m\n",
      "platform win32 -- Python 3.11.1, pytest-7.4.3, pluggy-1.3.0\n",
      "rootdir: c:\\Users\\Cole\\OneDrive - Fundacao Getulio Vargas - FGV\\Área de Trabalho\\Engenharia_Software\n",
      "collected 167 items\n",
      "\n",
      "tests\\test_auth\\test_authentication_module.py \u001b[32m.\u001b[0m\u001b[32m.\u001b[0m\u001b[32m.\u001b[0m\u001b[32m.\u001b[0m\u001b[32m.\u001b[0m\u001b[32m                      [  2%]\u001b[0m\n",
      "tests\\test_events\\test_element_event.py \u001b[32m.\u001b[0m\u001b[32m.\u001b[0m\u001b[32m.\u001b[0m\u001b[32m.\u001b[0m\u001b[32m.\u001b[0m\u001b[32m.\u001b[0m\u001b[32m.\u001b[0m\u001b[32m.\u001b[0m\u001b[32m.\u001b[0m\u001b[32m.\u001b[0m\u001b[32m.\u001b[0m\u001b[32m.\u001b[0m\u001b[32m.\u001b[0m\u001b[32m.\u001b[0m\u001b[32m.\u001b[0m\u001b[32m.\u001b[0m\u001b[32m.\u001b[0m\u001b[32m.\u001b[0m\u001b[32m.\u001b[0m\u001b[32m.\u001b[0m\u001b[32m.\u001b[0m\u001b[32m.\u001b[0m\u001b[32m.\u001b[0m\u001b[32m.\u001b[0m\u001b[32m.\u001b[0m\u001b[32m.\u001b[0m\u001b[32m.\u001b[0m\u001b[32m      [ 19%]\u001b[0m\n",
      "tests\\test_events\\test_element_factory.py \u001b[32m.\u001b[0m\u001b[32m.\u001b[0m\u001b[32m.\u001b[0m\u001b[32m.\u001b[0m\u001b[32m                           [ 21%]\u001b[0m\n",
      "tests\\test_events\\test_element_reminder.py \u001b[32m.\u001b[0m\u001b[32m.\u001b[0m\u001b[32m.\u001b[0m\u001b[32m.\u001b[0m\u001b[32m.\u001b[0m\u001b[32m.\u001b[0m\u001b[32m.\u001b[0m\u001b[32m.\u001b[0m\u001b[32m.\u001b[0m\u001b[32m.\u001b[0m\u001b[32m.\u001b[0m\u001b[32m.\u001b[0m\u001b[32m.\u001b[0m\u001b[32m.\u001b[0m\u001b[32m.\u001b[0m\u001b[32m.\u001b[0m\u001b[32m.\u001b[0m\u001b[32m.\u001b[0m\u001b[32m.\u001b[0m\u001b[32m.\u001b[0m\u001b[32m.\u001b[0m\u001b[32m.\u001b[0m\u001b[32m.\u001b[0m\u001b[32m.\u001b[0m\u001b[32m.\u001b[0m\u001b[32m     [ 36%]\u001b[0m\n",
      "tests\\test_events\\test_element_task.py \u001b[32m.\u001b[0m\u001b[32m.\u001b[0m\u001b[32m.\u001b[0m\u001b[32m.\u001b[0m\u001b[32m.\u001b[0m\u001b[32m.\u001b[0m\u001b[32m.\u001b[0m\u001b[32m.\u001b[0m\u001b[32m.\u001b[0m\u001b[32m.\u001b[0m\u001b[32m.\u001b[0m\u001b[32m.\u001b[0m\u001b[32m.\u001b[0m\u001b[32m.\u001b[0m\u001b[32m.\u001b[0m\u001b[32m.\u001b[0m\u001b[32m.\u001b[0m\u001b[32m.\u001b[0m\u001b[32m.\u001b[0m\u001b[32m.\u001b[0m\u001b[32m.\u001b[0m\u001b[32m.\u001b[0m\u001b[32m.\u001b[0m\u001b[32m.\u001b[0m\u001b[32m.\u001b[0m\u001b[32m.\u001b[0m\u001b[32m.\u001b[0m\u001b[32m.\u001b[0m\u001b[32m.\u001b[0m\u001b[32m     [ 53%]\u001b[0m\n",
      "tests\\test_mongomodule\\test_mongo_module.py \u001b[32m.\u001b[0m\u001b[32m.\u001b[0m\u001b[32m.\u001b[0m\u001b[32m.\u001b[0m\u001b[32m.\u001b[0m\u001b[32m.\u001b[0m\u001b[32m                       [ 57%]\u001b[0m\n",
      "tests\\test_schedule\\test_schedule_management.py \u001b[32m.\u001b[0m\u001b[32m.\u001b[0m\u001b[32m.\u001b[0m\u001b[32m.\u001b[0m\u001b[32m.\u001b[0m\u001b[32m.\u001b[0m\u001b[32m.\u001b[0m\u001b[32m.\u001b[0m\u001b[32m.\u001b[0m\u001b[32m.\u001b[0m\u001b[32m.\u001b[0m\u001b[32m.\u001b[0m\u001b[32m.\u001b[0m\u001b[32m.\u001b[0m\u001b[32m.\u001b[0m\u001b[32m.\u001b[0m\u001b[32m.\u001b[0m\u001b[32m.\u001b[0m\u001b[32m.\u001b[0m\u001b[32m.\u001b[0m\u001b[32m.\u001b[0m\u001b[32m.\u001b[0m\u001b[32m.\u001b[0m\u001b[32m.\u001b[0m\u001b[32m [ 71%]\n",
      "\u001b[0m\u001b[32m.\u001b[0m\u001b[32m.\u001b[0m\u001b[32m.\u001b[0m\u001b[32m.\u001b[0m\u001b[32m.\u001b[0m\u001b[32m.\u001b[0m\u001b[32m.\u001b[0m\u001b[32m.\u001b[0m\u001b[32m                                                                 [ 76%]\u001b[0m\n",
      "tests\\test_schedule\\test_schedule_model.py \u001b[32m.\u001b[0m\u001b[32m.\u001b[0m\u001b[32m.\u001b[0m\u001b[32m.\u001b[0m\u001b[32m.\u001b[0m\u001b[32m.\u001b[0m\u001b[32m.\u001b[0m\u001b[32m.\u001b[0m\u001b[32m.\u001b[0m\u001b[32m.\u001b[0m\u001b[32m.\u001b[0m\u001b[32m.\u001b[0m\u001b[32m.\u001b[0m\u001b[32m.\u001b[0m\u001b[32m.\u001b[0m\u001b[32m.\u001b[0m\u001b[32m.\u001b[0m\u001b[32m.\u001b[0m\u001b[32m.\u001b[0m\u001b[32m.\u001b[0m\u001b[32m.\u001b[0m\u001b[32m.\u001b[0m\u001b[32m.\u001b[0m\u001b[32m.\u001b[0m\u001b[32m.\u001b[0m\u001b[32m.\u001b[0m\u001b[32m.\u001b[0m\u001b[32m.\u001b[0m\u001b[32m  [ 93%]\u001b[0m\n",
      "tests\\test_schedule\\test_schedule_observer.py \u001b[32m.\u001b[0m\u001b[31mF\u001b[0m\u001b[32m.\u001b[0m\u001b[32m.\u001b[0m\u001b[32m.\u001b[0m\u001b[31m                      [ 96%]\u001b[0m\n",
      "tests\\test_uesrs\\test_user_management_module.py \u001b[31mF\u001b[0m\u001b[31mF\u001b[0m\u001b[31mF\u001b[0m\u001b[31mF\u001b[0m\u001b[31mF\u001b[0m\u001b[31mF\u001b[0m\u001b[31m                   [100%]\u001b[0m\n",
      "\n",
      "================================== FAILURES ===================================\n",
      "\u001b[31m\u001b[1m________ TestScheduleObserver.test_observer_gets_notified_on_title_set ________\u001b[0m\n",
      "\n",
      "self = <Engenharia_Software.tests.test_schedule.test_schedule_observer.TestScheduleObserver testMethod=test_observer_gets_notified_on_title_set>\n",
      "\n",
      "    \u001b[94mdef\u001b[39;49;00m \u001b[92mtest_observer_gets_notified_on_title_set\u001b[39;49;00m(\u001b[96mself\u001b[39;49;00m):\u001b[90m\u001b[39;49;00m\n",
      "        permissions = {\u001b[90m\u001b[39;49;00m\n",
      "            \u001b[33m'\u001b[39;49;00m\u001b[33muser1\u001b[39;49;00m\u001b[33m'\u001b[39;49;00m: \u001b[33m\"\u001b[39;49;00m\u001b[33mread\u001b[39;49;00m\u001b[33m\"\u001b[39;49;00m\u001b[90m\u001b[39;49;00m\n",
      "        }\u001b[90m\u001b[39;49;00m\n",
      "        schedule = Schedule(\u001b[33m'\u001b[39;49;00m\u001b[33mschedule_id\u001b[39;49;00m\u001b[33m'\u001b[39;49;00m, \u001b[33m'\u001b[39;49;00m\u001b[33mtitle\u001b[39;49;00m\u001b[33m'\u001b[39;49;00m, \u001b[33m'\u001b[39;49;00m\u001b[33mdescription\u001b[39;49;00m\u001b[33m'\u001b[39;49;00m, permissions)\u001b[90m\u001b[39;49;00m\n",
      "    \u001b[90m\u001b[39;49;00m\n",
      "        schedule.attach(\u001b[96mself\u001b[39;49;00m.observer)\u001b[90m\u001b[39;49;00m\n",
      "        schedule.set_title(\u001b[33m'\u001b[39;49;00m\u001b[33mnew title\u001b[39;49;00m\u001b[33m'\u001b[39;49;00m)\u001b[90m\u001b[39;49;00m\n",
      "        \u001b[90m# verificando se o observer chamou o método update\u001b[39;49;00m\u001b[90m\u001b[39;49;00m\n",
      ">       \u001b[96mself\u001b[39;49;00m.assertEqual(\u001b[96mlen\u001b[39;49;00m(\u001b[96mself\u001b[39;49;00m.observer.notifications), \u001b[94m1\u001b[39;49;00m)\u001b[90m\u001b[39;49;00m\n",
      "\u001b[1m\u001b[31mE       AssertionError: 0 != 1\u001b[0m\n",
      "\n",
      "\u001b[1m\u001b[31mtests\\test_schedule\\test_schedule_observer.py\u001b[0m:74: AssertionError\n",
      "\u001b[31m\u001b[1m_____________ TestUserManagementModule.test_create_existing_user ______________\u001b[0m\n",
      "\n",
      "self = <Engenharia_Software.tests.test_uesrs.test_user_management_module.TestUserManagementModule testMethod=test_create_existing_user>\n",
      "\n",
      "    \u001b[94mdef\u001b[39;49;00m \u001b[92msetUp\u001b[39;49;00m(\u001b[96mself\u001b[39;49;00m):\u001b[90m\u001b[39;49;00m\n",
      "        \u001b[90m# Set up for the tests\u001b[39;49;00m\u001b[90m\u001b[39;49;00m\n",
      "    \u001b[90m\u001b[39;49;00m\n",
      "        \u001b[90m# Cria um mock para a interface DatabaseModule\u001b[39;49;00m\u001b[90m\u001b[39;49;00m\n",
      ">       \u001b[96mself\u001b[39;49;00m.database_module_mock = TextDocumentModule(\u001b[33m\"\u001b[39;49;00m\u001b[33mtests/test_auth/test_database.json\u001b[39;49;00m\u001b[33m\"\u001b[39;49;00m)\u001b[90m\u001b[39;49;00m\n",
      "\u001b[1m\u001b[31mE       TypeError: Can't instantiate abstract class TextDocumentModule with abstract methods delete_data, insert_data, select_data, update_data\u001b[0m\n",
      "\n",
      "\u001b[1m\u001b[31mtests\\test_uesrs\\test_user_management_module.py\u001b[0m:11: TypeError\n",
      "\u001b[31m\u001b[1m______________ TestUserManagementModule.test_create_user_success ______________\u001b[0m\n",
      "\n",
      "self = <Engenharia_Software.tests.test_uesrs.test_user_management_module.TestUserManagementModule testMethod=test_create_user_success>\n",
      "\n",
      "    \u001b[94mdef\u001b[39;49;00m \u001b[92msetUp\u001b[39;49;00m(\u001b[96mself\u001b[39;49;00m):\u001b[90m\u001b[39;49;00m\n",
      "        \u001b[90m# Set up for the tests\u001b[39;49;00m\u001b[90m\u001b[39;49;00m\n",
      "    \u001b[90m\u001b[39;49;00m\n",
      "        \u001b[90m# Cria um mock para a interface DatabaseModule\u001b[39;49;00m\u001b[90m\u001b[39;49;00m\n",
      ">       \u001b[96mself\u001b[39;49;00m.database_module_mock = TextDocumentModule(\u001b[33m\"\u001b[39;49;00m\u001b[33mtests/test_auth/test_database.json\u001b[39;49;00m\u001b[33m\"\u001b[39;49;00m)\u001b[90m\u001b[39;49;00m\n",
      "\u001b[1m\u001b[31mE       TypeError: Can't instantiate abstract class TextDocumentModule with abstract methods delete_data, insert_data, select_data, update_data\u001b[0m\n",
      "\n",
      "\u001b[1m\u001b[31mtests\\test_uesrs\\test_user_management_module.py\u001b[0m:11: TypeError\n",
      "\u001b[31m\u001b[1m__________________ TestUserManagementModule.test_delete_user __________________\u001b[0m\n",
      "\n",
      "self = <Engenharia_Software.tests.test_uesrs.test_user_management_module.TestUserManagementModule testMethod=test_delete_user>\n",
      "\n",
      "    \u001b[94mdef\u001b[39;49;00m \u001b[92msetUp\u001b[39;49;00m(\u001b[96mself\u001b[39;49;00m):\u001b[90m\u001b[39;49;00m\n",
      "        \u001b[90m# Set up for the tests\u001b[39;49;00m\u001b[90m\u001b[39;49;00m\n",
      "    \u001b[90m\u001b[39;49;00m\n",
      "        \u001b[90m# Cria um mock para a interface DatabaseModule\u001b[39;49;00m\u001b[90m\u001b[39;49;00m\n",
      ">       \u001b[96mself\u001b[39;49;00m.database_module_mock = TextDocumentModule(\u001b[33m\"\u001b[39;49;00m\u001b[33mtests/test_auth/test_database.json\u001b[39;49;00m\u001b[33m\"\u001b[39;49;00m)\u001b[90m\u001b[39;49;00m\n",
      "\u001b[1m\u001b[31mE       TypeError: Can't instantiate abstract class TextDocumentModule with abstract methods delete_data, insert_data, select_data, update_data\u001b[0m\n",
      "\n",
      "\u001b[1m\u001b[31mtests\\test_uesrs\\test_user_management_module.py\u001b[0m:11: TypeError\n",
      "\u001b[31m\u001b[1m_________________ TestUserManagementModule.test_hash_password _________________\u001b[0m\n",
      "\n",
      "self = <Engenharia_Software.tests.test_uesrs.test_user_management_module.TestUserManagementModule testMethod=test_hash_password>\n",
      "\n",
      "    \u001b[94mdef\u001b[39;49;00m \u001b[92msetUp\u001b[39;49;00m(\u001b[96mself\u001b[39;49;00m):\u001b[90m\u001b[39;49;00m\n",
      "        \u001b[90m# Set up for the tests\u001b[39;49;00m\u001b[90m\u001b[39;49;00m\n",
      "    \u001b[90m\u001b[39;49;00m\n",
      "        \u001b[90m# Cria um mock para a interface DatabaseModule\u001b[39;49;00m\u001b[90m\u001b[39;49;00m\n",
      ">       \u001b[96mself\u001b[39;49;00m.database_module_mock = TextDocumentModule(\u001b[33m\"\u001b[39;49;00m\u001b[33mtests/test_auth/test_database.json\u001b[39;49;00m\u001b[33m\"\u001b[39;49;00m)\u001b[90m\u001b[39;49;00m\n",
      "\u001b[1m\u001b[31mE       TypeError: Can't instantiate abstract class TextDocumentModule with abstract methods delete_data, insert_data, select_data, update_data\u001b[0m\n",
      "\n",
      "\u001b[1m\u001b[31mtests\\test_uesrs\\test_user_management_module.py\u001b[0m:11: TypeError\n",
      "\u001b[31m\u001b[1m__________________ TestUserManagementModule.test_user_exists __________________\u001b[0m\n",
      "\n",
      "self = <Engenharia_Software.tests.test_uesrs.test_user_management_module.TestUserManagementModule testMethod=test_user_exists>\n",
      "\n",
      "    \u001b[94mdef\u001b[39;49;00m \u001b[92msetUp\u001b[39;49;00m(\u001b[96mself\u001b[39;49;00m):\u001b[90m\u001b[39;49;00m\n",
      "        \u001b[90m# Set up for the tests\u001b[39;49;00m\u001b[90m\u001b[39;49;00m\n",
      "    \u001b[90m\u001b[39;49;00m\n",
      "        \u001b[90m# Cria um mock para a interface DatabaseModule\u001b[39;49;00m\u001b[90m\u001b[39;49;00m\n",
      ">       \u001b[96mself\u001b[39;49;00m.database_module_mock = TextDocumentModule(\u001b[33m\"\u001b[39;49;00m\u001b[33mtests/test_auth/test_database.json\u001b[39;49;00m\u001b[33m\"\u001b[39;49;00m)\u001b[90m\u001b[39;49;00m\n",
      "\u001b[1m\u001b[31mE       TypeError: Can't instantiate abstract class TextDocumentModule with abstract methods delete_data, insert_data, select_data, update_data\u001b[0m\n",
      "\n",
      "\u001b[1m\u001b[31mtests\\test_uesrs\\test_user_management_module.py\u001b[0m:11: TypeError\n",
      "\u001b[31m\u001b[1m________________ TestUserManagementModule.test_user_not_exists ________________\u001b[0m\n",
      "\n",
      "self = <Engenharia_Software.tests.test_uesrs.test_user_management_module.TestUserManagementModule testMethod=test_user_not_exists>\n",
      "\n",
      "    \u001b[94mdef\u001b[39;49;00m \u001b[92msetUp\u001b[39;49;00m(\u001b[96mself\u001b[39;49;00m):\u001b[90m\u001b[39;49;00m\n",
      "        \u001b[90m# Set up for the tests\u001b[39;49;00m\u001b[90m\u001b[39;49;00m\n",
      "    \u001b[90m\u001b[39;49;00m\n",
      "        \u001b[90m# Cria um mock para a interface DatabaseModule\u001b[39;49;00m\u001b[90m\u001b[39;49;00m\n",
      ">       \u001b[96mself\u001b[39;49;00m.database_module_mock = TextDocumentModule(\u001b[33m\"\u001b[39;49;00m\u001b[33mtests/test_auth/test_database.json\u001b[39;49;00m\u001b[33m\"\u001b[39;49;00m)\u001b[90m\u001b[39;49;00m\n",
      "\u001b[1m\u001b[31mE       TypeError: Can't instantiate abstract class TextDocumentModule with abstract methods delete_data, insert_data, select_data, update_data\u001b[0m\n",
      "\n",
      "\u001b[1m\u001b[31mtests\\test_uesrs\\test_user_management_module.py\u001b[0m:11: TypeError\n",
      "\u001b[36m\u001b[1m=========================== short test summary info ===========================\u001b[0m\n",
      "\u001b[31mFAILED\u001b[0m tests/test_schedule/test_schedule_observer.py::\u001b[1mTestScheduleObserver::test_observer_gets_notified_on_title_set\u001b[0m - AssertionError: 0 != 1\n",
      "\u001b[31mFAILED\u001b[0m tests/test_uesrs/test_user_management_module.py::\u001b[1mTestUserManagementModule::test_create_existing_user\u001b[0m - TypeError: Can't instantiate abstract class TextDocumentModule with abstrac...\n",
      "\u001b[31mFAILED\u001b[0m tests/test_uesrs/test_user_management_module.py::\u001b[1mTestUserManagementModule::test_create_user_success\u001b[0m - TypeError: Can't instantiate abstract class TextDocumentModule with abstrac...\n",
      "\u001b[31mFAILED\u001b[0m tests/test_uesrs/test_user_management_module.py::\u001b[1mTestUserManagementModule::test_delete_user\u001b[0m - TypeError: Can't instantiate abstract class TextDocumentModule with abstrac...\n",
      "\u001b[31mFAILED\u001b[0m tests/test_uesrs/test_user_management_module.py::\u001b[1mTestUserManagementModule::test_hash_password\u001b[0m - TypeError: Can't instantiate abstract class TextDocumentModule with abstrac...\n",
      "\u001b[31mFAILED\u001b[0m tests/test_uesrs/test_user_management_module.py::\u001b[1mTestUserManagementModule::test_user_exists\u001b[0m - TypeError: Can't instantiate abstract class TextDocumentModule with abstrac...\n",
      "\u001b[31mFAILED\u001b[0m tests/test_uesrs/test_user_management_module.py::\u001b[1mTestUserManagementModule::test_user_not_exists\u001b[0m - TypeError: Can't instantiate abstract class TextDocumentModule with abstrac...\n",
      "\u001b[31m======================== \u001b[31m\u001b[1m7 failed\u001b[0m, \u001b[32m160 passed\u001b[0m\u001b[31m in 0.97s\u001b[0m\u001b[31m ========================\u001b[0m\n"
     ]
    }
   ],
   "source": [
    "!pip install -r requirements.txt\n",
    "!python -m pytest"
   ]
  },
  {
   "cell_type": "code",
   "execution_count": 10,
   "metadata": {},
   "outputs": [
    {
     "name": "stdout",
     "output_type": "stream",
     "text": [
      "Requirement already satisfied: coverage in c:\\users\\cole\\onedrive - fundacao getulio vargas - fgv\\área de trabalho\\engenharia_software\\venv\\lib\\site-packages (7.3.2)\n"
     ]
    },
    {
     "name": "stderr",
     "output_type": "stream",
     "text": [
      "\n",
      "[notice] A new release of pip available: 22.3.1 -> 23.3.1\n",
      "[notice] To update, run: python.exe -m pip install --upgrade pip\n"
     ]
    }
   ],
   "source": [
    "!pip install coverage"
   ]
  },
  {
   "cell_type": "code",
   "execution_count": 11,
   "metadata": {},
   "outputs": [
    {
     "name": "stdout",
     "output_type": "stream",
     "text": [
      "\u001b[1m============================= test session starts =============================\u001b[0m\n",
      "platform win32 -- Python 3.11.1, pytest-7.4.3, pluggy-1.3.0\n",
      "rootdir: c:\\Users\\Cole\\OneDrive - Fundacao Getulio Vargas - FGV\\Área de Trabalho\\Engenharia_Software\n",
      "collected 167 items\n",
      "\n",
      "tests\\test_auth\\test_authentication_module.py \u001b[32m.\u001b[0m\u001b[32m.\u001b[0m\u001b[32m.\u001b[0m\u001b[32m.\u001b[0m\u001b[32m.\u001b[0m\u001b[32m                      [  2%]\u001b[0m\n",
      "tests\\test_events\\test_element_event.py \u001b[32m.\u001b[0m\u001b[32m.\u001b[0m\u001b[32m.\u001b[0m\u001b[32m.\u001b[0m\u001b[32m.\u001b[0m\u001b[32m.\u001b[0m\u001b[32m.\u001b[0m\u001b[32m.\u001b[0m\u001b[32m.\u001b[0m\u001b[32m.\u001b[0m\u001b[32m.\u001b[0m\u001b[32m.\u001b[0m\u001b[32m.\u001b[0m\u001b[32m.\u001b[0m\u001b[32m.\u001b[0m\u001b[32m.\u001b[0m\u001b[32m.\u001b[0m\u001b[32m.\u001b[0m\u001b[32m.\u001b[0m\u001b[32m.\u001b[0m\u001b[32m.\u001b[0m\u001b[32m.\u001b[0m\u001b[32m.\u001b[0m\u001b[32m.\u001b[0m\u001b[32m.\u001b[0m\u001b[32m.\u001b[0m\u001b[32m.\u001b[0m\u001b[32m      [ 19%]\u001b[0m\n",
      "tests\\test_events\\test_element_factory.py \u001b[32m.\u001b[0m\u001b[32m.\u001b[0m\u001b[32m.\u001b[0m\u001b[32m.\u001b[0m\u001b[32m                           [ 21%]\u001b[0m\n",
      "tests\\test_events\\test_element_reminder.py \u001b[32m.\u001b[0m\u001b[32m.\u001b[0m\u001b[32m.\u001b[0m\u001b[32m.\u001b[0m\u001b[32m.\u001b[0m\u001b[32m.\u001b[0m\u001b[32m.\u001b[0m\u001b[32m.\u001b[0m\u001b[32m.\u001b[0m\u001b[32m.\u001b[0m\u001b[32m.\u001b[0m\u001b[32m.\u001b[0m\u001b[32m.\u001b[0m\u001b[32m.\u001b[0m\u001b[32m.\u001b[0m\u001b[32m.\u001b[0m\u001b[32m.\u001b[0m\u001b[32m.\u001b[0m\u001b[32m.\u001b[0m\u001b[32m.\u001b[0m\u001b[32m.\u001b[0m\u001b[32m.\u001b[0m\u001b[32m.\u001b[0m\u001b[32m.\u001b[0m\u001b[32m.\u001b[0m\u001b[32m     [ 36%]\u001b[0m\n",
      "tests\\test_events\\test_element_task.py \u001b[32m.\u001b[0m\u001b[32m.\u001b[0m\u001b[32m.\u001b[0m\u001b[32m.\u001b[0m\u001b[32m.\u001b[0m\u001b[32m.\u001b[0m\u001b[32m.\u001b[0m\u001b[32m.\u001b[0m\u001b[32m.\u001b[0m\u001b[32m.\u001b[0m\u001b[32m.\u001b[0m\u001b[32m.\u001b[0m\u001b[32m.\u001b[0m\u001b[32m.\u001b[0m\u001b[32m.\u001b[0m\u001b[32m.\u001b[0m\u001b[32m.\u001b[0m\u001b[32m.\u001b[0m\u001b[32m.\u001b[0m\u001b[32m.\u001b[0m\u001b[32m.\u001b[0m\u001b[32m.\u001b[0m\u001b[32m.\u001b[0m\u001b[32m.\u001b[0m\u001b[32m.\u001b[0m\u001b[32m.\u001b[0m\u001b[32m.\u001b[0m\u001b[32m.\u001b[0m\u001b[32m.\u001b[0m\u001b[32m     [ 53%]\u001b[0m\n",
      "tests\\test_mongomodule\\test_mongo_module.py \u001b[32m.\u001b[0m\u001b[32m.\u001b[0m\u001b[32m.\u001b[0m\u001b[32m.\u001b[0m\u001b[32m.\u001b[0m\u001b[32m.\u001b[0m\u001b[32m                       [ 57%]\u001b[0m\n",
      "tests\\test_schedule\\test_schedule_management.py \u001b[32m.\u001b[0m\u001b[32m.\u001b[0m\u001b[32m.\u001b[0m\u001b[32m.\u001b[0m\u001b[32m.\u001b[0m\u001b[32m.\u001b[0m\u001b[32m.\u001b[0m\u001b[32m.\u001b[0m\u001b[32m.\u001b[0m\u001b[32m.\u001b[0m\u001b[32m.\u001b[0m\u001b[32m.\u001b[0m\u001b[32m.\u001b[0m\u001b[32m.\u001b[0m\u001b[32m.\u001b[0m\u001b[32m.\u001b[0m\u001b[32m.\u001b[0m\u001b[32m.\u001b[0m\u001b[32m.\u001b[0m\u001b[32m.\u001b[0m\u001b[32m.\u001b[0m\u001b[32m.\u001b[0m\u001b[32m.\u001b[0m\u001b[32m.\u001b[0m\u001b[32m [ 71%]\n",
      "\u001b[0m\u001b[32m.\u001b[0m\u001b[32m.\u001b[0m\u001b[32m.\u001b[0m\u001b[32m.\u001b[0m\u001b[32m.\u001b[0m\u001b[32m.\u001b[0m\u001b[32m.\u001b[0m\u001b[32m.\u001b[0m\u001b[32m                                                                 [ 76%]\u001b[0m\n",
      "tests\\test_schedule\\test_schedule_model.py \u001b[32m.\u001b[0m\u001b[32m.\u001b[0m\u001b[32m.\u001b[0m\u001b[32m.\u001b[0m\u001b[32m.\u001b[0m\u001b[32m.\u001b[0m\u001b[32m.\u001b[0m\u001b[32m.\u001b[0m\u001b[32m.\u001b[0m\u001b[32m.\u001b[0m\u001b[32m.\u001b[0m\u001b[32m.\u001b[0m\u001b[32m.\u001b[0m\u001b[32m.\u001b[0m\u001b[32m.\u001b[0m\u001b[32m.\u001b[0m\u001b[32m.\u001b[0m\u001b[32m.\u001b[0m\u001b[32m.\u001b[0m\u001b[32m.\u001b[0m\u001b[32m.\u001b[0m\u001b[32m.\u001b[0m\u001b[32m.\u001b[0m\u001b[32m.\u001b[0m\u001b[32m.\u001b[0m\u001b[32m.\u001b[0m\u001b[32m.\u001b[0m\u001b[32m.\u001b[0m\u001b[32m  [ 93%]\u001b[0m\n",
      "tests\\test_schedule\\test_schedule_observer.py \u001b[32m.\u001b[0m\u001b[31mF\u001b[0m\u001b[32m.\u001b[0m\u001b[32m.\u001b[0m\u001b[32m.\u001b[0m\u001b[31m                      [ 96%]\u001b[0m\n",
      "tests\\test_uesrs\\test_user_management_module.py \u001b[31mF\u001b[0m\u001b[31mF\u001b[0m\u001b[31mF\u001b[0m\u001b[31mF\u001b[0m\u001b[31mF\u001b[0m\u001b[31mF\u001b[0m\u001b[31m                   [100%]\u001b[0m\n",
      "\n",
      "================================== FAILURES ===================================\n",
      "\u001b[31m\u001b[1m________ TestScheduleObserver.test_observer_gets_notified_on_title_set ________\u001b[0m\n",
      "\n",
      "self = <Engenharia_Software.tests.test_schedule.test_schedule_observer.TestScheduleObserver testMethod=test_observer_gets_notified_on_title_set>\n",
      "\n",
      "    \u001b[94mdef\u001b[39;49;00m \u001b[92mtest_observer_gets_notified_on_title_set\u001b[39;49;00m(\u001b[96mself\u001b[39;49;00m):\u001b[90m\u001b[39;49;00m\n",
      "        permissions = {\u001b[90m\u001b[39;49;00m\n",
      "            \u001b[33m'\u001b[39;49;00m\u001b[33muser1\u001b[39;49;00m\u001b[33m'\u001b[39;49;00m: \u001b[33m\"\u001b[39;49;00m\u001b[33mread\u001b[39;49;00m\u001b[33m\"\u001b[39;49;00m\u001b[90m\u001b[39;49;00m\n",
      "        }\u001b[90m\u001b[39;49;00m\n",
      "        schedule = Schedule(\u001b[33m'\u001b[39;49;00m\u001b[33mschedule_id\u001b[39;49;00m\u001b[33m'\u001b[39;49;00m, \u001b[33m'\u001b[39;49;00m\u001b[33mtitle\u001b[39;49;00m\u001b[33m'\u001b[39;49;00m, \u001b[33m'\u001b[39;49;00m\u001b[33mdescription\u001b[39;49;00m\u001b[33m'\u001b[39;49;00m, permissions)\u001b[90m\u001b[39;49;00m\n",
      "    \u001b[90m\u001b[39;49;00m\n",
      "        schedule.attach(\u001b[96mself\u001b[39;49;00m.observer)\u001b[90m\u001b[39;49;00m\n",
      "        schedule.set_title(\u001b[33m'\u001b[39;49;00m\u001b[33mnew title\u001b[39;49;00m\u001b[33m'\u001b[39;49;00m)\u001b[90m\u001b[39;49;00m\n",
      "        \u001b[90m# verificando se o observer chamou o método update\u001b[39;49;00m\u001b[90m\u001b[39;49;00m\n",
      ">       \u001b[96mself\u001b[39;49;00m.assertEqual(\u001b[96mlen\u001b[39;49;00m(\u001b[96mself\u001b[39;49;00m.observer.notifications), \u001b[94m1\u001b[39;49;00m)\u001b[90m\u001b[39;49;00m\n",
      "\u001b[1m\u001b[31mE       AssertionError: 0 != 1\u001b[0m\n",
      "\n",
      "\u001b[1m\u001b[31mtests\\test_schedule\\test_schedule_observer.py\u001b[0m:74: AssertionError\n",
      "\u001b[31m\u001b[1m_____________ TestUserManagementModule.test_create_existing_user ______________\u001b[0m\n",
      "\n",
      "self = <Engenharia_Software.tests.test_uesrs.test_user_management_module.TestUserManagementModule testMethod=test_create_existing_user>\n",
      "\n",
      "    \u001b[94mdef\u001b[39;49;00m \u001b[92msetUp\u001b[39;49;00m(\u001b[96mself\u001b[39;49;00m):\u001b[90m\u001b[39;49;00m\n",
      "        \u001b[90m# Set up for the tests\u001b[39;49;00m\u001b[90m\u001b[39;49;00m\n",
      "    \u001b[90m\u001b[39;49;00m\n",
      "        \u001b[90m# Cria um mock para a interface DatabaseModule\u001b[39;49;00m\u001b[90m\u001b[39;49;00m\n",
      ">       \u001b[96mself\u001b[39;49;00m.database_module_mock = TextDocumentModule(\u001b[33m\"\u001b[39;49;00m\u001b[33mtests/test_auth/test_database.json\u001b[39;49;00m\u001b[33m\"\u001b[39;49;00m)\u001b[90m\u001b[39;49;00m\n",
      "\u001b[1m\u001b[31mE       TypeError: Can't instantiate abstract class TextDocumentModule with abstract methods delete_data, insert_data, select_data, update_data\u001b[0m\n",
      "\n",
      "\u001b[1m\u001b[31mtests\\test_uesrs\\test_user_management_module.py\u001b[0m:11: TypeError\n",
      "\u001b[31m\u001b[1m______________ TestUserManagementModule.test_create_user_success ______________\u001b[0m\n",
      "\n",
      "self = <Engenharia_Software.tests.test_uesrs.test_user_management_module.TestUserManagementModule testMethod=test_create_user_success>\n",
      "\n",
      "    \u001b[94mdef\u001b[39;49;00m \u001b[92msetUp\u001b[39;49;00m(\u001b[96mself\u001b[39;49;00m):\u001b[90m\u001b[39;49;00m\n",
      "        \u001b[90m# Set up for the tests\u001b[39;49;00m\u001b[90m\u001b[39;49;00m\n",
      "    \u001b[90m\u001b[39;49;00m\n",
      "        \u001b[90m# Cria um mock para a interface DatabaseModule\u001b[39;49;00m\u001b[90m\u001b[39;49;00m\n",
      ">       \u001b[96mself\u001b[39;49;00m.database_module_mock = TextDocumentModule(\u001b[33m\"\u001b[39;49;00m\u001b[33mtests/test_auth/test_database.json\u001b[39;49;00m\u001b[33m\"\u001b[39;49;00m)\u001b[90m\u001b[39;49;00m\n",
      "\u001b[1m\u001b[31mE       TypeError: Can't instantiate abstract class TextDocumentModule with abstract methods delete_data, insert_data, select_data, update_data\u001b[0m\n",
      "\n",
      "\u001b[1m\u001b[31mtests\\test_uesrs\\test_user_management_module.py\u001b[0m:11: TypeError\n",
      "\u001b[31m\u001b[1m__________________ TestUserManagementModule.test_delete_user __________________\u001b[0m\n",
      "\n",
      "self = <Engenharia_Software.tests.test_uesrs.test_user_management_module.TestUserManagementModule testMethod=test_delete_user>\n",
      "\n",
      "    \u001b[94mdef\u001b[39;49;00m \u001b[92msetUp\u001b[39;49;00m(\u001b[96mself\u001b[39;49;00m):\u001b[90m\u001b[39;49;00m\n",
      "        \u001b[90m# Set up for the tests\u001b[39;49;00m\u001b[90m\u001b[39;49;00m\n",
      "    \u001b[90m\u001b[39;49;00m\n",
      "        \u001b[90m# Cria um mock para a interface DatabaseModule\u001b[39;49;00m\u001b[90m\u001b[39;49;00m\n",
      ">       \u001b[96mself\u001b[39;49;00m.database_module_mock = TextDocumentModule(\u001b[33m\"\u001b[39;49;00m\u001b[33mtests/test_auth/test_database.json\u001b[39;49;00m\u001b[33m\"\u001b[39;49;00m)\u001b[90m\u001b[39;49;00m\n",
      "\u001b[1m\u001b[31mE       TypeError: Can't instantiate abstract class TextDocumentModule with abstract methods delete_data, insert_data, select_data, update_data\u001b[0m\n",
      "\n",
      "\u001b[1m\u001b[31mtests\\test_uesrs\\test_user_management_module.py\u001b[0m:11: TypeError\n",
      "\u001b[31m\u001b[1m_________________ TestUserManagementModule.test_hash_password _________________\u001b[0m\n",
      "\n",
      "self = <Engenharia_Software.tests.test_uesrs.test_user_management_module.TestUserManagementModule testMethod=test_hash_password>\n",
      "\n",
      "    \u001b[94mdef\u001b[39;49;00m \u001b[92msetUp\u001b[39;49;00m(\u001b[96mself\u001b[39;49;00m):\u001b[90m\u001b[39;49;00m\n",
      "        \u001b[90m# Set up for the tests\u001b[39;49;00m\u001b[90m\u001b[39;49;00m\n",
      "    \u001b[90m\u001b[39;49;00m\n",
      "        \u001b[90m# Cria um mock para a interface DatabaseModule\u001b[39;49;00m\u001b[90m\u001b[39;49;00m\n",
      ">       \u001b[96mself\u001b[39;49;00m.database_module_mock = TextDocumentModule(\u001b[33m\"\u001b[39;49;00m\u001b[33mtests/test_auth/test_database.json\u001b[39;49;00m\u001b[33m\"\u001b[39;49;00m)\u001b[90m\u001b[39;49;00m\n",
      "\u001b[1m\u001b[31mE       TypeError: Can't instantiate abstract class TextDocumentModule with abstract methods delete_data, insert_data, select_data, update_data\u001b[0m\n",
      "\n",
      "\u001b[1m\u001b[31mtests\\test_uesrs\\test_user_management_module.py\u001b[0m:11: TypeError\n",
      "\u001b[31m\u001b[1m__________________ TestUserManagementModule.test_user_exists __________________\u001b[0m\n",
      "\n",
      "self = <Engenharia_Software.tests.test_uesrs.test_user_management_module.TestUserManagementModule testMethod=test_user_exists>\n",
      "\n",
      "    \u001b[94mdef\u001b[39;49;00m \u001b[92msetUp\u001b[39;49;00m(\u001b[96mself\u001b[39;49;00m):\u001b[90m\u001b[39;49;00m\n",
      "        \u001b[90m# Set up for the tests\u001b[39;49;00m\u001b[90m\u001b[39;49;00m\n",
      "    \u001b[90m\u001b[39;49;00m\n",
      "        \u001b[90m# Cria um mock para a interface DatabaseModule\u001b[39;49;00m\u001b[90m\u001b[39;49;00m\n",
      ">       \u001b[96mself\u001b[39;49;00m.database_module_mock = TextDocumentModule(\u001b[33m\"\u001b[39;49;00m\u001b[33mtests/test_auth/test_database.json\u001b[39;49;00m\u001b[33m\"\u001b[39;49;00m)\u001b[90m\u001b[39;49;00m\n",
      "\u001b[1m\u001b[31mE       TypeError: Can't instantiate abstract class TextDocumentModule with abstract methods delete_data, insert_data, select_data, update_data\u001b[0m\n",
      "\n",
      "\u001b[1m\u001b[31mtests\\test_uesrs\\test_user_management_module.py\u001b[0m:11: TypeError\n",
      "\u001b[31m\u001b[1m________________ TestUserManagementModule.test_user_not_exists ________________\u001b[0m\n",
      "\n",
      "self = <Engenharia_Software.tests.test_uesrs.test_user_management_module.TestUserManagementModule testMethod=test_user_not_exists>\n",
      "\n",
      "    \u001b[94mdef\u001b[39;49;00m \u001b[92msetUp\u001b[39;49;00m(\u001b[96mself\u001b[39;49;00m):\u001b[90m\u001b[39;49;00m\n",
      "        \u001b[90m# Set up for the tests\u001b[39;49;00m\u001b[90m\u001b[39;49;00m\n",
      "    \u001b[90m\u001b[39;49;00m\n",
      "        \u001b[90m# Cria um mock para a interface DatabaseModule\u001b[39;49;00m\u001b[90m\u001b[39;49;00m\n",
      ">       \u001b[96mself\u001b[39;49;00m.database_module_mock = TextDocumentModule(\u001b[33m\"\u001b[39;49;00m\u001b[33mtests/test_auth/test_database.json\u001b[39;49;00m\u001b[33m\"\u001b[39;49;00m)\u001b[90m\u001b[39;49;00m\n",
      "\u001b[1m\u001b[31mE       TypeError: Can't instantiate abstract class TextDocumentModule with abstract methods delete_data, insert_data, select_data, update_data\u001b[0m\n",
      "\n",
      "\u001b[1m\u001b[31mtests\\test_uesrs\\test_user_management_module.py\u001b[0m:11: TypeError\n",
      "\u001b[36m\u001b[1m=========================== short test summary info ===========================\u001b[0m\n",
      "\u001b[31mFAILED\u001b[0m tests/test_schedule/test_schedule_observer.py::\u001b[1mTestScheduleObserver::test_observer_gets_notified_on_title_set\u001b[0m - AssertionError: 0 != 1\n",
      "\u001b[31mFAILED\u001b[0m tests/test_uesrs/test_user_management_module.py::\u001b[1mTestUserManagementModule::test_create_existing_user\u001b[0m - TypeError: Can't instantiate abstract class TextDocumentModule with abstrac...\n",
      "\u001b[31mFAILED\u001b[0m tests/test_uesrs/test_user_management_module.py::\u001b[1mTestUserManagementModule::test_create_user_success\u001b[0m - TypeError: Can't instantiate abstract class TextDocumentModule with abstrac...\n",
      "\u001b[31mFAILED\u001b[0m tests/test_uesrs/test_user_management_module.py::\u001b[1mTestUserManagementModule::test_delete_user\u001b[0m - TypeError: Can't instantiate abstract class TextDocumentModule with abstrac...\n",
      "\u001b[31mFAILED\u001b[0m tests/test_uesrs/test_user_management_module.py::\u001b[1mTestUserManagementModule::test_hash_password\u001b[0m - TypeError: Can't instantiate abstract class TextDocumentModule with abstrac...\n",
      "\u001b[31mFAILED\u001b[0m tests/test_uesrs/test_user_management_module.py::\u001b[1mTestUserManagementModule::test_user_exists\u001b[0m - TypeError: Can't instantiate abstract class TextDocumentModule with abstrac...\n",
      "\u001b[31mFAILED\u001b[0m tests/test_uesrs/test_user_management_module.py::\u001b[1mTestUserManagementModule::test_user_not_exists\u001b[0m - TypeError: Can't instantiate abstract class TextDocumentModule with abstrac...\n",
      "\u001b[31m======================== \u001b[31m\u001b[1m7 failed\u001b[0m, \u001b[32m160 passed\u001b[0m\u001b[31m in 1.53s\u001b[0m\u001b[31m ========================\u001b[0m\n"
     ]
    }
   ],
   "source": [
    "!coverage run -m pytest"
   ]
  },
  {
   "cell_type": "code",
   "execution_count": 12,
   "metadata": {},
   "outputs": [],
   "source": [
    "%load_ext autoreload\n",
    "%autoreload 2"
   ]
  },
  {
   "cell_type": "code",
   "execution_count": 13,
   "metadata": {},
   "outputs": [
    {
     "name": "stdout",
     "output_type": "stream",
     "text": [
      "Name                                              Stmts   Miss  Cover   Missing\n",
      "-------------------------------------------------------------------------------\n",
      "__init__.py                                           0      0   100%\n",
      "src\\__init__.py                                       0      0   100%\n",
      "src\\auth\\__init__.py                                  0      0   100%\n",
      "src\\auth\\authentication.py                           19      0   100%\n",
      "src\\calendar_elements\\__init__.py                     0      0   100%\n",
      "src\\calendar_elements\\element_factory.py             12      0   100%\n",
      "src\\calendar_elements\\element_interface.py            9      0   100%\n",
      "src\\calendar_elements\\element_types.py              231     11    95%   12-16, 20, 24, 28, 40, 57, 174\n",
      "src\\database\\__init__.py                              0      0   100%\n",
      "src\\database\\database_module.py                      14      0   100%\n",
      "src\\database\\mongo_module.py                         45      5    89%   188-199\n",
      "src\\database\\text_document_module.py                 60     48    20%   7, 10-27, 30, 33-49, 52-62, 65-66, 69-70, 73-77\n",
      "src\\schedule\\__init__.py                              0      0   100%\n",
      "src\\schedule\\schedule_management.py                  95      1    99%   222\n",
      "src\\schedule\\schedule_model.py                       70      0   100%\n",
      "src\\schedule\\schedule_observer.py                    16      4    75%   23, 40, 50, 57\n",
      "src\\user\\__init__.py                                  0      0   100%\n",
      "src\\user\\user_management.py                          37     22    41%   58-73, 86-89, 102-104, 116-118, 130-132\n",
      "src\\user\\user_model.py                               18     10    44%   3-7, 10, 13, 23, 32, 35\n",
      "tests\\__init__.py                                     0      0   100%\n",
      "tests\\test_auth\\__init__.py                           0      0   100%\n",
      "tests\\test_auth\\test_authentication_module.py        39      1    97%   76\n",
      "tests\\test_events\\__init__.py                         0      0   100%\n",
      "tests\\test_events\\test_element_event.py             160      1    99%   292\n",
      "tests\\test_events\\test_element_factory.py            22      1    95%   66\n",
      "tests\\test_events\\test_element_reminder.py          152      1    99%   278\n",
      "tests\\test_events\\test_element_task.py              166      1    99%   303\n",
      "tests\\test_mongomodule\\__init__.py                    0      0   100%\n",
      "tests\\test_mongomodule\\test_mongo_module.py         104      3    97%   144-146\n",
      "tests\\test_schedule\\__init__.py                       0      0   100%\n",
      "tests\\test_schedule\\mocks.py                         45      3    93%   5, 115, 147\n",
      "tests\\test_schedule\\test_schedule_management.py     334      1    99%   543\n",
      "tests\\test_schedule\\test_schedule_model.py          121      1    99%   211\n",
      "tests\\test_schedule\\test_schedule_observer.py        44      0   100%\n",
      "tests\\test_uesrs\\__init__.py                          0      0   100%\n",
      "tests\\test_uesrs\\test_user_management_module.py      40     25    38%   12-18, 22-23, 27-30, 34-36, 40-42, 46-47, 51-62, 66, 70\n",
      "-------------------------------------------------------------------------------\n",
      "TOTAL                                              1853    139    92%\n"
     ]
    }
   ],
   "source": [
    "# explicação do copitot:\n",
    "# Name: nome do arquivo testado\n",
    "# Stmts: número de linhas executadas\n",
    "# Miss: número de linhas não executadas\n",
    "# Cover: porcentagem de cobertura\n",
    "# Missing: linhas não executadas\n",
    "!coverage report -m"
   ]
  },
  {
   "cell_type": "markdown",
   "metadata": {},
   "source": [
    "Rode a célula (ou o comando) abaixo para gerar um relatório de cobertura em html dos testes:"
   ]
  },
  {
   "cell_type": "code",
   "execution_count": 14,
   "metadata": {},
   "outputs": [
    {
     "name": "stdout",
     "output_type": "stream",
     "text": [
      "Wrote HTML report to htmlcov\\index.html\n"
     ]
    }
   ],
   "source": [
    "!coverage html"
   ]
  },
  {
   "cell_type": "code",
   "execution_count": 15,
   "metadata": {},
   "outputs": [
    {
     "name": "stdout",
     "output_type": "stream",
     "text": [
      "\u001b[1m============================= test session starts =============================\u001b[0m\n",
      "platform win32 -- Python 3.11.1, pytest-7.4.3, pluggy-1.3.0\n",
      "rootdir: c:\\Users\\Cole\\OneDrive - Fundacao Getulio Vargas - FGV\\Área de Trabalho\\Engenharia_Software\n",
      "collected 32 items\n",
      "\n",
      "tests\\test_schedule\\test_schedule_management.py \u001b[32m.\u001b[0m\u001b[32m.\u001b[0m\u001b[32m.\u001b[0m\u001b[32m.\u001b[0m\u001b[32m.\u001b[0m\u001b[32m.\u001b[0m\u001b[32m.\u001b[0m\u001b[32m.\u001b[0m\u001b[32m.\u001b[0m\u001b[32m.\u001b[0m\u001b[32m.\u001b[0m\u001b[32m.\u001b[0m\u001b[32m.\u001b[0m\u001b[32m.\u001b[0m\u001b[32m.\u001b[0m\u001b[32m.\u001b[0m\u001b[32m.\u001b[0m\u001b[32m.\u001b[0m\u001b[32m.\u001b[0m\u001b[32m.\u001b[0m\u001b[32m.\u001b[0m\u001b[32m.\u001b[0m\u001b[32m.\u001b[0m\u001b[32m.\u001b[0m\u001b[32m [ 75%]\n",
      "\u001b[0m\u001b[32m.\u001b[0m\u001b[32m.\u001b[0m\u001b[32m.\u001b[0m\u001b[32m.\u001b[0m\u001b[32m.\u001b[0m\u001b[32m.\u001b[0m\u001b[32m.\u001b[0m\u001b[32m.\u001b[0m\u001b[32m                                                                 [100%]\u001b[0m\n",
      "\n",
      "\u001b[32m============================= \u001b[32m\u001b[1m32 passed\u001b[0m\u001b[32m in 0.80s\u001b[0m\u001b[32m ==============================\u001b[0m\n",
      "\u001b[1m============================= test session starts =============================\u001b[0m\n",
      "platform win32 -- Python 3.11.1, pytest-7.4.3, pluggy-1.3.0\n",
      "rootdir: c:\\Users\\Cole\\OneDrive - Fundacao Getulio Vargas - FGV\\Área de Trabalho\\Engenharia_Software\n",
      "collected 28 items\n",
      "\n",
      "tests\\test_schedule\\test_schedule_model.py \u001b[32m.\u001b[0m\u001b[32m.\u001b[0m\u001b[32m.\u001b[0m\u001b[32m.\u001b[0m\u001b[32m.\u001b[0m\u001b[32m.\u001b[0m\u001b[32m.\u001b[0m\u001b[32m.\u001b[0m\u001b[32m.\u001b[0m\u001b[32m.\u001b[0m\u001b[32m.\u001b[0m\u001b[32m.\u001b[0m\u001b[32m.\u001b[0m\u001b[32m.\u001b[0m\u001b[32m.\u001b[0m\u001b[32m.\u001b[0m\u001b[32m.\u001b[0m\u001b[32m.\u001b[0m\u001b[32m.\u001b[0m\u001b[32m.\u001b[0m\u001b[32m.\u001b[0m\u001b[32m.\u001b[0m\u001b[32m.\u001b[0m\u001b[32m.\u001b[0m\u001b[32m.\u001b[0m\u001b[32m.\u001b[0m\u001b[32m.\u001b[0m\u001b[32m.\u001b[0m\u001b[32m  [100%]\u001b[0m\n",
      "\n",
      "\u001b[32m============================= \u001b[32m\u001b[1m28 passed\u001b[0m\u001b[32m in 0.10s\u001b[0m\u001b[32m ==============================\u001b[0m\n"
     ]
    }
   ],
   "source": [
    "# rodando um teste específico\n",
    "!coverage run -m pytest tests/test_schedule/test_schedule_management.py\n",
    "!coverage run -m pytest tests/test_schedule/test_schedule_model.py"
   ]
  },
  {
   "cell_type": "code",
   "execution_count": 16,
   "metadata": {},
   "outputs": [
    {
     "name": "stdout",
     "output_type": "stream",
     "text": [
      "\u001b[1m============================= test session starts =============================\u001b[0m\n",
      "platform win32 -- Python 3.11.1, pytest-7.4.3, pluggy-1.3.0\n",
      "rootdir: c:\\Users\\Cole\\OneDrive - Fundacao Getulio Vargas - FGV\\Área de Trabalho\\Engenharia_Software\n",
      "collected 5 items\n",
      "\n",
      "tests\\test_schedule\\test_schedule_observer.py \u001b[32m.\u001b[0m\u001b[31mF\u001b[0m\u001b[32m.\u001b[0m\u001b[32m.\u001b[0m\u001b[32m.\u001b[0m\u001b[31m                      [100%]\u001b[0m\n",
      "\n",
      "================================== FAILURES ===================================\n",
      "\u001b[31m\u001b[1m________ TestScheduleObserver.test_observer_gets_notified_on_title_set ________\u001b[0m\n",
      "\n",
      "self = <Engenharia_Software.tests.test_schedule.test_schedule_observer.TestScheduleObserver testMethod=test_observer_gets_notified_on_title_set>\n",
      "\n",
      "    \u001b[94mdef\u001b[39;49;00m \u001b[92mtest_observer_gets_notified_on_title_set\u001b[39;49;00m(\u001b[96mself\u001b[39;49;00m):\u001b[90m\u001b[39;49;00m\n",
      "        permissions = {\u001b[90m\u001b[39;49;00m\n",
      "            \u001b[33m'\u001b[39;49;00m\u001b[33muser1\u001b[39;49;00m\u001b[33m'\u001b[39;49;00m: \u001b[33m\"\u001b[39;49;00m\u001b[33mread\u001b[39;49;00m\u001b[33m\"\u001b[39;49;00m\u001b[90m\u001b[39;49;00m\n",
      "        }\u001b[90m\u001b[39;49;00m\n",
      "        schedule = Schedule(\u001b[33m'\u001b[39;49;00m\u001b[33mschedule_id\u001b[39;49;00m\u001b[33m'\u001b[39;49;00m, \u001b[33m'\u001b[39;49;00m\u001b[33mtitle\u001b[39;49;00m\u001b[33m'\u001b[39;49;00m, \u001b[33m'\u001b[39;49;00m\u001b[33mdescription\u001b[39;49;00m\u001b[33m'\u001b[39;49;00m, permissions)\u001b[90m\u001b[39;49;00m\n",
      "    \u001b[90m\u001b[39;49;00m\n",
      "        schedule.attach(\u001b[96mself\u001b[39;49;00m.observer)\u001b[90m\u001b[39;49;00m\n",
      "        schedule.set_title(\u001b[33m'\u001b[39;49;00m\u001b[33mnew title\u001b[39;49;00m\u001b[33m'\u001b[39;49;00m)\u001b[90m\u001b[39;49;00m\n",
      "        \u001b[90m# verificando se o observer chamou o método update\u001b[39;49;00m\u001b[90m\u001b[39;49;00m\n",
      ">       \u001b[96mself\u001b[39;49;00m.assertEqual(\u001b[96mlen\u001b[39;49;00m(\u001b[96mself\u001b[39;49;00m.observer.notifications), \u001b[94m1\u001b[39;49;00m)\u001b[90m\u001b[39;49;00m\n",
      "\u001b[1m\u001b[31mE       AssertionError: 0 != 1\u001b[0m\n",
      "\n",
      "\u001b[1m\u001b[31mtests\\test_schedule\\test_schedule_observer.py\u001b[0m:74: AssertionError\n",
      "\u001b[36m\u001b[1m=========================== short test summary info ===========================\u001b[0m\n",
      "\u001b[31mFAILED\u001b[0m tests/test_schedule/test_schedule_observer.py::\u001b[1mTestScheduleObserver::test_observer_gets_notified_on_title_set\u001b[0m - AssertionError: 0 != 1\n",
      "\u001b[31m========================= \u001b[31m\u001b[1m1 failed\u001b[0m, \u001b[32m4 passed\u001b[0m\u001b[31m in 0.62s\u001b[0m\u001b[31m =========================\u001b[0m\n"
     ]
    }
   ],
   "source": [
    "# rodando um teste específico\n",
    "!coverage run -m pytest tests/test_schedule/test_schedule_observer.py"
   ]
  },
  {
   "cell_type": "code",
   "execution_count": null,
   "metadata": {},
   "outputs": [],
   "source": []
  }
 ],
 "metadata": {
  "kernelspec": {
   "display_name": "Python 3",
   "language": "python",
   "name": "python3"
  },
  "language_info": {
   "codemirror_mode": {
    "name": "ipython",
    "version": 3
   },
   "file_extension": ".py",
   "mimetype": "text/x-python",
   "name": "python",
   "nbconvert_exporter": "python",
   "pygments_lexer": "ipython3",
   "version": "3.11.1"
  }
 },
 "nbformat": 4,
 "nbformat_minor": 2
}
