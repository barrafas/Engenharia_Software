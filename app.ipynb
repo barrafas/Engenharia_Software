{
 "cells": [
  {
   "cell_type": "code",
   "execution_count": 4,
   "metadata": {},
   "outputs": [
    {
     "name": "stdout",
     "output_type": "stream",
     "text": [
      "The autoreload extension is already loaded. To reload it, use:\n",
      "  %reload_ext autoreload\n"
     ]
    }
   ],
   "source": [
    "%load_ext autoreload\n",
    "%autoreload 2"
   ]
  },
  {
   "cell_type": "code",
   "execution_count": 2,
   "metadata": {},
   "outputs": [
    {
     "name": "stdout",
     "output_type": "stream",
     "text": [
      "Application: Transition to SignInUp\n",
      "Rendering sign in/up page...\n",
      "Application: Transition to LoggedOut\n",
      "Rendering logged out page...\n",
      "Logging in...\n",
      "\u001b[92mUser teste authenticated.\u001b[0m\n",
      "Application: Transition to MainState\n",
      "Rendering main page...\n",
      "Application: Transition to LoggedOut\n",
      "Rendering logged out page...\n",
      "Application: Transition to SignInUp\n",
      "Rendering sign in/up page...\n",
      "Application: Transition to SignUpState\n",
      "Rendering sign up page...\n",
      "Signing up...\n",
      "\u001b[92mSign up successful! User rear created.\u001b[0m\n",
      "Application: Transition to LoggedOut\n",
      "Rendering logged out page...\n",
      "A janela foi fechada\n"
     ]
    }
   ],
   "source": [
    "from src.app.application import Application\n",
    "import unittest\n",
    "from src.auth.authentication import AuthenticationModule\n",
    "\n",
    "from src.app.ui import TkinterUI\n",
    "from unittest.mock import MagicMock, patch\n",
    "# from src.app.states.sign_in_up_state import SignInUp\n",
    "from src.app.app_states import SignInUp\n",
    "\n",
    "if __name__ == '__main__':\n",
    "    db = MagicMock()\n",
    "    app = Application(db=db)\n",
    "    # overwrite the authentication of the user \\\"test\\\" password \\\"test\\\"\n",
    "    with unittest.mock.patch.object(AuthenticationModule, 'authenticate_user', return_value=True):\n",
    "        initial_state = SignInUp(app)\n",
    "        ui = TkinterUI(app)\n",
    "        app._ui = ui\n",
    "        app.transition_to(initial_state)\n",
    "        app.run()\n",
    "   "
   ]
  },
  {
   "cell_type": "code",
   "execution_count": null,
   "metadata": {},
   "outputs": [],
   "source": []
  }
 ],
 "metadata": {
  "kernelspec": {
   "display_name": "venv",
   "language": "python",
   "name": "python3"
  },
  "language_info": {
   "codemirror_mode": {
    "name": "ipython",
    "version": 3
   },
   "file_extension": ".py",
   "mimetype": "text/x-python",
   "name": "python",
   "nbconvert_exporter": "python",
   "pygments_lexer": "ipython3",
   "version": "3.11.1"
  }
 },
 "nbformat": 4,
 "nbformat_minor": 2
}
