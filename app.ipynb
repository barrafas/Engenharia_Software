{
 "cells": [
  {
   "cell_type": "code",
   "execution_count": 75,
   "metadata": {},
   "outputs": [
    {
     "name": "stdout",
     "output_type": "stream",
     "text": [
      "The autoreload extension is already loaded. To reload it, use:\n",
      "  %reload_ext autoreload\n"
     ]
    }
   ],
   "source": [
    "%load_ext autoreload\n",
    "%autoreload 2"
   ]
  },
  {
   "cell_type": "code",
   "execution_count": 76,
   "metadata": {},
   "outputs": [],
   "source": [
    "\n",
    "from unittest.mock import MagicMock, patch\n",
    "from src.user.user_management import UserManagement\n",
    "from src.user.user_model import User\n",
    "from src.schedule.schedule_model import Schedule\n",
    "import bcrypt\n",
    "user_mock = MagicMock()\n",
    "\"\"\"\n",
    "User have:\n",
    " - id\n",
    " - username\n",
    " - email\n",
    " - schedules\n",
    " - hashed_password\n",
    " - user_preferences\n",
    " - get_schedules()\n",
    "\"\"\"\n",
    "\n",
    "event1 = MagicMock()\n",
    "event2 = MagicMock()\n",
    "event3 = MagicMock()\n",
    "type(event1).title = \"event1\"\n",
    "type(event2).title = \"event2\"\n",
    "type(event3).title = \"event3\"\n",
    "\n",
    "private_schedule = MagicMock()\n",
    "private_schedule_events = [\n",
    "    event1, event2, event3\n",
    "]\n",
    "# override .elements method\n",
    "\n",
    "type(user_mock).id = '1'\n",
    "type(user_mock).username = 'test'\n",
    "type(user_mock).email = 'test@mail.com'\n",
    "type(user_mock).schedules = [\"private_schedule\"]\n",
    "schedule_dict = {\n",
    "    \"private_schedule\": private_schedule\n",
    "}\n",
    "salt = bcrypt.gensalt()\n",
    "type(user_mock).hashed_password = bcrypt.hashpw(\"test\".encode('utf-8'), salt)\n",
    "type(user_mock).user_preferences = {}\n",
    "def get_user_schedule_mock(self):\n",
    "    schedules = self.schedules\n",
    "    obj_schedules = []\n",
    "    for schedule in schedules:\n",
    "        obj_schedules.append(schedule_dict[schedule])\n",
    "    return obj_schedules\n",
    "type(user_mock).get_schedules = get_user_schedule_mock\n",
    "# setting the .events property\n",
    "type(user_mock).events = private_schedule_events\n",
    "def get_events_mock(self):\n",
    "    events = []\n",
    "    for schedule in self.schedules:\n",
    "        events += schedule_dict[schedule].get_events()"
   ]
  },
  {
   "cell_type": "code",
   "execution_count": 77,
   "metadata": {},
   "outputs": [
    {
     "name": "stdout",
     "output_type": "stream",
     "text": [
      "Application: Transition to SignInUp\n",
      "Rendering sign in/up page...\n",
      "Application: Transition to LoggedOut\n",
      "Rendering logged out page...\n",
      "Logging in...\n",
      "\u001b[92mUser  authenticated.\u001b[0m\n",
      "Application: Transition to MainState\n",
      "Rendering main page...\n",
      "\u001b[92mUser events: [<MagicMock id='2125863871824'>, <MagicMock id='2125853044944'>, <MagicMock id='2125864203856'>], with len =3\u001b[0m\n"
     ]
    },
    {
     "name": "stderr",
     "output_type": "stream",
     "text": [
      "Exception in Tkinter callback\n",
      "Traceback (most recent call last):\n",
      "  File \"C:\\Users\\Cole\\AppData\\Local\\Programs\\Python\\Python311\\Lib\\tkinter\\__init__.py\", line 1948, in __call__\n",
      "    return self.func(*args)\n",
      "           ^^^^^^^^^^^^^^^^\n",
      "  File \"c:\\Users\\Cole\\OneDrive - Fundacao Getulio Vargas - FGV\\Área de Trabalho\\Engenharia_Software\\src\\app\\app_states.py\", line 46, in login\n",
      "    self.context.transition_to(MainState(self.context))\n",
      "  File \"c:\\Users\\Cole\\OneDrive - Fundacao Getulio Vargas - FGV\\Área de Trabalho\\Engenharia_Software\\src\\app\\application.py\", line 32, in transition_to\n",
      "    state.render()\n",
      "  File \"c:\\Users\\Cole\\OneDrive - Fundacao Getulio Vargas - FGV\\Área de Trabalho\\Engenharia_Software\\src\\app\\app_states.py\", line 92, in render\n",
      "    self.context._ui.user_events.configure(text=event_string)\n",
      "    ^^^^^^^^^^^^^^^^^^^^^^^^^^^^^^^^^^^^^^\n",
      "AttributeError: 'NoneType' object has no attribute 'configure'\n"
     ]
    },
    {
     "name": "stdout",
     "output_type": "stream",
     "text": [
      "A janela foi fechada\n"
     ]
    }
   ],
   "source": [
    "from src.app.application import Application\n",
    "import unittest\n",
    "from src.auth.authentication import AuthenticationModule\n",
    "\n",
    "from src.app.ui import TkinterUI\n",
    "# from src.app.states.sign_in_up_state import SignInUp\n",
    "from src.app.app_states import SignInUp\n",
    "\n",
    "\n",
    "if __name__ == '__main__':\n",
    "    db = MagicMock()\n",
    "    app = Application(db=db)\n",
    "    # overwrite the authentication of the user \\\"test\\\" password \\\"test\\\"\n",
    "    with unittest.mock.patch.object(AuthenticationModule, 'authenticate_user', return_value=True):\n",
    "        with unittest.mock.patch.object(UserManagement, 'get_user', return_value=user_mock):\n",
    "            initial_state = SignInUp(app)\n",
    "            ui = TkinterUI(app)\n",
    "            app._ui = ui\n",
    "            app.transition_to(initial_state)\n",
    "            app.run()\n",
    "   "
   ]
  },
  {
   "cell_type": "code",
   "execution_count": null,
   "metadata": {},
   "outputs": [],
   "source": []
  },
  {
   "cell_type": "code",
   "execution_count": null,
   "metadata": {},
   "outputs": [],
   "source": []
  },
  {
   "cell_type": "code",
   "execution_count": null,
   "metadata": {},
   "outputs": [],
   "source": []
  }
 ],
 "metadata": {
  "kernelspec": {
   "display_name": "venv",
   "language": "python",
   "name": "python3"
  },
  "language_info": {
   "codemirror_mode": {
    "name": "ipython",
    "version": 3
   },
   "file_extension": ".py",
   "mimetype": "text/x-python",
   "name": "python",
   "nbconvert_exporter": "python",
   "pygments_lexer": "ipython3",
   "version": "3.11.1"
  }
 },
 "nbformat": 4,
 "nbformat_minor": 2
}
