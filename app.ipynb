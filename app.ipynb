{
 "cells": [
  {
   "cell_type": "code",
   "execution_count": 9,
   "metadata": {},
   "outputs": [],
   "source": [
    "%load_ext autoreload\n",
    "%autoreload 2"
   ]
  },
  {
   "cell_type": "code",
   "execution_count": 10,
   "metadata": {},
   "outputs": [],
   "source": [
    "\n",
    "from unittest.mock import MagicMock, patch\n",
    "from src.user.user_management import UserManagement\n",
    "from src.user.user_model import User\n",
    "from src.schedule.schedule_model import Schedule\n",
    "import bcrypt\n",
    "user_mock = MagicMock()\n",
    "\"\"\"\n",
    "User have:\n",
    " - id\n",
    " - username\n",
    " - email\n",
    " - schedules\n",
    " - hashed_password\n",
    " - user_preferences\n",
    " - get_schedules()\n",
    "\"\"\"\n",
    "\n",
    "event1 = MagicMock()\n",
    "event2 = MagicMock()\n",
    "event3 = MagicMock()\n",
    "type(event1).title = \"event1\"\n",
    "type(event2).title = \"event2\"\n",
    "type(event3).title = \"event3\"\n",
    "\n",
    "private_schedule = MagicMock()\n",
    "private_schedule_events = [\n",
    "    event1, event2, event3\n",
    "]\n",
    "# override .elements method\n",
    "\n",
    "type(user_mock).id = '1'\n",
    "type(user_mock).username = 'test'\n",
    "type(user_mock).email = 'test@mail.com'\n",
    "type(user_mock).schedules = [\"private_schedule\"]\n",
    "schedule_dict = {\n",
    "    \"private_schedule\": private_schedule\n",
    "}\n",
    "salt = bcrypt.gensalt()\n",
    "type(user_mock).hashed_password = bcrypt.hashpw(\"test\".encode('utf-8'), salt)\n",
    "type(user_mock).user_preferences = {}\n",
    "def get_user_schedule_mock(self):\n",
    "    schedules = self.schedules\n",
    "    obj_schedules = []\n",
    "    for schedule in schedules:\n",
    "        obj_schedules.append(schedule_dict[schedule])\n",
    "    return obj_schedules\n",
    "type(user_mock).get_schedules = get_user_schedule_mock\n",
    "# setting the .events property\n",
    "type(user_mock).events = private_schedule_events\n",
    "def get_events_mock(self):\n",
    "    events = []\n",
    "    for schedule in self.schedules:\n",
    "        events += schedule_dict[schedule].get_events()"
   ]
  },
  {
   "cell_type": "code",
   "execution_count": 11,
   "metadata": {},
   "outputs": [
    {
     "name": "stdout",
     "output_type": "stream",
     "text": [
      "Application: Transition to SignInUp\n",
      "Rendering sign in/up page...\n",
      "Application: Transition to SignUpState\n",
      "Rendering sign up page...\n",
      "Application: Transition to SignInUp\n",
      "Rendering sign in/up page...\n",
      "Application: Transition to LoggedOut\n",
      "Rendering logged out page...\n",
      "Application: Transition to SignInUp\n",
      "Rendering sign in/up page...\n",
      "A janela foi fechada\n"
     ]
    }
   ],
   "source": [
    "from src.app.application import Application\n",
    "import unittest\n",
    "from src.auth.authentication import AuthenticationModule\n",
    "\n",
    "from src.app.ui import TkinterUI\n",
    "# from src.app.states.sign_in_up_state import SignInUp\n",
    "from src.app.app_states import SignInUp\n",
    "\n",
    "\n",
    "if __name__ == '__main__':\n",
    "    db = MagicMock()\n",
    "    app = Application(db=db)\n",
    "    # overwrite the authentication of the user \\\"test\\\" password \\\"test\\\"\n",
    "    with unittest.mock.patch.object(AuthenticationModule, 'authenticate_user', return_value=True):\n",
    "        with unittest.mock.patch.object(UserManagement, 'get_user', return_value=user_mock):\n",
    "            initial_state = SignInUp(app)\n",
    "            ui = TkinterUI(app)\n",
    "            app._ui = ui\n",
    "            app.transition_to(initial_state)\n",
    "            app.run()\n",
    "   "
   ]
  },
  {
   "cell_type": "code",
   "execution_count": 17,
   "metadata": {},
   "outputs": [
    {
     "name": "stdout",
     "output_type": "stream",
     "text": [
      "\u001b[92mSign up successful! User test3 created.\u001b[0m\n",
      "{'_id': 'id_3', 'username': 'test3', 'email': 'aaaa', 'schedules': [], 'hashed_password': '$2b$12$Iakbou7Uo9PnDX7KgBDneOGwxgOGIT87CM1MYPiqU0Hi73FC9fGYC', 'user_preferences': None}\n",
      "User(id_3, test3, aaaa,[], {})\n",
      "User id_3 was updated.\n",
      "User schedules: ['id_3_schedule']\n",
      "\u001b[92mSchedule created: <src.schedule.schedule_model.Schedule object at 0x000001EEBF112F10>\u001b[0m\n",
      "{'_id': 'id_3', 'username': 'test3', 'email': 'aaaa', 'schedules': ['id_3_schedule'], 'hashed_password': '$2b$12$Iakbou7Uo9PnDX7KgBDneOGwxgOGIT87CM1MYPiqU0Hi73FC9fGYC', 'user_preferences': {}}\n",
      "User(id_3, test3, aaaa,['id_3_schedule'], {})\n"
     ]
    },
    {
     "ename": "DuplicatedIDError",
     "evalue": "Usuário id_3 já está no schedule id_3_schedule",
     "output_type": "error",
     "traceback": [
      "\u001b[1;31m---------------------------------------------------------------------------\u001b[0m",
      "\u001b[1;31mDuplicatedIDError\u001b[0m                         Traceback (most recent call last)",
      "Cell \u001b[1;32mIn[17], line 36\u001b[0m\n\u001b[0;32m     31\u001b[0m schedule \u001b[38;5;241m=\u001b[39m schedule_management\u001b[38;5;241m.\u001b[39mcreate_schedule(schedule_id, schedule_title,\n\u001b[0;32m     32\u001b[0m                             schedule_description, schedule_permissions, [])\n\u001b[0;32m     34\u001b[0m \u001b[38;5;28mprint\u001b[39m(\u001b[38;5;124mf\u001b[39m\u001b[38;5;124m\"\u001b[39m\u001b[38;5;130;01m\\033\u001b[39;00m\u001b[38;5;124m[92mSchedule created: \u001b[39m\u001b[38;5;132;01m{\u001b[39;00mschedule\u001b[38;5;132;01m}\u001b[39;00m\u001b[38;5;130;01m\\033\u001b[39;00m\u001b[38;5;124m[0m\u001b[39m\u001b[38;5;124m\"\u001b[39m)\n\u001b[1;32m---> 36\u001b[0m \u001b[43muser_management\u001b[49m\u001b[38;5;241;43m.\u001b[39;49m\u001b[43madd_schedule_to_user\u001b[49m\u001b[43m(\u001b[49m\u001b[43muser_id\u001b[49m\u001b[43m,\u001b[49m\u001b[43m \u001b[49m\u001b[43mschedule_id\u001b[49m\u001b[43m,\u001b[49m\u001b[43m \u001b[49m\u001b[38;5;124;43m\"\u001b[39;49m\u001b[38;5;124;43mowner\u001b[39;49m\u001b[38;5;124;43m\"\u001b[39;49m\u001b[43m)\u001b[49m\n\u001b[0;32m     37\u001b[0m \u001b[38;5;28mprint\u001b[39m(\u001b[38;5;124mf\u001b[39m\u001b[38;5;124m\"\u001b[39m\u001b[38;5;130;01m\\033\u001b[39;00m\u001b[38;5;124m[92mSchedule \u001b[39m\u001b[38;5;132;01m{\u001b[39;00mschedule_id\u001b[38;5;132;01m}\u001b[39;00m\u001b[38;5;124m added to user \u001b[39m\u001b[38;5;132;01m{\u001b[39;00muser_id\u001b[38;5;132;01m}\u001b[39;00m\u001b[38;5;130;01m\\033\u001b[39;00m\u001b[38;5;124m[0m\u001b[39m\u001b[38;5;124m\"\u001b[39m)\n\u001b[0;32m     38\u001b[0m user\u001b[38;5;241m.\u001b[39mschedules \u001b[38;5;241m+\u001b[39m\u001b[38;5;241m=\u001b[39m [schedule_id]\n",
      "File \u001b[1;32mc:\\Users\\Cole\\OneDrive - Fundacao Getulio Vargas - FGV\\Área de Trabalho\\Engenharia_Software\\src\\user\\user_management.py:212\u001b[0m, in \u001b[0;36mUserManagement.add_schedule_to_user\u001b[1;34m(self, user_id, schedule_id, permission)\u001b[0m\n\u001b[0;32m    210\u001b[0m     schedule\u001b[38;5;241m.\u001b[39mpermissions \u001b[38;5;241m=\u001b[39m {\u001b[38;5;241m*\u001b[39m\u001b[38;5;241m*\u001b[39mschedule\u001b[38;5;241m.\u001b[39mpermissions, user_id: permission}\n\u001b[0;32m    211\u001b[0m \u001b[38;5;28;01melse\u001b[39;00m:\n\u001b[1;32m--> 212\u001b[0m     \u001b[38;5;28;01mraise\u001b[39;00m DuplicatedIDError(\u001b[38;5;124mf\u001b[39m\u001b[38;5;124m'\u001b[39m\u001b[38;5;124mUsuário \u001b[39m\u001b[38;5;132;01m{\u001b[39;00muser_id\u001b[38;5;132;01m}\u001b[39;00m\u001b[38;5;124m já está no schedule \u001b[39m\u001b[38;5;132;01m{\u001b[39;00mschedule_id\u001b[38;5;132;01m}\u001b[39;00m\u001b[38;5;124m'\u001b[39m)\n\u001b[0;32m    213\u001b[0m \u001b[38;5;28;01mreturn\u001b[39;00m\n",
      "\u001b[1;31mDuplicatedIDError\u001b[0m: Usuário id_3 já está no schedule id_3_schedule"
     ]
    }
   ],
   "source": [
    "from src.database.mongo_module import MongoModule\n",
    "from src.user.user_management import UserManagement\n",
    "from src.schedule.schedule_management import ScheduleManagement\n",
    "from src.calendar_elements.element_management import ElementManagement\n",
    "\n",
    "db = MongoModule(host=\"localhost\", \n",
    "                    port=27017,\n",
    "                    database_name=\"test_app\")\n",
    "db.connect()    \n",
    "\n",
    "user_management = UserManagement.get_instance(db)\n",
    "schedule_management = ScheduleManagement.get_instance(db)\n",
    "element_management = ElementManagement.get_instance(db)\n",
    "\n",
    "username = \"test3\"\n",
    "email = \"aaaa\"\n",
    "password = \"test\"\n",
    "user_id = \"id_3\"\n",
    "\n",
    "\n",
    "user = user_management.create_user(username, email, password, user_id=user_id)\n",
    "\n",
    "if user:\n",
    "    print(f\"\\033[92mSign up successful! User {username} created.\\033[0m\")\n",
    "\n",
    "    schedule_management = ScheduleManagement.get_instance()\n",
    "    schedule_id = f\"{user_id}_schedule\"\n",
    "    schedule_title = \"Private schedule\"\n",
    "    schedule_description = f\"Private schedule of {username}\"\n",
    "    schedule_permissions = {user_id: \"owner\"}\n",
    "    schedule = schedule_management.create_schedule(schedule_id, schedule_title,\n",
    "                                schedule_description, schedule_permissions, [])\n",
    "\n",
    "    print(f\"\\033[92mSchedule created: {schedule}\\033[0m\")\n",
    "\n",
    "    user_management.add_schedule_to_user(user_id, schedule_id, \"owner\")\n",
    "    print(f\"\\033[92mSchedule {schedule_id} added to user {user_id}\\033[0m\")\n",
    "    user.schedules += [schedule_id]\n",
    "    user = user_management.get_user(user_id)\n",
    "    print(f\"\\033[92mUser schedules: {user.schedules}\\033[0m\")\n"
   ]
  },
  {
   "cell_type": "code",
   "execution_count": 8,
   "metadata": {},
   "outputs": [
    {
     "name": "stdout",
     "output_type": "stream",
     "text": [
      "{'_id': 'id_2', 'username': 'test2', 'email': 'aaaa', 'schedules': [], 'hashed_password': '$2b$12$KrLOvZ3qlXy5Om3.QuJKe.XyCuDRzvWqMHoP7w.jsJwX.pnGrLD0K', 'user_preferences': None}\n",
      "User(id_2, test2, aaaa,[], {})\n"
     ]
    },
    {
     "data": {
      "text/plain": [
       "[]"
      ]
     },
     "execution_count": 8,
     "metadata": {},
     "output_type": "execute_result"
    }
   ],
   "source": [
    "user_management.get_user(user_id).schedules"
   ]
  },
  {
   "cell_type": "code",
   "execution_count": 15,
   "metadata": {},
   "outputs": [
    {
     "name": "stdout",
     "output_type": "stream",
     "text": [
      "{'_id': 'id_2', 'username': 'test2', 'email': 'aaaa', 'schedules': ['id_2_schedule'], 'hashed_password': '$2b$12$KrLOvZ3qlXy5Om3.QuJKe.XyCuDRzvWqMHoP7w.jsJwX.pnGrLD0K', 'user_preferences': {}, 'password': '$2b$12$KrLOvZ3qlXy5Om3.QuJKe.XyCuDRzvWqMHoP7w.jsJwX.pnGrLD0K'}\n"
     ]
    },
    {
     "ename": "TypeError",
     "evalue": "User.__init__() got an unexpected keyword argument 'password'",
     "output_type": "error",
     "traceback": [
      "\u001b[1;31m---------------------------------------------------------------------------\u001b[0m",
      "\u001b[1;31mTypeError\u001b[0m                                 Traceback (most recent call last)",
      "Cell \u001b[1;32mIn[15], line 1\u001b[0m\n\u001b[1;32m----> 1\u001b[0m \u001b[43muser_management\u001b[49m\u001b[38;5;241;43m.\u001b[39;49m\u001b[43madd_schedule_to_user\u001b[49m\u001b[43m(\u001b[49m\u001b[43muser_id\u001b[49m\u001b[43m,\u001b[49m\u001b[43m \u001b[49m\u001b[43mschedule_id\u001b[49m\u001b[43m,\u001b[49m\u001b[43m \u001b[49m\u001b[38;5;124;43m\"\u001b[39;49m\u001b[38;5;124;43mowner\u001b[39;49m\u001b[38;5;124;43m\"\u001b[39;49m\u001b[43m)\u001b[49m\n\u001b[0;32m      2\u001b[0m user_management\u001b[38;5;241m.\u001b[39mget_user(user_id)\u001b[38;5;241m.\u001b[39mschedules\n",
      "File \u001b[1;32mc:\\Users\\Cole\\OneDrive - Fundacao Getulio Vargas - FGV\\Área de Trabalho\\Engenharia_Software\\src\\user\\user_management.py:206\u001b[0m, in \u001b[0;36mUserManagement.add_schedule_to_user\u001b[1;34m(self, user_id, schedule_id, permission)\u001b[0m\n\u001b[0;32m    202\u001b[0m \u001b[38;5;28;01mif\u001b[39;00m \u001b[38;5;129;01mnot\u001b[39;00m \u001b[38;5;28mself\u001b[39m\u001b[38;5;241m.\u001b[39muser_exists(user_id):\n\u001b[0;32m    203\u001b[0m     \u001b[38;5;28;01mraise\u001b[39;00m NonExistentIDError(\u001b[38;5;124mf\u001b[39m\u001b[38;5;124m'\u001b[39m\u001b[38;5;124mUser \u001b[39m\u001b[38;5;132;01m{\u001b[39;00muser_id\u001b[38;5;132;01m}\u001b[39;00m\u001b[38;5;124m does not exist\u001b[39m\u001b[38;5;124m'\u001b[39m)\n\u001b[1;32m--> 206\u001b[0m user \u001b[38;5;241m=\u001b[39m \u001b[38;5;28;43mself\u001b[39;49m\u001b[38;5;241;43m.\u001b[39;49m\u001b[43mget_user\u001b[49m\u001b[43m(\u001b[49m\u001b[43muser_id\u001b[49m\u001b[43m)\u001b[49m\n\u001b[0;32m    207\u001b[0m \u001b[38;5;28;01mif\u001b[39;00m schedule_id \u001b[38;5;129;01mnot\u001b[39;00m \u001b[38;5;129;01min\u001b[39;00m user\u001b[38;5;241m.\u001b[39mschedules:\n\u001b[0;32m    208\u001b[0m     user\u001b[38;5;241m.\u001b[39mschedules \u001b[38;5;241m=\u001b[39m user\u001b[38;5;241m.\u001b[39mschedules \u001b[38;5;241m+\u001b[39m [schedule_id]\n",
      "File \u001b[1;32mc:\\Users\\Cole\\OneDrive - Fundacao Getulio Vargas - FGV\\Área de Trabalho\\Engenharia_Software\\src\\user\\user_management.py:163\u001b[0m, in \u001b[0;36mUserManagement.get_user\u001b[1;34m(self, user_id)\u001b[0m\n\u001b[0;32m    161\u001b[0m data \u001b[38;5;241m=\u001b[39m \u001b[38;5;28mself\u001b[39m\u001b[38;5;241m.\u001b[39mdb_module\u001b[38;5;241m.\u001b[39mselect_data(\u001b[38;5;124m'\u001b[39m\u001b[38;5;124musers\u001b[39m\u001b[38;5;124m'\u001b[39m, {\u001b[38;5;124m\"\u001b[39m\u001b[38;5;124m_id\u001b[39m\u001b[38;5;124m\"\u001b[39m: user_id})\n\u001b[0;32m    162\u001b[0m \u001b[38;5;28mprint\u001b[39m(data[\u001b[38;5;241m0\u001b[39m])\n\u001b[1;32m--> 163\u001b[0m user \u001b[38;5;241m=\u001b[39m \u001b[43mUser\u001b[49m\u001b[43m(\u001b[49m\u001b[38;5;241;43m*\u001b[39;49m\u001b[38;5;241;43m*\u001b[39;49m\u001b[43mdata\u001b[49m\u001b[43m[\u001b[49m\u001b[38;5;241;43m0\u001b[39;49m\u001b[43m]\u001b[49m\u001b[43m)\u001b[49m\n\u001b[0;32m    164\u001b[0m user\u001b[38;5;241m.\u001b[39mattach(\u001b[38;5;28mself\u001b[39m)\n\u001b[0;32m    165\u001b[0m \u001b[38;5;28mprint\u001b[39m(user)\n",
      "\u001b[1;31mTypeError\u001b[0m: User.__init__() got an unexpected keyword argument 'password'"
     ]
    }
   ],
   "source": [
    "user_management.add_schedule_to_user(user_id, schedule_id, \"owner\")\n",
    "user_management.get_user(user_id).schedules"
   ]
  },
  {
   "cell_type": "code",
   "execution_count": null,
   "metadata": {},
   "outputs": [],
   "source": []
  }
 ],
 "metadata": {
  "kernelspec": {
   "display_name": "venv",
   "language": "python",
   "name": "python3"
  },
  "language_info": {
   "codemirror_mode": {
    "name": "ipython",
    "version": 3
   },
   "file_extension": ".py",
   "mimetype": "text/x-python",
   "name": "python",
   "nbconvert_exporter": "python",
   "pygments_lexer": "ipython3",
   "version": "3.11.1"
  }
 },
 "nbformat": 4,
 "nbformat_minor": 2
}
