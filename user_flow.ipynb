{
 "cells": [
  {
   "cell_type": "code",
   "execution_count": 16,
   "metadata": {},
   "outputs": [],
   "source": [
    "%load_ext autoreload\n",
    "%autoreload 2"
   ]
  },
  {
   "cell_type": "code",
   "execution_count": 36,
   "metadata": {},
   "outputs": [
    {
     "name": "stdout",
     "output_type": "stream",
     "text": [
      "\u001b[33m[INFO]\u001b[0m Conectado ao banco de dados de documentos de texto\n"
     ]
    }
   ],
   "source": [
    "from src.auth.authentication import Authentication\n",
    "from src.auth.user_management import UserManagement\n",
    "from src.database.text_document_module import TextDocumentModule\n",
    "\n",
    "# carregando o sistema\n",
    "database_module_mock = TextDocumentModule(\"tests/test_auth/test_database.json\")\n",
    "database_module_mock.connect()\n",
    "auth_module = Authentication(database_module_mock)\n",
    "user_management_module = UserManagement(database_module_mock)"
   ]
  },
  {
   "cell_type": "code",
   "execution_count": 37,
   "metadata": {},
   "outputs": [
    {
     "name": "stdout",
     "output_type": "stream",
     "text": [
      "\u001b[32m[SUCESSO]\u001b[0m Autenticação bem-sucedida para o usuário: user\n",
      "Login realizado com sucesso!\n"
     ]
    },
    {
     "data": {
      "text/plain": [
       "{'username': 'user',\n",
       " 'password': '$2b$12$B7IEZptE9niBxx6pUeXQ0Ovb/PjXFCFOm.ZQY9rCWi.F9/G5JXxoG'}"
      ]
     },
     "execution_count": 37,
     "metadata": {},
     "output_type": "execute_result"
    }
   ],
   "source": [
    "# criando uma conta de usuario ou logando caso exista:\n",
    "username = \"user\"\n",
    "password = \"pass\"\n",
    "\n",
    "# tentando realizar login\n",
    "if auth_module.authenticate_user(username, password):\n",
    "    print(\"Login realizado com sucesso!\")\n",
    "else:\n",
    "    # cria uma conta de usuario\n",
    "    user_management_module.create_user(username, password)\n",
    "    print(\"Conta criada com sucesso!\")\n",
    "\n",
    "user_data = user_management_module.get_user(username)\n",
    "user_data"
   ]
  },
  {
   "cell_type": "code",
   "execution_count": 10,
   "metadata": {},
   "outputs": [
    {
     "ename": "AttributeError",
     "evalue": "'dict' object has no attribute 'add_reminder'",
     "output_type": "error",
     "traceback": [
      "\u001b[1;31m---------------------------------------------------------------------------\u001b[0m",
      "\u001b[1;31mAttributeError\u001b[0m                            Traceback (most recent call last)",
      "\u001b[1;32me:\\projects-local\\Engenharia_Software\\user_flow.ipynb Célula 3\u001b[0m line \u001b[0;36m2\n\u001b[0;32m      <a href='vscode-notebook-cell:/e%3A/projects-local/Engenharia_Software/user_flow.ipynb#W2sZmlsZQ%3D%3D?line=0'>1</a>\u001b[0m \u001b[39m# adicionando um lembrete para o usuario\u001b[39;00m\n\u001b[1;32m----> <a href='vscode-notebook-cell:/e%3A/projects-local/Engenharia_Software/user_flow.ipynb#W2sZmlsZQ%3D%3D?line=1'>2</a>\u001b[0m user\u001b[39m.\u001b[39;49madd_reminder(\u001b[39m\"\u001b[39m\u001b[39mLembrete 1\u001b[39m\u001b[39m\"\u001b[39m)\n",
      "\u001b[1;31mAttributeError\u001b[0m: 'dict' object has no attribute 'add_reminder'"
     ]
    }
   ],
   "source": [
    "\n"
   ]
  },
  {
   "cell_type": "code",
   "execution_count": null,
   "metadata": {},
   "outputs": [],
   "source": []
  }
 ],
 "metadata": {
  "kernelspec": {
   "display_name": "venv",
   "language": "python",
   "name": "python3"
  },
  "language_info": {
   "codemirror_mode": {
    "name": "ipython",
    "version": 3
   },
   "file_extension": ".py",
   "mimetype": "text/x-python",
   "name": "python",
   "nbconvert_exporter": "python",
   "pygments_lexer": "ipython3",
   "version": "3.11.2"
  }
 },
 "nbformat": 4,
 "nbformat_minor": 2
}
