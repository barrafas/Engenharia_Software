{
 "cells": [
  {
   "cell_type": "code",
   "execution_count": 1,
   "metadata": {},
   "outputs": [],
   "source": [
    "%load_ext autoreload\n",
    "%autoreload 2"
   ]
  },
  {
   "cell_type": "code",
   "execution_count": 43,
   "metadata": {},
   "outputs": [
    {
     "name": "stdout",
     "output_type": "stream",
     "text": [
      "\u001b[31m[ERRO]\u001b[0m Arquivo de banco de dados corrompido, resetando...\n",
      "\u001b[33m[INFO]\u001b[0m Conectado ao banco de dados de documentos de texto\n"
     ]
    }
   ],
   "source": [
    "from src.auth.authentication import Authentication\n",
    "from src.auth.user_management import UserManagement\n",
    "from src.database.text_document_module import TextDocumentModule\n",
    "\n",
    "# carregando o sistema\n",
    "database_module_mock = TextDocumentModule(\"tests/test_auth/test_database.json\")\n",
    "database_module_mock.connect()\n",
    "auth_module = Authentication(database_module_mock)\n",
    "user_management_module = UserManagement(database_module_mock)"
   ]
  },
  {
   "cell_type": "code",
   "execution_count": 44,
   "metadata": {},
   "outputs": [
    {
     "name": "stdout",
     "output_type": "stream",
     "text": [
      "\u001b[31m[ERRO]\u001b[0m Usuário não encontrado: user\n",
      "\u001b[33m[INFO]\u001b[0m Usuário criado com sucesso:  {'user_id': 1, 'username': 'user', 'email': 'user@mail.com', 'password': '$2b$12$N4uVh3fitqsoJQCEe82f3OZ2tLiWJG7JF109bpQ4AeW8t4ptrsM/a', 'events': []}\n",
      "Conta criada com sucesso!\n"
     ]
    },
    {
     "data": {
      "text/plain": [
       " <User>:{'user_id': 1, 'username': 'user', 'email': 'user@mail.com', 'password': '$2b$12$N4uVh3fitqsoJQCEe82f3OZ2tLiWJG7JF109bpQ4AeW8t4ptrsM/a', 'events': []}"
      ]
     },
     "execution_count": 44,
     "metadata": {},
     "output_type": "execute_result"
    }
   ],
   "source": [
    "# criando uma conta de usuario ou logando caso exista:\n",
    "username = \"user\"\n",
    "password = \"pass\"\n",
    "\n",
    "# tentando realizar login\n",
    "if auth_module.authenticate_user(username, password):\n",
    "    print(\"Login realizado com sucesso!\")\n",
    "else:\n",
    "    # cria uma conta de usuario\n",
    "    email = \"user@mail.com\"\n",
    "    user_management_module.create_user(username, email, password)\n",
    "    print(\"Conta criada com sucesso!\")\n",
    "\n",
    "user_data = user_management_module.get_user(username)\n",
    "user_data"
   ]
  },
  {
   "cell_type": "code",
   "execution_count": 47,
   "metadata": {},
   "outputs": [
    {
     "data": {
      "text/plain": [
       " <User>:{'user_id': 1, 'username': 'user', 'email': 'user@mail.com', 'password': '$2b$12$N4uVh3fitqsoJQCEe82f3OZ2tLiWJG7JF109bpQ4AeW8t4ptrsM/a', 'events': ['a', 'a', 'a']}"
      ]
     },
     "execution_count": 47,
     "metadata": {},
     "output_type": "execute_result"
    }
   ],
   "source": [
    "from datetime import datetime\n",
    "from src.events.event_factory import EventFactory\n",
    "\n",
    "# Criação de eventos usando o Factory Method\n",
    "event_factory = EventFactory()\n",
    "\n",
    "evento = event_factory.create_event(\"evento\", \"a\", \"Reunião\", datetime(2023, 1, 1, 10, 0), datetime(2023, 1, 1, 12, 0))\n",
    "tarefa = event_factory.create_event(\"tarefa\", \"b\", \"Limpar a casa\")\n",
    "lembrete = event_factory.create_event(\"lembrete\", \"c\", \"Comprar leite\", due_date=datetime(2023, 1, 5))\n",
    "\n",
    "# Adicionando eventos ao usuario\n",
    "user_management_module.add_event_to_user(username, evento.get_id())\n",
    "user_data = user_management_module.get_user(username)\n",
    "user_data"
   ]
  },
  {
   "cell_type": "code",
   "execution_count": null,
   "metadata": {},
   "outputs": [],
   "source": []
  }
 ],
 "metadata": {
  "kernelspec": {
   "display_name": "venv",
   "language": "python",
   "name": "python3"
  },
  "language_info": {
   "codemirror_mode": {
    "name": "ipython",
    "version": 3
   },
   "file_extension": ".py",
   "mimetype": "text/x-python",
   "name": "python",
   "nbconvert_exporter": "python",
   "pygments_lexer": "ipython3",
   "version": "3.11.2"
  }
 },
 "nbformat": 4,
 "nbformat_minor": 2
}
